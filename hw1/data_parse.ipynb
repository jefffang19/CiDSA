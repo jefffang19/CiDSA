{
 "cells": [
  {
   "cell_type": "code",
   "execution_count": 1,
   "id": "angry-envelope",
   "metadata": {},
   "outputs": [],
   "source": [
    "import os"
   ]
  },
  {
   "cell_type": "code",
   "execution_count": 2,
   "id": "other-syria",
   "metadata": {},
   "outputs": [
    {
     "data": {
      "text/plain": [
       "['b19416acd7a4a1e9391f17095a0bbc7e_export.csv']"
      ]
     },
     "execution_count": 2,
     "metadata": {},
     "output_type": "execute_result"
    }
   ],
   "source": [
    "files = os.listdir('data/')\n",
    "files"
   ]
  },
  {
   "cell_type": "code",
   "execution_count": 3,
   "id": "former-bermuda",
   "metadata": {},
   "outputs": [],
   "source": [
    "import pandas\n",
    "import numpy as np"
   ]
  },
  {
   "cell_type": "markdown",
   "id": "spanish-weather",
   "metadata": {},
   "source": [
    "# Electicity Data"
   ]
  },
  {
   "cell_type": "markdown",
   "id": "confirmed-mainstream",
   "metadata": {},
   "source": [
    "## read csv from taipower"
   ]
  },
  {
   "cell_type": "code",
   "execution_count": 4,
   "id": "effective-wayne",
   "metadata": {},
   "outputs": [
    {
     "data": {
      "text/html": [
       "<div>\n",
       "<style scoped>\n",
       "    .dataframe tbody tr th:only-of-type {\n",
       "        vertical-align: middle;\n",
       "    }\n",
       "\n",
       "    .dataframe tbody tr th {\n",
       "        vertical-align: top;\n",
       "    }\n",
       "\n",
       "    .dataframe thead th {\n",
       "        text-align: right;\n",
       "    }\n",
       "</style>\n",
       "<table border=\"1\" class=\"dataframe\">\n",
       "  <thead>\n",
       "    <tr style=\"text-align: right;\">\n",
       "      <th></th>\n",
       "      <th>日期</th>\n",
       "      <th>淨尖峰供電能力(MW)</th>\n",
       "      <th>尖峰負載(MW)</th>\n",
       "      <th>備轉容量(MW)</th>\n",
       "      <th>備轉容量率(%)</th>\n",
       "      <th>工業用電(百萬度)</th>\n",
       "      <th>民生用電(百萬度)</th>\n",
       "      <th>核一#1(萬瓩)</th>\n",
       "      <th>核一#2(萬瓩)</th>\n",
       "      <th>核二#1(萬瓩)</th>\n",
       "      <th>...</th>\n",
       "      <th>大觀二</th>\n",
       "      <th>明潭</th>\n",
       "      <th>碧海</th>\n",
       "      <th>立霧</th>\n",
       "      <th>龍澗</th>\n",
       "      <th>卓蘭</th>\n",
       "      <th>水里</th>\n",
       "      <th>其他小水力</th>\n",
       "      <th>風力發電</th>\n",
       "      <th>太陽能發電</th>\n",
       "    </tr>\n",
       "  </thead>\n",
       "  <tbody>\n",
       "    <tr>\n",
       "      <th>0</th>\n",
       "      <td>20190101</td>\n",
       "      <td>26429</td>\n",
       "      <td>23872</td>\n",
       "      <td>2557.0</td>\n",
       "      <td>10.71</td>\n",
       "      <td>279.870</td>\n",
       "      <td>192.192</td>\n",
       "      <td>0</td>\n",
       "      <td>0</td>\n",
       "      <td>98.4</td>\n",
       "      <td>...</td>\n",
       "      <td>16.0</td>\n",
       "      <td>54.0</td>\n",
       "      <td>0.0</td>\n",
       "      <td>1.2</td>\n",
       "      <td>3.0</td>\n",
       "      <td>2.2</td>\n",
       "      <td>0.0</td>\n",
       "      <td>24.3</td>\n",
       "      <td>50.9</td>\n",
       "      <td>0.0</td>\n",
       "    </tr>\n",
       "    <tr>\n",
       "      <th>1</th>\n",
       "      <td>20190102</td>\n",
       "      <td>30047</td>\n",
       "      <td>28148</td>\n",
       "      <td>1899.0</td>\n",
       "      <td>6.75</td>\n",
       "      <td>323.080</td>\n",
       "      <td>221.864</td>\n",
       "      <td>0</td>\n",
       "      <td>0</td>\n",
       "      <td>98.5</td>\n",
       "      <td>...</td>\n",
       "      <td>29.9</td>\n",
       "      <td>52.3</td>\n",
       "      <td>0.0</td>\n",
       "      <td>1.2</td>\n",
       "      <td>2.0</td>\n",
       "      <td>2.1</td>\n",
       "      <td>0.0</td>\n",
       "      <td>23.4</td>\n",
       "      <td>37.9</td>\n",
       "      <td>0.0</td>\n",
       "    </tr>\n",
       "    <tr>\n",
       "      <th>2</th>\n",
       "      <td>20190103</td>\n",
       "      <td>30343</td>\n",
       "      <td>28452</td>\n",
       "      <td>1891.0</td>\n",
       "      <td>6.65</td>\n",
       "      <td>336.597</td>\n",
       "      <td>231.146</td>\n",
       "      <td>0</td>\n",
       "      <td>0</td>\n",
       "      <td>98.7</td>\n",
       "      <td>...</td>\n",
       "      <td>14.3</td>\n",
       "      <td>65.5</td>\n",
       "      <td>0.0</td>\n",
       "      <td>1.4</td>\n",
       "      <td>1.2</td>\n",
       "      <td>2.0</td>\n",
       "      <td>0.1</td>\n",
       "      <td>24.1</td>\n",
       "      <td>41.6</td>\n",
       "      <td>0.0</td>\n",
       "    </tr>\n",
       "    <tr>\n",
       "      <th>3</th>\n",
       "      <td>20190104</td>\n",
       "      <td>30301</td>\n",
       "      <td>28490</td>\n",
       "      <td>1811.0</td>\n",
       "      <td>6.36</td>\n",
       "      <td>339.020</td>\n",
       "      <td>232.810</td>\n",
       "      <td>0</td>\n",
       "      <td>0</td>\n",
       "      <td>98.7</td>\n",
       "      <td>...</td>\n",
       "      <td>18.1</td>\n",
       "      <td>52.3</td>\n",
       "      <td>0.0</td>\n",
       "      <td>1.4</td>\n",
       "      <td>1.4</td>\n",
       "      <td>0.0</td>\n",
       "      <td>0.0</td>\n",
       "      <td>19.3</td>\n",
       "      <td>12.4</td>\n",
       "      <td>11.0</td>\n",
       "    </tr>\n",
       "    <tr>\n",
       "      <th>4</th>\n",
       "      <td>20190105</td>\n",
       "      <td>27957</td>\n",
       "      <td>26054</td>\n",
       "      <td>1903.0</td>\n",
       "      <td>7.30</td>\n",
       "      <td>315.825</td>\n",
       "      <td>216.882</td>\n",
       "      <td>0</td>\n",
       "      <td>0</td>\n",
       "      <td>98.7</td>\n",
       "      <td>...</td>\n",
       "      <td>30.4</td>\n",
       "      <td>57.6</td>\n",
       "      <td>0.0</td>\n",
       "      <td>1.3</td>\n",
       "      <td>3.0</td>\n",
       "      <td>2.9</td>\n",
       "      <td>0.0</td>\n",
       "      <td>23.9</td>\n",
       "      <td>18.5</td>\n",
       "      <td>0.0</td>\n",
       "    </tr>\n",
       "    <tr>\n",
       "      <th>...</th>\n",
       "      <td>...</td>\n",
       "      <td>...</td>\n",
       "      <td>...</td>\n",
       "      <td>...</td>\n",
       "      <td>...</td>\n",
       "      <td>...</td>\n",
       "      <td>...</td>\n",
       "      <td>...</td>\n",
       "      <td>...</td>\n",
       "      <td>...</td>\n",
       "      <td>...</td>\n",
       "      <td>...</td>\n",
       "      <td>...</td>\n",
       "      <td>...</td>\n",
       "      <td>...</td>\n",
       "      <td>...</td>\n",
       "      <td>...</td>\n",
       "      <td>...</td>\n",
       "      <td>...</td>\n",
       "      <td>...</td>\n",
       "      <td>...</td>\n",
       "    </tr>\n",
       "    <tr>\n",
       "      <th>665</th>\n",
       "      <td>20201027</td>\n",
       "      <td>35071</td>\n",
       "      <td>31669</td>\n",
       "      <td>3402.0</td>\n",
       "      <td>10.74</td>\n",
       "      <td>362.462</td>\n",
       "      <td>309.405</td>\n",
       "      <td>0</td>\n",
       "      <td>0</td>\n",
       "      <td>98.1</td>\n",
       "      <td>...</td>\n",
       "      <td>43.5</td>\n",
       "      <td>63.8</td>\n",
       "      <td>4.8</td>\n",
       "      <td>1.4</td>\n",
       "      <td>1.9</td>\n",
       "      <td>1.7</td>\n",
       "      <td>0.8</td>\n",
       "      <td>13.9</td>\n",
       "      <td>34.6</td>\n",
       "      <td>41.5</td>\n",
       "    </tr>\n",
       "    <tr>\n",
       "      <th>666</th>\n",
       "      <td>20201028</td>\n",
       "      <td>35429</td>\n",
       "      <td>31959</td>\n",
       "      <td>3470.0</td>\n",
       "      <td>10.86</td>\n",
       "      <td>365.469</td>\n",
       "      <td>311.972</td>\n",
       "      <td>0</td>\n",
       "      <td>0</td>\n",
       "      <td>98.0</td>\n",
       "      <td>...</td>\n",
       "      <td>14.4</td>\n",
       "      <td>48.0</td>\n",
       "      <td>4.0</td>\n",
       "      <td>1.2</td>\n",
       "      <td>1.4</td>\n",
       "      <td>0.0</td>\n",
       "      <td>0.5</td>\n",
       "      <td>13.7</td>\n",
       "      <td>58.8</td>\n",
       "      <td>161.6</td>\n",
       "    </tr>\n",
       "    <tr>\n",
       "      <th>667</th>\n",
       "      <td>20201029</td>\n",
       "      <td>34978</td>\n",
       "      <td>31271</td>\n",
       "      <td>3707.0</td>\n",
       "      <td>11.86</td>\n",
       "      <td>362.440</td>\n",
       "      <td>309.387</td>\n",
       "      <td>0</td>\n",
       "      <td>0</td>\n",
       "      <td>97.8</td>\n",
       "      <td>...</td>\n",
       "      <td>20.5</td>\n",
       "      <td>50.0</td>\n",
       "      <td>1.0</td>\n",
       "      <td>1.2</td>\n",
       "      <td>1.3</td>\n",
       "      <td>0.0</td>\n",
       "      <td>0.5</td>\n",
       "      <td>16.2</td>\n",
       "      <td>60.8</td>\n",
       "      <td>143.3</td>\n",
       "    </tr>\n",
       "    <tr>\n",
       "      <th>668</th>\n",
       "      <td>20201030</td>\n",
       "      <td>34479</td>\n",
       "      <td>30264</td>\n",
       "      <td>4215.0</td>\n",
       "      <td>13.93</td>\n",
       "      <td>351.492</td>\n",
       "      <td>300.041</td>\n",
       "      <td>0</td>\n",
       "      <td>0</td>\n",
       "      <td>97.8</td>\n",
       "      <td>...</td>\n",
       "      <td>12.1</td>\n",
       "      <td>32.3</td>\n",
       "      <td>2.0</td>\n",
       "      <td>1.2</td>\n",
       "      <td>1.5</td>\n",
       "      <td>0.0</td>\n",
       "      <td>0.5</td>\n",
       "      <td>16.5</td>\n",
       "      <td>60.1</td>\n",
       "      <td>207.5</td>\n",
       "    </tr>\n",
       "    <tr>\n",
       "      <th>669</th>\n",
       "      <td>20201031</td>\n",
       "      <td>30482</td>\n",
       "      <td>26763</td>\n",
       "      <td>3719.0</td>\n",
       "      <td>13.90</td>\n",
       "      <td>319.096</td>\n",
       "      <td>272.388</td>\n",
       "      <td>0</td>\n",
       "      <td>0</td>\n",
       "      <td>98.1</td>\n",
       "      <td>...</td>\n",
       "      <td>29.2</td>\n",
       "      <td>81.5</td>\n",
       "      <td>3.2</td>\n",
       "      <td>1.2</td>\n",
       "      <td>3.0</td>\n",
       "      <td>1.7</td>\n",
       "      <td>0.4</td>\n",
       "      <td>24.1</td>\n",
       "      <td>55.2</td>\n",
       "      <td>0.0</td>\n",
       "    </tr>\n",
       "  </tbody>\n",
       "</table>\n",
       "<p>670 rows × 71 columns</p>\n",
       "</div>"
      ],
      "text/plain": [
       "           日期  淨尖峰供電能力(MW)  尖峰負載(MW)  備轉容量(MW)  備轉容量率(%)  工業用電(百萬度)  \\\n",
       "0    20190101        26429     23872    2557.0     10.71    279.870   \n",
       "1    20190102        30047     28148    1899.0      6.75    323.080   \n",
       "2    20190103        30343     28452    1891.0      6.65    336.597   \n",
       "3    20190104        30301     28490    1811.0      6.36    339.020   \n",
       "4    20190105        27957     26054    1903.0      7.30    315.825   \n",
       "..        ...          ...       ...       ...       ...        ...   \n",
       "665  20201027        35071     31669    3402.0     10.74    362.462   \n",
       "666  20201028        35429     31959    3470.0     10.86    365.469   \n",
       "667  20201029        34978     31271    3707.0     11.86    362.440   \n",
       "668  20201030        34479     30264    4215.0     13.93    351.492   \n",
       "669  20201031        30482     26763    3719.0     13.90    319.096   \n",
       "\n",
       "     民生用電(百萬度)  核一#1(萬瓩)  核一#2(萬瓩)  核二#1(萬瓩)  ...   大觀二    明潭   碧海   立霧   龍澗  \\\n",
       "0      192.192         0         0      98.4  ...  16.0  54.0  0.0  1.2  3.0   \n",
       "1      221.864         0         0      98.5  ...  29.9  52.3  0.0  1.2  2.0   \n",
       "2      231.146         0         0      98.7  ...  14.3  65.5  0.0  1.4  1.2   \n",
       "3      232.810         0         0      98.7  ...  18.1  52.3  0.0  1.4  1.4   \n",
       "4      216.882         0         0      98.7  ...  30.4  57.6  0.0  1.3  3.0   \n",
       "..         ...       ...       ...       ...  ...   ...   ...  ...  ...  ...   \n",
       "665    309.405         0         0      98.1  ...  43.5  63.8  4.8  1.4  1.9   \n",
       "666    311.972         0         0      98.0  ...  14.4  48.0  4.0  1.2  1.4   \n",
       "667    309.387         0         0      97.8  ...  20.5  50.0  1.0  1.2  1.3   \n",
       "668    300.041         0         0      97.8  ...  12.1  32.3  2.0  1.2  1.5   \n",
       "669    272.388         0         0      98.1  ...  29.2  81.5  3.2  1.2  3.0   \n",
       "\n",
       "      卓蘭   水里  其他小水力  風力發電  太陽能發電  \n",
       "0    2.2  0.0   24.3  50.9    0.0  \n",
       "1    2.1  0.0   23.4  37.9    0.0  \n",
       "2    2.0  0.1   24.1  41.6    0.0  \n",
       "3    0.0  0.0   19.3  12.4   11.0  \n",
       "4    2.9  0.0   23.9  18.5    0.0  \n",
       "..   ...  ...    ...   ...    ...  \n",
       "665  1.7  0.8   13.9  34.6   41.5  \n",
       "666  0.0  0.5   13.7  58.8  161.6  \n",
       "667  0.0  0.5   16.2  60.8  143.3  \n",
       "668  0.0  0.5   16.5  60.1  207.5  \n",
       "669  1.7  0.4   24.1  55.2    0.0  \n",
       "\n",
       "[670 rows x 71 columns]"
      ]
     },
     "execution_count": 4,
     "metadata": {},
     "output_type": "execute_result"
    }
   ],
   "source": [
    "df = pandas.read_csv(os.path.join('data', files[0]))\n",
    "\n",
    "df"
   ]
  },
  {
   "cell_type": "markdown",
   "id": "rental-postcard",
   "metadata": {},
   "source": [
    "##  check what columns we have"
   ]
  },
  {
   "cell_type": "code",
   "execution_count": 5,
   "id": "hungry-boating",
   "metadata": {},
   "outputs": [
    {
     "data": {
      "text/plain": [
       "Index(['日期', '淨尖峰供電能力(MW)', '尖峰負載(MW)', '備轉容量(MW)', '備轉容量率(%)', '工業用電(百萬度)',\n",
       "       '民生用電(百萬度)', '核一#1(萬瓩)', '核一#2(萬瓩)', '核二#1(萬瓩)', '核二#2(萬瓩)', '核三#1',\n",
       "       '核三#2', '林口#1', '林口#2', '林口#3', '台中#1', '台中#2', '台中#3', '台中#4', '台中#5',\n",
       "       '台中#6', '台中#7', '台中#8', '台中#9', '台中#10', '興達#1', '興達#2', '興達#3', '興達#4',\n",
       "       '大林#1', '大林#2', '和平#1', '和平#2', '麥寮#1', '麥寮#2', '麥寮#3', '汽電共生',\n",
       "       '大潭 (#1-#6)', '通霄 (#1-#6)', '興達 (#1-#5)', '南部 (#1-#4)', '大林(#5-#6)',\n",
       "       '海湖 (#1-#2)', '國光 #1', '新桃#1', '星彰#1', '星元#1', '嘉惠#1', '豐德(#1-#2)',\n",
       "       '協和 (#1-#4)', '氣渦輪', '離島', '德基', '青山', '谷關', '天輪', '馬鞍', '萬大', '大觀',\n",
       "       '鉅工', '大觀二', '明潭', '碧海', '立霧', '龍澗', '卓蘭', '水里', '其他小水力', '風力發電',\n",
       "       '太陽能發電'],\n",
       "      dtype='object')"
      ]
     },
     "execution_count": 5,
     "metadata": {},
     "output_type": "execute_result"
    }
   ],
   "source": [
    "df.columns"
   ]
  },
  {
   "cell_type": "code",
   "execution_count": 6,
   "id": "driving-strap",
   "metadata": {},
   "outputs": [
    {
     "data": {
      "text/plain": [
       "71"
      ]
     },
     "execution_count": 6,
     "metadata": {},
     "output_type": "execute_result"
    }
   ],
   "source": [
    "len(df.columns)"
   ]
  },
  {
   "cell_type": "markdown",
   "id": "premium-advantage",
   "metadata": {},
   "source": [
    "## check if containing NaN"
   ]
  },
  {
   "cell_type": "code",
   "execution_count": 7,
   "id": "mathematical-bacteria",
   "metadata": {
    "collapsed": true,
    "jupyter": {
     "outputs_hidden": true
    }
   },
   "outputs": [
    {
     "name": "stdout",
     "output_type": "stream",
     "text": [
      "日期\n",
      "(array([], dtype=int64),)\n",
      "淨尖峰供電能力(MW)\n",
      "(array([], dtype=int64),)\n",
      "尖峰負載(MW)\n",
      "(array([], dtype=int64),)\n",
      "備轉容量(MW)\n",
      "(array([], dtype=int64),)\n",
      "備轉容量率(%)\n",
      "(array([], dtype=int64),)\n",
      "工業用電(百萬度)\n",
      "(array([], dtype=int64),)\n",
      "民生用電(百萬度)\n",
      "(array([], dtype=int64),)\n",
      "核一#1(萬瓩)\n",
      "(array([], dtype=int64),)\n",
      "核一#2(萬瓩)\n",
      "(array([], dtype=int64),)\n",
      "核二#1(萬瓩)\n",
      "(array([], dtype=int64),)\n",
      "核二#2(萬瓩)\n",
      "(array([], dtype=int64),)\n",
      "核三#1\n",
      "(array([], dtype=int64),)\n",
      "核三#2\n",
      "(array([], dtype=int64),)\n",
      "林口#1\n",
      "(array([], dtype=int64),)\n",
      "林口#2\n",
      "(array([], dtype=int64),)\n",
      "林口#3\n",
      "(array([ 0,  1,  2,  3,  4,  5,  6,  7,  8,  9, 10, 11, 12, 13, 14, 15, 16,\n",
      "       17, 18, 19, 20, 21, 22, 23, 24, 25, 26, 27, 28, 29, 30]),)\n",
      "台中#1\n",
      "(array([], dtype=int64),)\n",
      "台中#2\n",
      "(array([], dtype=int64),)\n",
      "台中#3\n",
      "(array([], dtype=int64),)\n",
      "台中#4\n",
      "(array([], dtype=int64),)\n",
      "台中#5\n",
      "(array([], dtype=int64),)\n",
      "台中#6\n",
      "(array([], dtype=int64),)\n",
      "台中#7\n",
      "(array([], dtype=int64),)\n",
      "台中#8\n",
      "(array([], dtype=int64),)\n",
      "台中#9\n",
      "(array([], dtype=int64),)\n",
      "台中#10\n",
      "(array([], dtype=int64),)\n",
      "興達#1\n",
      "(array([], dtype=int64),)\n",
      "興達#2\n",
      "(array([], dtype=int64),)\n",
      "興達#3\n",
      "(array([], dtype=int64),)\n",
      "興達#4\n",
      "(array([], dtype=int64),)\n",
      "大林#1\n",
      "(array([], dtype=int64),)\n",
      "大林#2\n",
      "(array([], dtype=int64),)\n",
      "和平#1\n",
      "(array([], dtype=int64),)\n",
      "和平#2\n",
      "(array([], dtype=int64),)\n",
      "麥寮#1\n",
      "(array([], dtype=int64),)\n",
      "麥寮#2\n",
      "(array([], dtype=int64),)\n",
      "麥寮#3\n",
      "(array([], dtype=int64),)\n",
      "汽電共生\n",
      "(array([], dtype=int64),)\n",
      "大潭 (#1-#6)\n",
      "(array([], dtype=int64),)\n",
      "通霄 (#1-#6)\n",
      "(array([], dtype=int64),)\n",
      "興達 (#1-#5)\n",
      "(array([], dtype=int64),)\n",
      "南部 (#1-#4)\n",
      "(array([], dtype=int64),)\n",
      "大林(#5-#6)\n",
      "(array([], dtype=int64),)\n",
      "海湖 (#1-#2)\n",
      "(array([], dtype=int64),)\n",
      "國光 #1\n",
      "(array([], dtype=int64),)\n",
      "新桃#1\n",
      "(array([], dtype=int64),)\n",
      "星彰#1\n",
      "(array([], dtype=int64),)\n",
      "星元#1\n",
      "(array([], dtype=int64),)\n",
      "嘉惠#1\n",
      "(array([], dtype=int64),)\n",
      "豐德(#1-#2)\n",
      "(array([], dtype=int64),)\n",
      "協和 (#1-#4)\n",
      "(array([], dtype=int64),)\n",
      "氣渦輪\n",
      "(array([], dtype=int64),)\n",
      "離島\n",
      "(array([], dtype=int64),)\n",
      "德基\n",
      "(array([], dtype=int64),)\n",
      "青山\n",
      "(array([], dtype=int64),)\n",
      "谷關\n",
      "(array([], dtype=int64),)\n",
      "天輪\n",
      "(array([], dtype=int64),)\n",
      "馬鞍\n",
      "(array([], dtype=int64),)\n",
      "萬大\n",
      "(array([], dtype=int64),)\n",
      "大觀\n",
      "(array([], dtype=int64),)\n",
      "鉅工\n",
      "(array([], dtype=int64),)\n",
      "大觀二\n",
      "(array([], dtype=int64),)\n",
      "明潭\n",
      "(array([], dtype=int64),)\n",
      "碧海\n",
      "(array([], dtype=int64),)\n",
      "立霧\n",
      "(array([], dtype=int64),)\n",
      "龍澗\n",
      "(array([], dtype=int64),)\n",
      "卓蘭\n",
      "(array([], dtype=int64),)\n",
      "水里\n",
      "(array([], dtype=int64),)\n",
      "其他小水力\n",
      "(array([], dtype=int64),)\n",
      "風力發電\n",
      "(array([], dtype=int64),)\n",
      "太陽能發電\n",
      "(array([], dtype=int64),)\n"
     ]
    }
   ],
   "source": [
    "for col in df.columns:\n",
    "    print(col)\n",
    "    print(np.where(np.isnan(df[col])))"
   ]
  },
  {
   "cell_type": "code",
   "execution_count": 8,
   "id": "reverse-minnesota",
   "metadata": {},
   "outputs": [],
   "source": [
    "#fill the NaN value with mean\n",
    "from sklearn.impute import SimpleImputer\n",
    "import numpy as np\n",
    "\n",
    "ipt = SimpleImputer(missing_values=np.NaN, strategy='mean')\n",
    "df = pandas.DataFrame(ipt.fit_transform(df),columns=df.columns)"
   ]
  },
  {
   "cell_type": "markdown",
   "id": "fitted-height",
   "metadata": {},
   "source": [
    "#  Make Training data"
   ]
  },
  {
   "cell_type": "code",
   "execution_count": 72,
   "id": "patent-dinner",
   "metadata": {},
   "outputs": [],
   "source": [
    "#prepare the training data\n",
    "train_data = df[:-7]\n",
    "train_label = pandas.DataFrame(df['備轉容量(MW)'])[-7:]"
   ]
  },
  {
   "cell_type": "code",
   "execution_count": 73,
   "id": "entertaining-folks",
   "metadata": {},
   "outputs": [
    {
     "data": {
      "text/plain": [
       "array([[4025.],\n",
       "       [3503.],\n",
       "       [3402.],\n",
       "       [3470.],\n",
       "       [3707.],\n",
       "       [4215.],\n",
       "       [3719.]])"
      ]
     },
     "execution_count": 73,
     "metadata": {},
     "output_type": "execute_result"
    }
   ],
   "source": [
    "np.array(train_label)"
   ]
  },
  {
   "cell_type": "code",
   "execution_count": 74,
   "id": "rapid-blame",
   "metadata": {},
   "outputs": [
    {
     "data": {
      "text/html": [
       "<div>\n",
       "<style scoped>\n",
       "    .dataframe tbody tr th:only-of-type {\n",
       "        vertical-align: middle;\n",
       "    }\n",
       "\n",
       "    .dataframe tbody tr th {\n",
       "        vertical-align: top;\n",
       "    }\n",
       "\n",
       "    .dataframe thead th {\n",
       "        text-align: right;\n",
       "    }\n",
       "</style>\n",
       "<table border=\"1\" class=\"dataframe\">\n",
       "  <thead>\n",
       "    <tr style=\"text-align: right;\">\n",
       "      <th></th>\n",
       "      <th>日期</th>\n",
       "      <th>淨尖峰供電能力(MW)</th>\n",
       "      <th>尖峰負載(MW)</th>\n",
       "      <th>備轉容量(MW)</th>\n",
       "      <th>備轉容量率(%)</th>\n",
       "      <th>工業用電(百萬度)</th>\n",
       "      <th>民生用電(百萬度)</th>\n",
       "      <th>核一#1(萬瓩)</th>\n",
       "      <th>核一#2(萬瓩)</th>\n",
       "      <th>核二#1(萬瓩)</th>\n",
       "      <th>...</th>\n",
       "      <th>大觀二</th>\n",
       "      <th>明潭</th>\n",
       "      <th>碧海</th>\n",
       "      <th>立霧</th>\n",
       "      <th>龍澗</th>\n",
       "      <th>卓蘭</th>\n",
       "      <th>水里</th>\n",
       "      <th>其他小水力</th>\n",
       "      <th>風力發電</th>\n",
       "      <th>太陽能發電</th>\n",
       "    </tr>\n",
       "  </thead>\n",
       "  <tbody>\n",
       "    <tr>\n",
       "      <th>0</th>\n",
       "      <td>20190101.0</td>\n",
       "      <td>26429.0</td>\n",
       "      <td>23872.0</td>\n",
       "      <td>2557.0</td>\n",
       "      <td>10.71</td>\n",
       "      <td>279.870</td>\n",
       "      <td>192.192</td>\n",
       "      <td>0.0</td>\n",
       "      <td>0.0</td>\n",
       "      <td>98.4</td>\n",
       "      <td>...</td>\n",
       "      <td>16.0</td>\n",
       "      <td>54.0</td>\n",
       "      <td>0.0</td>\n",
       "      <td>1.2</td>\n",
       "      <td>3.0</td>\n",
       "      <td>2.2</td>\n",
       "      <td>0.0</td>\n",
       "      <td>24.3</td>\n",
       "      <td>50.9</td>\n",
       "      <td>0.0</td>\n",
       "    </tr>\n",
       "    <tr>\n",
       "      <th>1</th>\n",
       "      <td>20190102.0</td>\n",
       "      <td>30047.0</td>\n",
       "      <td>28148.0</td>\n",
       "      <td>1899.0</td>\n",
       "      <td>6.75</td>\n",
       "      <td>323.080</td>\n",
       "      <td>221.864</td>\n",
       "      <td>0.0</td>\n",
       "      <td>0.0</td>\n",
       "      <td>98.5</td>\n",
       "      <td>...</td>\n",
       "      <td>29.9</td>\n",
       "      <td>52.3</td>\n",
       "      <td>0.0</td>\n",
       "      <td>1.2</td>\n",
       "      <td>2.0</td>\n",
       "      <td>2.1</td>\n",
       "      <td>0.0</td>\n",
       "      <td>23.4</td>\n",
       "      <td>37.9</td>\n",
       "      <td>0.0</td>\n",
       "    </tr>\n",
       "    <tr>\n",
       "      <th>2</th>\n",
       "      <td>20190103.0</td>\n",
       "      <td>30343.0</td>\n",
       "      <td>28452.0</td>\n",
       "      <td>1891.0</td>\n",
       "      <td>6.65</td>\n",
       "      <td>336.597</td>\n",
       "      <td>231.146</td>\n",
       "      <td>0.0</td>\n",
       "      <td>0.0</td>\n",
       "      <td>98.7</td>\n",
       "      <td>...</td>\n",
       "      <td>14.3</td>\n",
       "      <td>65.5</td>\n",
       "      <td>0.0</td>\n",
       "      <td>1.4</td>\n",
       "      <td>1.2</td>\n",
       "      <td>2.0</td>\n",
       "      <td>0.1</td>\n",
       "      <td>24.1</td>\n",
       "      <td>41.6</td>\n",
       "      <td>0.0</td>\n",
       "    </tr>\n",
       "    <tr>\n",
       "      <th>3</th>\n",
       "      <td>20190104.0</td>\n",
       "      <td>30301.0</td>\n",
       "      <td>28490.0</td>\n",
       "      <td>1811.0</td>\n",
       "      <td>6.36</td>\n",
       "      <td>339.020</td>\n",
       "      <td>232.810</td>\n",
       "      <td>0.0</td>\n",
       "      <td>0.0</td>\n",
       "      <td>98.7</td>\n",
       "      <td>...</td>\n",
       "      <td>18.1</td>\n",
       "      <td>52.3</td>\n",
       "      <td>0.0</td>\n",
       "      <td>1.4</td>\n",
       "      <td>1.4</td>\n",
       "      <td>0.0</td>\n",
       "      <td>0.0</td>\n",
       "      <td>19.3</td>\n",
       "      <td>12.4</td>\n",
       "      <td>11.0</td>\n",
       "    </tr>\n",
       "    <tr>\n",
       "      <th>4</th>\n",
       "      <td>20190105.0</td>\n",
       "      <td>27957.0</td>\n",
       "      <td>26054.0</td>\n",
       "      <td>1903.0</td>\n",
       "      <td>7.30</td>\n",
       "      <td>315.825</td>\n",
       "      <td>216.882</td>\n",
       "      <td>0.0</td>\n",
       "      <td>0.0</td>\n",
       "      <td>98.7</td>\n",
       "      <td>...</td>\n",
       "      <td>30.4</td>\n",
       "      <td>57.6</td>\n",
       "      <td>0.0</td>\n",
       "      <td>1.3</td>\n",
       "      <td>3.0</td>\n",
       "      <td>2.9</td>\n",
       "      <td>0.0</td>\n",
       "      <td>23.9</td>\n",
       "      <td>18.5</td>\n",
       "      <td>0.0</td>\n",
       "    </tr>\n",
       "    <tr>\n",
       "      <th>...</th>\n",
       "      <td>...</td>\n",
       "      <td>...</td>\n",
       "      <td>...</td>\n",
       "      <td>...</td>\n",
       "      <td>...</td>\n",
       "      <td>...</td>\n",
       "      <td>...</td>\n",
       "      <td>...</td>\n",
       "      <td>...</td>\n",
       "      <td>...</td>\n",
       "      <td>...</td>\n",
       "      <td>...</td>\n",
       "      <td>...</td>\n",
       "      <td>...</td>\n",
       "      <td>...</td>\n",
       "      <td>...</td>\n",
       "      <td>...</td>\n",
       "      <td>...</td>\n",
       "      <td>...</td>\n",
       "      <td>...</td>\n",
       "      <td>...</td>\n",
       "    </tr>\n",
       "    <tr>\n",
       "      <th>658</th>\n",
       "      <td>20201020.0</td>\n",
       "      <td>35876.0</td>\n",
       "      <td>31632.0</td>\n",
       "      <td>4244.0</td>\n",
       "      <td>13.42</td>\n",
       "      <td>362.755</td>\n",
       "      <td>309.655</td>\n",
       "      <td>0.0</td>\n",
       "      <td>0.0</td>\n",
       "      <td>98.0</td>\n",
       "      <td>...</td>\n",
       "      <td>15.2</td>\n",
       "      <td>51.1</td>\n",
       "      <td>5.2</td>\n",
       "      <td>1.2</td>\n",
       "      <td>1.1</td>\n",
       "      <td>1.8</td>\n",
       "      <td>0.5</td>\n",
       "      <td>20.9</td>\n",
       "      <td>67.7</td>\n",
       "      <td>98.8</td>\n",
       "    </tr>\n",
       "    <tr>\n",
       "      <th>659</th>\n",
       "      <td>20201021.0</td>\n",
       "      <td>35676.0</td>\n",
       "      <td>32367.0</td>\n",
       "      <td>3309.0</td>\n",
       "      <td>10.22</td>\n",
       "      <td>371.917</td>\n",
       "      <td>317.477</td>\n",
       "      <td>0.0</td>\n",
       "      <td>0.0</td>\n",
       "      <td>97.9</td>\n",
       "      <td>...</td>\n",
       "      <td>20.5</td>\n",
       "      <td>64.6</td>\n",
       "      <td>5.9</td>\n",
       "      <td>1.0</td>\n",
       "      <td>2.0</td>\n",
       "      <td>1.8</td>\n",
       "      <td>0.8</td>\n",
       "      <td>20.6</td>\n",
       "      <td>55.8</td>\n",
       "      <td>21.0</td>\n",
       "    </tr>\n",
       "    <tr>\n",
       "      <th>660</th>\n",
       "      <td>20201022.0</td>\n",
       "      <td>35543.0</td>\n",
       "      <td>31202.0</td>\n",
       "      <td>4341.0</td>\n",
       "      <td>13.91</td>\n",
       "      <td>361.320</td>\n",
       "      <td>308.430</td>\n",
       "      <td>0.0</td>\n",
       "      <td>0.0</td>\n",
       "      <td>97.9</td>\n",
       "      <td>...</td>\n",
       "      <td>13.2</td>\n",
       "      <td>33.9</td>\n",
       "      <td>6.0</td>\n",
       "      <td>1.6</td>\n",
       "      <td>1.7</td>\n",
       "      <td>0.0</td>\n",
       "      <td>0.5</td>\n",
       "      <td>20.9</td>\n",
       "      <td>64.9</td>\n",
       "      <td>159.7</td>\n",
       "    </tr>\n",
       "    <tr>\n",
       "      <th>661</th>\n",
       "      <td>20201023.0</td>\n",
       "      <td>33701.0</td>\n",
       "      <td>29698.0</td>\n",
       "      <td>4003.0</td>\n",
       "      <td>13.48</td>\n",
       "      <td>346.754</td>\n",
       "      <td>295.997</td>\n",
       "      <td>0.0</td>\n",
       "      <td>0.0</td>\n",
       "      <td>97.8</td>\n",
       "      <td>...</td>\n",
       "      <td>15.8</td>\n",
       "      <td>48.9</td>\n",
       "      <td>6.0</td>\n",
       "      <td>1.6</td>\n",
       "      <td>1.8</td>\n",
       "      <td>1.7</td>\n",
       "      <td>0.7</td>\n",
       "      <td>23.3</td>\n",
       "      <td>65.7</td>\n",
       "      <td>14.9</td>\n",
       "    </tr>\n",
       "    <tr>\n",
       "      <th>662</th>\n",
       "      <td>20201024.0</td>\n",
       "      <td>30683.0</td>\n",
       "      <td>26791.0</td>\n",
       "      <td>3892.0</td>\n",
       "      <td>14.53</td>\n",
       "      <td>319.174</td>\n",
       "      <td>272.453</td>\n",
       "      <td>0.0</td>\n",
       "      <td>0.0</td>\n",
       "      <td>97.8</td>\n",
       "      <td>...</td>\n",
       "      <td>28.8</td>\n",
       "      <td>80.8</td>\n",
       "      <td>5.0</td>\n",
       "      <td>1.6</td>\n",
       "      <td>1.5</td>\n",
       "      <td>4.0</td>\n",
       "      <td>0.7</td>\n",
       "      <td>27.0</td>\n",
       "      <td>50.1</td>\n",
       "      <td>0.0</td>\n",
       "    </tr>\n",
       "  </tbody>\n",
       "</table>\n",
       "<p>663 rows × 71 columns</p>\n",
       "</div>"
      ],
      "text/plain": [
       "             日期  淨尖峰供電能力(MW)  尖峰負載(MW)  備轉容量(MW)  備轉容量率(%)  工業用電(百萬度)  \\\n",
       "0    20190101.0      26429.0   23872.0    2557.0     10.71    279.870   \n",
       "1    20190102.0      30047.0   28148.0    1899.0      6.75    323.080   \n",
       "2    20190103.0      30343.0   28452.0    1891.0      6.65    336.597   \n",
       "3    20190104.0      30301.0   28490.0    1811.0      6.36    339.020   \n",
       "4    20190105.0      27957.0   26054.0    1903.0      7.30    315.825   \n",
       "..          ...          ...       ...       ...       ...        ...   \n",
       "658  20201020.0      35876.0   31632.0    4244.0     13.42    362.755   \n",
       "659  20201021.0      35676.0   32367.0    3309.0     10.22    371.917   \n",
       "660  20201022.0      35543.0   31202.0    4341.0     13.91    361.320   \n",
       "661  20201023.0      33701.0   29698.0    4003.0     13.48    346.754   \n",
       "662  20201024.0      30683.0   26791.0    3892.0     14.53    319.174   \n",
       "\n",
       "     民生用電(百萬度)  核一#1(萬瓩)  核一#2(萬瓩)  核二#1(萬瓩)  ...   大觀二    明潭   碧海   立霧   龍澗  \\\n",
       "0      192.192       0.0       0.0      98.4  ...  16.0  54.0  0.0  1.2  3.0   \n",
       "1      221.864       0.0       0.0      98.5  ...  29.9  52.3  0.0  1.2  2.0   \n",
       "2      231.146       0.0       0.0      98.7  ...  14.3  65.5  0.0  1.4  1.2   \n",
       "3      232.810       0.0       0.0      98.7  ...  18.1  52.3  0.0  1.4  1.4   \n",
       "4      216.882       0.0       0.0      98.7  ...  30.4  57.6  0.0  1.3  3.0   \n",
       "..         ...       ...       ...       ...  ...   ...   ...  ...  ...  ...   \n",
       "658    309.655       0.0       0.0      98.0  ...  15.2  51.1  5.2  1.2  1.1   \n",
       "659    317.477       0.0       0.0      97.9  ...  20.5  64.6  5.9  1.0  2.0   \n",
       "660    308.430       0.0       0.0      97.9  ...  13.2  33.9  6.0  1.6  1.7   \n",
       "661    295.997       0.0       0.0      97.8  ...  15.8  48.9  6.0  1.6  1.8   \n",
       "662    272.453       0.0       0.0      97.8  ...  28.8  80.8  5.0  1.6  1.5   \n",
       "\n",
       "      卓蘭   水里  其他小水力  風力發電  太陽能發電  \n",
       "0    2.2  0.0   24.3  50.9    0.0  \n",
       "1    2.1  0.0   23.4  37.9    0.0  \n",
       "2    2.0  0.1   24.1  41.6    0.0  \n",
       "3    0.0  0.0   19.3  12.4   11.0  \n",
       "4    2.9  0.0   23.9  18.5    0.0  \n",
       "..   ...  ...    ...   ...    ...  \n",
       "658  1.8  0.5   20.9  67.7   98.8  \n",
       "659  1.8  0.8   20.6  55.8   21.0  \n",
       "660  0.0  0.5   20.9  64.9  159.7  \n",
       "661  1.7  0.7   23.3  65.7   14.9  \n",
       "662  4.0  0.7   27.0  50.1    0.0  \n",
       "\n",
       "[663 rows x 71 columns]"
      ]
     },
     "execution_count": 74,
     "metadata": {},
     "output_type": "execute_result"
    }
   ],
   "source": [
    "train_data"
   ]
  },
  {
   "cell_type": "code",
   "execution_count": 11,
   "id": "armed-depth",
   "metadata": {},
   "outputs": [
    {
     "data": {
      "text/html": [
       "<div>\n",
       "<style scoped>\n",
       "    .dataframe tbody tr th:only-of-type {\n",
       "        vertical-align: middle;\n",
       "    }\n",
       "\n",
       "    .dataframe tbody tr th {\n",
       "        vertical-align: top;\n",
       "    }\n",
       "\n",
       "    .dataframe thead th {\n",
       "        text-align: right;\n",
       "    }\n",
       "</style>\n",
       "<table border=\"1\" class=\"dataframe\">\n",
       "  <thead>\n",
       "    <tr style=\"text-align: right;\">\n",
       "      <th></th>\n",
       "      <th>備轉容量(MW)</th>\n",
       "    </tr>\n",
       "  </thead>\n",
       "  <tbody>\n",
       "    <tr>\n",
       "      <th>660</th>\n",
       "      <td>4341.0</td>\n",
       "    </tr>\n",
       "    <tr>\n",
       "      <th>661</th>\n",
       "      <td>4003.0</td>\n",
       "    </tr>\n",
       "    <tr>\n",
       "      <th>662</th>\n",
       "      <td>3892.0</td>\n",
       "    </tr>\n",
       "    <tr>\n",
       "      <th>663</th>\n",
       "      <td>4025.0</td>\n",
       "    </tr>\n",
       "    <tr>\n",
       "      <th>664</th>\n",
       "      <td>3503.0</td>\n",
       "    </tr>\n",
       "    <tr>\n",
       "      <th>665</th>\n",
       "      <td>3402.0</td>\n",
       "    </tr>\n",
       "    <tr>\n",
       "      <th>666</th>\n",
       "      <td>3470.0</td>\n",
       "    </tr>\n",
       "    <tr>\n",
       "      <th>667</th>\n",
       "      <td>3707.0</td>\n",
       "    </tr>\n",
       "    <tr>\n",
       "      <th>668</th>\n",
       "      <td>4215.0</td>\n",
       "    </tr>\n",
       "    <tr>\n",
       "      <th>669</th>\n",
       "      <td>3719.0</td>\n",
       "    </tr>\n",
       "  </tbody>\n",
       "</table>\n",
       "</div>"
      ],
      "text/plain": [
       "     備轉容量(MW)\n",
       "660    4341.0\n",
       "661    4003.0\n",
       "662    3892.0\n",
       "663    4025.0\n",
       "664    3503.0\n",
       "665    3402.0\n",
       "666    3470.0\n",
       "667    3707.0\n",
       "668    4215.0\n",
       "669    3719.0"
      ]
     },
     "execution_count": 11,
     "metadata": {},
     "output_type": "execute_result"
    }
   ],
   "source": [
    "train_label"
   ]
  },
  {
   "cell_type": "markdown",
   "id": "institutional-choice",
   "metadata": {},
   "source": [
    "## normalize data"
   ]
  },
  {
   "cell_type": "code",
   "execution_count": 12,
   "id": "improved-depression",
   "metadata": {},
   "outputs": [],
   "source": [
    "from sklearn.preprocessing import normalize\n",
    "\n",
    "train_data_norm = normalize(train_data, axis=0)"
   ]
  },
  {
   "cell_type": "code",
   "execution_count": 13,
   "id": "painted-checklist",
   "metadata": {},
   "outputs": [
    {
     "data": {
      "text/plain": [
       "array([[0.03891534, 0.03018594, 0.03056742, ..., 0.04497055, 0.06165892,\n",
       "        0.        ],\n",
       "       [0.03891534, 0.03431825, 0.03604272, ..., 0.04330498, 0.04591107,\n",
       "        0.        ],\n",
       "       [0.03891534, 0.03465632, 0.03643198, ..., 0.04460043, 0.05039315,\n",
       "        0.        ],\n",
       "       ...,\n",
       "       [0.03893638, 0.04060465, 0.03975352, ..., 0.03775306, 0.0800718 ,\n",
       "        0.01475169],\n",
       "       [0.03893638, 0.04097585, 0.04050388, ..., 0.03867838, 0.08201   ,\n",
       "        0.03699156],\n",
       "       [0.03893639, 0.04074742, 0.04144503, ..., 0.03812319, 0.06759466,\n",
       "        0.00786258]])"
      ]
     },
     "execution_count": 13,
     "metadata": {},
     "output_type": "execute_result"
    }
   ],
   "source": [
    "train_data_norm"
   ]
  },
  {
   "cell_type": "code",
   "execution_count": 14,
   "id": "medium-diving",
   "metadata": {},
   "outputs": [
    {
     "data": {
      "text/html": [
       "<div>\n",
       "<style scoped>\n",
       "    .dataframe tbody tr th:only-of-type {\n",
       "        vertical-align: middle;\n",
       "    }\n",
       "\n",
       "    .dataframe tbody tr th {\n",
       "        vertical-align: top;\n",
       "    }\n",
       "\n",
       "    .dataframe thead th {\n",
       "        text-align: right;\n",
       "    }\n",
       "</style>\n",
       "<table border=\"1\" class=\"dataframe\">\n",
       "  <thead>\n",
       "    <tr style=\"text-align: right;\">\n",
       "      <th></th>\n",
       "      <th>備轉容量(MW)</th>\n",
       "    </tr>\n",
       "  </thead>\n",
       "  <tbody>\n",
       "    <tr>\n",
       "      <th>660</th>\n",
       "      <td>4341.0</td>\n",
       "    </tr>\n",
       "    <tr>\n",
       "      <th>661</th>\n",
       "      <td>4003.0</td>\n",
       "    </tr>\n",
       "    <tr>\n",
       "      <th>662</th>\n",
       "      <td>3892.0</td>\n",
       "    </tr>\n",
       "    <tr>\n",
       "      <th>663</th>\n",
       "      <td>4025.0</td>\n",
       "    </tr>\n",
       "    <tr>\n",
       "      <th>664</th>\n",
       "      <td>3503.0</td>\n",
       "    </tr>\n",
       "    <tr>\n",
       "      <th>665</th>\n",
       "      <td>3402.0</td>\n",
       "    </tr>\n",
       "    <tr>\n",
       "      <th>666</th>\n",
       "      <td>3470.0</td>\n",
       "    </tr>\n",
       "    <tr>\n",
       "      <th>667</th>\n",
       "      <td>3707.0</td>\n",
       "    </tr>\n",
       "    <tr>\n",
       "      <th>668</th>\n",
       "      <td>4215.0</td>\n",
       "    </tr>\n",
       "    <tr>\n",
       "      <th>669</th>\n",
       "      <td>3719.0</td>\n",
       "    </tr>\n",
       "  </tbody>\n",
       "</table>\n",
       "</div>"
      ],
      "text/plain": [
       "     備轉容量(MW)\n",
       "660    4341.0\n",
       "661    4003.0\n",
       "662    3892.0\n",
       "663    4025.0\n",
       "664    3503.0\n",
       "665    3402.0\n",
       "666    3470.0\n",
       "667    3707.0\n",
       "668    4215.0\n",
       "669    3719.0"
      ]
     },
     "execution_count": 14,
     "metadata": {},
     "output_type": "execute_result"
    }
   ],
   "source": [
    "train_label"
   ]
  },
  {
   "cell_type": "markdown",
   "id": "supported-contemporary",
   "metadata": {},
   "source": [
    "## dataset"
   ]
  },
  {
   "cell_type": "code",
   "execution_count": 56,
   "id": "fancy-lunch",
   "metadata": {},
   "outputs": [],
   "source": [
    "from sklearn.preprocessing import normalize\n",
    "from torch.utils.data import DataLoader\n",
    "from torch.utils.data import Dataset as BaseDataset\n"
   ]
  },
  {
   "cell_type": "code",
   "execution_count": 190,
   "id": "higher-algebra",
   "metadata": {},
   "outputs": [],
   "source": [
    "\n",
    "class Dataset(BaseDataset):\n",
    "    def __init__(\n",
    "        self,\n",
    "        train_data,\n",
    "        apply_normalize = False,\n",
    "    ):\n",
    "        #prepare the training data and label\n",
    "        self.train_label = np.array(train_data['備轉容量(MW)'])\n",
    "        if not normalize:\n",
    "            self.train_data = np.array(train_data)\n",
    "        else:\n",
    "           self.train_data = np.array(normalize(train_data, axis=0))\n",
    "    \n",
    "    def __getitem__(self, i):\n",
    "        x = self.train_data[:100+i]\n",
    "        y = self.train_label[100+i:100+i+7]\n",
    "        \n",
    "        return x, y\n",
    "    \n",
    "    def __len__(self):\n",
    "        return len(self.train_data) - 200"
   ]
  },
  {
   "cell_type": "code",
   "execution_count": 114,
   "id": "short-advocacy",
   "metadata": {},
   "outputs": [],
   "source": [
    "dataset = Dataset(df)"
   ]
  },
  {
   "cell_type": "code",
   "execution_count": 115,
   "id": "reflected-lotus",
   "metadata": {},
   "outputs": [],
   "source": [
    "x,y = dataset[0]"
   ]
  },
  {
   "cell_type": "code",
   "execution_count": 116,
   "id": "wound-insert",
   "metadata": {},
   "outputs": [
    {
     "data": {
      "text/plain": [
       "(100, 71)"
      ]
     },
     "execution_count": 116,
     "metadata": {},
     "output_type": "execute_result"
    }
   ],
   "source": [
    "x.shape"
   ]
  },
  {
   "cell_type": "code",
   "execution_count": 117,
   "id": "classical-pasta",
   "metadata": {},
   "outputs": [
    {
     "data": {
      "text/plain": [
       "(7,)"
      ]
     },
     "execution_count": 117,
     "metadata": {},
     "output_type": "execute_result"
    }
   ],
   "source": [
    "y.shape"
   ]
  },
  {
   "cell_type": "code",
   "execution_count": 118,
   "id": "applied-coast",
   "metadata": {},
   "outputs": [
    {
     "data": {
      "text/plain": [
       "470"
      ]
     },
     "execution_count": 118,
     "metadata": {},
     "output_type": "execute_result"
    }
   ],
   "source": [
    "len(dataset)"
   ]
  },
  {
   "cell_type": "markdown",
   "id": "excessive-tumor",
   "metadata": {},
   "source": [
    "# Model"
   ]
  },
  {
   "cell_type": "code",
   "execution_count": 119,
   "id": "saved-manual",
   "metadata": {},
   "outputs": [],
   "source": [
    "import torch\n",
    "import torch.nn as nn"
   ]
  },
  {
   "cell_type": "code",
   "execution_count": 120,
   "id": "stopped-landing",
   "metadata": {},
   "outputs": [],
   "source": [
    "rnn = nn.GRU(1, 20, 5)\n",
    "input = torch.randn(500, 1, 1)\n",
    "h0 = torch.randn(5, 1, 20)\n",
    "output, hn = rnn(input, h0)"
   ]
  },
  {
   "cell_type": "code",
   "execution_count": 121,
   "id": "processed-desperate",
   "metadata": {},
   "outputs": [
    {
     "data": {
      "text/plain": [
       "torch.Size([500, 1, 20])"
      ]
     },
     "execution_count": 121,
     "metadata": {},
     "output_type": "execute_result"
    }
   ],
   "source": [
    "output.shape"
   ]
  },
  {
   "cell_type": "code",
   "execution_count": 122,
   "id": "miniature-gamma",
   "metadata": {},
   "outputs": [
    {
     "data": {
      "text/plain": [
       "torch.Size([5, 1, 20])"
      ]
     },
     "execution_count": 122,
     "metadata": {},
     "output_type": "execute_result"
    }
   ],
   "source": [
    "hn.shape"
   ]
  },
  {
   "cell_type": "code",
   "execution_count": 123,
   "id": "french-secret",
   "metadata": {},
   "outputs": [
    {
     "data": {
      "text/plain": [
       "torch.Size([1, 500, 20])"
      ]
     },
     "execution_count": 123,
     "metadata": {},
     "output_type": "execute_result"
    }
   ],
   "source": [
    "output = torch.transpose(output, 0,1)\n",
    "output.shape"
   ]
  },
  {
   "cell_type": "code",
   "execution_count": 124,
   "id": "rural-router",
   "metadata": {},
   "outputs": [
    {
     "data": {
      "text/plain": [
       "torch.Size([1, 3, 3])"
      ]
     },
     "execution_count": 124,
     "metadata": {},
     "output_type": "execute_result"
    }
   ],
   "source": [
    "m = nn.AdaptiveAvgPool2d((3,3))\n",
    "# input = torch.randn(1, 64, 8)\n",
    "output = m(output)\n",
    "output.shape"
   ]
  },
  {
   "cell_type": "code",
   "execution_count": 125,
   "id": "handed-mirror",
   "metadata": {},
   "outputs": [],
   "source": [
    "import torch\n",
    "import torch.nn as nn"
   ]
  },
  {
   "cell_type": "code",
   "execution_count": 223,
   "id": "common-relation",
   "metadata": {},
   "outputs": [],
   "source": [
    "class Model(nn.Module):\n",
    "    def __init__(self, hidden_size=100, num_layers=5):\n",
    "        super(Model,self).__init__()\n",
    "        \n",
    "        self.rnn = nn.GRU(71, hidden_size, num_layers)\n",
    "        self.h0 = torch.randn(num_layers, 1, hidden_size, requires_grad=True)\n",
    "        if torch.cuda.is_available():\n",
    "            self.h0 = self.h0.cuda()\n",
    "        \n",
    "        self.fc1 = nn.Linear(9, 128)\n",
    "        self.fc2 = nn.Linear(128, 512)\n",
    "        self.fc3 = nn.Linear(512, 128)\n",
    "        self.fc4 = nn.Linear(128, 7)\n",
    "        self.relu = nn.ReLU()\n",
    "        self.dropout = nn.Dropout(p=0.01)\n",
    "        self.avgpool = nn.AdaptiveAvgPool2d((3,3))\n",
    "        \n",
    "    def forward(self, x):\n",
    "        output, hn = self.rnn(x, self.h0)\n",
    "        output = torch.transpose(output, 0,1)\n",
    "        output = self.avgpool(output)\n",
    "        x = torch.flatten(output)\n",
    "        x = self.fc1(x)\n",
    "        x = self.relu(x)\n",
    "        x = self.fc2(x)\n",
    "        x = self.relu(x)\n",
    "        x = self.dropout(x)\n",
    "        x = self.fc3(x)\n",
    "        x = self.relu(x)\n",
    "        x = self.fc4(x)\n",
    "#         x = torch.sigmoid(x)\n",
    "        \n",
    "#         return x* self.norm_factor\n",
    "        return x"
   ]
  },
  {
   "cell_type": "code",
   "execution_count": 224,
   "id": "pending-bargain",
   "metadata": {},
   "outputs": [],
   "source": [
    "model = Model()"
   ]
  },
  {
   "cell_type": "code",
   "execution_count": 128,
   "id": "liberal-commonwealth",
   "metadata": {},
   "outputs": [
    {
     "data": {
      "text/plain": [
       "4215.0"
      ]
     },
     "execution_count": 128,
     "metadata": {},
     "output_type": "execute_result"
    }
   ],
   "source": [
    "np.max(np.array(train_label))"
   ]
  },
  {
   "cell_type": "code",
   "execution_count": 129,
   "id": "sized-bandwidth",
   "metadata": {},
   "outputs": [],
   "source": [
    "x,y = dataset[0]\n",
    "x = torch.tensor(x, dtype=torch.float).unsqueeze(dim=1)\n",
    "y = torch.tensor(y, dtype=torch.float)"
   ]
  },
  {
   "cell_type": "code",
   "execution_count": 130,
   "id": "academic-delaware",
   "metadata": {},
   "outputs": [
    {
     "data": {
      "text/plain": [
       "torch.Size([100, 1, 71])"
      ]
     },
     "execution_count": 130,
     "metadata": {},
     "output_type": "execute_result"
    }
   ],
   "source": [
    "x.shape"
   ]
  },
  {
   "cell_type": "code",
   "execution_count": 131,
   "id": "numeric-empty",
   "metadata": {},
   "outputs": [
    {
     "data": {
      "text/plain": [
       "torch.Size([7])"
      ]
     },
     "execution_count": 131,
     "metadata": {},
     "output_type": "execute_result"
    }
   ],
   "source": [
    "y.shape"
   ]
  },
  {
   "cell_type": "code",
   "execution_count": 132,
   "id": "global-trout",
   "metadata": {},
   "outputs": [
    {
     "data": {
      "text/plain": [
       "Model(\n",
       "  (rnn): GRU(71, 20, num_layers=5)\n",
       "  (fc1): Linear(in_features=9, out_features=128, bias=True)\n",
       "  (fc2): Linear(in_features=128, out_features=512, bias=True)\n",
       "  (fc3): Linear(in_features=512, out_features=128, bias=True)\n",
       "  (fc4): Linear(in_features=128, out_features=7, bias=True)\n",
       "  (relu): ReLU()\n",
       "  (dropout): Dropout(p=0.01, inplace=False)\n",
       "  (avgpool): AdaptiveAvgPool2d(output_size=(3, 3))\n",
       ")"
      ]
     },
     "execution_count": 132,
     "metadata": {},
     "output_type": "execute_result"
    }
   ],
   "source": [
    "model.cuda()"
   ]
  },
  {
   "cell_type": "markdown",
   "id": "biological-witch",
   "metadata": {},
   "source": [
    "# training"
   ]
  },
  {
   "cell_type": "code",
   "execution_count": 225,
   "id": "taken-burning",
   "metadata": {},
   "outputs": [],
   "source": [
    "loss = torch.nn.MSELoss()"
   ]
  },
  {
   "cell_type": "code",
   "execution_count": 226,
   "id": "funny-samuel",
   "metadata": {},
   "outputs": [
    {
     "data": {
      "text/plain": [
       "Model(\n",
       "  (rnn): GRU(71, 100, num_layers=5)\n",
       "  (fc1): Linear(in_features=9, out_features=128, bias=True)\n",
       "  (fc2): Linear(in_features=128, out_features=512, bias=True)\n",
       "  (fc3): Linear(in_features=512, out_features=128, bias=True)\n",
       "  (fc4): Linear(in_features=128, out_features=7, bias=True)\n",
       "  (relu): ReLU()\n",
       "  (dropout): Dropout(p=0.01, inplace=False)\n",
       "  (avgpool): AdaptiveAvgPool2d(output_size=(3, 3))\n",
       ")"
      ]
     },
     "execution_count": 226,
     "metadata": {},
     "output_type": "execute_result"
    }
   ],
   "source": [
    "model = Model()\n",
    "model.cuda()"
   ]
  },
  {
   "cell_type": "code",
   "execution_count": 227,
   "id": "czech-functionality",
   "metadata": {},
   "outputs": [],
   "source": [
    "dataset = Dataset(df, apply_normalize=True)"
   ]
  },
  {
   "cell_type": "code",
   "execution_count": 228,
   "id": "dimensional-bubble",
   "metadata": {},
   "outputs": [],
   "source": [
    "optimizer = torch.optim.Adam([\n",
    "    dict(params=model.parameters(), lr=4e-4),\n",
    "])"
   ]
  },
  {
   "cell_type": "code",
   "execution_count": 229,
   "id": "pressed-valuable",
   "metadata": {},
   "outputs": [],
   "source": [
    "from tqdm import tqdm "
   ]
  },
  {
   "cell_type": "code",
   "execution_count": 230,
   "id": "stuck-transcript",
   "metadata": {},
   "outputs": [
    {
     "name": "stderr",
     "output_type": "stream",
     "text": [
      "100%|██████████| 470/470 [00:23<00:00, 20.02it/s]\n",
      "  0%|          | 2/470 [00:00<00:23, 19.67it/s]"
     ]
    },
    {
     "name": "stdout",
     "output_type": "stream",
     "text": [
      "Epoch: 0 Training Loss: 2180249453.8297668\n"
     ]
    },
    {
     "name": "stderr",
     "output_type": "stream",
     "text": [
      "100%|██████████| 470/470 [00:23<00:00, 20.09it/s]\n",
      "  0%|          | 2/470 [00:00<00:25, 18.61it/s]"
     ]
    },
    {
     "name": "stdout",
     "output_type": "stream",
     "text": [
      "Epoch: 1 Training Loss: 275246.28239388764\n"
     ]
    },
    {
     "name": "stderr",
     "output_type": "stream",
     "text": [
      "100%|██████████| 470/470 [00:23<00:00, 20.03it/s]\n",
      "  0%|          | 2/470 [00:00<00:24, 19.07it/s]"
     ]
    },
    {
     "name": "stdout",
     "output_type": "stream",
     "text": [
      "Epoch: 2 Training Loss: 336566.66084026545\n"
     ]
    },
    {
     "name": "stderr",
     "output_type": "stream",
     "text": [
      "100%|██████████| 470/470 [00:21<00:00, 21.64it/s]\n",
      "  1%|          | 3/470 [00:00<00:21, 21.64it/s]"
     ]
    },
    {
     "name": "stdout",
     "output_type": "stream",
     "text": [
      "Epoch: 3 Training Loss: 317649.7090761289\n"
     ]
    },
    {
     "name": "stderr",
     "output_type": "stream",
     "text": [
      "100%|██████████| 470/470 [00:21<00:00, 21.70it/s]\n",
      "  1%|          | 3/470 [00:00<00:20, 22.75it/s]"
     ]
    },
    {
     "name": "stdout",
     "output_type": "stream",
     "text": [
      "Epoch: 4 Training Loss: 392838.85487788916\n"
     ]
    },
    {
     "name": "stderr",
     "output_type": "stream",
     "text": [
      "100%|██████████| 470/470 [00:21<00:00, 22.06it/s]\n",
      "  1%|          | 3/470 [00:00<00:20, 22.56it/s]"
     ]
    },
    {
     "name": "stdout",
     "output_type": "stream",
     "text": [
      "Epoch: 5 Training Loss: 372388.48985371366\n"
     ]
    },
    {
     "name": "stderr",
     "output_type": "stream",
     "text": [
      "100%|██████████| 470/470 [00:21<00:00, 21.86it/s]\n",
      "  1%|          | 3/470 [00:00<00:21, 21.26it/s]"
     ]
    },
    {
     "name": "stdout",
     "output_type": "stream",
     "text": [
      "Epoch: 6 Training Loss: 423113.4373026341\n"
     ]
    },
    {
     "name": "stderr",
     "output_type": "stream",
     "text": [
      "100%|██████████| 470/470 [00:21<00:00, 21.84it/s]\n",
      "  1%|          | 3/470 [00:00<00:22, 20.95it/s]"
     ]
    },
    {
     "name": "stdout",
     "output_type": "stream",
     "text": [
      "Epoch: 7 Training Loss: 436198.76280263066\n"
     ]
    },
    {
     "name": "stderr",
     "output_type": "stream",
     "text": [
      "100%|██████████| 470/470 [00:21<00:00, 21.45it/s]\n",
      "  1%|          | 3/470 [00:00<00:20, 22.43it/s]"
     ]
    },
    {
     "name": "stdout",
     "output_type": "stream",
     "text": [
      "Epoch: 8 Training Loss: 404269.84275564644\n"
     ]
    },
    {
     "name": "stderr",
     "output_type": "stream",
     "text": [
      "100%|██████████| 470/470 [00:21<00:00, 22.05it/s]\n",
      "  1%|          | 3/470 [00:00<00:20, 22.59it/s]"
     ]
    },
    {
     "name": "stdout",
     "output_type": "stream",
     "text": [
      "Epoch: 9 Training Loss: 467096.4268225506\n"
     ]
    },
    {
     "name": "stderr",
     "output_type": "stream",
     "text": [
      "100%|██████████| 470/470 [00:21<00:00, 22.36it/s]\n",
      "  1%|          | 3/470 [00:00<00:22, 20.86it/s]"
     ]
    },
    {
     "name": "stdout",
     "output_type": "stream",
     "text": [
      "Epoch: 10 Training Loss: 526018.2512016743\n"
     ]
    },
    {
     "name": "stderr",
     "output_type": "stream",
     "text": [
      "100%|██████████| 470/470 [00:21<00:00, 22.30it/s]\n",
      "  1%|          | 3/470 [00:00<00:21, 21.45it/s]"
     ]
    },
    {
     "name": "stdout",
     "output_type": "stream",
     "text": [
      "Epoch: 11 Training Loss: 478369.4461015016\n"
     ]
    },
    {
     "name": "stderr",
     "output_type": "stream",
     "text": [
      "100%|██████████| 470/470 [00:21<00:00, 22.37it/s]\n",
      "  1%|          | 3/470 [00:00<00:22, 21.20it/s]"
     ]
    },
    {
     "name": "stdout",
     "output_type": "stream",
     "text": [
      "Epoch: 12 Training Loss: 562761.09612149\n"
     ]
    },
    {
     "name": "stderr",
     "output_type": "stream",
     "text": [
      "100%|██████████| 470/470 [00:20<00:00, 22.43it/s]\n",
      "  1%|          | 3/470 [00:00<00:21, 21.93it/s]"
     ]
    },
    {
     "name": "stdout",
     "output_type": "stream",
     "text": [
      "Epoch: 13 Training Loss: 446573.4528504908\n"
     ]
    },
    {
     "name": "stderr",
     "output_type": "stream",
     "text": [
      "100%|██████████| 470/470 [00:21<00:00, 21.90it/s]\n",
      "  1%|          | 3/470 [00:00<00:20, 22.58it/s]"
     ]
    },
    {
     "name": "stdout",
     "output_type": "stream",
     "text": [
      "Epoch: 14 Training Loss: 379429.38848654926\n"
     ]
    },
    {
     "name": "stderr",
     "output_type": "stream",
     "text": [
      "100%|██████████| 470/470 [00:21<00:00, 21.84it/s]\n",
      "  1%|          | 3/470 [00:00<00:22, 21.07it/s]"
     ]
    },
    {
     "name": "stdout",
     "output_type": "stream",
     "text": [
      "Epoch: 15 Training Loss: 418198.88262937963\n"
     ]
    },
    {
     "name": "stderr",
     "output_type": "stream",
     "text": [
      "100%|██████████| 470/470 [00:21<00:00, 21.80it/s]\n",
      "  1%|          | 3/470 [00:00<00:21, 21.26it/s]"
     ]
    },
    {
     "name": "stdout",
     "output_type": "stream",
     "text": [
      "Epoch: 16 Training Loss: 431518.655356735\n"
     ]
    },
    {
     "name": "stderr",
     "output_type": "stream",
     "text": [
      "100%|██████████| 470/470 [00:21<00:00, 21.79it/s]\n",
      "  1%|          | 3/470 [00:00<00:22, 21.21it/s]"
     ]
    },
    {
     "name": "stdout",
     "output_type": "stream",
     "text": [
      "Epoch: 17 Training Loss: 521307.9672970176\n"
     ]
    },
    {
     "name": "stderr",
     "output_type": "stream",
     "text": [
      "100%|██████████| 470/470 [00:21<00:00, 21.68it/s]\n",
      "  1%|          | 3/470 [00:00<00:22, 21.16it/s]"
     ]
    },
    {
     "name": "stdout",
     "output_type": "stream",
     "text": [
      "Epoch: 18 Training Loss: 647410.1185263693\n"
     ]
    },
    {
     "name": "stderr",
     "output_type": "stream",
     "text": [
      "100%|██████████| 470/470 [00:21<00:00, 21.94it/s]\n",
      "  1%|          | 3/470 [00:00<00:20, 22.54it/s]"
     ]
    },
    {
     "name": "stdout",
     "output_type": "stream",
     "text": [
      "Epoch: 19 Training Loss: 527066.3584282249\n"
     ]
    },
    {
     "name": "stderr",
     "output_type": "stream",
     "text": [
      "100%|██████████| 470/470 [00:21<00:00, 21.90it/s]\n",
      "  1%|          | 3/470 [00:00<00:20, 22.57it/s]"
     ]
    },
    {
     "name": "stdout",
     "output_type": "stream",
     "text": [
      "Epoch: 20 Training Loss: 471685.52324199677\n"
     ]
    },
    {
     "name": "stderr",
     "output_type": "stream",
     "text": [
      "100%|██████████| 470/470 [00:21<00:00, 22.05it/s]\n",
      "  1%|          | 3/470 [00:00<00:20, 22.94it/s]"
     ]
    },
    {
     "name": "stdout",
     "output_type": "stream",
     "text": [
      "Epoch: 21 Training Loss: 531457.8989520594\n"
     ]
    },
    {
     "name": "stderr",
     "output_type": "stream",
     "text": [
      "100%|██████████| 470/470 [00:21<00:00, 21.97it/s]\n",
      "  1%|          | 3/470 [00:00<00:22, 21.06it/s]"
     ]
    },
    {
     "name": "stdout",
     "output_type": "stream",
     "text": [
      "Epoch: 22 Training Loss: 544886.2174087912\n"
     ]
    },
    {
     "name": "stderr",
     "output_type": "stream",
     "text": [
      "100%|██████████| 470/470 [00:20<00:00, 22.39it/s]\n",
      "  1%|          | 3/470 [00:00<00:20, 22.60it/s]"
     ]
    },
    {
     "name": "stdout",
     "output_type": "stream",
     "text": [
      "Epoch: 23 Training Loss: 537538.1507215071\n"
     ]
    },
    {
     "name": "stderr",
     "output_type": "stream",
     "text": [
      "100%|██████████| 470/470 [00:21<00:00, 21.81it/s]\n",
      "  1%|          | 3/470 [00:00<00:21, 21.30it/s]"
     ]
    },
    {
     "name": "stdout",
     "output_type": "stream",
     "text": [
      "Epoch: 24 Training Loss: 490896.90473031625\n"
     ]
    },
    {
     "name": "stderr",
     "output_type": "stream",
     "text": [
      "100%|██████████| 470/470 [00:21<00:00, 22.20it/s]\n",
      "  1%|          | 3/470 [00:00<00:20, 22.68it/s]"
     ]
    },
    {
     "name": "stdout",
     "output_type": "stream",
     "text": [
      "Epoch: 25 Training Loss: 428517.2824055478\n"
     ]
    },
    {
     "name": "stderr",
     "output_type": "stream",
     "text": [
      "100%|██████████| 470/470 [00:21<00:00, 22.33it/s]\n",
      "  1%|          | 3/470 [00:00<00:21, 21.27it/s]"
     ]
    },
    {
     "name": "stdout",
     "output_type": "stream",
     "text": [
      "Epoch: 26 Training Loss: 460660.2802096531\n"
     ]
    },
    {
     "name": "stderr",
     "output_type": "stream",
     "text": [
      "100%|██████████| 470/470 [00:21<00:00, 21.73it/s]\n",
      "  1%|          | 3/470 [00:00<00:20, 22.76it/s]"
     ]
    },
    {
     "name": "stdout",
     "output_type": "stream",
     "text": [
      "Epoch: 27 Training Loss: 527757.6647139639\n"
     ]
    },
    {
     "name": "stderr",
     "output_type": "stream",
     "text": [
      "100%|██████████| 470/470 [00:21<00:00, 22.12it/s]\n",
      "  1%|          | 3/470 [00:00<00:20, 23.10it/s]"
     ]
    },
    {
     "name": "stdout",
     "output_type": "stream",
     "text": [
      "Epoch: 28 Training Loss: 481043.21639724076\n"
     ]
    },
    {
     "name": "stderr",
     "output_type": "stream",
     "text": [
      "100%|██████████| 470/470 [00:21<00:00, 21.76it/s]\n",
      "  1%|          | 3/470 [00:00<00:21, 22.19it/s]"
     ]
    },
    {
     "name": "stdout",
     "output_type": "stream",
     "text": [
      "Epoch: 29 Training Loss: 511274.4660485536\n"
     ]
    },
    {
     "name": "stderr",
     "output_type": "stream",
     "text": [
      "100%|██████████| 470/470 [00:21<00:00, 22.00it/s]\n",
      "  1%|          | 3/470 [00:00<00:21, 21.52it/s]"
     ]
    },
    {
     "name": "stdout",
     "output_type": "stream",
     "text": [
      "Epoch: 30 Training Loss: 451880.7747889757\n"
     ]
    },
    {
     "name": "stderr",
     "output_type": "stream",
     "text": [
      "100%|██████████| 470/470 [00:21<00:00, 21.99it/s]\n",
      "  1%|          | 3/470 [00:00<00:20, 22.69it/s]"
     ]
    },
    {
     "name": "stdout",
     "output_type": "stream",
     "text": [
      "Epoch: 31 Training Loss: 501767.0070069283\n"
     ]
    },
    {
     "name": "stderr",
     "output_type": "stream",
     "text": [
      "100%|██████████| 470/470 [00:21<00:00, 22.22it/s]\n",
      "  1%|          | 3/470 [00:00<00:21, 21.74it/s]"
     ]
    },
    {
     "name": "stdout",
     "output_type": "stream",
     "text": [
      "Epoch: 32 Training Loss: 496718.0302173719\n"
     ]
    },
    {
     "name": "stderr",
     "output_type": "stream",
     "text": [
      "100%|██████████| 470/470 [00:21<00:00, 22.22it/s]\n",
      "  1%|          | 3/470 [00:00<00:22, 21.07it/s]"
     ]
    },
    {
     "name": "stdout",
     "output_type": "stream",
     "text": [
      "Epoch: 33 Training Loss: 422454.5187169239\n"
     ]
    },
    {
     "name": "stderr",
     "output_type": "stream",
     "text": [
      "100%|██████████| 470/470 [00:21<00:00, 22.08it/s]\n",
      "  1%|          | 3/470 [00:00<00:21, 21.98it/s]"
     ]
    },
    {
     "name": "stdout",
     "output_type": "stream",
     "text": [
      "Epoch: 34 Training Loss: 535363.6250193845\n"
     ]
    },
    {
     "name": "stderr",
     "output_type": "stream",
     "text": [
      "100%|██████████| 470/470 [00:21<00:00, 21.57it/s]\n",
      "  1%|          | 3/470 [00:00<00:22, 21.21it/s]"
     ]
    },
    {
     "name": "stdout",
     "output_type": "stream",
     "text": [
      "Epoch: 35 Training Loss: 458528.05314292014\n"
     ]
    },
    {
     "name": "stderr",
     "output_type": "stream",
     "text": [
      "100%|██████████| 470/470 [00:21<00:00, 22.06it/s]\n",
      "  1%|          | 3/470 [00:00<00:20, 22.56it/s]"
     ]
    },
    {
     "name": "stdout",
     "output_type": "stream",
     "text": [
      "Epoch: 36 Training Loss: 450765.8539522141\n"
     ]
    },
    {
     "name": "stderr",
     "output_type": "stream",
     "text": [
      "100%|██████████| 470/470 [00:20<00:00, 22.40it/s]\n",
      "  0%|          | 2/470 [00:00<00:24, 19.01it/s]"
     ]
    },
    {
     "name": "stdout",
     "output_type": "stream",
     "text": [
      "Epoch: 37 Training Loss: 483863.83852957934\n"
     ]
    },
    {
     "name": "stderr",
     "output_type": "stream",
     "text": [
      "100%|██████████| 470/470 [00:21<00:00, 22.34it/s]\n",
      "  0%|          | 2/470 [00:00<00:25, 18.42it/s]"
     ]
    },
    {
     "name": "stdout",
     "output_type": "stream",
     "text": [
      "Epoch: 38 Training Loss: 468937.8982383236\n"
     ]
    },
    {
     "name": "stderr",
     "output_type": "stream",
     "text": [
      "100%|██████████| 470/470 [00:21<00:00, 21.65it/s]\n",
      "  1%|          | 3/470 [00:00<00:22, 20.90it/s]"
     ]
    },
    {
     "name": "stdout",
     "output_type": "stream",
     "text": [
      "Epoch: 39 Training Loss: 437014.31451361626\n"
     ]
    },
    {
     "name": "stderr",
     "output_type": "stream",
     "text": [
      "100%|██████████| 470/470 [00:21<00:00, 22.29it/s]\n",
      "  1%|          | 3/470 [00:00<00:22, 21.18it/s]"
     ]
    },
    {
     "name": "stdout",
     "output_type": "stream",
     "text": [
      "Epoch: 40 Training Loss: 554147.1573658101\n"
     ]
    },
    {
     "name": "stderr",
     "output_type": "stream",
     "text": [
      "100%|██████████| 470/470 [00:21<00:00, 22.06it/s]\n",
      "  1%|          | 3/470 [00:00<00:21, 21.35it/s]"
     ]
    },
    {
     "name": "stdout",
     "output_type": "stream",
     "text": [
      "Epoch: 41 Training Loss: 444307.2654603869\n"
     ]
    },
    {
     "name": "stderr",
     "output_type": "stream",
     "text": [
      "100%|██████████| 470/470 [00:21<00:00, 22.37it/s]\n",
      "  1%|          | 3/470 [00:00<00:21, 21.83it/s]"
     ]
    },
    {
     "name": "stdout",
     "output_type": "stream",
     "text": [
      "Epoch: 42 Training Loss: 503828.4381648898\n"
     ]
    },
    {
     "name": "stderr",
     "output_type": "stream",
     "text": [
      "100%|██████████| 470/470 [00:21<00:00, 22.04it/s]\n",
      "  1%|          | 3/470 [00:00<00:21, 21.29it/s]"
     ]
    },
    {
     "name": "stdout",
     "output_type": "stream",
     "text": [
      "Epoch: 43 Training Loss: 488001.5542553365\n"
     ]
    },
    {
     "name": "stderr",
     "output_type": "stream",
     "text": [
      "100%|██████████| 470/470 [00:21<00:00, 21.83it/s]\n",
      "  1%|          | 3/470 [00:00<00:21, 21.51it/s]"
     ]
    },
    {
     "name": "stdout",
     "output_type": "stream",
     "text": [
      "Epoch: 44 Training Loss: 496333.2788647413\n"
     ]
    },
    {
     "name": "stderr",
     "output_type": "stream",
     "text": [
      "100%|██████████| 470/470 [00:21<00:00, 21.55it/s]\n",
      "  1%|          | 3/470 [00:00<00:22, 21.04it/s]"
     ]
    },
    {
     "name": "stdout",
     "output_type": "stream",
     "text": [
      "Epoch: 45 Training Loss: 443789.259468928\n"
     ]
    },
    {
     "name": "stderr",
     "output_type": "stream",
     "text": [
      "100%|██████████| 470/470 [00:20<00:00, 22.65it/s]\n",
      "  1%|          | 3/470 [00:00<00:22, 21.20it/s]"
     ]
    },
    {
     "name": "stdout",
     "output_type": "stream",
     "text": [
      "Epoch: 46 Training Loss: 474852.9021822959\n"
     ]
    },
    {
     "name": "stderr",
     "output_type": "stream",
     "text": [
      "100%|██████████| 470/470 [00:21<00:00, 22.15it/s]\n",
      "  1%|          | 3/470 [00:00<00:22, 20.97it/s]"
     ]
    },
    {
     "name": "stdout",
     "output_type": "stream",
     "text": [
      "Epoch: 47 Training Loss: 451585.71384299546\n"
     ]
    },
    {
     "name": "stderr",
     "output_type": "stream",
     "text": [
      "100%|██████████| 470/470 [00:21<00:00, 21.60it/s]\n",
      "  1%|          | 3/470 [00:00<00:22, 21.16it/s]"
     ]
    },
    {
     "name": "stdout",
     "output_type": "stream",
     "text": [
      "Epoch: 48 Training Loss: 584617.7746068835\n"
     ]
    },
    {
     "name": "stderr",
     "output_type": "stream",
     "text": [
      "100%|██████████| 470/470 [00:21<00:00, 22.37it/s]\n",
      "  1%|          | 3/470 [00:00<00:21, 21.86it/s]"
     ]
    },
    {
     "name": "stdout",
     "output_type": "stream",
     "text": [
      "Epoch: 49 Training Loss: 444033.18294353783\n"
     ]
    },
    {
     "name": "stderr",
     "output_type": "stream",
     "text": [
      "100%|██████████| 470/470 [00:21<00:00, 21.96it/s]\n",
      "  1%|          | 3/470 [00:00<00:21, 21.28it/s]"
     ]
    },
    {
     "name": "stdout",
     "output_type": "stream",
     "text": [
      "Epoch: 50 Training Loss: 483524.66328668594\n"
     ]
    },
    {
     "name": "stderr",
     "output_type": "stream",
     "text": [
      "100%|██████████| 470/470 [00:21<00:00, 21.88it/s]\n",
      "  1%|          | 3/470 [00:00<00:21, 21.26it/s]"
     ]
    },
    {
     "name": "stdout",
     "output_type": "stream",
     "text": [
      "Epoch: 51 Training Loss: 366094.67118901014\n"
     ]
    },
    {
     "name": "stderr",
     "output_type": "stream",
     "text": [
      "100%|██████████| 470/470 [00:21<00:00, 22.18it/s]\n",
      "  1%|          | 3/470 [00:00<00:20, 22.90it/s]"
     ]
    },
    {
     "name": "stdout",
     "output_type": "stream",
     "text": [
      "Epoch: 52 Training Loss: 546444.7678383365\n"
     ]
    },
    {
     "name": "stderr",
     "output_type": "stream",
     "text": [
      "100%|██████████| 470/470 [00:21<00:00, 22.36it/s]\n",
      "  1%|          | 3/470 [00:00<00:22, 21.09it/s]"
     ]
    },
    {
     "name": "stdout",
     "output_type": "stream",
     "text": [
      "Epoch: 53 Training Loss: 465801.2875775695\n"
     ]
    },
    {
     "name": "stderr",
     "output_type": "stream",
     "text": [
      "100%|██████████| 470/470 [00:21<00:00, 21.80it/s]\n",
      "  1%|          | 3/470 [00:00<00:22, 21.21it/s]"
     ]
    },
    {
     "name": "stdout",
     "output_type": "stream",
     "text": [
      "Epoch: 54 Training Loss: 359299.367870152\n"
     ]
    },
    {
     "name": "stderr",
     "output_type": "stream",
     "text": [
      "100%|██████████| 470/470 [00:20<00:00, 22.49it/s]\n",
      "  1%|          | 3/470 [00:00<00:21, 22.21it/s]"
     ]
    },
    {
     "name": "stdout",
     "output_type": "stream",
     "text": [
      "Epoch: 55 Training Loss: 506821.7262488678\n"
     ]
    },
    {
     "name": "stderr",
     "output_type": "stream",
     "text": [
      "100%|██████████| 470/470 [00:20<00:00, 22.54it/s]\n",
      "  1%|          | 3/470 [00:00<00:20, 22.85it/s]"
     ]
    },
    {
     "name": "stdout",
     "output_type": "stream",
     "text": [
      "Epoch: 56 Training Loss: 417690.88721238077\n"
     ]
    },
    {
     "name": "stderr",
     "output_type": "stream",
     "text": [
      "100%|██████████| 470/470 [00:21<00:00, 22.20it/s]\n",
      "  1%|          | 3/470 [00:00<00:22, 21.03it/s]"
     ]
    },
    {
     "name": "stdout",
     "output_type": "stream",
     "text": [
      "Epoch: 57 Training Loss: 450751.21378052235\n"
     ]
    },
    {
     "name": "stderr",
     "output_type": "stream",
     "text": [
      "100%|██████████| 470/470 [00:21<00:00, 21.86it/s]\n",
      "  1%|          | 3/470 [00:00<00:21, 21.54it/s]"
     ]
    },
    {
     "name": "stdout",
     "output_type": "stream",
     "text": [
      "Epoch: 58 Training Loss: 426128.5884785652\n"
     ]
    },
    {
     "name": "stderr",
     "output_type": "stream",
     "text": [
      "100%|██████████| 470/470 [00:20<00:00, 22.58it/s]\n",
      "  1%|          | 3/470 [00:00<00:22, 20.92it/s]"
     ]
    },
    {
     "name": "stdout",
     "output_type": "stream",
     "text": [
      "Epoch: 59 Training Loss: 436149.1253368929\n"
     ]
    },
    {
     "name": "stderr",
     "output_type": "stream",
     "text": [
      "100%|██████████| 470/470 [00:21<00:00, 21.97it/s]\n",
      "  1%|          | 3/470 [00:00<00:21, 22.17it/s]"
     ]
    },
    {
     "name": "stdout",
     "output_type": "stream",
     "text": [
      "Epoch: 60 Training Loss: 489390.23077104986\n"
     ]
    },
    {
     "name": "stderr",
     "output_type": "stream",
     "text": [
      "100%|██████████| 470/470 [00:20<00:00, 22.51it/s]\n",
      "  1%|          | 3/470 [00:00<00:21, 21.98it/s]"
     ]
    },
    {
     "name": "stdout",
     "output_type": "stream",
     "text": [
      "Epoch: 61 Training Loss: 536691.2033599652\n"
     ]
    },
    {
     "name": "stderr",
     "output_type": "stream",
     "text": [
      "100%|██████████| 470/470 [00:21<00:00, 22.01it/s]\n",
      "  1%|          | 3/470 [00:00<00:20, 22.87it/s]"
     ]
    },
    {
     "name": "stdout",
     "output_type": "stream",
     "text": [
      "Epoch: 62 Training Loss: 524455.5890911296\n"
     ]
    },
    {
     "name": "stderr",
     "output_type": "stream",
     "text": [
      "100%|██████████| 470/470 [00:20<00:00, 22.59it/s]\n",
      "  1%|          | 3/470 [00:00<00:21, 22.11it/s]"
     ]
    },
    {
     "name": "stdout",
     "output_type": "stream",
     "text": [
      "Epoch: 63 Training Loss: 421846.5628485903\n"
     ]
    },
    {
     "name": "stderr",
     "output_type": "stream",
     "text": [
      "100%|██████████| 470/470 [00:21<00:00, 21.76it/s]\n",
      "  1%|          | 3/470 [00:00<00:21, 21.25it/s]"
     ]
    },
    {
     "name": "stdout",
     "output_type": "stream",
     "text": [
      "Epoch: 64 Training Loss: 571487.3674132228\n"
     ]
    },
    {
     "name": "stderr",
     "output_type": "stream",
     "text": [
      "100%|██████████| 470/470 [00:20<00:00, 22.46it/s]\n",
      "  0%|          | 2/470 [00:00<00:24, 19.28it/s]"
     ]
    },
    {
     "name": "stdout",
     "output_type": "stream",
     "text": [
      "Epoch: 65 Training Loss: 434103.65607596934\n"
     ]
    },
    {
     "name": "stderr",
     "output_type": "stream",
     "text": [
      "100%|██████████| 470/470 [00:21<00:00, 22.34it/s]\n",
      "  1%|          | 3/470 [00:00<00:21, 21.51it/s]"
     ]
    },
    {
     "name": "stdout",
     "output_type": "stream",
     "text": [
      "Epoch: 66 Training Loss: 470797.8438909501\n"
     ]
    },
    {
     "name": "stderr",
     "output_type": "stream",
     "text": [
      "100%|██████████| 470/470 [00:21<00:00, 21.72it/s]\n",
      "  1%|          | 3/470 [00:00<00:19, 23.50it/s]"
     ]
    },
    {
     "name": "stdout",
     "output_type": "stream",
     "text": [
      "Epoch: 67 Training Loss: 458307.33187193796\n"
     ]
    },
    {
     "name": "stderr",
     "output_type": "stream",
     "text": [
      "100%|██████████| 470/470 [00:21<00:00, 21.95it/s]\n",
      "  1%|          | 3/470 [00:00<00:22, 21.20it/s]"
     ]
    },
    {
     "name": "stdout",
     "output_type": "stream",
     "text": [
      "Epoch: 68 Training Loss: 469292.2409157455\n"
     ]
    },
    {
     "name": "stderr",
     "output_type": "stream",
     "text": [
      "100%|██████████| 470/470 [00:21<00:00, 21.86it/s]\n",
      "  1%|          | 3/470 [00:00<00:22, 20.81it/s]"
     ]
    },
    {
     "name": "stdout",
     "output_type": "stream",
     "text": [
      "Epoch: 69 Training Loss: 446071.92311211675\n"
     ]
    },
    {
     "name": "stderr",
     "output_type": "stream",
     "text": [
      "100%|██████████| 470/470 [00:21<00:00, 21.97it/s]\n",
      "  1%|          | 3/470 [00:00<00:21, 21.30it/s]"
     ]
    },
    {
     "name": "stdout",
     "output_type": "stream",
     "text": [
      "Epoch: 70 Training Loss: 442639.28044209257\n"
     ]
    },
    {
     "name": "stderr",
     "output_type": "stream",
     "text": [
      "100%|██████████| 470/470 [00:21<00:00, 21.82it/s]\n",
      "  1%|          | 3/470 [00:00<00:22, 20.91it/s]"
     ]
    },
    {
     "name": "stdout",
     "output_type": "stream",
     "text": [
      "Epoch: 71 Training Loss: 440977.2771496549\n"
     ]
    },
    {
     "name": "stderr",
     "output_type": "stream",
     "text": [
      "100%|██████████| 470/470 [00:21<00:00, 21.95it/s]\n",
      "  1%|          | 3/470 [00:00<00:21, 21.44it/s]"
     ]
    },
    {
     "name": "stdout",
     "output_type": "stream",
     "text": [
      "Epoch: 72 Training Loss: 600283.4412947893\n"
     ]
    },
    {
     "name": "stderr",
     "output_type": "stream",
     "text": [
      "100%|██████████| 470/470 [00:21<00:00, 22.22it/s]\n",
      "  1%|          | 3/470 [00:00<00:20, 23.07it/s]"
     ]
    },
    {
     "name": "stdout",
     "output_type": "stream",
     "text": [
      "Epoch: 73 Training Loss: 536071.3676256705\n"
     ]
    },
    {
     "name": "stderr",
     "output_type": "stream",
     "text": [
      "100%|██████████| 470/470 [00:20<00:00, 22.38it/s]\n",
      "  1%|          | 3/470 [00:00<00:20, 23.32it/s]"
     ]
    },
    {
     "name": "stdout",
     "output_type": "stream",
     "text": [
      "Epoch: 74 Training Loss: 553458.5290590227\n"
     ]
    },
    {
     "name": "stderr",
     "output_type": "stream",
     "text": [
      "100%|██████████| 470/470 [00:21<00:00, 22.20it/s]\n",
      "  1%|          | 3/470 [00:00<00:19, 23.65it/s]"
     ]
    },
    {
     "name": "stdout",
     "output_type": "stream",
     "text": [
      "Epoch: 75 Training Loss: 482969.529746633\n"
     ]
    },
    {
     "name": "stderr",
     "output_type": "stream",
     "text": [
      "100%|██████████| 470/470 [00:20<00:00, 22.63it/s]\n",
      "  1%|          | 3/470 [00:00<00:20, 22.28it/s]"
     ]
    },
    {
     "name": "stdout",
     "output_type": "stream",
     "text": [
      "Epoch: 76 Training Loss: 449272.2087055445\n"
     ]
    },
    {
     "name": "stderr",
     "output_type": "stream",
     "text": [
      "100%|██████████| 470/470 [00:21<00:00, 22.27it/s]\n",
      "  1%|          | 3/470 [00:00<00:21, 21.28it/s]"
     ]
    },
    {
     "name": "stdout",
     "output_type": "stream",
     "text": [
      "Epoch: 77 Training Loss: 408722.08258123696\n"
     ]
    },
    {
     "name": "stderr",
     "output_type": "stream",
     "text": [
      "100%|██████████| 470/470 [00:21<00:00, 22.03it/s]\n",
      "  1%|          | 3/470 [00:00<00:20, 23.08it/s]"
     ]
    },
    {
     "name": "stdout",
     "output_type": "stream",
     "text": [
      "Epoch: 78 Training Loss: 472036.08849105984\n"
     ]
    },
    {
     "name": "stderr",
     "output_type": "stream",
     "text": [
      "100%|██████████| 470/470 [00:21<00:00, 21.72it/s]\n",
      "  0%|          | 2/470 [00:00<00:23, 19.90it/s]"
     ]
    },
    {
     "name": "stdout",
     "output_type": "stream",
     "text": [
      "Epoch: 79 Training Loss: 487776.4823124781\n"
     ]
    },
    {
     "name": "stderr",
     "output_type": "stream",
     "text": [
      "100%|██████████| 470/470 [00:21<00:00, 21.92it/s]\n",
      "  0%|          | 2/470 [00:00<00:25, 18.31it/s]"
     ]
    },
    {
     "name": "stdout",
     "output_type": "stream",
     "text": [
      "Epoch: 80 Training Loss: 472745.0518870652\n"
     ]
    },
    {
     "name": "stderr",
     "output_type": "stream",
     "text": [
      "100%|██████████| 470/470 [00:21<00:00, 22.28it/s]\n",
      "  1%|          | 3/470 [00:00<00:20, 22.55it/s]"
     ]
    },
    {
     "name": "stdout",
     "output_type": "stream",
     "text": [
      "Epoch: 81 Training Loss: 495206.6777177751\n"
     ]
    },
    {
     "name": "stderr",
     "output_type": "stream",
     "text": [
      "100%|██████████| 470/470 [00:21<00:00, 22.17it/s]\n",
      "  1%|          | 3/470 [00:00<00:22, 21.06it/s]"
     ]
    },
    {
     "name": "stdout",
     "output_type": "stream",
     "text": [
      "Epoch: 82 Training Loss: 478382.1157512814\n"
     ]
    },
    {
     "name": "stderr",
     "output_type": "stream",
     "text": [
      "100%|██████████| 470/470 [00:21<00:00, 22.22it/s]\n",
      "  1%|          | 3/470 [00:00<00:20, 22.55it/s]"
     ]
    },
    {
     "name": "stdout",
     "output_type": "stream",
     "text": [
      "Epoch: 83 Training Loss: 515846.75969891995\n"
     ]
    },
    {
     "name": "stderr",
     "output_type": "stream",
     "text": [
      "100%|██████████| 470/470 [00:20<00:00, 22.42it/s]\n",
      "  1%|          | 3/470 [00:00<00:20, 23.17it/s]"
     ]
    },
    {
     "name": "stdout",
     "output_type": "stream",
     "text": [
      "Epoch: 84 Training Loss: 485813.2167174518\n"
     ]
    },
    {
     "name": "stderr",
     "output_type": "stream",
     "text": [
      "100%|██████████| 470/470 [00:21<00:00, 21.84it/s]\n",
      "  1%|          | 3/470 [00:00<00:22, 20.87it/s]"
     ]
    },
    {
     "name": "stdout",
     "output_type": "stream",
     "text": [
      "Epoch: 85 Training Loss: 437379.26387393475\n"
     ]
    },
    {
     "name": "stderr",
     "output_type": "stream",
     "text": [
      "100%|██████████| 470/470 [00:21<00:00, 22.23it/s]\n",
      "  1%|          | 3/470 [00:00<00:21, 21.30it/s]"
     ]
    },
    {
     "name": "stdout",
     "output_type": "stream",
     "text": [
      "Epoch: 86 Training Loss: 494312.65480969846\n"
     ]
    },
    {
     "name": "stderr",
     "output_type": "stream",
     "text": [
      "100%|██████████| 470/470 [00:21<00:00, 21.78it/s]\n",
      "  1%|          | 3/470 [00:00<00:20, 22.40it/s]"
     ]
    },
    {
     "name": "stdout",
     "output_type": "stream",
     "text": [
      "Epoch: 87 Training Loss: 493822.7559876144\n"
     ]
    },
    {
     "name": "stderr",
     "output_type": "stream",
     "text": [
      "100%|██████████| 470/470 [00:21<00:00, 22.11it/s]\n",
      "  1%|          | 3/470 [00:00<00:21, 21.29it/s]"
     ]
    },
    {
     "name": "stdout",
     "output_type": "stream",
     "text": [
      "Epoch: 88 Training Loss: 500138.0234840512\n"
     ]
    },
    {
     "name": "stderr",
     "output_type": "stream",
     "text": [
      "100%|██████████| 470/470 [00:20<00:00, 22.76it/s]\n",
      "  1%|          | 3/470 [00:00<00:21, 21.62it/s]"
     ]
    },
    {
     "name": "stdout",
     "output_type": "stream",
     "text": [
      "Epoch: 89 Training Loss: 493233.19121715054\n"
     ]
    },
    {
     "name": "stderr",
     "output_type": "stream",
     "text": [
      "100%|██████████| 470/470 [00:21<00:00, 21.83it/s]\n",
      "  1%|          | 3/470 [00:00<00:22, 21.03it/s]"
     ]
    },
    {
     "name": "stdout",
     "output_type": "stream",
     "text": [
      "Epoch: 90 Training Loss: 520815.374573037\n"
     ]
    },
    {
     "name": "stderr",
     "output_type": "stream",
     "text": [
      "100%|██████████| 470/470 [00:21<00:00, 21.78it/s]\n",
      "  1%|          | 3/470 [00:00<00:22, 20.91it/s]"
     ]
    },
    {
     "name": "stdout",
     "output_type": "stream",
     "text": [
      "Epoch: 91 Training Loss: 546719.6637122668\n"
     ]
    },
    {
     "name": "stderr",
     "output_type": "stream",
     "text": [
      "100%|██████████| 470/470 [00:21<00:00, 21.86it/s]\n",
      "  1%|          | 3/470 [00:00<00:20, 23.06it/s]"
     ]
    },
    {
     "name": "stdout",
     "output_type": "stream",
     "text": [
      "Epoch: 92 Training Loss: 384329.9110727683\n"
     ]
    },
    {
     "name": "stderr",
     "output_type": "stream",
     "text": [
      "100%|██████████| 470/470 [00:21<00:00, 22.05it/s]\n",
      "  1%|          | 3/470 [00:00<00:20, 22.54it/s]"
     ]
    },
    {
     "name": "stdout",
     "output_type": "stream",
     "text": [
      "Epoch: 93 Training Loss: 485476.3122087121\n"
     ]
    },
    {
     "name": "stderr",
     "output_type": "stream",
     "text": [
      "100%|██████████| 470/470 [00:21<00:00, 22.00it/s]\n",
      "  1%|          | 3/470 [00:00<00:20, 23.10it/s]"
     ]
    },
    {
     "name": "stdout",
     "output_type": "stream",
     "text": [
      "Epoch: 94 Training Loss: 527350.2682116553\n"
     ]
    },
    {
     "name": "stderr",
     "output_type": "stream",
     "text": [
      "100%|██████████| 470/470 [00:21<00:00, 22.04it/s]\n",
      "  1%|          | 3/470 [00:00<00:22, 21.13it/s]"
     ]
    },
    {
     "name": "stdout",
     "output_type": "stream",
     "text": [
      "Epoch: 95 Training Loss: 486585.61317564547\n"
     ]
    },
    {
     "name": "stderr",
     "output_type": "stream",
     "text": [
      "100%|██████████| 470/470 [00:21<00:00, 22.10it/s]\n",
      "  1%|          | 3/470 [00:00<00:20, 22.97it/s]"
     ]
    },
    {
     "name": "stdout",
     "output_type": "stream",
     "text": [
      "Epoch: 96 Training Loss: 531420.2780064642\n"
     ]
    },
    {
     "name": "stderr",
     "output_type": "stream",
     "text": [
      "100%|██████████| 470/470 [00:21<00:00, 22.23it/s]\n",
      "  0%|          | 2/470 [00:00<00:25, 18.61it/s]"
     ]
    },
    {
     "name": "stdout",
     "output_type": "stream",
     "text": [
      "Epoch: 97 Training Loss: 392646.0889984518\n"
     ]
    },
    {
     "name": "stderr",
     "output_type": "stream",
     "text": [
      "100%|██████████| 470/470 [00:21<00:00, 21.89it/s]\n",
      "  1%|          | 3/470 [00:00<00:22, 21.22it/s]"
     ]
    },
    {
     "name": "stdout",
     "output_type": "stream",
     "text": [
      "Epoch: 98 Training Loss: 496496.74116146564\n"
     ]
    },
    {
     "name": "stderr",
     "output_type": "stream",
     "text": [
      "100%|██████████| 470/470 [00:21<00:00, 21.96it/s]\n",
      "  1%|          | 3/470 [00:00<00:21, 21.47it/s]"
     ]
    },
    {
     "name": "stdout",
     "output_type": "stream",
     "text": [
      "Epoch: 99 Training Loss: 521059.3609187305\n"
     ]
    },
    {
     "name": "stderr",
     "output_type": "stream",
     "text": [
      "100%|██████████| 470/470 [00:21<00:00, 22.03it/s]\n",
      "  1%|          | 3/470 [00:00<00:20, 22.78it/s]"
     ]
    },
    {
     "name": "stdout",
     "output_type": "stream",
     "text": [
      "Epoch: 100 Training Loss: 510267.1560418159\n"
     ]
    },
    {
     "name": "stderr",
     "output_type": "stream",
     "text": [
      "100%|██████████| 470/470 [00:20<00:00, 22.43it/s]\n",
      "  1%|          | 3/470 [00:00<00:20, 22.88it/s]"
     ]
    },
    {
     "name": "stdout",
     "output_type": "stream",
     "text": [
      "Epoch: 101 Training Loss: 439992.75595963\n"
     ]
    },
    {
     "name": "stderr",
     "output_type": "stream",
     "text": [
      "100%|██████████| 470/470 [00:21<00:00, 21.59it/s]\n",
      "  1%|          | 3/470 [00:00<00:20, 22.81it/s]"
     ]
    },
    {
     "name": "stdout",
     "output_type": "stream",
     "text": [
      "Epoch: 102 Training Loss: 580324.0109039098\n"
     ]
    },
    {
     "name": "stderr",
     "output_type": "stream",
     "text": [
      "100%|██████████| 470/470 [00:21<00:00, 21.82it/s]\n",
      "  1%|          | 3/470 [00:00<00:21, 21.42it/s]"
     ]
    },
    {
     "name": "stdout",
     "output_type": "stream",
     "text": [
      "Epoch: 103 Training Loss: 471597.4105717242\n"
     ]
    },
    {
     "name": "stderr",
     "output_type": "stream",
     "text": [
      "100%|██████████| 470/470 [00:21<00:00, 21.71it/s]\n",
      "  0%|          | 2/470 [00:00<00:24, 18.82it/s]"
     ]
    },
    {
     "name": "stdout",
     "output_type": "stream",
     "text": [
      "Epoch: 104 Training Loss: 499462.73059906065\n"
     ]
    },
    {
     "name": "stderr",
     "output_type": "stream",
     "text": [
      "100%|██████████| 470/470 [00:21<00:00, 21.52it/s]\n",
      "  1%|          | 3/470 [00:00<00:22, 20.92it/s]"
     ]
    },
    {
     "name": "stdout",
     "output_type": "stream",
     "text": [
      "Epoch: 105 Training Loss: 421422.893930085\n"
     ]
    },
    {
     "name": "stderr",
     "output_type": "stream",
     "text": [
      "100%|██████████| 470/470 [00:21<00:00, 21.92it/s]\n",
      "  1%|          | 3/470 [00:00<00:20, 22.84it/s]"
     ]
    },
    {
     "name": "stdout",
     "output_type": "stream",
     "text": [
      "Epoch: 106 Training Loss: 471243.13034427166\n"
     ]
    },
    {
     "name": "stderr",
     "output_type": "stream",
     "text": [
      "100%|██████████| 470/470 [00:21<00:00, 21.78it/s]\n",
      "  0%|          | 2/470 [00:00<00:24, 19.04it/s]"
     ]
    },
    {
     "name": "stdout",
     "output_type": "stream",
     "text": [
      "Epoch: 107 Training Loss: 482467.58333490044\n"
     ]
    },
    {
     "name": "stderr",
     "output_type": "stream",
     "text": [
      "100%|██████████| 470/470 [00:21<00:00, 21.58it/s]\n",
      "  1%|          | 3/470 [00:00<00:20, 23.13it/s]"
     ]
    },
    {
     "name": "stdout",
     "output_type": "stream",
     "text": [
      "Epoch: 108 Training Loss: 487654.23339007795\n"
     ]
    },
    {
     "name": "stderr",
     "output_type": "stream",
     "text": [
      "100%|██████████| 470/470 [00:21<00:00, 21.96it/s]\n",
      "  1%|          | 3/470 [00:00<00:21, 21.33it/s]"
     ]
    },
    {
     "name": "stdout",
     "output_type": "stream",
     "text": [
      "Epoch: 109 Training Loss: 441446.0788273886\n"
     ]
    },
    {
     "name": "stderr",
     "output_type": "stream",
     "text": [
      "100%|██████████| 470/470 [00:21<00:00, 21.94it/s]\n",
      "  0%|          | 2/470 [00:00<00:23, 19.60it/s]"
     ]
    },
    {
     "name": "stdout",
     "output_type": "stream",
     "text": [
      "Epoch: 110 Training Loss: 549196.4154470004\n"
     ]
    },
    {
     "name": "stderr",
     "output_type": "stream",
     "text": [
      "100%|██████████| 470/470 [00:21<00:00, 22.03it/s]\n",
      "  1%|          | 3/470 [00:00<00:22, 20.74it/s]"
     ]
    },
    {
     "name": "stdout",
     "output_type": "stream",
     "text": [
      "Epoch: 111 Training Loss: 461807.21351739764\n"
     ]
    },
    {
     "name": "stderr",
     "output_type": "stream",
     "text": [
      "100%|██████████| 470/470 [00:21<00:00, 22.15it/s]\n",
      "  0%|          | 2/470 [00:00<00:23, 19.81it/s]"
     ]
    },
    {
     "name": "stdout",
     "output_type": "stream",
     "text": [
      "Epoch: 112 Training Loss: 473529.59963485226\n"
     ]
    },
    {
     "name": "stderr",
     "output_type": "stream",
     "text": [
      "100%|██████████| 470/470 [00:21<00:00, 22.22it/s]\n",
      "  1%|          | 3/470 [00:00<00:20, 22.64it/s]"
     ]
    },
    {
     "name": "stdout",
     "output_type": "stream",
     "text": [
      "Epoch: 113 Training Loss: 472980.81361135095\n"
     ]
    },
    {
     "name": "stderr",
     "output_type": "stream",
     "text": [
      "100%|██████████| 470/470 [00:21<00:00, 21.90it/s]\n",
      "  1%|          | 3/470 [00:00<00:21, 21.27it/s]"
     ]
    },
    {
     "name": "stdout",
     "output_type": "stream",
     "text": [
      "Epoch: 114 Training Loss: 515712.1859405935\n"
     ]
    },
    {
     "name": "stderr",
     "output_type": "stream",
     "text": [
      "100%|██████████| 470/470 [00:21<00:00, 21.60it/s]\n",
      "  1%|          | 3/470 [00:00<00:22, 21.22it/s]"
     ]
    },
    {
     "name": "stdout",
     "output_type": "stream",
     "text": [
      "Epoch: 115 Training Loss: 657507.7472181991\n"
     ]
    },
    {
     "name": "stderr",
     "output_type": "stream",
     "text": [
      "100%|██████████| 470/470 [00:21<00:00, 22.00it/s]\n",
      "  1%|          | 3/470 [00:00<00:21, 21.26it/s]"
     ]
    },
    {
     "name": "stdout",
     "output_type": "stream",
     "text": [
      "Epoch: 116 Training Loss: 432669.53403006494\n"
     ]
    },
    {
     "name": "stderr",
     "output_type": "stream",
     "text": [
      "100%|██████████| 470/470 [00:21<00:00, 21.83it/s]\n",
      "  1%|          | 3/470 [00:00<00:21, 21.57it/s]"
     ]
    },
    {
     "name": "stdout",
     "output_type": "stream",
     "text": [
      "Epoch: 117 Training Loss: 402266.205965966\n"
     ]
    },
    {
     "name": "stderr",
     "output_type": "stream",
     "text": [
      "100%|██████████| 470/470 [00:21<00:00, 22.14it/s]\n",
      "  1%|          | 3/470 [00:00<00:20, 22.90it/s]"
     ]
    },
    {
     "name": "stdout",
     "output_type": "stream",
     "text": [
      "Epoch: 118 Training Loss: 448936.3964442238\n"
     ]
    },
    {
     "name": "stderr",
     "output_type": "stream",
     "text": [
      "100%|██████████| 470/470 [00:21<00:00, 22.04it/s]\n",
      "  1%|          | 3/470 [00:00<00:20, 22.78it/s]"
     ]
    },
    {
     "name": "stdout",
     "output_type": "stream",
     "text": [
      "Epoch: 119 Training Loss: 470745.36918079853\n"
     ]
    },
    {
     "name": "stderr",
     "output_type": "stream",
     "text": [
      "100%|██████████| 470/470 [00:21<00:00, 22.21it/s]\n",
      "  1%|          | 3/470 [00:00<00:21, 22.17it/s]"
     ]
    },
    {
     "name": "stdout",
     "output_type": "stream",
     "text": [
      "Epoch: 120 Training Loss: 535907.5084809065\n"
     ]
    },
    {
     "name": "stderr",
     "output_type": "stream",
     "text": [
      "100%|██████████| 470/470 [00:21<00:00, 22.20it/s]\n",
      "  1%|          | 3/470 [00:00<00:22, 20.96it/s]"
     ]
    },
    {
     "name": "stdout",
     "output_type": "stream",
     "text": [
      "Epoch: 121 Training Loss: 463297.3345300853\n"
     ]
    },
    {
     "name": "stderr",
     "output_type": "stream",
     "text": [
      "100%|██████████| 470/470 [00:21<00:00, 22.30it/s]\n",
      "  1%|          | 3/470 [00:00<00:20, 23.05it/s]"
     ]
    },
    {
     "name": "stdout",
     "output_type": "stream",
     "text": [
      "Epoch: 122 Training Loss: 529791.3387548551\n"
     ]
    },
    {
     "name": "stderr",
     "output_type": "stream",
     "text": [
      "100%|██████████| 470/470 [00:21<00:00, 21.89it/s]\n",
      "  1%|          | 3/470 [00:00<00:20, 22.25it/s]"
     ]
    },
    {
     "name": "stdout",
     "output_type": "stream",
     "text": [
      "Epoch: 123 Training Loss: 473295.6725186184\n"
     ]
    },
    {
     "name": "stderr",
     "output_type": "stream",
     "text": [
      "100%|██████████| 470/470 [00:21<00:00, 22.09it/s]\n",
      "  1%|          | 3/470 [00:00<00:21, 21.51it/s]"
     ]
    },
    {
     "name": "stdout",
     "output_type": "stream",
     "text": [
      "Epoch: 124 Training Loss: 520862.8396018874\n"
     ]
    },
    {
     "name": "stderr",
     "output_type": "stream",
     "text": [
      "100%|██████████| 470/470 [00:21<00:00, 21.92it/s]\n",
      "  0%|          | 2/470 [00:00<00:24, 18.95it/s]"
     ]
    },
    {
     "name": "stdout",
     "output_type": "stream",
     "text": [
      "Epoch: 125 Training Loss: 452699.2275887318\n"
     ]
    },
    {
     "name": "stderr",
     "output_type": "stream",
     "text": [
      "100%|██████████| 470/470 [00:21<00:00, 22.11it/s]\n",
      "  0%|          | 2/470 [00:00<00:25, 18.59it/s]"
     ]
    },
    {
     "name": "stdout",
     "output_type": "stream",
     "text": [
      "Epoch: 126 Training Loss: 592067.2195359021\n"
     ]
    },
    {
     "name": "stderr",
     "output_type": "stream",
     "text": [
      "100%|██████████| 470/470 [00:21<00:00, 21.79it/s]\n",
      "  1%|          | 3/470 [00:00<00:22, 20.92it/s]"
     ]
    },
    {
     "name": "stdout",
     "output_type": "stream",
     "text": [
      "Epoch: 127 Training Loss: 491419.77297975123\n"
     ]
    },
    {
     "name": "stderr",
     "output_type": "stream",
     "text": [
      "100%|██████████| 470/470 [00:21<00:00, 21.80it/s]\n",
      "  1%|          | 3/470 [00:00<00:22, 20.92it/s]"
     ]
    },
    {
     "name": "stdout",
     "output_type": "stream",
     "text": [
      "Epoch: 128 Training Loss: 554805.8995911404\n"
     ]
    },
    {
     "name": "stderr",
     "output_type": "stream",
     "text": [
      "100%|██████████| 470/470 [00:21<00:00, 21.71it/s]\n",
      "  1%|          | 3/470 [00:00<00:21, 21.31it/s]"
     ]
    },
    {
     "name": "stdout",
     "output_type": "stream",
     "text": [
      "Epoch: 129 Training Loss: 489681.90893003345\n"
     ]
    },
    {
     "name": "stderr",
     "output_type": "stream",
     "text": [
      "100%|██████████| 470/470 [00:21<00:00, 21.94it/s]\n",
      "  1%|          | 3/470 [00:00<00:20, 22.73it/s]"
     ]
    },
    {
     "name": "stdout",
     "output_type": "stream",
     "text": [
      "Epoch: 130 Training Loss: 542249.491037339\n"
     ]
    },
    {
     "name": "stderr",
     "output_type": "stream",
     "text": [
      "100%|██████████| 470/470 [00:21<00:00, 22.02it/s]\n",
      "  1%|          | 3/470 [00:00<00:20, 23.05it/s]"
     ]
    },
    {
     "name": "stdout",
     "output_type": "stream",
     "text": [
      "Epoch: 131 Training Loss: 383890.7218939215\n"
     ]
    },
    {
     "name": "stderr",
     "output_type": "stream",
     "text": [
      "100%|██████████| 470/470 [00:20<00:00, 22.66it/s]\n",
      "  1%|          | 3/470 [00:00<00:20, 22.94it/s]"
     ]
    },
    {
     "name": "stdout",
     "output_type": "stream",
     "text": [
      "Epoch: 132 Training Loss: 534353.1197773516\n"
     ]
    },
    {
     "name": "stderr",
     "output_type": "stream",
     "text": [
      "100%|██████████| 470/470 [00:21<00:00, 21.68it/s]\n",
      "  0%|          | 2/470 [00:00<00:24, 18.76it/s]"
     ]
    },
    {
     "name": "stdout",
     "output_type": "stream",
     "text": [
      "Epoch: 133 Training Loss: 478578.1749431081\n"
     ]
    },
    {
     "name": "stderr",
     "output_type": "stream",
     "text": [
      "100%|██████████| 470/470 [00:21<00:00, 21.90it/s]\n",
      "  1%|          | 3/470 [00:00<00:21, 21.29it/s]"
     ]
    },
    {
     "name": "stdout",
     "output_type": "stream",
     "text": [
      "Epoch: 134 Training Loss: 456068.2335738987\n"
     ]
    },
    {
     "name": "stderr",
     "output_type": "stream",
     "text": [
      "100%|██████████| 470/470 [00:21<00:00, 22.20it/s]\n",
      "  1%|          | 3/470 [00:00<00:22, 20.93it/s]"
     ]
    },
    {
     "name": "stdout",
     "output_type": "stream",
     "text": [
      "Epoch: 135 Training Loss: 459445.06442178786\n"
     ]
    },
    {
     "name": "stderr",
     "output_type": "stream",
     "text": [
      "100%|██████████| 470/470 [00:21<00:00, 22.34it/s]\n",
      "  1%|          | 3/470 [00:00<00:21, 21.65it/s]"
     ]
    },
    {
     "name": "stdout",
     "output_type": "stream",
     "text": [
      "Epoch: 136 Training Loss: 576190.304576762\n"
     ]
    },
    {
     "name": "stderr",
     "output_type": "stream",
     "text": [
      "100%|██████████| 470/470 [00:21<00:00, 21.55it/s]\n",
      "  0%|          | 2/470 [00:00<00:24, 19.05it/s]"
     ]
    },
    {
     "name": "stdout",
     "output_type": "stream",
     "text": [
      "Epoch: 137 Training Loss: 427638.264116846\n"
     ]
    },
    {
     "name": "stderr",
     "output_type": "stream",
     "text": [
      "100%|██████████| 470/470 [00:21<00:00, 22.24it/s]\n",
      "  0%|          | 2/470 [00:00<00:25, 18.63it/s]"
     ]
    },
    {
     "name": "stdout",
     "output_type": "stream",
     "text": [
      "Epoch: 138 Training Loss: 443665.0184800662\n"
     ]
    },
    {
     "name": "stderr",
     "output_type": "stream",
     "text": [
      "100%|██████████| 470/470 [00:21<00:00, 22.19it/s]\n",
      "  1%|          | 3/470 [00:00<00:20, 22.45it/s]"
     ]
    },
    {
     "name": "stdout",
     "output_type": "stream",
     "text": [
      "Epoch: 139 Training Loss: 486170.80165714025\n"
     ]
    },
    {
     "name": "stderr",
     "output_type": "stream",
     "text": [
      "100%|██████████| 470/470 [00:20<00:00, 22.69it/s]\n",
      "  1%|          | 3/470 [00:00<00:20, 23.13it/s]"
     ]
    },
    {
     "name": "stdout",
     "output_type": "stream",
     "text": [
      "Epoch: 140 Training Loss: 499415.5671914071\n"
     ]
    },
    {
     "name": "stderr",
     "output_type": "stream",
     "text": [
      "100%|██████████| 470/470 [00:21<00:00, 21.68it/s]\n",
      "  1%|          | 3/470 [00:00<00:20, 22.58it/s]"
     ]
    },
    {
     "name": "stdout",
     "output_type": "stream",
     "text": [
      "Epoch: 141 Training Loss: 465497.7405821085\n"
     ]
    },
    {
     "name": "stderr",
     "output_type": "stream",
     "text": [
      "100%|██████████| 470/470 [00:21<00:00, 21.75it/s]\n",
      "  1%|          | 3/470 [00:00<00:22, 21.16it/s]"
     ]
    },
    {
     "name": "stdout",
     "output_type": "stream",
     "text": [
      "Epoch: 142 Training Loss: 451859.7417883724\n"
     ]
    },
    {
     "name": "stderr",
     "output_type": "stream",
     "text": [
      "100%|██████████| 470/470 [00:20<00:00, 22.45it/s]\n",
      "  0%|          | 2/470 [00:00<00:25, 18.41it/s]"
     ]
    },
    {
     "name": "stdout",
     "output_type": "stream",
     "text": [
      "Epoch: 143 Training Loss: 517872.65552830696\n"
     ]
    },
    {
     "name": "stderr",
     "output_type": "stream",
     "text": [
      "100%|██████████| 470/470 [00:21<00:00, 22.20it/s]\n",
      "  1%|          | 3/470 [00:00<00:20, 23.28it/s]"
     ]
    },
    {
     "name": "stdout",
     "output_type": "stream",
     "text": [
      "Epoch: 144 Training Loss: 521269.4302008748\n"
     ]
    },
    {
     "name": "stderr",
     "output_type": "stream",
     "text": [
      "100%|██████████| 470/470 [00:21<00:00, 22.24it/s]\n",
      "  1%|          | 3/470 [00:00<00:22, 21.17it/s]"
     ]
    },
    {
     "name": "stdout",
     "output_type": "stream",
     "text": [
      "Epoch: 145 Training Loss: 477351.657154005\n"
     ]
    },
    {
     "name": "stderr",
     "output_type": "stream",
     "text": [
      "100%|██████████| 470/470 [00:21<00:00, 22.06it/s]\n",
      "  0%|          | 2/470 [00:00<00:24, 19.36it/s]"
     ]
    },
    {
     "name": "stdout",
     "output_type": "stream",
     "text": [
      "Epoch: 146 Training Loss: 508862.77249977365\n"
     ]
    },
    {
     "name": "stderr",
     "output_type": "stream",
     "text": [
      "100%|██████████| 470/470 [00:21<00:00, 21.67it/s]\n",
      "  1%|          | 3/470 [00:00<00:21, 21.24it/s]"
     ]
    },
    {
     "name": "stdout",
     "output_type": "stream",
     "text": [
      "Epoch: 147 Training Loss: 575645.4505376369\n"
     ]
    },
    {
     "name": "stderr",
     "output_type": "stream",
     "text": [
      "100%|██████████| 470/470 [00:21<00:00, 21.80it/s]\n",
      "  1%|          | 3/470 [00:00<00:21, 21.30it/s]"
     ]
    },
    {
     "name": "stdout",
     "output_type": "stream",
     "text": [
      "Epoch: 148 Training Loss: 505920.46789944917\n"
     ]
    },
    {
     "name": "stderr",
     "output_type": "stream",
     "text": [
      "100%|██████████| 470/470 [00:21<00:00, 22.00it/s]\n",
      "  1%|          | 3/470 [00:00<00:22, 21.08it/s]"
     ]
    },
    {
     "name": "stdout",
     "output_type": "stream",
     "text": [
      "Epoch: 149 Training Loss: 413908.17187939584\n"
     ]
    },
    {
     "name": "stderr",
     "output_type": "stream",
     "text": [
      "100%|██████████| 470/470 [00:20<00:00, 22.44it/s]\n",
      "  1%|          | 3/470 [00:00<00:20, 22.63it/s]"
     ]
    },
    {
     "name": "stdout",
     "output_type": "stream",
     "text": [
      "Epoch: 150 Training Loss: 471695.46162270755\n"
     ]
    },
    {
     "name": "stderr",
     "output_type": "stream",
     "text": [
      "100%|██████████| 470/470 [00:21<00:00, 22.14it/s]\n",
      "  0%|          | 2/470 [00:00<00:24, 19.15it/s]"
     ]
    },
    {
     "name": "stdout",
     "output_type": "stream",
     "text": [
      "Epoch: 151 Training Loss: 477194.4211039841\n"
     ]
    },
    {
     "name": "stderr",
     "output_type": "stream",
     "text": [
      "100%|██████████| 470/470 [00:21<00:00, 21.73it/s]\n",
      "  1%|          | 3/470 [00:00<00:20, 22.49it/s]"
     ]
    },
    {
     "name": "stdout",
     "output_type": "stream",
     "text": [
      "Epoch: 152 Training Loss: 583393.0089600123\n"
     ]
    },
    {
     "name": "stderr",
     "output_type": "stream",
     "text": [
      "100%|██████████| 470/470 [00:21<00:00, 22.16it/s]\n",
      "  1%|          | 3/470 [00:00<00:20, 23.10it/s]"
     ]
    },
    {
     "name": "stdout",
     "output_type": "stream",
     "text": [
      "Epoch: 153 Training Loss: 523430.625201188\n"
     ]
    },
    {
     "name": "stderr",
     "output_type": "stream",
     "text": [
      "100%|██████████| 470/470 [00:21<00:00, 21.76it/s]\n",
      "  1%|          | 3/470 [00:00<00:21, 21.25it/s]"
     ]
    },
    {
     "name": "stdout",
     "output_type": "stream",
     "text": [
      "Epoch: 154 Training Loss: 510087.2625943385\n"
     ]
    },
    {
     "name": "stderr",
     "output_type": "stream",
     "text": [
      "100%|██████████| 470/470 [00:21<00:00, 22.26it/s]\n",
      "  1%|          | 3/470 [00:00<00:20, 22.83it/s]"
     ]
    },
    {
     "name": "stdout",
     "output_type": "stream",
     "text": [
      "Epoch: 155 Training Loss: 406480.69034897536\n"
     ]
    },
    {
     "name": "stderr",
     "output_type": "stream",
     "text": [
      "100%|██████████| 470/470 [00:21<00:00, 22.03it/s]\n",
      "  1%|          | 3/470 [00:00<00:22, 21.16it/s]"
     ]
    },
    {
     "name": "stdout",
     "output_type": "stream",
     "text": [
      "Epoch: 156 Training Loss: 558999.5870713145\n"
     ]
    },
    {
     "name": "stderr",
     "output_type": "stream",
     "text": [
      "100%|██████████| 470/470 [00:21<00:00, 22.00it/s]\n",
      "  1%|          | 3/470 [00:00<00:20, 23.05it/s]"
     ]
    },
    {
     "name": "stdout",
     "output_type": "stream",
     "text": [
      "Epoch: 157 Training Loss: 474183.1828963235\n"
     ]
    },
    {
     "name": "stderr",
     "output_type": "stream",
     "text": [
      "100%|██████████| 470/470 [00:21<00:00, 21.96it/s]\n",
      "  0%|          | 2/470 [00:00<00:24, 19.13it/s]"
     ]
    },
    {
     "name": "stdout",
     "output_type": "stream",
     "text": [
      "Epoch: 158 Training Loss: 472820.5040543452\n"
     ]
    },
    {
     "name": "stderr",
     "output_type": "stream",
     "text": [
      "100%|██████████| 470/470 [00:21<00:00, 21.99it/s]\n",
      "  1%|          | 3/470 [00:00<00:21, 21.76it/s]"
     ]
    },
    {
     "name": "stdout",
     "output_type": "stream",
     "text": [
      "Epoch: 159 Training Loss: 508938.3803226501\n"
     ]
    },
    {
     "name": "stderr",
     "output_type": "stream",
     "text": [
      "100%|██████████| 470/470 [00:21<00:00, 21.96it/s]\n",
      "  1%|          | 3/470 [00:00<00:21, 21.79it/s]"
     ]
    },
    {
     "name": "stdout",
     "output_type": "stream",
     "text": [
      "Epoch: 160 Training Loss: 468482.30688241124\n"
     ]
    },
    {
     "name": "stderr",
     "output_type": "stream",
     "text": [
      "100%|██████████| 470/470 [00:21<00:00, 21.96it/s]\n",
      "  1%|          | 3/470 [00:00<00:20, 22.34it/s]"
     ]
    },
    {
     "name": "stdout",
     "output_type": "stream",
     "text": [
      "Epoch: 161 Training Loss: 561354.7502837628\n"
     ]
    },
    {
     "name": "stderr",
     "output_type": "stream",
     "text": [
      "100%|██████████| 470/470 [00:21<00:00, 22.10it/s]\n",
      "  1%|          | 3/470 [00:00<00:20, 22.79it/s]"
     ]
    },
    {
     "name": "stdout",
     "output_type": "stream",
     "text": [
      "Epoch: 162 Training Loss: 512958.0819312185\n"
     ]
    },
    {
     "name": "stderr",
     "output_type": "stream",
     "text": [
      "100%|██████████| 470/470 [00:21<00:00, 22.22it/s]\n",
      "  0%|          | 2/470 [00:00<00:24, 18.78it/s]"
     ]
    },
    {
     "name": "stdout",
     "output_type": "stream",
     "text": [
      "Epoch: 163 Training Loss: 494876.66842508316\n"
     ]
    },
    {
     "name": "stderr",
     "output_type": "stream",
     "text": [
      "100%|██████████| 470/470 [00:21<00:00, 21.58it/s]\n",
      "  1%|          | 3/470 [00:00<00:21, 22.19it/s]"
     ]
    },
    {
     "name": "stdout",
     "output_type": "stream",
     "text": [
      "Epoch: 164 Training Loss: 476947.4652756229\n"
     ]
    },
    {
     "name": "stderr",
     "output_type": "stream",
     "text": [
      "100%|██████████| 470/470 [00:21<00:00, 21.74it/s]\n",
      "  1%|          | 3/470 [00:00<00:21, 22.00it/s]"
     ]
    },
    {
     "name": "stdout",
     "output_type": "stream",
     "text": [
      "Epoch: 165 Training Loss: 466745.3209227249\n"
     ]
    },
    {
     "name": "stderr",
     "output_type": "stream",
     "text": [
      "100%|██████████| 470/470 [00:21<00:00, 22.31it/s]\n",
      "  1%|          | 3/470 [00:00<00:20, 23.11it/s]"
     ]
    },
    {
     "name": "stdout",
     "output_type": "stream",
     "text": [
      "Epoch: 166 Training Loss: 450507.7411763668\n"
     ]
    },
    {
     "name": "stderr",
     "output_type": "stream",
     "text": [
      "100%|██████████| 470/470 [00:21<00:00, 22.13it/s]\n",
      "  1%|          | 3/470 [00:00<00:22, 21.11it/s]"
     ]
    },
    {
     "name": "stdout",
     "output_type": "stream",
     "text": [
      "Epoch: 167 Training Loss: 540418.1876627058\n"
     ]
    },
    {
     "name": "stderr",
     "output_type": "stream",
     "text": [
      "100%|██████████| 470/470 [00:21<00:00, 21.55it/s]\n",
      "  1%|          | 3/470 [00:00<00:21, 21.43it/s]"
     ]
    },
    {
     "name": "stdout",
     "output_type": "stream",
     "text": [
      "Epoch: 168 Training Loss: 356047.42949584685\n"
     ]
    },
    {
     "name": "stderr",
     "output_type": "stream",
     "text": [
      "100%|██████████| 470/470 [00:21<00:00, 21.53it/s]\n",
      "  1%|          | 3/470 [00:00<00:20, 22.60it/s]"
     ]
    },
    {
     "name": "stdout",
     "output_type": "stream",
     "text": [
      "Epoch: 169 Training Loss: 519979.318605721\n"
     ]
    },
    {
     "name": "stderr",
     "output_type": "stream",
     "text": [
      "100%|██████████| 470/470 [00:20<00:00, 22.40it/s]\n",
      "  1%|          | 3/470 [00:00<00:20, 23.13it/s]"
     ]
    },
    {
     "name": "stdout",
     "output_type": "stream",
     "text": [
      "Epoch: 170 Training Loss: 439613.004033342\n"
     ]
    },
    {
     "name": "stderr",
     "output_type": "stream",
     "text": [
      "100%|██████████| 470/470 [00:21<00:00, 21.80it/s]\n",
      "  1%|          | 3/470 [00:00<00:22, 20.78it/s]"
     ]
    },
    {
     "name": "stdout",
     "output_type": "stream",
     "text": [
      "Epoch: 171 Training Loss: 508285.1904384792\n"
     ]
    },
    {
     "name": "stderr",
     "output_type": "stream",
     "text": [
      "100%|██████████| 470/470 [00:20<00:00, 22.50it/s]\n",
      "  1%|          | 3/470 [00:00<00:20, 22.77it/s]"
     ]
    },
    {
     "name": "stdout",
     "output_type": "stream",
     "text": [
      "Epoch: 172 Training Loss: 447160.638511762\n"
     ]
    },
    {
     "name": "stderr",
     "output_type": "stream",
     "text": [
      "100%|██████████| 470/470 [00:21<00:00, 22.03it/s]\n",
      "  1%|          | 3/470 [00:00<00:22, 20.67it/s]"
     ]
    },
    {
     "name": "stdout",
     "output_type": "stream",
     "text": [
      "Epoch: 173 Training Loss: 470556.7929159105\n"
     ]
    },
    {
     "name": "stderr",
     "output_type": "stream",
     "text": [
      "100%|██████████| 470/470 [00:21<00:00, 21.78it/s]\n",
      "  1%|          | 3/470 [00:00<00:19, 23.36it/s]"
     ]
    },
    {
     "name": "stdout",
     "output_type": "stream",
     "text": [
      "Epoch: 174 Training Loss: 434345.6992610395\n"
     ]
    },
    {
     "name": "stderr",
     "output_type": "stream",
     "text": [
      "100%|██████████| 470/470 [00:21<00:00, 21.87it/s]\n",
      "  1%|          | 3/470 [00:00<00:22, 21.18it/s]"
     ]
    },
    {
     "name": "stdout",
     "output_type": "stream",
     "text": [
      "Epoch: 175 Training Loss: 515738.0797672719\n"
     ]
    },
    {
     "name": "stderr",
     "output_type": "stream",
     "text": [
      "100%|██████████| 470/470 [00:21<00:00, 22.28it/s]\n",
      "  1%|          | 3/470 [00:00<00:20, 22.58it/s]"
     ]
    },
    {
     "name": "stdout",
     "output_type": "stream",
     "text": [
      "Epoch: 176 Training Loss: 485437.91042730585\n"
     ]
    },
    {
     "name": "stderr",
     "output_type": "stream",
     "text": [
      "100%|██████████| 470/470 [00:21<00:00, 21.78it/s]\n",
      "  1%|          | 3/470 [00:00<00:20, 22.91it/s]"
     ]
    },
    {
     "name": "stdout",
     "output_type": "stream",
     "text": [
      "Epoch: 177 Training Loss: 418984.38262718916\n"
     ]
    },
    {
     "name": "stderr",
     "output_type": "stream",
     "text": [
      "100%|██████████| 470/470 [00:21<00:00, 21.96it/s]\n",
      "  1%|          | 3/470 [00:00<00:20, 22.51it/s]"
     ]
    },
    {
     "name": "stdout",
     "output_type": "stream",
     "text": [
      "Epoch: 178 Training Loss: 416296.087495476\n"
     ]
    },
    {
     "name": "stderr",
     "output_type": "stream",
     "text": [
      "100%|██████████| 470/470 [00:21<00:00, 22.23it/s]\n",
      "  0%|          | 2/470 [00:00<00:25, 18.64it/s]"
     ]
    },
    {
     "name": "stdout",
     "output_type": "stream",
     "text": [
      "Epoch: 179 Training Loss: 472043.29593080655\n"
     ]
    },
    {
     "name": "stderr",
     "output_type": "stream",
     "text": [
      "100%|██████████| 470/470 [00:21<00:00, 22.23it/s]\n",
      "  0%|          | 2/470 [00:00<00:26, 17.51it/s]"
     ]
    },
    {
     "name": "stdout",
     "output_type": "stream",
     "text": [
      "Epoch: 180 Training Loss: 475744.7284771353\n"
     ]
    },
    {
     "name": "stderr",
     "output_type": "stream",
     "text": [
      "100%|██████████| 470/470 [00:21<00:00, 21.39it/s]\n",
      "  1%|          | 3/470 [00:00<00:22, 21.16it/s]"
     ]
    },
    {
     "name": "stdout",
     "output_type": "stream",
     "text": [
      "Epoch: 181 Training Loss: 476171.0749980509\n"
     ]
    },
    {
     "name": "stderr",
     "output_type": "stream",
     "text": [
      "100%|██████████| 470/470 [00:21<00:00, 22.09it/s]\n",
      "  1%|          | 3/470 [00:00<00:20, 22.95it/s]"
     ]
    },
    {
     "name": "stdout",
     "output_type": "stream",
     "text": [
      "Epoch: 182 Training Loss: 445456.7205215357\n"
     ]
    },
    {
     "name": "stderr",
     "output_type": "stream",
     "text": [
      "100%|██████████| 470/470 [00:21<00:00, 21.98it/s]\n",
      "  1%|          | 3/470 [00:00<00:21, 21.84it/s]"
     ]
    },
    {
     "name": "stdout",
     "output_type": "stream",
     "text": [
      "Epoch: 183 Training Loss: 510834.84480869025\n"
     ]
    },
    {
     "name": "stderr",
     "output_type": "stream",
     "text": [
      "100%|██████████| 470/470 [00:21<00:00, 22.06it/s]\n",
      "  1%|          | 3/470 [00:00<00:20, 22.76it/s]"
     ]
    },
    {
     "name": "stdout",
     "output_type": "stream",
     "text": [
      "Epoch: 184 Training Loss: 395188.1531733051\n"
     ]
    },
    {
     "name": "stderr",
     "output_type": "stream",
     "text": [
      "100%|██████████| 470/470 [00:21<00:00, 21.76it/s]\n",
      "  0%|          | 2/470 [00:00<00:25, 18.27it/s]"
     ]
    },
    {
     "name": "stdout",
     "output_type": "stream",
     "text": [
      "Epoch: 185 Training Loss: 429312.73889018595\n"
     ]
    },
    {
     "name": "stderr",
     "output_type": "stream",
     "text": [
      "100%|██████████| 470/470 [00:21<00:00, 22.12it/s]\n",
      "  1%|          | 3/470 [00:00<00:22, 21.11it/s]"
     ]
    },
    {
     "name": "stdout",
     "output_type": "stream",
     "text": [
      "Epoch: 186 Training Loss: 474330.7677041963\n"
     ]
    },
    {
     "name": "stderr",
     "output_type": "stream",
     "text": [
      "100%|██████████| 470/470 [00:21<00:00, 21.70it/s]\n",
      "  1%|          | 3/470 [00:00<00:20, 22.46it/s]"
     ]
    },
    {
     "name": "stdout",
     "output_type": "stream",
     "text": [
      "Epoch: 187 Training Loss: 472693.8091690242\n"
     ]
    },
    {
     "name": "stderr",
     "output_type": "stream",
     "text": [
      "100%|██████████| 470/470 [00:21<00:00, 22.05it/s]\n",
      "  1%|          | 3/470 [00:00<00:20, 22.99it/s]"
     ]
    },
    {
     "name": "stdout",
     "output_type": "stream",
     "text": [
      "Epoch: 188 Training Loss: 579470.3385633081\n"
     ]
    },
    {
     "name": "stderr",
     "output_type": "stream",
     "text": [
      "100%|██████████| 470/470 [00:21<00:00, 21.96it/s]\n",
      "  1%|          | 3/470 [00:00<00:21, 22.13it/s]"
     ]
    },
    {
     "name": "stdout",
     "output_type": "stream",
     "text": [
      "Epoch: 189 Training Loss: 428537.0231394768\n"
     ]
    },
    {
     "name": "stderr",
     "output_type": "stream",
     "text": [
      "100%|██████████| 470/470 [00:21<00:00, 22.20it/s]\n",
      "  1%|          | 3/470 [00:00<00:20, 23.06it/s]"
     ]
    },
    {
     "name": "stdout",
     "output_type": "stream",
     "text": [
      "Epoch: 190 Training Loss: 416374.4088970348\n"
     ]
    },
    {
     "name": "stderr",
     "output_type": "stream",
     "text": [
      "100%|██████████| 470/470 [00:21<00:00, 22.37it/s]\n",
      "  0%|          | 2/470 [00:00<00:24, 18.77it/s]"
     ]
    },
    {
     "name": "stdout",
     "output_type": "stream",
     "text": [
      "Epoch: 191 Training Loss: 404925.2453002557\n"
     ]
    },
    {
     "name": "stderr",
     "output_type": "stream",
     "text": [
      "100%|██████████| 470/470 [00:21<00:00, 22.13it/s]\n",
      "  1%|          | 3/470 [00:00<00:20, 22.63it/s]"
     ]
    },
    {
     "name": "stdout",
     "output_type": "stream",
     "text": [
      "Epoch: 192 Training Loss: 411520.3799636662\n"
     ]
    },
    {
     "name": "stderr",
     "output_type": "stream",
     "text": [
      "100%|██████████| 470/470 [00:20<00:00, 22.44it/s]\n",
      "  0%|          | 2/470 [00:00<00:24, 19.10it/s]"
     ]
    },
    {
     "name": "stdout",
     "output_type": "stream",
     "text": [
      "Epoch: 193 Training Loss: 491551.4880828336\n"
     ]
    },
    {
     "name": "stderr",
     "output_type": "stream",
     "text": [
      "100%|██████████| 470/470 [00:21<00:00, 22.32it/s]\n",
      "  0%|          | 2/470 [00:00<00:23, 19.66it/s]"
     ]
    },
    {
     "name": "stdout",
     "output_type": "stream",
     "text": [
      "Epoch: 194 Training Loss: 436287.8579265475\n"
     ]
    },
    {
     "name": "stderr",
     "output_type": "stream",
     "text": [
      "100%|██████████| 470/470 [00:21<00:00, 21.88it/s]\n",
      "  1%|          | 3/470 [00:00<00:22, 20.95it/s]"
     ]
    },
    {
     "name": "stdout",
     "output_type": "stream",
     "text": [
      "Epoch: 195 Training Loss: 439525.284168303\n"
     ]
    },
    {
     "name": "stderr",
     "output_type": "stream",
     "text": [
      "100%|██████████| 470/470 [00:21<00:00, 21.85it/s]\n",
      "  1%|          | 3/470 [00:00<00:20, 22.76it/s]"
     ]
    },
    {
     "name": "stdout",
     "output_type": "stream",
     "text": [
      "Epoch: 196 Training Loss: 409214.3072004467\n"
     ]
    },
    {
     "name": "stderr",
     "output_type": "stream",
     "text": [
      "100%|██████████| 470/470 [00:21<00:00, 22.07it/s]\n",
      "  1%|          | 3/470 [00:00<00:22, 21.02it/s]"
     ]
    },
    {
     "name": "stdout",
     "output_type": "stream",
     "text": [
      "Epoch: 197 Training Loss: 486729.14056361467\n"
     ]
    },
    {
     "name": "stderr",
     "output_type": "stream",
     "text": [
      "100%|██████████| 470/470 [00:21<00:00, 21.70it/s]\n",
      "  1%|          | 3/470 [00:00<00:21, 21.35it/s]"
     ]
    },
    {
     "name": "stdout",
     "output_type": "stream",
     "text": [
      "Epoch: 198 Training Loss: 464627.314855963\n"
     ]
    },
    {
     "name": "stderr",
     "output_type": "stream",
     "text": [
      "100%|██████████| 470/470 [00:21<00:00, 21.60it/s]\n",
      "  1%|          | 3/470 [00:00<00:20, 22.61it/s]"
     ]
    },
    {
     "name": "stdout",
     "output_type": "stream",
     "text": [
      "Epoch: 199 Training Loss: 473746.82886023074\n"
     ]
    },
    {
     "name": "stderr",
     "output_type": "stream",
     "text": [
      "100%|██████████| 470/470 [00:21<00:00, 22.02it/s]\n",
      "  1%|          | 3/470 [00:00<00:20, 22.41it/s]"
     ]
    },
    {
     "name": "stdout",
     "output_type": "stream",
     "text": [
      "Epoch: 200 Training Loss: 486005.0457884371\n"
     ]
    },
    {
     "name": "stderr",
     "output_type": "stream",
     "text": [
      "100%|██████████| 470/470 [00:21<00:00, 22.32it/s]\n",
      "  0%|          | 2/470 [00:00<00:23, 19.80it/s]"
     ]
    },
    {
     "name": "stdout",
     "output_type": "stream",
     "text": [
      "Epoch: 201 Training Loss: 599723.5991455019\n"
     ]
    },
    {
     "name": "stderr",
     "output_type": "stream",
     "text": [
      "100%|██████████| 470/470 [00:21<00:00, 21.81it/s]\n",
      "  1%|          | 3/470 [00:00<00:22, 20.43it/s]"
     ]
    },
    {
     "name": "stdout",
     "output_type": "stream",
     "text": [
      "Epoch: 202 Training Loss: 445714.08698925376\n"
     ]
    },
    {
     "name": "stderr",
     "output_type": "stream",
     "text": [
      "100%|██████████| 470/470 [00:21<00:00, 21.73it/s]\n",
      "  1%|          | 3/470 [00:00<00:20, 22.41it/s]"
     ]
    },
    {
     "name": "stdout",
     "output_type": "stream",
     "text": [
      "Epoch: 203 Training Loss: 466211.19352209754\n"
     ]
    },
    {
     "name": "stderr",
     "output_type": "stream",
     "text": [
      "100%|██████████| 470/470 [00:21<00:00, 22.03it/s]\n",
      "  0%|          | 2/470 [00:00<00:25, 18.48it/s]"
     ]
    },
    {
     "name": "stdout",
     "output_type": "stream",
     "text": [
      "Epoch: 204 Training Loss: 449325.78639438003\n"
     ]
    },
    {
     "name": "stderr",
     "output_type": "stream",
     "text": [
      "100%|██████████| 470/470 [00:21<00:00, 21.89it/s]\n",
      "  1%|          | 3/470 [00:00<00:21, 22.23it/s]"
     ]
    },
    {
     "name": "stdout",
     "output_type": "stream",
     "text": [
      "Epoch: 205 Training Loss: 483810.21264181286\n"
     ]
    },
    {
     "name": "stderr",
     "output_type": "stream",
     "text": [
      "100%|██████████| 470/470 [00:21<00:00, 22.06it/s]\n",
      "  1%|          | 3/470 [00:00<00:20, 23.34it/s]"
     ]
    },
    {
     "name": "stdout",
     "output_type": "stream",
     "text": [
      "Epoch: 206 Training Loss: 415123.8037450537\n"
     ]
    },
    {
     "name": "stderr",
     "output_type": "stream",
     "text": [
      "100%|██████████| 470/470 [00:21<00:00, 21.52it/s]\n",
      "  1%|          | 3/470 [00:00<00:22, 21.01it/s]"
     ]
    },
    {
     "name": "stdout",
     "output_type": "stream",
     "text": [
      "Epoch: 207 Training Loss: 539359.4415245354\n"
     ]
    },
    {
     "name": "stderr",
     "output_type": "stream",
     "text": [
      "100%|██████████| 470/470 [00:21<00:00, 21.77it/s]\n",
      "  1%|          | 3/470 [00:00<00:20, 22.74it/s]"
     ]
    },
    {
     "name": "stdout",
     "output_type": "stream",
     "text": [
      "Epoch: 208 Training Loss: 453542.6933795363\n"
     ]
    },
    {
     "name": "stderr",
     "output_type": "stream",
     "text": [
      "100%|██████████| 470/470 [00:21<00:00, 21.83it/s]\n",
      "  1%|          | 3/470 [00:00<00:21, 21.49it/s]"
     ]
    },
    {
     "name": "stdout",
     "output_type": "stream",
     "text": [
      "Epoch: 209 Training Loss: 460547.8047802299\n"
     ]
    },
    {
     "name": "stderr",
     "output_type": "stream",
     "text": [
      "100%|██████████| 470/470 [00:21<00:00, 21.66it/s]\n",
      "  1%|          | 3/470 [00:00<00:22, 21.13it/s]"
     ]
    },
    {
     "name": "stdout",
     "output_type": "stream",
     "text": [
      "Epoch: 210 Training Loss: 498551.02026574314\n"
     ]
    },
    {
     "name": "stderr",
     "output_type": "stream",
     "text": [
      "100%|██████████| 470/470 [00:21<00:00, 22.03it/s]\n",
      "  1%|          | 3/470 [00:00<00:20, 22.34it/s]"
     ]
    },
    {
     "name": "stdout",
     "output_type": "stream",
     "text": [
      "Epoch: 211 Training Loss: 581072.4324560687\n"
     ]
    },
    {
     "name": "stderr",
     "output_type": "stream",
     "text": [
      "100%|██████████| 470/470 [00:21<00:00, 22.38it/s]\n",
      "  1%|          | 3/470 [00:00<00:20, 23.13it/s]"
     ]
    },
    {
     "name": "stdout",
     "output_type": "stream",
     "text": [
      "Epoch: 212 Training Loss: 387006.951471895\n"
     ]
    },
    {
     "name": "stderr",
     "output_type": "stream",
     "text": [
      "100%|██████████| 470/470 [00:21<00:00, 21.56it/s]\n",
      "  1%|          | 3/470 [00:00<00:20, 23.31it/s]"
     ]
    },
    {
     "name": "stdout",
     "output_type": "stream",
     "text": [
      "Epoch: 213 Training Loss: 475210.4889062196\n"
     ]
    },
    {
     "name": "stderr",
     "output_type": "stream",
     "text": [
      "100%|██████████| 470/470 [00:21<00:00, 21.64it/s]\n",
      "  1%|          | 3/470 [00:00<00:19, 23.42it/s]"
     ]
    },
    {
     "name": "stdout",
     "output_type": "stream",
     "text": [
      "Epoch: 214 Training Loss: 464495.29745464027\n"
     ]
    },
    {
     "name": "stderr",
     "output_type": "stream",
     "text": [
      "100%|██████████| 470/470 [00:21<00:00, 22.05it/s]\n",
      "  1%|          | 3/470 [00:00<00:22, 20.84it/s]"
     ]
    },
    {
     "name": "stdout",
     "output_type": "stream",
     "text": [
      "Epoch: 215 Training Loss: 452390.8389708698\n"
     ]
    },
    {
     "name": "stderr",
     "output_type": "stream",
     "text": [
      "100%|██████████| 470/470 [00:21<00:00, 22.15it/s]\n",
      "  1%|          | 3/470 [00:00<00:20, 22.39it/s]"
     ]
    },
    {
     "name": "stdout",
     "output_type": "stream",
     "text": [
      "Epoch: 216 Training Loss: 427587.7192614898\n"
     ]
    },
    {
     "name": "stderr",
     "output_type": "stream",
     "text": [
      "100%|██████████| 470/470 [00:21<00:00, 21.85it/s]\n",
      "  1%|          | 3/470 [00:00<00:22, 20.70it/s]"
     ]
    },
    {
     "name": "stdout",
     "output_type": "stream",
     "text": [
      "Epoch: 217 Training Loss: 412435.74010537565\n"
     ]
    },
    {
     "name": "stderr",
     "output_type": "stream",
     "text": [
      "100%|██████████| 470/470 [00:21<00:00, 21.79it/s]\n",
      "  0%|          | 2/470 [00:00<00:25, 18.58it/s]"
     ]
    },
    {
     "name": "stdout",
     "output_type": "stream",
     "text": [
      "Epoch: 218 Training Loss: 529465.8597557396\n"
     ]
    },
    {
     "name": "stderr",
     "output_type": "stream",
     "text": [
      "100%|██████████| 470/470 [00:21<00:00, 22.13it/s]\n",
      "  1%|          | 3/470 [00:00<00:22, 20.93it/s]"
     ]
    },
    {
     "name": "stdout",
     "output_type": "stream",
     "text": [
      "Epoch: 219 Training Loss: 444372.6343455389\n"
     ]
    },
    {
     "name": "stderr",
     "output_type": "stream",
     "text": [
      "100%|██████████| 470/470 [00:21<00:00, 21.85it/s]\n",
      "  1%|          | 3/470 [00:00<00:22, 21.21it/s]"
     ]
    },
    {
     "name": "stdout",
     "output_type": "stream",
     "text": [
      "Epoch: 220 Training Loss: 423780.64075292647\n"
     ]
    },
    {
     "name": "stderr",
     "output_type": "stream",
     "text": [
      "100%|██████████| 470/470 [00:21<00:00, 22.23it/s]\n",
      "  1%|          | 3/470 [00:00<00:22, 20.81it/s]"
     ]
    },
    {
     "name": "stdout",
     "output_type": "stream",
     "text": [
      "Epoch: 221 Training Loss: 467402.14660541713\n"
     ]
    },
    {
     "name": "stderr",
     "output_type": "stream",
     "text": [
      "100%|██████████| 470/470 [00:21<00:00, 21.75it/s]\n",
      "  1%|          | 3/470 [00:00<00:20, 22.35it/s]"
     ]
    },
    {
     "name": "stdout",
     "output_type": "stream",
     "text": [
      "Epoch: 222 Training Loss: 376230.4680125937\n"
     ]
    },
    {
     "name": "stderr",
     "output_type": "stream",
     "text": [
      "100%|██████████| 470/470 [00:21<00:00, 21.82it/s]\n",
      "  0%|          | 2/470 [00:00<00:25, 18.21it/s]"
     ]
    },
    {
     "name": "stdout",
     "output_type": "stream",
     "text": [
      "Epoch: 223 Training Loss: 455869.9984202683\n"
     ]
    },
    {
     "name": "stderr",
     "output_type": "stream",
     "text": [
      "100%|██████████| 470/470 [00:21<00:00, 21.91it/s]\n",
      "  1%|          | 3/470 [00:00<00:22, 21.13it/s]"
     ]
    },
    {
     "name": "stdout",
     "output_type": "stream",
     "text": [
      "Epoch: 224 Training Loss: 492144.7950381972\n"
     ]
    },
    {
     "name": "stderr",
     "output_type": "stream",
     "text": [
      "100%|██████████| 470/470 [00:21<00:00, 21.83it/s]\n",
      "  1%|          | 3/470 [00:00<00:22, 21.18it/s]"
     ]
    },
    {
     "name": "stdout",
     "output_type": "stream",
     "text": [
      "Epoch: 225 Training Loss: 449722.0029276833\n"
     ]
    },
    {
     "name": "stderr",
     "output_type": "stream",
     "text": [
      "100%|██████████| 470/470 [00:21<00:00, 21.56it/s]\n",
      "  1%|          | 3/470 [00:00<00:20, 23.22it/s]"
     ]
    },
    {
     "name": "stdout",
     "output_type": "stream",
     "text": [
      "Epoch: 226 Training Loss: 521245.5320508033\n"
     ]
    },
    {
     "name": "stderr",
     "output_type": "stream",
     "text": [
      "100%|██████████| 470/470 [00:21<00:00, 22.11it/s]\n",
      "  1%|          | 3/470 [00:00<00:20, 22.84it/s]"
     ]
    },
    {
     "name": "stdout",
     "output_type": "stream",
     "text": [
      "Epoch: 227 Training Loss: 440430.1606182903\n"
     ]
    },
    {
     "name": "stderr",
     "output_type": "stream",
     "text": [
      "100%|██████████| 470/470 [00:21<00:00, 21.66it/s]\n",
      "  1%|          | 3/470 [00:00<00:22, 21.20it/s]"
     ]
    },
    {
     "name": "stdout",
     "output_type": "stream",
     "text": [
      "Epoch: 228 Training Loss: 458633.550521465\n"
     ]
    },
    {
     "name": "stderr",
     "output_type": "stream",
     "text": [
      "100%|██████████| 470/470 [00:21<00:00, 22.10it/s]\n",
      "  0%|          | 2/470 [00:00<00:25, 18.49it/s]"
     ]
    },
    {
     "name": "stdout",
     "output_type": "stream",
     "text": [
      "Epoch: 229 Training Loss: 519257.4720641598\n"
     ]
    },
    {
     "name": "stderr",
     "output_type": "stream",
     "text": [
      "100%|██████████| 470/470 [00:21<00:00, 21.70it/s]\n",
      "  1%|          | 3/470 [00:00<00:22, 21.21it/s]"
     ]
    },
    {
     "name": "stdout",
     "output_type": "stream",
     "text": [
      "Epoch: 230 Training Loss: 547027.2901140973\n"
     ]
    },
    {
     "name": "stderr",
     "output_type": "stream",
     "text": [
      "100%|██████████| 470/470 [00:21<00:00, 21.97it/s]\n",
      "  1%|          | 3/470 [00:00<00:22, 21.06it/s]"
     ]
    },
    {
     "name": "stdout",
     "output_type": "stream",
     "text": [
      "Epoch: 231 Training Loss: 439604.4506423697\n"
     ]
    },
    {
     "name": "stderr",
     "output_type": "stream",
     "text": [
      "100%|██████████| 470/470 [00:21<00:00, 21.89it/s]\n",
      "  0%|          | 2/470 [00:00<00:24, 18.74it/s]"
     ]
    },
    {
     "name": "stdout",
     "output_type": "stream",
     "text": [
      "Epoch: 232 Training Loss: 488037.5418898538\n"
     ]
    },
    {
     "name": "stderr",
     "output_type": "stream",
     "text": [
      "100%|██████████| 470/470 [00:20<00:00, 22.39it/s]\n",
      "  1%|          | 3/470 [00:00<00:21, 21.97it/s]"
     ]
    },
    {
     "name": "stdout",
     "output_type": "stream",
     "text": [
      "Epoch: 233 Training Loss: 470023.9141196534\n"
     ]
    },
    {
     "name": "stderr",
     "output_type": "stream",
     "text": [
      "100%|██████████| 470/470 [00:21<00:00, 21.98it/s]\n",
      "  0%|          | 2/470 [00:00<00:23, 19.95it/s]"
     ]
    },
    {
     "name": "stdout",
     "output_type": "stream",
     "text": [
      "Epoch: 234 Training Loss: 454616.95987702906\n"
     ]
    },
    {
     "name": "stderr",
     "output_type": "stream",
     "text": [
      "100%|██████████| 470/470 [00:21<00:00, 22.30it/s]\n",
      "  1%|          | 3/470 [00:00<00:20, 23.01it/s]"
     ]
    },
    {
     "name": "stdout",
     "output_type": "stream",
     "text": [
      "Epoch: 235 Training Loss: 528045.0269999802\n"
     ]
    },
    {
     "name": "stderr",
     "output_type": "stream",
     "text": [
      "100%|██████████| 470/470 [00:20<00:00, 22.45it/s]\n",
      "  1%|          | 3/470 [00:00<00:20, 22.92it/s]"
     ]
    },
    {
     "name": "stdout",
     "output_type": "stream",
     "text": [
      "Epoch: 236 Training Loss: 470259.6898503015\n"
     ]
    },
    {
     "name": "stderr",
     "output_type": "stream",
     "text": [
      "100%|██████████| 470/470 [00:21<00:00, 21.96it/s]\n",
      "  0%|          | 2/470 [00:00<00:25, 18.39it/s]"
     ]
    },
    {
     "name": "stdout",
     "output_type": "stream",
     "text": [
      "Epoch: 237 Training Loss: 407337.2629034668\n"
     ]
    },
    {
     "name": "stderr",
     "output_type": "stream",
     "text": [
      "100%|██████████| 470/470 [00:21<00:00, 22.04it/s]\n",
      "  1%|          | 3/470 [00:00<00:20, 23.14it/s]"
     ]
    },
    {
     "name": "stdout",
     "output_type": "stream",
     "text": [
      "Epoch: 238 Training Loss: 650675.3911929578\n"
     ]
    },
    {
     "name": "stderr",
     "output_type": "stream",
     "text": [
      "100%|██████████| 470/470 [00:21<00:00, 22.24it/s]\n",
      "  1%|          | 3/470 [00:00<00:20, 22.31it/s]"
     ]
    },
    {
     "name": "stdout",
     "output_type": "stream",
     "text": [
      "Epoch: 239 Training Loss: 519914.7342330031\n"
     ]
    },
    {
     "name": "stderr",
     "output_type": "stream",
     "text": [
      "100%|██████████| 470/470 [00:20<00:00, 22.57it/s]\n",
      "  1%|          | 3/470 [00:00<00:22, 20.45it/s]"
     ]
    },
    {
     "name": "stdout",
     "output_type": "stream",
     "text": [
      "Epoch: 240 Training Loss: 457320.7042805515\n"
     ]
    },
    {
     "name": "stderr",
     "output_type": "stream",
     "text": [
      "100%|██████████| 470/470 [00:21<00:00, 22.12it/s]\n",
      "  0%|          | 2/470 [00:00<00:25, 18.37it/s]"
     ]
    },
    {
     "name": "stdout",
     "output_type": "stream",
     "text": [
      "Epoch: 241 Training Loss: 499007.93192845583\n"
     ]
    },
    {
     "name": "stderr",
     "output_type": "stream",
     "text": [
      "100%|██████████| 470/470 [00:21<00:00, 21.98it/s]\n",
      "  0%|          | 2/470 [00:00<00:25, 18.10it/s]"
     ]
    },
    {
     "name": "stdout",
     "output_type": "stream",
     "text": [
      "Epoch: 242 Training Loss: 505409.1655830145\n"
     ]
    },
    {
     "name": "stderr",
     "output_type": "stream",
     "text": [
      "100%|██████████| 470/470 [00:21<00:00, 21.72it/s]\n",
      "  1%|          | 3/470 [00:00<00:22, 21.07it/s]"
     ]
    },
    {
     "name": "stdout",
     "output_type": "stream",
     "text": [
      "Epoch: 243 Training Loss: 430162.93535562605\n"
     ]
    },
    {
     "name": "stderr",
     "output_type": "stream",
     "text": [
      "100%|██████████| 470/470 [00:21<00:00, 22.26it/s]\n",
      "  1%|          | 3/470 [00:00<00:21, 21.40it/s]"
     ]
    },
    {
     "name": "stdout",
     "output_type": "stream",
     "text": [
      "Epoch: 244 Training Loss: 419375.54915328324\n"
     ]
    },
    {
     "name": "stderr",
     "output_type": "stream",
     "text": [
      "100%|██████████| 470/470 [00:20<00:00, 22.44it/s]\n",
      "  1%|          | 3/470 [00:00<00:20, 22.70it/s]"
     ]
    },
    {
     "name": "stdout",
     "output_type": "stream",
     "text": [
      "Epoch: 245 Training Loss: 516455.3110152427\n"
     ]
    },
    {
     "name": "stderr",
     "output_type": "stream",
     "text": [
      "100%|██████████| 470/470 [00:21<00:00, 21.57it/s]\n",
      "  1%|          | 3/470 [00:00<00:20, 23.22it/s]"
     ]
    },
    {
     "name": "stdout",
     "output_type": "stream",
     "text": [
      "Epoch: 246 Training Loss: 482416.75541161\n"
     ]
    },
    {
     "name": "stderr",
     "output_type": "stream",
     "text": [
      "100%|██████████| 470/470 [00:21<00:00, 21.74it/s]\n",
      "  1%|          | 3/470 [00:00<00:20, 22.40it/s]"
     ]
    },
    {
     "name": "stdout",
     "output_type": "stream",
     "text": [
      "Epoch: 247 Training Loss: 474014.15826423466\n"
     ]
    },
    {
     "name": "stderr",
     "output_type": "stream",
     "text": [
      "100%|██████████| 470/470 [00:21<00:00, 21.87it/s]\n",
      "  1%|          | 3/470 [00:00<00:22, 21.18it/s]"
     ]
    },
    {
     "name": "stdout",
     "output_type": "stream",
     "text": [
      "Epoch: 248 Training Loss: 457837.34255227447\n"
     ]
    },
    {
     "name": "stderr",
     "output_type": "stream",
     "text": [
      "100%|██████████| 470/470 [00:21<00:00, 21.85it/s]\n",
      "  1%|          | 3/470 [00:00<00:21, 22.15it/s]"
     ]
    },
    {
     "name": "stdout",
     "output_type": "stream",
     "text": [
      "Epoch: 249 Training Loss: 440952.3278211951\n"
     ]
    },
    {
     "name": "stderr",
     "output_type": "stream",
     "text": [
      "100%|██████████| 470/470 [00:21<00:00, 22.10it/s]\n",
      "  1%|          | 3/470 [00:00<00:21, 21.23it/s]"
     ]
    },
    {
     "name": "stdout",
     "output_type": "stream",
     "text": [
      "Epoch: 250 Training Loss: 442335.3193346327\n"
     ]
    },
    {
     "name": "stderr",
     "output_type": "stream",
     "text": [
      "100%|██████████| 470/470 [00:21<00:00, 21.86it/s]\n",
      "  1%|          | 3/470 [00:00<00:22, 21.18it/s]"
     ]
    },
    {
     "name": "stdout",
     "output_type": "stream",
     "text": [
      "Epoch: 251 Training Loss: 512333.65977725387\n"
     ]
    },
    {
     "name": "stderr",
     "output_type": "stream",
     "text": [
      "100%|██████████| 470/470 [00:21<00:00, 21.91it/s]\n",
      "  1%|          | 3/470 [00:00<00:22, 21.01it/s]"
     ]
    },
    {
     "name": "stdout",
     "output_type": "stream",
     "text": [
      "Epoch: 252 Training Loss: 469419.4935022667\n"
     ]
    },
    {
     "name": "stderr",
     "output_type": "stream",
     "text": [
      "100%|██████████| 470/470 [00:21<00:00, 21.94it/s]\n",
      "  1%|          | 3/470 [00:00<00:22, 20.70it/s]"
     ]
    },
    {
     "name": "stdout",
     "output_type": "stream",
     "text": [
      "Epoch: 253 Training Loss: 449210.3520663418\n"
     ]
    },
    {
     "name": "stderr",
     "output_type": "stream",
     "text": [
      "100%|██████████| 470/470 [00:21<00:00, 22.07it/s]\n",
      "  1%|          | 3/470 [00:00<00:21, 22.09it/s]"
     ]
    },
    {
     "name": "stdout",
     "output_type": "stream",
     "text": [
      "Epoch: 254 Training Loss: 474035.8460675627\n"
     ]
    },
    {
     "name": "stderr",
     "output_type": "stream",
     "text": [
      "100%|██████████| 470/470 [00:21<00:00, 21.63it/s]\n",
      "  1%|          | 3/470 [00:00<00:21, 21.23it/s]"
     ]
    },
    {
     "name": "stdout",
     "output_type": "stream",
     "text": [
      "Epoch: 255 Training Loss: 448929.5180884823\n"
     ]
    },
    {
     "name": "stderr",
     "output_type": "stream",
     "text": [
      "100%|██████████| 470/470 [00:21<00:00, 21.97it/s]\n",
      "  1%|          | 3/470 [00:00<00:22, 21.03it/s]"
     ]
    },
    {
     "name": "stdout",
     "output_type": "stream",
     "text": [
      "Epoch: 256 Training Loss: 511767.68132022023\n"
     ]
    },
    {
     "name": "stderr",
     "output_type": "stream",
     "text": [
      "100%|██████████| 470/470 [00:21<00:00, 21.98it/s]\n",
      "  1%|          | 3/470 [00:00<00:21, 21.35it/s]"
     ]
    },
    {
     "name": "stdout",
     "output_type": "stream",
     "text": [
      "Epoch: 257 Training Loss: 472284.28036384657\n"
     ]
    },
    {
     "name": "stderr",
     "output_type": "stream",
     "text": [
      "100%|██████████| 470/470 [00:21<00:00, 22.00it/s]\n",
      "  1%|          | 3/470 [00:00<00:22, 21.12it/s]"
     ]
    },
    {
     "name": "stdout",
     "output_type": "stream",
     "text": [
      "Epoch: 258 Training Loss: 502958.94263735414\n"
     ]
    },
    {
     "name": "stderr",
     "output_type": "stream",
     "text": [
      "100%|██████████| 470/470 [00:21<00:00, 21.72it/s]\n",
      "  0%|          | 2/470 [00:00<00:25, 18.23it/s]"
     ]
    },
    {
     "name": "stdout",
     "output_type": "stream",
     "text": [
      "Epoch: 259 Training Loss: 493285.21011488885\n"
     ]
    },
    {
     "name": "stderr",
     "output_type": "stream",
     "text": [
      "100%|██████████| 470/470 [00:21<00:00, 22.08it/s]\n",
      "  0%|          | 2/470 [00:00<00:25, 18.33it/s]"
     ]
    },
    {
     "name": "stdout",
     "output_type": "stream",
     "text": [
      "Epoch: 260 Training Loss: 484830.0281397924\n"
     ]
    },
    {
     "name": "stderr",
     "output_type": "stream",
     "text": [
      "100%|██████████| 470/470 [00:21<00:00, 21.92it/s]\n",
      "  1%|          | 3/470 [00:00<00:21, 21.96it/s]"
     ]
    },
    {
     "name": "stdout",
     "output_type": "stream",
     "text": [
      "Epoch: 261 Training Loss: 539915.8447735123\n"
     ]
    },
    {
     "name": "stderr",
     "output_type": "stream",
     "text": [
      "100%|██████████| 470/470 [00:21<00:00, 21.91it/s]\n",
      "  1%|          | 3/470 [00:00<00:21, 21.27it/s]"
     ]
    },
    {
     "name": "stdout",
     "output_type": "stream",
     "text": [
      "Epoch: 262 Training Loss: 429987.5656770952\n"
     ]
    },
    {
     "name": "stderr",
     "output_type": "stream",
     "text": [
      "100%|██████████| 470/470 [00:21<00:00, 21.95it/s]\n",
      "  1%|          | 3/470 [00:00<00:20, 23.13it/s]"
     ]
    },
    {
     "name": "stdout",
     "output_type": "stream",
     "text": [
      "Epoch: 263 Training Loss: 537431.828824658\n"
     ]
    },
    {
     "name": "stderr",
     "output_type": "stream",
     "text": [
      "100%|██████████| 470/470 [00:21<00:00, 21.77it/s]\n",
      "  1%|          | 3/470 [00:00<00:22, 21.06it/s]"
     ]
    },
    {
     "name": "stdout",
     "output_type": "stream",
     "text": [
      "Epoch: 264 Training Loss: 479930.6571980193\n"
     ]
    },
    {
     "name": "stderr",
     "output_type": "stream",
     "text": [
      "100%|██████████| 470/470 [00:21<00:00, 21.53it/s]\n",
      "  1%|          | 3/470 [00:00<00:22, 20.96it/s]"
     ]
    },
    {
     "name": "stdout",
     "output_type": "stream",
     "text": [
      "Epoch: 265 Training Loss: 444758.48223400116\n"
     ]
    },
    {
     "name": "stderr",
     "output_type": "stream",
     "text": [
      "100%|██████████| 470/470 [00:21<00:00, 22.06it/s]\n",
      "  1%|          | 3/470 [00:00<00:21, 21.34it/s]"
     ]
    },
    {
     "name": "stdout",
     "output_type": "stream",
     "text": [
      "Epoch: 266 Training Loss: 487545.614330519\n"
     ]
    },
    {
     "name": "stderr",
     "output_type": "stream",
     "text": [
      "100%|██████████| 470/470 [00:21<00:00, 21.73it/s]\n",
      "  1%|          | 3/470 [00:00<00:20, 22.32it/s]"
     ]
    },
    {
     "name": "stdout",
     "output_type": "stream",
     "text": [
      "Epoch: 267 Training Loss: 391813.49433416314\n"
     ]
    },
    {
     "name": "stderr",
     "output_type": "stream",
     "text": [
      "100%|██████████| 470/470 [00:21<00:00, 22.02it/s]\n",
      "  0%|          | 2/470 [00:00<00:25, 18.58it/s]"
     ]
    },
    {
     "name": "stdout",
     "output_type": "stream",
     "text": [
      "Epoch: 268 Training Loss: 421707.4856558889\n"
     ]
    },
    {
     "name": "stderr",
     "output_type": "stream",
     "text": [
      "100%|██████████| 470/470 [00:21<00:00, 21.85it/s]\n",
      "  1%|          | 3/470 [00:00<00:20, 22.69it/s]"
     ]
    },
    {
     "name": "stdout",
     "output_type": "stream",
     "text": [
      "Epoch: 269 Training Loss: 431379.0516413152\n"
     ]
    },
    {
     "name": "stderr",
     "output_type": "stream",
     "text": [
      "100%|██████████| 470/470 [00:21<00:00, 21.99it/s]\n",
      "  1%|          | 3/470 [00:00<00:20, 22.32it/s]"
     ]
    },
    {
     "name": "stdout",
     "output_type": "stream",
     "text": [
      "Epoch: 270 Training Loss: 451692.46264380217\n"
     ]
    },
    {
     "name": "stderr",
     "output_type": "stream",
     "text": [
      "100%|██████████| 470/470 [00:21<00:00, 21.90it/s]\n",
      "  0%|          | 2/470 [00:00<00:26, 17.82it/s]"
     ]
    },
    {
     "name": "stdout",
     "output_type": "stream",
     "text": [
      "Epoch: 271 Training Loss: 464393.23208681494\n"
     ]
    },
    {
     "name": "stderr",
     "output_type": "stream",
     "text": [
      "100%|██████████| 470/470 [00:21<00:00, 21.95it/s]\n",
      "  1%|          | 3/470 [00:00<00:20, 22.51it/s]"
     ]
    },
    {
     "name": "stdout",
     "output_type": "stream",
     "text": [
      "Epoch: 272 Training Loss: 463899.5944727957\n"
     ]
    },
    {
     "name": "stderr",
     "output_type": "stream",
     "text": [
      "100%|██████████| 470/470 [00:21<00:00, 21.55it/s]\n",
      "  1%|          | 3/470 [00:00<00:22, 20.96it/s]"
     ]
    },
    {
     "name": "stdout",
     "output_type": "stream",
     "text": [
      "Epoch: 273 Training Loss: 417022.3819063902\n"
     ]
    },
    {
     "name": "stderr",
     "output_type": "stream",
     "text": [
      "100%|██████████| 470/470 [00:21<00:00, 21.67it/s]\n",
      "  1%|          | 3/470 [00:00<00:22, 21.15it/s]"
     ]
    },
    {
     "name": "stdout",
     "output_type": "stream",
     "text": [
      "Epoch: 274 Training Loss: 472962.77018908784\n"
     ]
    },
    {
     "name": "stderr",
     "output_type": "stream",
     "text": [
      "100%|██████████| 470/470 [00:21<00:00, 22.01it/s]\n",
      "  1%|          | 3/470 [00:00<00:22, 21.11it/s]"
     ]
    },
    {
     "name": "stdout",
     "output_type": "stream",
     "text": [
      "Epoch: 275 Training Loss: 476535.8468258083\n"
     ]
    },
    {
     "name": "stderr",
     "output_type": "stream",
     "text": [
      "100%|██████████| 470/470 [00:21<00:00, 22.18it/s]\n",
      "  1%|          | 3/470 [00:00<00:20, 23.34it/s]"
     ]
    },
    {
     "name": "stdout",
     "output_type": "stream",
     "text": [
      "Epoch: 276 Training Loss: 501625.4440622479\n"
     ]
    },
    {
     "name": "stderr",
     "output_type": "stream",
     "text": [
      "100%|██████████| 470/470 [00:21<00:00, 21.68it/s]\n",
      "  1%|          | 3/470 [00:00<00:22, 21.01it/s]"
     ]
    },
    {
     "name": "stdout",
     "output_type": "stream",
     "text": [
      "Epoch: 277 Training Loss: 477177.4293257147\n"
     ]
    },
    {
     "name": "stderr",
     "output_type": "stream",
     "text": [
      "100%|██████████| 470/470 [00:21<00:00, 22.24it/s]\n",
      "  1%|          | 3/470 [00:00<00:22, 21.21it/s]"
     ]
    },
    {
     "name": "stdout",
     "output_type": "stream",
     "text": [
      "Epoch: 278 Training Loss: 592050.0210847333\n"
     ]
    },
    {
     "name": "stderr",
     "output_type": "stream",
     "text": [
      "100%|██████████| 470/470 [00:21<00:00, 22.20it/s]\n",
      "  1%|          | 3/470 [00:00<00:22, 20.94it/s]"
     ]
    },
    {
     "name": "stdout",
     "output_type": "stream",
     "text": [
      "Epoch: 279 Training Loss: 420166.3115882836\n"
     ]
    },
    {
     "name": "stderr",
     "output_type": "stream",
     "text": [
      "100%|██████████| 470/470 [00:21<00:00, 21.83it/s]\n",
      "  1%|          | 3/470 [00:00<00:20, 22.25it/s]"
     ]
    },
    {
     "name": "stdout",
     "output_type": "stream",
     "text": [
      "Epoch: 280 Training Loss: 410993.30913151056\n"
     ]
    },
    {
     "name": "stderr",
     "output_type": "stream",
     "text": [
      "100%|██████████| 470/470 [00:21<00:00, 21.98it/s]\n",
      "  0%|          | 2/470 [00:00<00:26, 17.52it/s]"
     ]
    },
    {
     "name": "stdout",
     "output_type": "stream",
     "text": [
      "Epoch: 281 Training Loss: 435783.55589764565\n"
     ]
    },
    {
     "name": "stderr",
     "output_type": "stream",
     "text": [
      "100%|██████████| 470/470 [00:21<00:00, 22.35it/s]\n",
      "  1%|          | 3/470 [00:00<00:20, 22.33it/s]"
     ]
    },
    {
     "name": "stdout",
     "output_type": "stream",
     "text": [
      "Epoch: 282 Training Loss: 530730.1352874935\n"
     ]
    },
    {
     "name": "stderr",
     "output_type": "stream",
     "text": [
      "100%|██████████| 470/470 [00:21<00:00, 22.19it/s]\n",
      "  1%|          | 3/470 [00:00<00:22, 20.82it/s]"
     ]
    },
    {
     "name": "stdout",
     "output_type": "stream",
     "text": [
      "Epoch: 283 Training Loss: 394686.83025318384\n"
     ]
    },
    {
     "name": "stderr",
     "output_type": "stream",
     "text": [
      "100%|██████████| 470/470 [00:21<00:00, 22.19it/s]\n",
      "  1%|          | 3/470 [00:00<00:22, 21.05it/s]"
     ]
    },
    {
     "name": "stdout",
     "output_type": "stream",
     "text": [
      "Epoch: 284 Training Loss: 466264.3699954748\n"
     ]
    },
    {
     "name": "stderr",
     "output_type": "stream",
     "text": [
      "100%|██████████| 470/470 [00:21<00:00, 21.67it/s]\n",
      "  1%|          | 3/470 [00:00<00:22, 21.06it/s]"
     ]
    },
    {
     "name": "stdout",
     "output_type": "stream",
     "text": [
      "Epoch: 285 Training Loss: 459598.6483749747\n"
     ]
    },
    {
     "name": "stderr",
     "output_type": "stream",
     "text": [
      "100%|██████████| 470/470 [00:21<00:00, 21.88it/s]\n",
      "  1%|          | 3/470 [00:00<00:22, 21.04it/s]"
     ]
    },
    {
     "name": "stdout",
     "output_type": "stream",
     "text": [
      "Epoch: 286 Training Loss: 401606.7526963651\n"
     ]
    },
    {
     "name": "stderr",
     "output_type": "stream",
     "text": [
      "100%|██████████| 470/470 [00:21<00:00, 21.92it/s]\n",
      "  1%|          | 3/470 [00:00<00:20, 23.30it/s]"
     ]
    },
    {
     "name": "stdout",
     "output_type": "stream",
     "text": [
      "Epoch: 287 Training Loss: 476746.0861777961\n"
     ]
    },
    {
     "name": "stderr",
     "output_type": "stream",
     "text": [
      "100%|██████████| 470/470 [00:21<00:00, 21.78it/s]\n",
      "  0%|          | 2/470 [00:00<00:26, 17.62it/s]"
     ]
    },
    {
     "name": "stdout",
     "output_type": "stream",
     "text": [
      "Epoch: 288 Training Loss: 584303.635880731\n"
     ]
    },
    {
     "name": "stderr",
     "output_type": "stream",
     "text": [
      "100%|██████████| 470/470 [00:21<00:00, 21.62it/s]\n",
      "  1%|          | 3/470 [00:00<00:20, 22.24it/s]"
     ]
    },
    {
     "name": "stdout",
     "output_type": "stream",
     "text": [
      "Epoch: 289 Training Loss: 420795.44488526136\n"
     ]
    },
    {
     "name": "stderr",
     "output_type": "stream",
     "text": [
      "100%|██████████| 470/470 [00:21<00:00, 22.04it/s]\n",
      "  1%|          | 3/470 [00:00<00:20, 23.03it/s]"
     ]
    },
    {
     "name": "stdout",
     "output_type": "stream",
     "text": [
      "Epoch: 290 Training Loss: 501567.2046233006\n"
     ]
    },
    {
     "name": "stderr",
     "output_type": "stream",
     "text": [
      "100%|██████████| 470/470 [00:21<00:00, 22.17it/s]\n",
      "  1%|          | 3/470 [00:00<00:20, 22.96it/s]"
     ]
    },
    {
     "name": "stdout",
     "output_type": "stream",
     "text": [
      "Epoch: 291 Training Loss: 561387.6978993118\n"
     ]
    },
    {
     "name": "stderr",
     "output_type": "stream",
     "text": [
      "100%|██████████| 470/470 [00:21<00:00, 22.06it/s]\n",
      "  1%|          | 3/470 [00:00<00:21, 21.98it/s]"
     ]
    },
    {
     "name": "stdout",
     "output_type": "stream",
     "text": [
      "Epoch: 292 Training Loss: 535574.0994392633\n"
     ]
    },
    {
     "name": "stderr",
     "output_type": "stream",
     "text": [
      "100%|██████████| 470/470 [00:21<00:00, 22.12it/s]\n",
      "  1%|          | 3/470 [00:00<00:20, 22.90it/s]"
     ]
    },
    {
     "name": "stdout",
     "output_type": "stream",
     "text": [
      "Epoch: 293 Training Loss: 534839.6894216985\n"
     ]
    },
    {
     "name": "stderr",
     "output_type": "stream",
     "text": [
      "100%|██████████| 470/470 [00:21<00:00, 21.77it/s]\n",
      "  1%|          | 3/470 [00:00<00:19, 23.41it/s]"
     ]
    },
    {
     "name": "stdout",
     "output_type": "stream",
     "text": [
      "Epoch: 294 Training Loss: 459483.8746512085\n"
     ]
    },
    {
     "name": "stderr",
     "output_type": "stream",
     "text": [
      "100%|██████████| 470/470 [00:21<00:00, 22.14it/s]\n",
      "  1%|          | 3/470 [00:00<00:22, 21.07it/s]"
     ]
    },
    {
     "name": "stdout",
     "output_type": "stream",
     "text": [
      "Epoch: 295 Training Loss: 484550.3128911555\n"
     ]
    },
    {
     "name": "stderr",
     "output_type": "stream",
     "text": [
      "100%|██████████| 470/470 [00:21<00:00, 21.97it/s]\n",
      "  1%|          | 3/470 [00:00<00:21, 21.99it/s]"
     ]
    },
    {
     "name": "stdout",
     "output_type": "stream",
     "text": [
      "Epoch: 296 Training Loss: 428008.9924740046\n"
     ]
    },
    {
     "name": "stderr",
     "output_type": "stream",
     "text": [
      "100%|██████████| 470/470 [00:21<00:00, 21.73it/s]\n",
      "  1%|          | 3/470 [00:00<00:20, 23.05it/s]"
     ]
    },
    {
     "name": "stdout",
     "output_type": "stream",
     "text": [
      "Epoch: 297 Training Loss: 485188.6694255695\n"
     ]
    },
    {
     "name": "stderr",
     "output_type": "stream",
     "text": [
      "100%|██████████| 470/470 [00:20<00:00, 22.45it/s]\n",
      "  1%|          | 3/470 [00:00<00:20, 22.46it/s]"
     ]
    },
    {
     "name": "stdout",
     "output_type": "stream",
     "text": [
      "Epoch: 298 Training Loss: 553396.2489258647\n"
     ]
    },
    {
     "name": "stderr",
     "output_type": "stream",
     "text": [
      "100%|██████████| 470/470 [00:21<00:00, 21.97it/s]\n",
      "  1%|          | 3/470 [00:00<00:22, 20.96it/s]"
     ]
    },
    {
     "name": "stdout",
     "output_type": "stream",
     "text": [
      "Epoch: 299 Training Loss: 473376.82578381896\n"
     ]
    },
    {
     "name": "stderr",
     "output_type": "stream",
     "text": [
      "100%|██████████| 470/470 [00:21<00:00, 22.25it/s]\n",
      "  1%|          | 3/470 [00:00<00:20, 22.44it/s]"
     ]
    },
    {
     "name": "stdout",
     "output_type": "stream",
     "text": [
      "Epoch: 300 Training Loss: 506702.8503652811\n"
     ]
    },
    {
     "name": "stderr",
     "output_type": "stream",
     "text": [
      "100%|██████████| 470/470 [00:21<00:00, 21.76it/s]\n",
      "  1%|          | 3/470 [00:00<00:22, 20.52it/s]"
     ]
    },
    {
     "name": "stdout",
     "output_type": "stream",
     "text": [
      "Epoch: 301 Training Loss: 417963.96953579783\n"
     ]
    },
    {
     "name": "stderr",
     "output_type": "stream",
     "text": [
      "100%|██████████| 470/470 [00:20<00:00, 22.51it/s]\n",
      "  1%|          | 3/470 [00:00<00:20, 22.69it/s]"
     ]
    },
    {
     "name": "stdout",
     "output_type": "stream",
     "text": [
      "Epoch: 302 Training Loss: 441376.0938025117\n"
     ]
    },
    {
     "name": "stderr",
     "output_type": "stream",
     "text": [
      "100%|██████████| 470/470 [00:21<00:00, 22.05it/s]\n",
      "  1%|          | 3/470 [00:00<00:20, 22.81it/s]"
     ]
    },
    {
     "name": "stdout",
     "output_type": "stream",
     "text": [
      "Epoch: 303 Training Loss: 535110.2359840721\n"
     ]
    },
    {
     "name": "stderr",
     "output_type": "stream",
     "text": [
      "100%|██████████| 470/470 [00:21<00:00, 22.35it/s]\n",
      "  1%|          | 3/470 [00:00<00:20, 22.54it/s]"
     ]
    },
    {
     "name": "stdout",
     "output_type": "stream",
     "text": [
      "Epoch: 304 Training Loss: 396625.99271326885\n"
     ]
    },
    {
     "name": "stderr",
     "output_type": "stream",
     "text": [
      "100%|██████████| 470/470 [00:21<00:00, 21.85it/s]\n",
      "  1%|          | 3/470 [00:00<00:20, 22.28it/s]"
     ]
    },
    {
     "name": "stdout",
     "output_type": "stream",
     "text": [
      "Epoch: 305 Training Loss: 473384.09811982885\n"
     ]
    },
    {
     "name": "stderr",
     "output_type": "stream",
     "text": [
      "100%|██████████| 470/470 [00:21<00:00, 22.22it/s]\n",
      "  1%|          | 3/470 [00:00<00:22, 21.17it/s]"
     ]
    },
    {
     "name": "stdout",
     "output_type": "stream",
     "text": [
      "Epoch: 306 Training Loss: 402108.7310349345\n"
     ]
    },
    {
     "name": "stderr",
     "output_type": "stream",
     "text": [
      "100%|██████████| 470/470 [00:21<00:00, 21.69it/s]\n",
      "  1%|          | 3/470 [00:00<00:21, 21.65it/s]"
     ]
    },
    {
     "name": "stdout",
     "output_type": "stream",
     "text": [
      "Epoch: 307 Training Loss: 442894.87448795885\n"
     ]
    },
    {
     "name": "stderr",
     "output_type": "stream",
     "text": [
      "100%|██████████| 470/470 [00:21<00:00, 21.81it/s]\n",
      "  1%|          | 3/470 [00:00<00:20, 22.88it/s]"
     ]
    },
    {
     "name": "stdout",
     "output_type": "stream",
     "text": [
      "Epoch: 308 Training Loss: 468198.53757441044\n"
     ]
    },
    {
     "name": "stderr",
     "output_type": "stream",
     "text": [
      "100%|██████████| 470/470 [00:21<00:00, 21.63it/s]\n",
      "  1%|          | 3/470 [00:00<00:19, 23.54it/s]"
     ]
    },
    {
     "name": "stdout",
     "output_type": "stream",
     "text": [
      "Epoch: 309 Training Loss: 428465.09963935986\n"
     ]
    },
    {
     "name": "stderr",
     "output_type": "stream",
     "text": [
      "100%|██████████| 470/470 [00:21<00:00, 21.68it/s]\n",
      "  1%|          | 3/470 [00:00<00:20, 23.02it/s]"
     ]
    },
    {
     "name": "stdout",
     "output_type": "stream",
     "text": [
      "Epoch: 310 Training Loss: 479214.1217574999\n"
     ]
    },
    {
     "name": "stderr",
     "output_type": "stream",
     "text": [
      "100%|██████████| 470/470 [00:21<00:00, 21.89it/s]\n",
      "  1%|          | 3/470 [00:00<00:20, 23.05it/s]"
     ]
    },
    {
     "name": "stdout",
     "output_type": "stream",
     "text": [
      "Epoch: 311 Training Loss: 453845.7970020622\n"
     ]
    },
    {
     "name": "stderr",
     "output_type": "stream",
     "text": [
      "100%|██████████| 470/470 [00:21<00:00, 21.85it/s]\n",
      "  1%|          | 3/470 [00:00<00:22, 21.19it/s]"
     ]
    },
    {
     "name": "stdout",
     "output_type": "stream",
     "text": [
      "Epoch: 312 Training Loss: 462824.90056346357\n"
     ]
    },
    {
     "name": "stderr",
     "output_type": "stream",
     "text": [
      "100%|██████████| 470/470 [00:21<00:00, 21.92it/s]\n",
      "  0%|          | 2/470 [00:00<00:27, 17.20it/s]"
     ]
    },
    {
     "name": "stdout",
     "output_type": "stream",
     "text": [
      "Epoch: 313 Training Loss: 474057.4463001862\n"
     ]
    },
    {
     "name": "stderr",
     "output_type": "stream",
     "text": [
      "100%|██████████| 470/470 [00:21<00:00, 22.07it/s]\n",
      "  1%|          | 3/470 [00:00<00:22, 21.01it/s]"
     ]
    },
    {
     "name": "stdout",
     "output_type": "stream",
     "text": [
      "Epoch: 314 Training Loss: 496637.8540058136\n"
     ]
    },
    {
     "name": "stderr",
     "output_type": "stream",
     "text": [
      "100%|██████████| 470/470 [00:21<00:00, 22.00it/s]\n",
      "  1%|          | 3/470 [00:00<00:22, 21.01it/s]"
     ]
    },
    {
     "name": "stdout",
     "output_type": "stream",
     "text": [
      "Epoch: 315 Training Loss: 493523.80739596486\n"
     ]
    },
    {
     "name": "stderr",
     "output_type": "stream",
     "text": [
      "100%|██████████| 470/470 [00:21<00:00, 21.71it/s]\n",
      "  1%|          | 3/470 [00:00<00:21, 21.82it/s]"
     ]
    },
    {
     "name": "stdout",
     "output_type": "stream",
     "text": [
      "Epoch: 316 Training Loss: 456451.4871212095\n"
     ]
    },
    {
     "name": "stderr",
     "output_type": "stream",
     "text": [
      "100%|██████████| 470/470 [00:21<00:00, 22.11it/s]\n",
      "  1%|          | 3/470 [00:00<00:22, 20.95it/s]"
     ]
    },
    {
     "name": "stdout",
     "output_type": "stream",
     "text": [
      "Epoch: 317 Training Loss: 409036.186594218\n"
     ]
    },
    {
     "name": "stderr",
     "output_type": "stream",
     "text": [
      "100%|██████████| 470/470 [00:21<00:00, 22.22it/s]\n",
      "  1%|          | 3/470 [00:00<00:20, 22.78it/s]"
     ]
    },
    {
     "name": "stdout",
     "output_type": "stream",
     "text": [
      "Epoch: 318 Training Loss: 444151.861452885\n"
     ]
    },
    {
     "name": "stderr",
     "output_type": "stream",
     "text": [
      "100%|██████████| 470/470 [00:20<00:00, 22.42it/s]\n",
      "  1%|          | 3/470 [00:00<00:22, 20.86it/s]"
     ]
    },
    {
     "name": "stdout",
     "output_type": "stream",
     "text": [
      "Epoch: 319 Training Loss: 389558.0902903974\n"
     ]
    },
    {
     "name": "stderr",
     "output_type": "stream",
     "text": [
      "100%|██████████| 470/470 [00:21<00:00, 21.63it/s]\n",
      "  1%|          | 3/470 [00:00<00:20, 22.43it/s]"
     ]
    },
    {
     "name": "stdout",
     "output_type": "stream",
     "text": [
      "Epoch: 320 Training Loss: 443285.2740168646\n"
     ]
    },
    {
     "name": "stderr",
     "output_type": "stream",
     "text": [
      "100%|██████████| 470/470 [00:21<00:00, 21.81it/s]\n",
      "  1%|          | 3/470 [00:00<00:22, 20.82it/s]"
     ]
    },
    {
     "name": "stdout",
     "output_type": "stream",
     "text": [
      "Epoch: 321 Training Loss: 627758.0349730849\n"
     ]
    },
    {
     "name": "stderr",
     "output_type": "stream",
     "text": [
      "100%|██████████| 470/470 [00:21<00:00, 22.03it/s]\n",
      "  1%|          | 3/470 [00:00<00:20, 22.63it/s]"
     ]
    },
    {
     "name": "stdout",
     "output_type": "stream",
     "text": [
      "Epoch: 322 Training Loss: 525221.1456387118\n"
     ]
    },
    {
     "name": "stderr",
     "output_type": "stream",
     "text": [
      "100%|██████████| 470/470 [00:21<00:00, 22.05it/s]\n",
      "  1%|          | 3/470 [00:00<00:22, 21.10it/s]"
     ]
    },
    {
     "name": "stdout",
     "output_type": "stream",
     "text": [
      "Epoch: 323 Training Loss: 517675.2259042561\n"
     ]
    },
    {
     "name": "stderr",
     "output_type": "stream",
     "text": [
      "100%|██████████| 470/470 [00:21<00:00, 21.53it/s]\n",
      "  1%|          | 3/470 [00:00<00:21, 21.33it/s]"
     ]
    },
    {
     "name": "stdout",
     "output_type": "stream",
     "text": [
      "Epoch: 324 Training Loss: 496016.16019904613\n"
     ]
    },
    {
     "name": "stderr",
     "output_type": "stream",
     "text": [
      "100%|██████████| 470/470 [00:20<00:00, 22.38it/s]\n",
      "  1%|          | 3/470 [00:00<00:21, 21.32it/s]"
     ]
    },
    {
     "name": "stdout",
     "output_type": "stream",
     "text": [
      "Epoch: 325 Training Loss: 518034.3387682736\n"
     ]
    },
    {
     "name": "stderr",
     "output_type": "stream",
     "text": [
      "100%|██████████| 470/470 [00:21<00:00, 21.93it/s]\n",
      "  1%|          | 3/470 [00:00<00:21, 21.99it/s]"
     ]
    },
    {
     "name": "stdout",
     "output_type": "stream",
     "text": [
      "Epoch: 326 Training Loss: 419005.13881809264\n"
     ]
    },
    {
     "name": "stderr",
     "output_type": "stream",
     "text": [
      "100%|██████████| 470/470 [00:21<00:00, 22.35it/s]\n",
      "  0%|          | 2/470 [00:00<00:23, 19.95it/s]"
     ]
    },
    {
     "name": "stdout",
     "output_type": "stream",
     "text": [
      "Epoch: 327 Training Loss: 550591.6504513435\n"
     ]
    },
    {
     "name": "stderr",
     "output_type": "stream",
     "text": [
      "100%|██████████| 470/470 [00:20<00:00, 22.48it/s]\n",
      "  1%|          | 3/470 [00:00<00:20, 22.98it/s]"
     ]
    },
    {
     "name": "stdout",
     "output_type": "stream",
     "text": [
      "Epoch: 328 Training Loss: 435599.62382892706\n"
     ]
    },
    {
     "name": "stderr",
     "output_type": "stream",
     "text": [
      "100%|██████████| 470/470 [00:21<00:00, 22.02it/s]\n",
      "  0%|          | 2/470 [00:00<00:26, 17.75it/s]"
     ]
    },
    {
     "name": "stdout",
     "output_type": "stream",
     "text": [
      "Epoch: 329 Training Loss: 462194.29515387863\n"
     ]
    },
    {
     "name": "stderr",
     "output_type": "stream",
     "text": [
      "100%|██████████| 470/470 [00:21<00:00, 22.07it/s]\n",
      "  1%|          | 3/470 [00:00<00:22, 21.01it/s]"
     ]
    },
    {
     "name": "stdout",
     "output_type": "stream",
     "text": [
      "Epoch: 330 Training Loss: 436912.27271618694\n"
     ]
    },
    {
     "name": "stderr",
     "output_type": "stream",
     "text": [
      "100%|██████████| 470/470 [00:21<00:00, 21.93it/s]\n",
      "  1%|          | 3/470 [00:00<00:22, 21.22it/s]"
     ]
    },
    {
     "name": "stdout",
     "output_type": "stream",
     "text": [
      "Epoch: 331 Training Loss: 476439.3513210565\n"
     ]
    },
    {
     "name": "stderr",
     "output_type": "stream",
     "text": [
      "100%|██████████| 470/470 [00:21<00:00, 22.04it/s]\n",
      "  1%|          | 3/470 [00:00<00:22, 21.22it/s]"
     ]
    },
    {
     "name": "stdout",
     "output_type": "stream",
     "text": [
      "Epoch: 332 Training Loss: 483853.55129888654\n"
     ]
    },
    {
     "name": "stderr",
     "output_type": "stream",
     "text": [
      "100%|██████████| 470/470 [00:21<00:00, 21.84it/s]\n",
      "  1%|          | 3/470 [00:00<00:21, 22.07it/s]"
     ]
    },
    {
     "name": "stdout",
     "output_type": "stream",
     "text": [
      "Epoch: 333 Training Loss: 459988.19753198326\n"
     ]
    },
    {
     "name": "stderr",
     "output_type": "stream",
     "text": [
      "100%|██████████| 470/470 [00:20<00:00, 22.50it/s]\n",
      "  1%|          | 3/470 [00:00<00:21, 21.73it/s]"
     ]
    },
    {
     "name": "stdout",
     "output_type": "stream",
     "text": [
      "Epoch: 334 Training Loss: 556305.0207152069\n"
     ]
    },
    {
     "name": "stderr",
     "output_type": "stream",
     "text": [
      "100%|██████████| 470/470 [00:21<00:00, 21.99it/s]\n",
      "  1%|          | 3/470 [00:00<00:20, 23.24it/s]"
     ]
    },
    {
     "name": "stdout",
     "output_type": "stream",
     "text": [
      "Epoch: 335 Training Loss: 454518.08674037457\n"
     ]
    },
    {
     "name": "stderr",
     "output_type": "stream",
     "text": [
      "100%|██████████| 470/470 [00:21<00:00, 21.78it/s]\n",
      "  0%|          | 2/470 [00:00<00:27, 16.96it/s]"
     ]
    },
    {
     "name": "stdout",
     "output_type": "stream",
     "text": [
      "Epoch: 336 Training Loss: 455607.4671439789\n"
     ]
    },
    {
     "name": "stderr",
     "output_type": "stream",
     "text": [
      "100%|██████████| 470/470 [00:21<00:00, 21.97it/s]\n",
      "  1%|          | 3/470 [00:00<00:22, 21.04it/s]"
     ]
    },
    {
     "name": "stdout",
     "output_type": "stream",
     "text": [
      "Epoch: 337 Training Loss: 503640.7473809328\n"
     ]
    },
    {
     "name": "stderr",
     "output_type": "stream",
     "text": [
      "100%|██████████| 470/470 [00:21<00:00, 22.12it/s]\n",
      "  1%|          | 3/470 [00:00<00:22, 21.13it/s]"
     ]
    },
    {
     "name": "stdout",
     "output_type": "stream",
     "text": [
      "Epoch: 338 Training Loss: 503447.48345707357\n"
     ]
    },
    {
     "name": "stderr",
     "output_type": "stream",
     "text": [
      "100%|██████████| 470/470 [00:20<00:00, 22.48it/s]\n",
      "  1%|          | 3/470 [00:00<00:22, 21.03it/s]"
     ]
    },
    {
     "name": "stdout",
     "output_type": "stream",
     "text": [
      "Epoch: 339 Training Loss: 576363.7909909189\n"
     ]
    },
    {
     "name": "stderr",
     "output_type": "stream",
     "text": [
      "100%|██████████| 470/470 [00:21<00:00, 21.82it/s]\n",
      "  0%|          | 2/470 [00:00<00:24, 18.93it/s]"
     ]
    },
    {
     "name": "stdout",
     "output_type": "stream",
     "text": [
      "Epoch: 340 Training Loss: 519534.15109328926\n"
     ]
    },
    {
     "name": "stderr",
     "output_type": "stream",
     "text": [
      "100%|██████████| 470/470 [00:21<00:00, 22.07it/s]\n",
      "  1%|          | 3/470 [00:00<00:22, 20.94it/s]"
     ]
    },
    {
     "name": "stdout",
     "output_type": "stream",
     "text": [
      "Epoch: 341 Training Loss: 460391.6337365806\n"
     ]
    },
    {
     "name": "stderr",
     "output_type": "stream",
     "text": [
      "100%|██████████| 470/470 [00:21<00:00, 21.85it/s]\n",
      "  0%|          | 2/470 [00:00<00:27, 17.08it/s]"
     ]
    },
    {
     "name": "stdout",
     "output_type": "stream",
     "text": [
      "Epoch: 342 Training Loss: 498859.60123467445\n"
     ]
    },
    {
     "name": "stderr",
     "output_type": "stream",
     "text": [
      "100%|██████████| 470/470 [00:21<00:00, 21.82it/s]\n",
      "  1%|          | 3/470 [00:00<00:20, 23.11it/s]"
     ]
    },
    {
     "name": "stdout",
     "output_type": "stream",
     "text": [
      "Epoch: 343 Training Loss: 547116.858835645\n"
     ]
    },
    {
     "name": "stderr",
     "output_type": "stream",
     "text": [
      "100%|██████████| 470/470 [00:21<00:00, 21.76it/s]\n",
      "  1%|          | 3/470 [00:00<00:20, 23.01it/s]"
     ]
    },
    {
     "name": "stdout",
     "output_type": "stream",
     "text": [
      "Epoch: 344 Training Loss: 451929.1698638126\n"
     ]
    },
    {
     "name": "stderr",
     "output_type": "stream",
     "text": [
      "100%|██████████| 470/470 [00:21<00:00, 22.20it/s]\n",
      "  1%|          | 3/470 [00:00<00:21, 21.30it/s]"
     ]
    },
    {
     "name": "stdout",
     "output_type": "stream",
     "text": [
      "Epoch: 345 Training Loss: 452650.3557540439\n"
     ]
    },
    {
     "name": "stderr",
     "output_type": "stream",
     "text": [
      "100%|██████████| 470/470 [00:21<00:00, 22.06it/s]\n",
      "  0%|          | 2/470 [00:00<00:24, 19.05it/s]"
     ]
    },
    {
     "name": "stdout",
     "output_type": "stream",
     "text": [
      "Epoch: 346 Training Loss: 435813.05293643475\n"
     ]
    },
    {
     "name": "stderr",
     "output_type": "stream",
     "text": [
      "100%|██████████| 470/470 [00:21<00:00, 21.55it/s]\n",
      "  1%|          | 3/470 [00:00<00:22, 21.21it/s]"
     ]
    },
    {
     "name": "stdout",
     "output_type": "stream",
     "text": [
      "Epoch: 347 Training Loss: 586536.8224898987\n"
     ]
    },
    {
     "name": "stderr",
     "output_type": "stream",
     "text": [
      "100%|██████████| 470/470 [00:21<00:00, 21.77it/s]\n",
      "  1%|          | 3/470 [00:00<00:21, 21.41it/s]"
     ]
    },
    {
     "name": "stdout",
     "output_type": "stream",
     "text": [
      "Epoch: 348 Training Loss: 419945.9869346274\n"
     ]
    },
    {
     "name": "stderr",
     "output_type": "stream",
     "text": [
      "100%|██████████| 470/470 [00:21<00:00, 22.24it/s]\n",
      "  1%|          | 3/470 [00:00<00:22, 20.97it/s]"
     ]
    },
    {
     "name": "stdout",
     "output_type": "stream",
     "text": [
      "Epoch: 349 Training Loss: 558886.7484117895\n"
     ]
    },
    {
     "name": "stderr",
     "output_type": "stream",
     "text": [
      "100%|██████████| 470/470 [00:21<00:00, 22.06it/s]\n",
      "  1%|          | 3/470 [00:00<00:20, 22.61it/s]"
     ]
    },
    {
     "name": "stdout",
     "output_type": "stream",
     "text": [
      "Epoch: 350 Training Loss: 517283.4081554711\n"
     ]
    },
    {
     "name": "stderr",
     "output_type": "stream",
     "text": [
      "100%|██████████| 470/470 [00:21<00:00, 21.80it/s]\n",
      "  1%|          | 3/470 [00:00<00:22, 21.14it/s]"
     ]
    },
    {
     "name": "stdout",
     "output_type": "stream",
     "text": [
      "Epoch: 351 Training Loss: 462408.51456395537\n"
     ]
    },
    {
     "name": "stderr",
     "output_type": "stream",
     "text": [
      "100%|██████████| 470/470 [00:21<00:00, 21.81it/s]\n",
      "  0%|          | 2/470 [00:00<00:25, 18.03it/s]"
     ]
    },
    {
     "name": "stdout",
     "output_type": "stream",
     "text": [
      "Epoch: 352 Training Loss: 440747.4898071438\n"
     ]
    },
    {
     "name": "stderr",
     "output_type": "stream",
     "text": [
      "100%|██████████| 470/470 [00:21<00:00, 21.91it/s]\n",
      "  0%|          | 2/470 [00:00<00:27, 16.75it/s]"
     ]
    },
    {
     "name": "stdout",
     "output_type": "stream",
     "text": [
      "Epoch: 353 Training Loss: 509725.15871049464\n"
     ]
    },
    {
     "name": "stderr",
     "output_type": "stream",
     "text": [
      "100%|██████████| 470/470 [00:21<00:00, 22.19it/s]\n",
      "  1%|          | 3/470 [00:00<00:21, 21.29it/s]"
     ]
    },
    {
     "name": "stdout",
     "output_type": "stream",
     "text": [
      "Epoch: 354 Training Loss: 491288.6163774431\n"
     ]
    },
    {
     "name": "stderr",
     "output_type": "stream",
     "text": [
      "100%|██████████| 470/470 [00:21<00:00, 21.93it/s]\n",
      "  0%|          | 2/470 [00:00<00:25, 18.55it/s]"
     ]
    },
    {
     "name": "stdout",
     "output_type": "stream",
     "text": [
      "Epoch: 355 Training Loss: 541802.4261389971\n"
     ]
    },
    {
     "name": "stderr",
     "output_type": "stream",
     "text": [
      "100%|██████████| 470/470 [00:21<00:00, 22.13it/s]\n",
      "  1%|          | 3/470 [00:00<00:21, 21.67it/s]"
     ]
    },
    {
     "name": "stdout",
     "output_type": "stream",
     "text": [
      "Epoch: 356 Training Loss: 443430.17347311974\n"
     ]
    },
    {
     "name": "stderr",
     "output_type": "stream",
     "text": [
      "100%|██████████| 470/470 [00:20<00:00, 22.40it/s]\n",
      "  1%|          | 3/470 [00:00<00:22, 21.20it/s]"
     ]
    },
    {
     "name": "stdout",
     "output_type": "stream",
     "text": [
      "Epoch: 357 Training Loss: 450167.67041964084\n"
     ]
    },
    {
     "name": "stderr",
     "output_type": "stream",
     "text": [
      "100%|██████████| 470/470 [00:21<00:00, 22.00it/s]\n",
      "  0%|          | 2/470 [00:00<00:27, 17.09it/s]"
     ]
    },
    {
     "name": "stdout",
     "output_type": "stream",
     "text": [
      "Epoch: 358 Training Loss: 452553.82730315626\n"
     ]
    },
    {
     "name": "stderr",
     "output_type": "stream",
     "text": [
      "100%|██████████| 470/470 [00:21<00:00, 21.61it/s]\n",
      "  1%|          | 3/470 [00:00<00:20, 22.47it/s]"
     ]
    },
    {
     "name": "stdout",
     "output_type": "stream",
     "text": [
      "Epoch: 359 Training Loss: 530040.2820328772\n"
     ]
    },
    {
     "name": "stderr",
     "output_type": "stream",
     "text": [
      "100%|██████████| 470/470 [00:21<00:00, 21.86it/s]\n",
      "  1%|          | 3/470 [00:00<00:21, 22.14it/s]"
     ]
    },
    {
     "name": "stdout",
     "output_type": "stream",
     "text": [
      "Epoch: 360 Training Loss: 465816.3648417443\n"
     ]
    },
    {
     "name": "stderr",
     "output_type": "stream",
     "text": [
      "100%|██████████| 470/470 [00:21<00:00, 22.00it/s]\n",
      "  1%|          | 3/470 [00:00<00:20, 22.84it/s]"
     ]
    },
    {
     "name": "stdout",
     "output_type": "stream",
     "text": [
      "Epoch: 361 Training Loss: 538286.8828928322\n"
     ]
    },
    {
     "name": "stderr",
     "output_type": "stream",
     "text": [
      "100%|██████████| 470/470 [00:21<00:00, 22.19it/s]\n",
      "  0%|          | 2/470 [00:00<00:27, 17.23it/s]"
     ]
    },
    {
     "name": "stdout",
     "output_type": "stream",
     "text": [
      "Epoch: 362 Training Loss: 494863.0525173247\n"
     ]
    },
    {
     "name": "stderr",
     "output_type": "stream",
     "text": [
      "100%|██████████| 470/470 [00:21<00:00, 22.08it/s]\n",
      "  1%|          | 3/470 [00:00<00:22, 21.12it/s]"
     ]
    },
    {
     "name": "stdout",
     "output_type": "stream",
     "text": [
      "Epoch: 363 Training Loss: 408145.327945821\n"
     ]
    },
    {
     "name": "stderr",
     "output_type": "stream",
     "text": [
      "100%|██████████| 470/470 [00:21<00:00, 21.84it/s]\n",
      "  1%|          | 3/470 [00:00<00:21, 21.50it/s]"
     ]
    },
    {
     "name": "stdout",
     "output_type": "stream",
     "text": [
      "Epoch: 364 Training Loss: 464750.54376612604\n"
     ]
    },
    {
     "name": "stderr",
     "output_type": "stream",
     "text": [
      "100%|██████████| 470/470 [00:21<00:00, 22.07it/s]\n",
      "  1%|          | 3/470 [00:00<00:22, 21.00it/s]"
     ]
    },
    {
     "name": "stdout",
     "output_type": "stream",
     "text": [
      "Epoch: 365 Training Loss: 532150.6757050008\n"
     ]
    },
    {
     "name": "stderr",
     "output_type": "stream",
     "text": [
      "100%|██████████| 470/470 [00:21<00:00, 21.97it/s]\n",
      "  1%|          | 3/470 [00:00<00:21, 21.38it/s]"
     ]
    },
    {
     "name": "stdout",
     "output_type": "stream",
     "text": [
      "Epoch: 366 Training Loss: 432295.64003356174\n"
     ]
    },
    {
     "name": "stderr",
     "output_type": "stream",
     "text": [
      "100%|██████████| 470/470 [00:21<00:00, 21.51it/s]\n",
      "  0%|          | 2/470 [00:00<00:23, 19.99it/s]"
     ]
    },
    {
     "name": "stdout",
     "output_type": "stream",
     "text": [
      "Epoch: 367 Training Loss: 515448.01332553476\n"
     ]
    },
    {
     "name": "stderr",
     "output_type": "stream",
     "text": [
      "100%|██████████| 470/470 [00:21<00:00, 22.07it/s]\n",
      "  1%|          | 3/470 [00:00<00:20, 22.88it/s]"
     ]
    },
    {
     "name": "stdout",
     "output_type": "stream",
     "text": [
      "Epoch: 368 Training Loss: 540800.558330277\n"
     ]
    },
    {
     "name": "stderr",
     "output_type": "stream",
     "text": [
      "100%|██████████| 470/470 [00:21<00:00, 21.67it/s]\n",
      "  1%|          | 3/470 [00:00<00:22, 20.59it/s]"
     ]
    },
    {
     "name": "stdout",
     "output_type": "stream",
     "text": [
      "Epoch: 369 Training Loss: 474420.7050148845\n"
     ]
    },
    {
     "name": "stderr",
     "output_type": "stream",
     "text": [
      "100%|██████████| 470/470 [00:21<00:00, 22.11it/s]\n",
      "  1%|          | 3/470 [00:00<00:20, 23.30it/s]"
     ]
    },
    {
     "name": "stdout",
     "output_type": "stream",
     "text": [
      "Epoch: 370 Training Loss: 438719.2016464174\n"
     ]
    },
    {
     "name": "stderr",
     "output_type": "stream",
     "text": [
      "100%|██████████| 470/470 [00:21<00:00, 22.10it/s]\n",
      "  1%|          | 3/470 [00:00<00:20, 22.94it/s]"
     ]
    },
    {
     "name": "stdout",
     "output_type": "stream",
     "text": [
      "Epoch: 371 Training Loss: 466173.5737243518\n"
     ]
    },
    {
     "name": "stderr",
     "output_type": "stream",
     "text": [
      "100%|██████████| 470/470 [00:21<00:00, 21.69it/s]\n",
      "  1%|          | 3/470 [00:00<00:22, 21.13it/s]"
     ]
    },
    {
     "name": "stdout",
     "output_type": "stream",
     "text": [
      "Epoch: 372 Training Loss: 497272.6393420994\n"
     ]
    },
    {
     "name": "stderr",
     "output_type": "stream",
     "text": [
      "100%|██████████| 470/470 [00:21<00:00, 21.95it/s]\n",
      "  1%|          | 3/470 [00:00<00:22, 20.94it/s]"
     ]
    },
    {
     "name": "stdout",
     "output_type": "stream",
     "text": [
      "Epoch: 373 Training Loss: 497043.6967229992\n"
     ]
    },
    {
     "name": "stderr",
     "output_type": "stream",
     "text": [
      "100%|██████████| 470/470 [00:21<00:00, 22.08it/s]\n",
      "  0%|          | 2/470 [00:00<00:27, 16.95it/s]"
     ]
    },
    {
     "name": "stdout",
     "output_type": "stream",
     "text": [
      "Epoch: 374 Training Loss: 478437.18956752867\n"
     ]
    },
    {
     "name": "stderr",
     "output_type": "stream",
     "text": [
      "100%|██████████| 470/470 [00:20<00:00, 22.44it/s]\n",
      "  1%|          | 3/470 [00:00<00:20, 23.20it/s]"
     ]
    },
    {
     "name": "stdout",
     "output_type": "stream",
     "text": [
      "Epoch: 375 Training Loss: 566103.886889834\n"
     ]
    },
    {
     "name": "stderr",
     "output_type": "stream",
     "text": [
      "100%|██████████| 470/470 [00:21<00:00, 22.06it/s]\n",
      "  1%|          | 3/470 [00:00<00:21, 21.34it/s]"
     ]
    },
    {
     "name": "stdout",
     "output_type": "stream",
     "text": [
      "Epoch: 376 Training Loss: 500222.77643860877\n"
     ]
    },
    {
     "name": "stderr",
     "output_type": "stream",
     "text": [
      "100%|██████████| 470/470 [00:21<00:00, 21.75it/s]\n",
      "  1%|          | 3/470 [00:00<00:21, 22.00it/s]"
     ]
    },
    {
     "name": "stdout",
     "output_type": "stream",
     "text": [
      "Epoch: 377 Training Loss: 525589.3798197508\n"
     ]
    },
    {
     "name": "stderr",
     "output_type": "stream",
     "text": [
      "100%|██████████| 470/470 [00:21<00:00, 22.19it/s]\n",
      "  0%|          | 2/470 [00:00<00:24, 19.29it/s]"
     ]
    },
    {
     "name": "stdout",
     "output_type": "stream",
     "text": [
      "Epoch: 378 Training Loss: 526307.8852547929\n"
     ]
    },
    {
     "name": "stderr",
     "output_type": "stream",
     "text": [
      "100%|██████████| 470/470 [00:21<00:00, 21.96it/s]\n",
      "  1%|          | 3/470 [00:00<00:20, 22.90it/s]"
     ]
    },
    {
     "name": "stdout",
     "output_type": "stream",
     "text": [
      "Epoch: 379 Training Loss: 422559.39809438586\n"
     ]
    },
    {
     "name": "stderr",
     "output_type": "stream",
     "text": [
      "100%|██████████| 470/470 [00:21<00:00, 22.35it/s]\n",
      "  1%|          | 3/470 [00:00<00:21, 22.07it/s]"
     ]
    },
    {
     "name": "stdout",
     "output_type": "stream",
     "text": [
      "Epoch: 380 Training Loss: 441511.47468203306\n"
     ]
    },
    {
     "name": "stderr",
     "output_type": "stream",
     "text": [
      "100%|██████████| 470/470 [00:21<00:00, 22.06it/s]\n",
      "  1%|          | 3/470 [00:00<00:22, 20.67it/s]"
     ]
    },
    {
     "name": "stdout",
     "output_type": "stream",
     "text": [
      "Epoch: 381 Training Loss: 423547.9579007104\n"
     ]
    },
    {
     "name": "stderr",
     "output_type": "stream",
     "text": [
      "100%|██████████| 470/470 [00:21<00:00, 21.91it/s]\n",
      "  1%|          | 3/470 [00:00<00:22, 20.71it/s]"
     ]
    },
    {
     "name": "stdout",
     "output_type": "stream",
     "text": [
      "Epoch: 382 Training Loss: 584131.9967982918\n"
     ]
    },
    {
     "name": "stderr",
     "output_type": "stream",
     "text": [
      "100%|██████████| 470/470 [00:21<00:00, 22.20it/s]\n",
      "  1%|          | 3/470 [00:00<00:21, 21.67it/s]"
     ]
    },
    {
     "name": "stdout",
     "output_type": "stream",
     "text": [
      "Epoch: 383 Training Loss: 397262.4068713039\n"
     ]
    },
    {
     "name": "stderr",
     "output_type": "stream",
     "text": [
      "100%|██████████| 470/470 [00:21<00:00, 21.43it/s]\n",
      "  1%|          | 3/470 [00:00<00:21, 21.38it/s]"
     ]
    },
    {
     "name": "stdout",
     "output_type": "stream",
     "text": [
      "Epoch: 384 Training Loss: 488029.9359723367\n"
     ]
    },
    {
     "name": "stderr",
     "output_type": "stream",
     "text": [
      "100%|██████████| 470/470 [00:20<00:00, 22.44it/s]\n",
      "  1%|          | 3/470 [00:00<00:22, 21.21it/s]"
     ]
    },
    {
     "name": "stdout",
     "output_type": "stream",
     "text": [
      "Epoch: 385 Training Loss: 415518.0288587846\n"
     ]
    },
    {
     "name": "stderr",
     "output_type": "stream",
     "text": [
      "100%|██████████| 470/470 [00:21<00:00, 21.77it/s]\n",
      "  1%|          | 3/470 [00:00<00:20, 23.26it/s]"
     ]
    },
    {
     "name": "stdout",
     "output_type": "stream",
     "text": [
      "Epoch: 386 Training Loss: 419773.5996022336\n"
     ]
    },
    {
     "name": "stderr",
     "output_type": "stream",
     "text": [
      "100%|██████████| 470/470 [00:21<00:00, 21.74it/s]\n",
      "  0%|          | 2/470 [00:00<00:26, 17.59it/s]"
     ]
    },
    {
     "name": "stdout",
     "output_type": "stream",
     "text": [
      "Epoch: 387 Training Loss: 495226.06419721246\n"
     ]
    },
    {
     "name": "stderr",
     "output_type": "stream",
     "text": [
      "100%|██████████| 470/470 [00:21<00:00, 21.86it/s]\n",
      "  0%|          | 2/470 [00:00<00:24, 19.36it/s]"
     ]
    },
    {
     "name": "stdout",
     "output_type": "stream",
     "text": [
      "Epoch: 388 Training Loss: 505434.2718948256\n"
     ]
    },
    {
     "name": "stderr",
     "output_type": "stream",
     "text": [
      "100%|██████████| 470/470 [00:21<00:00, 21.63it/s]\n",
      "  1%|          | 3/470 [00:00<00:21, 21.24it/s]"
     ]
    },
    {
     "name": "stdout",
     "output_type": "stream",
     "text": [
      "Epoch: 389 Training Loss: 483668.03464603424\n"
     ]
    },
    {
     "name": "stderr",
     "output_type": "stream",
     "text": [
      "100%|██████████| 470/470 [00:21<00:00, 21.79it/s]\n",
      "  0%|          | 2/470 [00:00<00:23, 19.72it/s]"
     ]
    },
    {
     "name": "stdout",
     "output_type": "stream",
     "text": [
      "Epoch: 390 Training Loss: 555165.5320732892\n"
     ]
    },
    {
     "name": "stderr",
     "output_type": "stream",
     "text": [
      "100%|██████████| 470/470 [00:21<00:00, 21.90it/s]\n",
      "  0%|          | 2/470 [00:00<00:26, 17.42it/s]"
     ]
    },
    {
     "name": "stdout",
     "output_type": "stream",
     "text": [
      "Epoch: 391 Training Loss: 421311.08127131313\n"
     ]
    },
    {
     "name": "stderr",
     "output_type": "stream",
     "text": [
      "100%|██████████| 470/470 [00:21<00:00, 21.89it/s]\n",
      "  1%|          | 3/470 [00:00<00:20, 22.56it/s]"
     ]
    },
    {
     "name": "stdout",
     "output_type": "stream",
     "text": [
      "Epoch: 392 Training Loss: 444657.46042665094\n"
     ]
    },
    {
     "name": "stderr",
     "output_type": "stream",
     "text": [
      "100%|██████████| 470/470 [00:21<00:00, 22.29it/s]\n",
      "  0%|          | 2/470 [00:00<00:24, 19.30it/s]"
     ]
    },
    {
     "name": "stdout",
     "output_type": "stream",
     "text": [
      "Epoch: 393 Training Loss: 528323.1643849984\n"
     ]
    },
    {
     "name": "stderr",
     "output_type": "stream",
     "text": [
      "100%|██████████| 470/470 [00:21<00:00, 22.12it/s]\n",
      "  1%|          | 3/470 [00:00<00:24, 19.39it/s]"
     ]
    },
    {
     "name": "stdout",
     "output_type": "stream",
     "text": [
      "Epoch: 394 Training Loss: 422285.3304230422\n"
     ]
    },
    {
     "name": "stderr",
     "output_type": "stream",
     "text": [
      "100%|██████████| 470/470 [00:21<00:00, 21.85it/s]\n",
      "  1%|          | 3/470 [00:00<00:20, 23.09it/s]"
     ]
    },
    {
     "name": "stdout",
     "output_type": "stream",
     "text": [
      "Epoch: 395 Training Loss: 462453.00174447894\n"
     ]
    },
    {
     "name": "stderr",
     "output_type": "stream",
     "text": [
      "100%|██████████| 470/470 [00:21<00:00, 22.00it/s]\n",
      "  1%|          | 3/470 [00:00<00:22, 20.85it/s]"
     ]
    },
    {
     "name": "stdout",
     "output_type": "stream",
     "text": [
      "Epoch: 396 Training Loss: 440035.5709682703\n"
     ]
    },
    {
     "name": "stderr",
     "output_type": "stream",
     "text": [
      "100%|██████████| 470/470 [00:21<00:00, 21.61it/s]\n",
      "  0%|          | 2/470 [00:00<00:23, 19.88it/s]"
     ]
    },
    {
     "name": "stdout",
     "output_type": "stream",
     "text": [
      "Epoch: 397 Training Loss: 443950.2262534499\n"
     ]
    },
    {
     "name": "stderr",
     "output_type": "stream",
     "text": [
      "100%|██████████| 470/470 [00:21<00:00, 21.86it/s]\n",
      "  1%|          | 3/470 [00:00<00:22, 21.00it/s]"
     ]
    },
    {
     "name": "stdout",
     "output_type": "stream",
     "text": [
      "Epoch: 398 Training Loss: 495992.8641754836\n"
     ]
    },
    {
     "name": "stderr",
     "output_type": "stream",
     "text": [
      "100%|██████████| 470/470 [00:21<00:00, 22.22it/s]\n",
      "  1%|          | 3/470 [00:00<00:20, 22.49it/s]"
     ]
    },
    {
     "name": "stdout",
     "output_type": "stream",
     "text": [
      "Epoch: 399 Training Loss: 419292.8971931599\n"
     ]
    },
    {
     "name": "stderr",
     "output_type": "stream",
     "text": [
      "100%|██████████| 470/470 [00:21<00:00, 22.20it/s]\n",
      "  1%|          | 3/470 [00:00<00:20, 23.26it/s]"
     ]
    },
    {
     "name": "stdout",
     "output_type": "stream",
     "text": [
      "Epoch: 400 Training Loss: 558014.0489429906\n"
     ]
    },
    {
     "name": "stderr",
     "output_type": "stream",
     "text": [
      "100%|██████████| 470/470 [00:21<00:00, 21.80it/s]\n",
      "  1%|          | 3/470 [00:00<00:22, 21.16it/s]"
     ]
    },
    {
     "name": "stdout",
     "output_type": "stream",
     "text": [
      "Epoch: 401 Training Loss: 407871.45976354927\n"
     ]
    },
    {
     "name": "stderr",
     "output_type": "stream",
     "text": [
      "100%|██████████| 470/470 [00:21<00:00, 21.81it/s]\n",
      "  1%|          | 3/470 [00:00<00:21, 21.39it/s]"
     ]
    },
    {
     "name": "stdout",
     "output_type": "stream",
     "text": [
      "Epoch: 402 Training Loss: 525689.0025812984\n"
     ]
    },
    {
     "name": "stderr",
     "output_type": "stream",
     "text": [
      "100%|██████████| 470/470 [00:21<00:00, 22.26it/s]\n",
      "  1%|          | 3/470 [00:00<00:22, 21.16it/s]"
     ]
    },
    {
     "name": "stdout",
     "output_type": "stream",
     "text": [
      "Epoch: 403 Training Loss: 445759.154342711\n"
     ]
    },
    {
     "name": "stderr",
     "output_type": "stream",
     "text": [
      "100%|██████████| 470/470 [00:21<00:00, 21.94it/s]\n",
      "  1%|          | 3/470 [00:00<00:22, 21.19it/s]"
     ]
    },
    {
     "name": "stdout",
     "output_type": "stream",
     "text": [
      "Epoch: 404 Training Loss: 453634.7616973445\n"
     ]
    },
    {
     "name": "stderr",
     "output_type": "stream",
     "text": [
      "100%|██████████| 470/470 [00:21<00:00, 21.98it/s]\n",
      "  1%|          | 3/470 [00:00<00:22, 20.98it/s]"
     ]
    },
    {
     "name": "stdout",
     "output_type": "stream",
     "text": [
      "Epoch: 405 Training Loss: 456642.0911690444\n"
     ]
    },
    {
     "name": "stderr",
     "output_type": "stream",
     "text": [
      "100%|██████████| 470/470 [00:21<00:00, 22.19it/s]\n",
      "  1%|          | 3/470 [00:00<00:22, 21.02it/s]"
     ]
    },
    {
     "name": "stdout",
     "output_type": "stream",
     "text": [
      "Epoch: 406 Training Loss: 426920.3740673438\n"
     ]
    },
    {
     "name": "stderr",
     "output_type": "stream",
     "text": [
      "100%|██████████| 470/470 [00:21<00:00, 22.24it/s]\n",
      "  1%|          | 3/470 [00:00<00:21, 21.36it/s]"
     ]
    },
    {
     "name": "stdout",
     "output_type": "stream",
     "text": [
      "Epoch: 407 Training Loss: 432748.6605639383\n"
     ]
    },
    {
     "name": "stderr",
     "output_type": "stream",
     "text": [
      "100%|██████████| 470/470 [00:21<00:00, 22.00it/s]\n",
      "  1%|          | 3/470 [00:00<00:20, 22.88it/s]"
     ]
    },
    {
     "name": "stdout",
     "output_type": "stream",
     "text": [
      "Epoch: 408 Training Loss: 471990.398364909\n"
     ]
    },
    {
     "name": "stderr",
     "output_type": "stream",
     "text": [
      "100%|██████████| 470/470 [00:21<00:00, 21.75it/s]\n",
      "  0%|          | 2/470 [00:00<00:27, 16.76it/s]"
     ]
    },
    {
     "name": "stdout",
     "output_type": "stream",
     "text": [
      "Epoch: 409 Training Loss: 485123.6147944592\n"
     ]
    },
    {
     "name": "stderr",
     "output_type": "stream",
     "text": [
      "100%|██████████| 470/470 [00:21<00:00, 21.89it/s]\n",
      "  0%|          | 2/470 [00:00<00:27, 17.17it/s]"
     ]
    },
    {
     "name": "stdout",
     "output_type": "stream",
     "text": [
      "Epoch: 410 Training Loss: 535028.7030454017\n"
     ]
    },
    {
     "name": "stderr",
     "output_type": "stream",
     "text": [
      "100%|██████████| 470/470 [00:21<00:00, 21.72it/s]\n",
      "  1%|          | 3/470 [00:00<00:22, 20.99it/s]"
     ]
    },
    {
     "name": "stdout",
     "output_type": "stream",
     "text": [
      "Epoch: 411 Training Loss: 428811.63946767524\n"
     ]
    },
    {
     "name": "stderr",
     "output_type": "stream",
     "text": [
      "100%|██████████| 470/470 [00:21<00:00, 21.83it/s]\n",
      "  1%|          | 3/470 [00:00<00:20, 22.42it/s]"
     ]
    },
    {
     "name": "stdout",
     "output_type": "stream",
     "text": [
      "Epoch: 412 Training Loss: 503120.2891975939\n"
     ]
    },
    {
     "name": "stderr",
     "output_type": "stream",
     "text": [
      "100%|██████████| 470/470 [00:21<00:00, 21.98it/s]\n",
      "  1%|          | 3/470 [00:00<00:20, 22.56it/s]"
     ]
    },
    {
     "name": "stdout",
     "output_type": "stream",
     "text": [
      "Epoch: 413 Training Loss: 473491.6326717138\n"
     ]
    },
    {
     "name": "stderr",
     "output_type": "stream",
     "text": [
      "100%|██████████| 470/470 [00:21<00:00, 21.95it/s]\n",
      "  1%|          | 3/470 [00:00<00:21, 22.23it/s]"
     ]
    },
    {
     "name": "stdout",
     "output_type": "stream",
     "text": [
      "Epoch: 414 Training Loss: 442890.6807690561\n"
     ]
    },
    {
     "name": "stderr",
     "output_type": "stream",
     "text": [
      "100%|██████████| 470/470 [00:21<00:00, 22.15it/s]\n",
      "  1%|          | 3/470 [00:00<00:22, 21.08it/s]"
     ]
    },
    {
     "name": "stdout",
     "output_type": "stream",
     "text": [
      "Epoch: 415 Training Loss: 397169.02301731706\n"
     ]
    },
    {
     "name": "stderr",
     "output_type": "stream",
     "text": [
      "100%|██████████| 470/470 [00:21<00:00, 21.73it/s]\n",
      "  1%|          | 3/470 [00:00<00:21, 21.33it/s]"
     ]
    },
    {
     "name": "stdout",
     "output_type": "stream",
     "text": [
      "Epoch: 416 Training Loss: 409744.72941705585\n"
     ]
    },
    {
     "name": "stderr",
     "output_type": "stream",
     "text": [
      "100%|██████████| 470/470 [00:21<00:00, 21.63it/s]\n",
      "  1%|          | 3/470 [00:00<00:22, 21.19it/s]"
     ]
    },
    {
     "name": "stdout",
     "output_type": "stream",
     "text": [
      "Epoch: 417 Training Loss: 496539.1626312621\n"
     ]
    },
    {
     "name": "stderr",
     "output_type": "stream",
     "text": [
      "100%|██████████| 470/470 [00:21<00:00, 21.50it/s]\n",
      "  1%|          | 3/470 [00:00<00:21, 21.38it/s]"
     ]
    },
    {
     "name": "stdout",
     "output_type": "stream",
     "text": [
      "Epoch: 418 Training Loss: 496914.07061985135\n"
     ]
    },
    {
     "name": "stderr",
     "output_type": "stream",
     "text": [
      "100%|██████████| 470/470 [00:21<00:00, 22.05it/s]\n",
      "  0%|          | 2/470 [00:00<00:26, 17.87it/s]"
     ]
    },
    {
     "name": "stdout",
     "output_type": "stream",
     "text": [
      "Epoch: 419 Training Loss: 482357.87696041167\n"
     ]
    },
    {
     "name": "stderr",
     "output_type": "stream",
     "text": [
      "100%|██████████| 470/470 [00:21<00:00, 21.84it/s]\n",
      "  1%|          | 3/470 [00:00<00:22, 21.22it/s]"
     ]
    },
    {
     "name": "stdout",
     "output_type": "stream",
     "text": [
      "Epoch: 420 Training Loss: 522348.68046115525\n"
     ]
    },
    {
     "name": "stderr",
     "output_type": "stream",
     "text": [
      "100%|██████████| 470/470 [00:21<00:00, 22.08it/s]\n",
      "  1%|          | 3/470 [00:00<00:21, 22.21it/s]"
     ]
    },
    {
     "name": "stdout",
     "output_type": "stream",
     "text": [
      "Epoch: 421 Training Loss: 440965.7266663313\n"
     ]
    },
    {
     "name": "stderr",
     "output_type": "stream",
     "text": [
      "100%|██████████| 470/470 [00:21<00:00, 21.80it/s]\n",
      "  1%|          | 3/470 [00:00<00:20, 22.43it/s]"
     ]
    },
    {
     "name": "stdout",
     "output_type": "stream",
     "text": [
      "Epoch: 422 Training Loss: 522030.1328804195\n"
     ]
    },
    {
     "name": "stderr",
     "output_type": "stream",
     "text": [
      "100%|██████████| 470/470 [00:21<00:00, 21.69it/s]\n",
      "  1%|          | 3/470 [00:00<00:22, 21.11it/s]"
     ]
    },
    {
     "name": "stdout",
     "output_type": "stream",
     "text": [
      "Epoch: 423 Training Loss: 492386.60317321215\n"
     ]
    },
    {
     "name": "stderr",
     "output_type": "stream",
     "text": [
      "100%|██████████| 470/470 [00:21<00:00, 21.86it/s]\n",
      "  1%|          | 3/470 [00:00<00:21, 21.24it/s]"
     ]
    },
    {
     "name": "stdout",
     "output_type": "stream",
     "text": [
      "Epoch: 424 Training Loss: 504031.2371134758\n"
     ]
    },
    {
     "name": "stderr",
     "output_type": "stream",
     "text": [
      "100%|██████████| 470/470 [00:21<00:00, 21.83it/s]\n",
      "  1%|          | 3/470 [00:00<00:22, 21.22it/s]"
     ]
    },
    {
     "name": "stdout",
     "output_type": "stream",
     "text": [
      "Epoch: 425 Training Loss: 511310.06740416586\n"
     ]
    },
    {
     "name": "stderr",
     "output_type": "stream",
     "text": [
      "100%|██████████| 470/470 [00:21<00:00, 21.78it/s]\n",
      "  0%|          | 2/470 [00:00<00:27, 17.09it/s]"
     ]
    },
    {
     "name": "stdout",
     "output_type": "stream",
     "text": [
      "Epoch: 426 Training Loss: 424904.6792922914\n"
     ]
    },
    {
     "name": "stderr",
     "output_type": "stream",
     "text": [
      "100%|██████████| 470/470 [00:21<00:00, 21.44it/s]\n",
      "  1%|          | 3/470 [00:00<00:22, 20.85it/s]"
     ]
    },
    {
     "name": "stdout",
     "output_type": "stream",
     "text": [
      "Epoch: 427 Training Loss: 424813.9641119577\n"
     ]
    },
    {
     "name": "stderr",
     "output_type": "stream",
     "text": [
      "100%|██████████| 470/470 [00:21<00:00, 22.10it/s]\n",
      "  0%|          | 2/470 [00:00<00:27, 17.01it/s]"
     ]
    },
    {
     "name": "stdout",
     "output_type": "stream",
     "text": [
      "Epoch: 428 Training Loss: 478321.8875078112\n"
     ]
    },
    {
     "name": "stderr",
     "output_type": "stream",
     "text": [
      "100%|██████████| 470/470 [00:21<00:00, 21.43it/s]\n",
      "  1%|          | 3/470 [00:00<00:20, 22.84it/s]"
     ]
    },
    {
     "name": "stdout",
     "output_type": "stream",
     "text": [
      "Epoch: 429 Training Loss: 433444.012868993\n"
     ]
    },
    {
     "name": "stderr",
     "output_type": "stream",
     "text": [
      "100%|██████████| 470/470 [00:20<00:00, 22.42it/s]\n",
      "  1%|          | 3/470 [00:00<00:21, 21.29it/s]"
     ]
    },
    {
     "name": "stdout",
     "output_type": "stream",
     "text": [
      "Epoch: 430 Training Loss: 530691.6885163933\n"
     ]
    },
    {
     "name": "stderr",
     "output_type": "stream",
     "text": [
      "100%|██████████| 470/470 [00:21<00:00, 21.99it/s]\n",
      "  1%|          | 3/470 [00:00<00:22, 20.96it/s]"
     ]
    },
    {
     "name": "stdout",
     "output_type": "stream",
     "text": [
      "Epoch: 431 Training Loss: 541435.3975205868\n"
     ]
    },
    {
     "name": "stderr",
     "output_type": "stream",
     "text": [
      "100%|██████████| 470/470 [00:21<00:00, 22.17it/s]\n",
      "  1%|          | 3/470 [00:00<00:22, 21.12it/s]"
     ]
    },
    {
     "name": "stdout",
     "output_type": "stream",
     "text": [
      "Epoch: 432 Training Loss: 455790.3865084201\n"
     ]
    },
    {
     "name": "stderr",
     "output_type": "stream",
     "text": [
      "100%|██████████| 470/470 [00:21<00:00, 21.91it/s]\n",
      "  1%|          | 3/470 [00:00<00:22, 20.91it/s]"
     ]
    },
    {
     "name": "stdout",
     "output_type": "stream",
     "text": [
      "Epoch: 433 Training Loss: 457476.040315859\n"
     ]
    },
    {
     "name": "stderr",
     "output_type": "stream",
     "text": [
      "100%|██████████| 470/470 [00:21<00:00, 21.64it/s]\n",
      "  1%|          | 3/470 [00:00<00:22, 20.96it/s]"
     ]
    },
    {
     "name": "stdout",
     "output_type": "stream",
     "text": [
      "Epoch: 434 Training Loss: 498698.78600204363\n"
     ]
    },
    {
     "name": "stderr",
     "output_type": "stream",
     "text": [
      "100%|██████████| 470/470 [00:20<00:00, 22.47it/s]\n",
      "  0%|          | 2/470 [00:00<00:23, 19.91it/s]"
     ]
    },
    {
     "name": "stdout",
     "output_type": "stream",
     "text": [
      "Epoch: 435 Training Loss: 518590.6094943285\n"
     ]
    },
    {
     "name": "stderr",
     "output_type": "stream",
     "text": [
      "100%|██████████| 470/470 [00:21<00:00, 21.41it/s]\n",
      "  1%|          | 3/470 [00:00<00:22, 20.97it/s]"
     ]
    },
    {
     "name": "stdout",
     "output_type": "stream",
     "text": [
      "Epoch: 436 Training Loss: 509968.47120682895\n"
     ]
    },
    {
     "name": "stderr",
     "output_type": "stream",
     "text": [
      "100%|██████████| 470/470 [00:21<00:00, 21.65it/s]\n",
      "  1%|          | 3/470 [00:00<00:22, 20.62it/s]"
     ]
    },
    {
     "name": "stdout",
     "output_type": "stream",
     "text": [
      "Epoch: 437 Training Loss: 389488.5854310766\n"
     ]
    },
    {
     "name": "stderr",
     "output_type": "stream",
     "text": [
      "100%|██████████| 470/470 [00:21<00:00, 22.30it/s]\n",
      "  1%|          | 3/470 [00:00<00:20, 23.01it/s]"
     ]
    },
    {
     "name": "stdout",
     "output_type": "stream",
     "text": [
      "Epoch: 438 Training Loss: 405845.0265769698\n"
     ]
    },
    {
     "name": "stderr",
     "output_type": "stream",
     "text": [
      "100%|██████████| 470/470 [00:21<00:00, 21.80it/s]\n",
      "  1%|          | 3/470 [00:00<00:22, 20.88it/s]"
     ]
    },
    {
     "name": "stdout",
     "output_type": "stream",
     "text": [
      "Epoch: 439 Training Loss: 501444.901573997\n"
     ]
    },
    {
     "name": "stderr",
     "output_type": "stream",
     "text": [
      "100%|██████████| 470/470 [00:21<00:00, 21.90it/s]\n",
      "  1%|          | 3/470 [00:00<00:22, 21.20it/s]"
     ]
    },
    {
     "name": "stdout",
     "output_type": "stream",
     "text": [
      "Epoch: 440 Training Loss: 464711.34231737256\n"
     ]
    },
    {
     "name": "stderr",
     "output_type": "stream",
     "text": [
      "100%|██████████| 470/470 [00:20<00:00, 22.42it/s]\n",
      "  1%|          | 3/470 [00:00<00:21, 21.47it/s]"
     ]
    },
    {
     "name": "stdout",
     "output_type": "stream",
     "text": [
      "Epoch: 441 Training Loss: 469598.5048046261\n"
     ]
    },
    {
     "name": "stderr",
     "output_type": "stream",
     "text": [
      "100%|██████████| 470/470 [00:21<00:00, 21.91it/s]\n",
      "  1%|          | 3/470 [00:00<00:22, 21.12it/s]"
     ]
    },
    {
     "name": "stdout",
     "output_type": "stream",
     "text": [
      "Epoch: 442 Training Loss: 494634.69814126194\n"
     ]
    },
    {
     "name": "stderr",
     "output_type": "stream",
     "text": [
      "100%|██████████| 470/470 [00:21<00:00, 21.83it/s]\n",
      "  1%|          | 3/470 [00:00<00:20, 22.54it/s]"
     ]
    },
    {
     "name": "stdout",
     "output_type": "stream",
     "text": [
      "Epoch: 443 Training Loss: 467820.5894798897\n"
     ]
    },
    {
     "name": "stderr",
     "output_type": "stream",
     "text": [
      "100%|██████████| 470/470 [00:21<00:00, 21.95it/s]\n",
      "  1%|          | 3/470 [00:00<00:20, 22.80it/s]"
     ]
    },
    {
     "name": "stdout",
     "output_type": "stream",
     "text": [
      "Epoch: 444 Training Loss: 525759.8840049207\n"
     ]
    },
    {
     "name": "stderr",
     "output_type": "stream",
     "text": [
      "100%|██████████| 470/470 [00:21<00:00, 22.37it/s]\n",
      "  0%|          | 2/470 [00:00<00:27, 16.96it/s]"
     ]
    },
    {
     "name": "stdout",
     "output_type": "stream",
     "text": [
      "Epoch: 445 Training Loss: 474079.2233629599\n"
     ]
    },
    {
     "name": "stderr",
     "output_type": "stream",
     "text": [
      "100%|██████████| 470/470 [00:21<00:00, 22.19it/s]\n",
      "  1%|          | 3/470 [00:00<00:22, 21.17it/s]"
     ]
    },
    {
     "name": "stdout",
     "output_type": "stream",
     "text": [
      "Epoch: 446 Training Loss: 437765.24135848135\n"
     ]
    },
    {
     "name": "stderr",
     "output_type": "stream",
     "text": [
      "100%|██████████| 470/470 [00:21<00:00, 21.69it/s]\n",
      "  0%|          | 2/470 [00:00<00:23, 19.61it/s]"
     ]
    },
    {
     "name": "stdout",
     "output_type": "stream",
     "text": [
      "Epoch: 447 Training Loss: 513682.1423240304\n"
     ]
    },
    {
     "name": "stderr",
     "output_type": "stream",
     "text": [
      "100%|██████████| 470/470 [00:21<00:00, 21.94it/s]\n",
      "  0%|          | 2/470 [00:00<00:28, 16.71it/s]"
     ]
    },
    {
     "name": "stdout",
     "output_type": "stream",
     "text": [
      "Epoch: 448 Training Loss: 397005.33846116066\n"
     ]
    },
    {
     "name": "stderr",
     "output_type": "stream",
     "text": [
      "100%|██████████| 470/470 [00:21<00:00, 21.79it/s]\n",
      "  1%|          | 3/470 [00:00<00:22, 20.97it/s]"
     ]
    },
    {
     "name": "stdout",
     "output_type": "stream",
     "text": [
      "Epoch: 449 Training Loss: 458325.77776911855\n"
     ]
    },
    {
     "name": "stderr",
     "output_type": "stream",
     "text": [
      "100%|██████████| 470/470 [00:21<00:00, 22.03it/s]\n",
      "  1%|          | 3/470 [00:00<00:21, 21.52it/s]"
     ]
    },
    {
     "name": "stdout",
     "output_type": "stream",
     "text": [
      "Epoch: 450 Training Loss: 514471.8891046271\n"
     ]
    },
    {
     "name": "stderr",
     "output_type": "stream",
     "text": [
      "100%|██████████| 470/470 [00:21<00:00, 22.16it/s]\n",
      "  1%|          | 3/470 [00:00<00:20, 22.71it/s]"
     ]
    },
    {
     "name": "stdout",
     "output_type": "stream",
     "text": [
      "Epoch: 451 Training Loss: 479177.81788454205\n"
     ]
    },
    {
     "name": "stderr",
     "output_type": "stream",
     "text": [
      "100%|██████████| 470/470 [00:21<00:00, 21.57it/s]\n",
      "  1%|          | 3/470 [00:00<00:22, 21.20it/s]"
     ]
    },
    {
     "name": "stdout",
     "output_type": "stream",
     "text": [
      "Epoch: 452 Training Loss: 414332.62580373883\n"
     ]
    },
    {
     "name": "stderr",
     "output_type": "stream",
     "text": [
      "100%|██████████| 470/470 [00:21<00:00, 21.99it/s]\n",
      "  1%|          | 3/470 [00:00<00:22, 21.12it/s]"
     ]
    },
    {
     "name": "stdout",
     "output_type": "stream",
     "text": [
      "Epoch: 453 Training Loss: 521922.7974766493\n"
     ]
    },
    {
     "name": "stderr",
     "output_type": "stream",
     "text": [
      "100%|██████████| 470/470 [00:21<00:00, 21.94it/s]\n",
      "  1%|          | 3/470 [00:00<00:21, 21.51it/s]"
     ]
    },
    {
     "name": "stdout",
     "output_type": "stream",
     "text": [
      "Epoch: 454 Training Loss: 437196.03867603093\n"
     ]
    },
    {
     "name": "stderr",
     "output_type": "stream",
     "text": [
      "100%|██████████| 470/470 [00:21<00:00, 21.65it/s]\n",
      "  1%|          | 3/470 [00:00<00:22, 20.94it/s]"
     ]
    },
    {
     "name": "stdout",
     "output_type": "stream",
     "text": [
      "Epoch: 455 Training Loss: 508859.74867247045\n"
     ]
    },
    {
     "name": "stderr",
     "output_type": "stream",
     "text": [
      "100%|██████████| 470/470 [00:21<00:00, 21.61it/s]\n",
      "  1%|          | 3/470 [00:00<00:20, 23.00it/s]"
     ]
    },
    {
     "name": "stdout",
     "output_type": "stream",
     "text": [
      "Epoch: 456 Training Loss: 488313.88037113845\n"
     ]
    },
    {
     "name": "stderr",
     "output_type": "stream",
     "text": [
      "100%|██████████| 470/470 [00:21<00:00, 22.23it/s]\n",
      "  1%|          | 3/470 [00:00<00:20, 22.82it/s]"
     ]
    },
    {
     "name": "stdout",
     "output_type": "stream",
     "text": [
      "Epoch: 457 Training Loss: 638032.593134135\n"
     ]
    },
    {
     "name": "stderr",
     "output_type": "stream",
     "text": [
      "100%|██████████| 470/470 [00:21<00:00, 22.11it/s]\n",
      "  1%|          | 3/470 [00:00<00:20, 22.69it/s]"
     ]
    },
    {
     "name": "stdout",
     "output_type": "stream",
     "text": [
      "Epoch: 458 Training Loss: 447210.75687634945\n"
     ]
    },
    {
     "name": "stderr",
     "output_type": "stream",
     "text": [
      "100%|██████████| 470/470 [00:21<00:00, 22.09it/s]\n",
      "  1%|          | 3/470 [00:00<00:20, 22.63it/s]"
     ]
    },
    {
     "name": "stdout",
     "output_type": "stream",
     "text": [
      "Epoch: 459 Training Loss: 440936.9445430562\n"
     ]
    },
    {
     "name": "stderr",
     "output_type": "stream",
     "text": [
      "100%|██████████| 470/470 [00:21<00:00, 22.16it/s]\n",
      "  0%|          | 2/470 [00:00<00:23, 19.89it/s]"
     ]
    },
    {
     "name": "stdout",
     "output_type": "stream",
     "text": [
      "Epoch: 460 Training Loss: 473174.9923378676\n"
     ]
    },
    {
     "name": "stderr",
     "output_type": "stream",
     "text": [
      "100%|██████████| 470/470 [00:21<00:00, 21.93it/s]\n",
      "  0%|          | 2/470 [00:00<00:25, 18.55it/s]"
     ]
    },
    {
     "name": "stdout",
     "output_type": "stream",
     "text": [
      "Epoch: 461 Training Loss: 474311.4740238711\n"
     ]
    },
    {
     "name": "stderr",
     "output_type": "stream",
     "text": [
      "100%|██████████| 470/470 [00:21<00:00, 22.18it/s]\n",
      "  1%|          | 3/470 [00:00<00:22, 20.97it/s]"
     ]
    },
    {
     "name": "stdout",
     "output_type": "stream",
     "text": [
      "Epoch: 462 Training Loss: 413485.96270728856\n"
     ]
    },
    {
     "name": "stderr",
     "output_type": "stream",
     "text": [
      "100%|██████████| 470/470 [00:21<00:00, 21.64it/s]\n",
      "  1%|          | 3/470 [00:00<00:22, 20.96it/s]"
     ]
    },
    {
     "name": "stdout",
     "output_type": "stream",
     "text": [
      "Epoch: 463 Training Loss: 481465.161974594\n"
     ]
    },
    {
     "name": "stderr",
     "output_type": "stream",
     "text": [
      "100%|██████████| 470/470 [00:21<00:00, 22.07it/s]\n",
      "  1%|          | 3/470 [00:00<00:21, 21.64it/s]"
     ]
    },
    {
     "name": "stdout",
     "output_type": "stream",
     "text": [
      "Epoch: 464 Training Loss: 510600.44821733236\n"
     ]
    },
    {
     "name": "stderr",
     "output_type": "stream",
     "text": [
      "100%|██████████| 470/470 [00:21<00:00, 22.06it/s]\n",
      "  1%|          | 3/470 [00:00<00:20, 22.64it/s]"
     ]
    },
    {
     "name": "stdout",
     "output_type": "stream",
     "text": [
      "Epoch: 465 Training Loss: 490520.4002998769\n"
     ]
    },
    {
     "name": "stderr",
     "output_type": "stream",
     "text": [
      "100%|██████████| 470/470 [00:21<00:00, 22.34it/s]\n",
      "  1%|          | 3/470 [00:00<00:21, 21.27it/s]"
     ]
    },
    {
     "name": "stdout",
     "output_type": "stream",
     "text": [
      "Epoch: 466 Training Loss: 363457.79902103543\n"
     ]
    },
    {
     "name": "stderr",
     "output_type": "stream",
     "text": [
      "100%|██████████| 470/470 [00:21<00:00, 22.22it/s]\n",
      "  0%|          | 2/470 [00:00<00:24, 18.94it/s]"
     ]
    },
    {
     "name": "stdout",
     "output_type": "stream",
     "text": [
      "Epoch: 467 Training Loss: 470523.0312483758\n"
     ]
    },
    {
     "name": "stderr",
     "output_type": "stream",
     "text": [
      "100%|██████████| 470/470 [00:21<00:00, 21.72it/s]\n",
      "  1%|          | 3/470 [00:00<00:24, 19.02it/s]"
     ]
    },
    {
     "name": "stdout",
     "output_type": "stream",
     "text": [
      "Epoch: 468 Training Loss: 516837.4817390144\n"
     ]
    },
    {
     "name": "stderr",
     "output_type": "stream",
     "text": [
      "100%|██████████| 470/470 [00:21<00:00, 22.01it/s]\n",
      "  1%|          | 3/470 [00:00<00:22, 20.95it/s]"
     ]
    },
    {
     "name": "stdout",
     "output_type": "stream",
     "text": [
      "Epoch: 469 Training Loss: 501557.03122761846\n"
     ]
    },
    {
     "name": "stderr",
     "output_type": "stream",
     "text": [
      "100%|██████████| 470/470 [00:21<00:00, 21.64it/s]\n",
      "  1%|          | 3/470 [00:00<00:21, 21.28it/s]"
     ]
    },
    {
     "name": "stdout",
     "output_type": "stream",
     "text": [
      "Epoch: 470 Training Loss: 361048.95764261484\n"
     ]
    },
    {
     "name": "stderr",
     "output_type": "stream",
     "text": [
      "100%|██████████| 470/470 [00:21<00:00, 21.51it/s]\n",
      "  1%|          | 3/470 [00:00<00:22, 21.21it/s]"
     ]
    },
    {
     "name": "stdout",
     "output_type": "stream",
     "text": [
      "Epoch: 471 Training Loss: 477106.63440223783\n"
     ]
    },
    {
     "name": "stderr",
     "output_type": "stream",
     "text": [
      "100%|██████████| 470/470 [00:21<00:00, 22.35it/s]\n",
      "  1%|          | 3/470 [00:00<00:20, 23.08it/s]"
     ]
    },
    {
     "name": "stdout",
     "output_type": "stream",
     "text": [
      "Epoch: 472 Training Loss: 458911.0282820016\n"
     ]
    },
    {
     "name": "stderr",
     "output_type": "stream",
     "text": [
      "100%|██████████| 470/470 [00:21<00:00, 22.27it/s]\n",
      "  1%|          | 3/470 [00:00<00:21, 22.04it/s]"
     ]
    },
    {
     "name": "stdout",
     "output_type": "stream",
     "text": [
      "Epoch: 473 Training Loss: 445410.56281098723\n"
     ]
    },
    {
     "name": "stderr",
     "output_type": "stream",
     "text": [
      "100%|██████████| 470/470 [00:21<00:00, 21.93it/s]\n",
      "  1%|          | 3/470 [00:00<00:21, 22.22it/s]"
     ]
    },
    {
     "name": "stdout",
     "output_type": "stream",
     "text": [
      "Epoch: 474 Training Loss: 431042.391955927\n"
     ]
    },
    {
     "name": "stderr",
     "output_type": "stream",
     "text": [
      "100%|██████████| 470/470 [00:21<00:00, 21.76it/s]\n",
      "  0%|          | 2/470 [00:00<00:26, 17.98it/s]"
     ]
    },
    {
     "name": "stdout",
     "output_type": "stream",
     "text": [
      "Epoch: 475 Training Loss: 414460.3016745448\n"
     ]
    },
    {
     "name": "stderr",
     "output_type": "stream",
     "text": [
      "100%|██████████| 470/470 [00:21<00:00, 22.04it/s]\n",
      "  1%|          | 3/470 [00:00<00:20, 23.21it/s]"
     ]
    },
    {
     "name": "stdout",
     "output_type": "stream",
     "text": [
      "Epoch: 476 Training Loss: 394482.01192216575\n"
     ]
    },
    {
     "name": "stderr",
     "output_type": "stream",
     "text": [
      "100%|██████████| 470/470 [00:21<00:00, 21.84it/s]\n",
      "  0%|          | 2/470 [00:00<00:27, 17.33it/s]"
     ]
    },
    {
     "name": "stdout",
     "output_type": "stream",
     "text": [
      "Epoch: 477 Training Loss: 474034.53644568473\n"
     ]
    },
    {
     "name": "stderr",
     "output_type": "stream",
     "text": [
      "100%|██████████| 470/470 [00:21<00:00, 21.41it/s]\n",
      "  1%|          | 3/470 [00:00<00:21, 21.63it/s]"
     ]
    },
    {
     "name": "stdout",
     "output_type": "stream",
     "text": [
      "Epoch: 478 Training Loss: 489995.24154338986\n"
     ]
    },
    {
     "name": "stderr",
     "output_type": "stream",
     "text": [
      "100%|██████████| 470/470 [00:21<00:00, 21.72it/s]\n",
      "  0%|          | 2/470 [00:00<00:27, 17.02it/s]"
     ]
    },
    {
     "name": "stdout",
     "output_type": "stream",
     "text": [
      "Epoch: 479 Training Loss: 562745.8979787529\n"
     ]
    },
    {
     "name": "stderr",
     "output_type": "stream",
     "text": [
      "100%|██████████| 470/470 [00:21<00:00, 22.22it/s]\n",
      "  0%|          | 2/470 [00:00<00:23, 19.64it/s]"
     ]
    },
    {
     "name": "stdout",
     "output_type": "stream",
     "text": [
      "Epoch: 480 Training Loss: 537439.4818463475\n"
     ]
    },
    {
     "name": "stderr",
     "output_type": "stream",
     "text": [
      "100%|██████████| 470/470 [00:21<00:00, 21.63it/s]\n",
      "  1%|          | 3/470 [00:00<00:21, 22.15it/s]"
     ]
    },
    {
     "name": "stdout",
     "output_type": "stream",
     "text": [
      "Epoch: 481 Training Loss: 520189.3893330544\n"
     ]
    },
    {
     "name": "stderr",
     "output_type": "stream",
     "text": [
      "100%|██████████| 470/470 [00:21<00:00, 21.83it/s]\n",
      "  1%|          | 3/470 [00:00<00:20, 22.60it/s]"
     ]
    },
    {
     "name": "stdout",
     "output_type": "stream",
     "text": [
      "Epoch: 482 Training Loss: 466986.8781585023\n"
     ]
    },
    {
     "name": "stderr",
     "output_type": "stream",
     "text": [
      "100%|██████████| 470/470 [00:20<00:00, 22.40it/s]\n",
      "  1%|          | 3/470 [00:00<00:22, 20.84it/s]"
     ]
    },
    {
     "name": "stdout",
     "output_type": "stream",
     "text": [
      "Epoch: 483 Training Loss: 501104.1033252105\n"
     ]
    },
    {
     "name": "stderr",
     "output_type": "stream",
     "text": [
      "100%|██████████| 470/470 [00:21<00:00, 22.29it/s]\n",
      "  1%|          | 3/470 [00:00<00:21, 21.83it/s]"
     ]
    },
    {
     "name": "stdout",
     "output_type": "stream",
     "text": [
      "Epoch: 484 Training Loss: 465604.37259951234\n"
     ]
    },
    {
     "name": "stderr",
     "output_type": "stream",
     "text": [
      "100%|██████████| 470/470 [00:21<00:00, 22.05it/s]\n",
      "  1%|          | 3/470 [00:00<00:22, 21.01it/s]"
     ]
    },
    {
     "name": "stdout",
     "output_type": "stream",
     "text": [
      "Epoch: 485 Training Loss: 500243.14650451206\n"
     ]
    },
    {
     "name": "stderr",
     "output_type": "stream",
     "text": [
      "100%|██████████| 470/470 [00:21<00:00, 21.85it/s]\n",
      "  1%|          | 3/470 [00:00<00:20, 22.62it/s]"
     ]
    },
    {
     "name": "stdout",
     "output_type": "stream",
     "text": [
      "Epoch: 486 Training Loss: 474643.11207808554\n"
     ]
    },
    {
     "name": "stderr",
     "output_type": "stream",
     "text": [
      "100%|██████████| 470/470 [00:21<00:00, 21.43it/s]\n",
      "  0%|          | 2/470 [00:00<00:24, 18.98it/s]"
     ]
    },
    {
     "name": "stdout",
     "output_type": "stream",
     "text": [
      "Epoch: 487 Training Loss: 454083.47608819604\n"
     ]
    },
    {
     "name": "stderr",
     "output_type": "stream",
     "text": [
      "100%|██████████| 470/470 [00:20<00:00, 22.46it/s]\n",
      "  1%|          | 3/470 [00:00<00:20, 23.05it/s]"
     ]
    },
    {
     "name": "stdout",
     "output_type": "stream",
     "text": [
      "Epoch: 488 Training Loss: 456995.77171739936\n"
     ]
    },
    {
     "name": "stderr",
     "output_type": "stream",
     "text": [
      "100%|██████████| 470/470 [00:21<00:00, 22.07it/s]\n",
      "  1%|          | 3/470 [00:00<00:21, 21.40it/s]"
     ]
    },
    {
     "name": "stdout",
     "output_type": "stream",
     "text": [
      "Epoch: 489 Training Loss: 462355.91953014396\n"
     ]
    },
    {
     "name": "stderr",
     "output_type": "stream",
     "text": [
      "100%|██████████| 470/470 [00:21<00:00, 22.17it/s]\n",
      "  1%|          | 3/470 [00:00<00:20, 22.53it/s]"
     ]
    },
    {
     "name": "stdout",
     "output_type": "stream",
     "text": [
      "Epoch: 490 Training Loss: 559628.7409740016\n"
     ]
    },
    {
     "name": "stderr",
     "output_type": "stream",
     "text": [
      "100%|██████████| 470/470 [00:21<00:00, 21.92it/s]\n",
      "  1%|          | 3/470 [00:00<00:20, 23.01it/s]"
     ]
    },
    {
     "name": "stdout",
     "output_type": "stream",
     "text": [
      "Epoch: 491 Training Loss: 420390.83862217516\n"
     ]
    },
    {
     "name": "stderr",
     "output_type": "stream",
     "text": [
      "100%|██████████| 470/470 [00:21<00:00, 22.25it/s]\n",
      "  0%|          | 2/470 [00:00<00:24, 19.48it/s]"
     ]
    },
    {
     "name": "stdout",
     "output_type": "stream",
     "text": [
      "Epoch: 492 Training Loss: 422476.331110768\n"
     ]
    },
    {
     "name": "stderr",
     "output_type": "stream",
     "text": [
      "100%|██████████| 470/470 [00:21<00:00, 21.63it/s]\n",
      "  1%|          | 3/470 [00:00<00:22, 21.01it/s]"
     ]
    },
    {
     "name": "stdout",
     "output_type": "stream",
     "text": [
      "Epoch: 493 Training Loss: 466910.1310141459\n"
     ]
    },
    {
     "name": "stderr",
     "output_type": "stream",
     "text": [
      "100%|██████████| 470/470 [00:21<00:00, 21.41it/s]\n",
      "  1%|          | 3/470 [00:00<00:20, 23.25it/s]"
     ]
    },
    {
     "name": "stdout",
     "output_type": "stream",
     "text": [
      "Epoch: 494 Training Loss: 520741.76784837246\n"
     ]
    },
    {
     "name": "stderr",
     "output_type": "stream",
     "text": [
      "100%|██████████| 470/470 [00:21<00:00, 22.07it/s]\n",
      "  1%|          | 3/470 [00:00<00:22, 20.95it/s]"
     ]
    },
    {
     "name": "stdout",
     "output_type": "stream",
     "text": [
      "Epoch: 495 Training Loss: 478941.3585180938\n"
     ]
    },
    {
     "name": "stderr",
     "output_type": "stream",
     "text": [
      "100%|██████████| 470/470 [00:22<00:00, 21.19it/s]\n",
      "  1%|          | 3/470 [00:00<00:20, 22.28it/s]"
     ]
    },
    {
     "name": "stdout",
     "output_type": "stream",
     "text": [
      "Epoch: 496 Training Loss: 519407.5272089876\n"
     ]
    },
    {
     "name": "stderr",
     "output_type": "stream",
     "text": [
      "100%|██████████| 470/470 [00:21<00:00, 21.69it/s]\n",
      "  1%|          | 3/470 [00:00<00:20, 23.16it/s]"
     ]
    },
    {
     "name": "stdout",
     "output_type": "stream",
     "text": [
      "Epoch: 497 Training Loss: 387603.3224018067\n"
     ]
    },
    {
     "name": "stderr",
     "output_type": "stream",
     "text": [
      "100%|██████████| 470/470 [00:21<00:00, 22.24it/s]\n",
      "  1%|          | 3/470 [00:00<00:22, 21.20it/s]"
     ]
    },
    {
     "name": "stdout",
     "output_type": "stream",
     "text": [
      "Epoch: 498 Training Loss: 532908.1021832824\n"
     ]
    },
    {
     "name": "stderr",
     "output_type": "stream",
     "text": [
      "100%|██████████| 470/470 [00:21<00:00, 21.95it/s]\n",
      "  1%|          | 3/470 [00:00<00:21, 21.28it/s]"
     ]
    },
    {
     "name": "stdout",
     "output_type": "stream",
     "text": [
      "Epoch: 499 Training Loss: 451809.3196260482\n"
     ]
    },
    {
     "name": "stderr",
     "output_type": "stream",
     "text": [
      "100%|██████████| 470/470 [00:21<00:00, 22.21it/s]\n",
      "  1%|          | 3/470 [00:00<00:21, 21.33it/s]"
     ]
    },
    {
     "name": "stdout",
     "output_type": "stream",
     "text": [
      "Epoch: 500 Training Loss: 518702.2459370494\n"
     ]
    },
    {
     "name": "stderr",
     "output_type": "stream",
     "text": [
      "100%|██████████| 470/470 [00:21<00:00, 22.02it/s]\n",
      "  1%|          | 3/470 [00:00<00:20, 22.57it/s]"
     ]
    },
    {
     "name": "stdout",
     "output_type": "stream",
     "text": [
      "Epoch: 501 Training Loss: 377993.9429774806\n"
     ]
    },
    {
     "name": "stderr",
     "output_type": "stream",
     "text": [
      "100%|██████████| 470/470 [00:21<00:00, 22.07it/s]\n",
      "  0%|          | 2/470 [00:00<00:23, 19.76it/s]"
     ]
    },
    {
     "name": "stdout",
     "output_type": "stream",
     "text": [
      "Epoch: 502 Training Loss: 526637.3358500451\n"
     ]
    },
    {
     "name": "stderr",
     "output_type": "stream",
     "text": [
      "100%|██████████| 470/470 [00:21<00:00, 22.19it/s]\n",
      "  1%|          | 3/470 [00:00<00:22, 21.06it/s]"
     ]
    },
    {
     "name": "stdout",
     "output_type": "stream",
     "text": [
      "Epoch: 503 Training Loss: 462876.01549464464\n"
     ]
    },
    {
     "name": "stderr",
     "output_type": "stream",
     "text": [
      "100%|██████████| 470/470 [00:21<00:00, 21.55it/s]\n",
      "  0%|          | 2/470 [00:00<00:25, 18.69it/s]"
     ]
    },
    {
     "name": "stdout",
     "output_type": "stream",
     "text": [
      "Epoch: 504 Training Loss: 422309.36046114936\n"
     ]
    },
    {
     "name": "stderr",
     "output_type": "stream",
     "text": [
      "100%|██████████| 470/470 [00:21<00:00, 22.10it/s]\n",
      "  1%|          | 3/470 [00:00<00:20, 22.76it/s]"
     ]
    },
    {
     "name": "stdout",
     "output_type": "stream",
     "text": [
      "Epoch: 505 Training Loss: 503948.58402094245\n"
     ]
    },
    {
     "name": "stderr",
     "output_type": "stream",
     "text": [
      "100%|██████████| 470/470 [00:21<00:00, 21.75it/s]\n",
      "  1%|          | 3/470 [00:00<00:21, 21.44it/s]"
     ]
    },
    {
     "name": "stdout",
     "output_type": "stream",
     "text": [
      "Epoch: 506 Training Loss: 443879.23000885546\n"
     ]
    },
    {
     "name": "stderr",
     "output_type": "stream",
     "text": [
      "100%|██████████| 470/470 [00:21<00:00, 21.52it/s]\n",
      "  1%|          | 3/470 [00:00<00:21, 21.63it/s]"
     ]
    },
    {
     "name": "stdout",
     "output_type": "stream",
     "text": [
      "Epoch: 507 Training Loss: 444310.92838642\n"
     ]
    },
    {
     "name": "stderr",
     "output_type": "stream",
     "text": [
      "100%|██████████| 470/470 [00:21<00:00, 22.05it/s]\n",
      "  1%|          | 3/470 [00:00<00:21, 21.38it/s]"
     ]
    },
    {
     "name": "stdout",
     "output_type": "stream",
     "text": [
      "Epoch: 508 Training Loss: 521085.6369305998\n"
     ]
    },
    {
     "name": "stderr",
     "output_type": "stream",
     "text": [
      "100%|██████████| 470/470 [00:21<00:00, 22.12it/s]\n",
      "  1%|          | 3/470 [00:00<00:20, 22.95it/s]"
     ]
    },
    {
     "name": "stdout",
     "output_type": "stream",
     "text": [
      "Epoch: 509 Training Loss: 433352.04835886136\n"
     ]
    },
    {
     "name": "stderr",
     "output_type": "stream",
     "text": [
      "100%|██████████| 470/470 [00:21<00:00, 21.89it/s]\n",
      "  1%|          | 3/470 [00:00<00:22, 21.22it/s]"
     ]
    },
    {
     "name": "stdout",
     "output_type": "stream",
     "text": [
      "Epoch: 510 Training Loss: 473601.17265856266\n"
     ]
    },
    {
     "name": "stderr",
     "output_type": "stream",
     "text": [
      "100%|██████████| 470/470 [00:21<00:00, 21.96it/s]\n",
      "  1%|          | 3/470 [00:00<00:21, 21.69it/s]"
     ]
    },
    {
     "name": "stdout",
     "output_type": "stream",
     "text": [
      "Epoch: 511 Training Loss: 432444.69508099556\n"
     ]
    },
    {
     "name": "stderr",
     "output_type": "stream",
     "text": [
      "100%|██████████| 470/470 [00:21<00:00, 21.86it/s]\n",
      "  1%|          | 3/470 [00:00<00:20, 23.35it/s]"
     ]
    },
    {
     "name": "stdout",
     "output_type": "stream",
     "text": [
      "Epoch: 512 Training Loss: 500972.12649570405\n"
     ]
    },
    {
     "name": "stderr",
     "output_type": "stream",
     "text": [
      "100%|██████████| 470/470 [00:21<00:00, 21.72it/s]\n",
      "  1%|          | 3/470 [00:00<00:23, 20.21it/s]"
     ]
    },
    {
     "name": "stdout",
     "output_type": "stream",
     "text": [
      "Epoch: 513 Training Loss: 392203.93317180127\n"
     ]
    },
    {
     "name": "stderr",
     "output_type": "stream",
     "text": [
      "100%|██████████| 470/470 [00:21<00:00, 22.01it/s]\n",
      "  1%|          | 3/470 [00:00<00:20, 22.90it/s]"
     ]
    },
    {
     "name": "stdout",
     "output_type": "stream",
     "text": [
      "Epoch: 514 Training Loss: 613834.191957403\n"
     ]
    },
    {
     "name": "stderr",
     "output_type": "stream",
     "text": [
      "100%|██████████| 470/470 [00:21<00:00, 21.78it/s]\n",
      "  1%|          | 3/470 [00:00<00:21, 21.53it/s]"
     ]
    },
    {
     "name": "stdout",
     "output_type": "stream",
     "text": [
      "Epoch: 515 Training Loss: 411530.1251298487\n"
     ]
    },
    {
     "name": "stderr",
     "output_type": "stream",
     "text": [
      "100%|██████████| 470/470 [00:21<00:00, 22.26it/s]\n",
      "  0%|          | 2/470 [00:00<00:24, 18.92it/s]"
     ]
    },
    {
     "name": "stdout",
     "output_type": "stream",
     "text": [
      "Epoch: 516 Training Loss: 412012.9331164658\n"
     ]
    },
    {
     "name": "stderr",
     "output_type": "stream",
     "text": [
      "100%|██████████| 470/470 [00:21<00:00, 22.12it/s]\n",
      "  1%|          | 3/470 [00:00<00:22, 20.86it/s]"
     ]
    },
    {
     "name": "stdout",
     "output_type": "stream",
     "text": [
      "Epoch: 517 Training Loss: 465848.83811306953\n"
     ]
    },
    {
     "name": "stderr",
     "output_type": "stream",
     "text": [
      "100%|██████████| 470/470 [00:21<00:00, 21.80it/s]\n",
      "  1%|          | 3/470 [00:00<00:21, 22.07it/s]"
     ]
    },
    {
     "name": "stdout",
     "output_type": "stream",
     "text": [
      "Epoch: 518 Training Loss: 505605.32459201664\n"
     ]
    },
    {
     "name": "stderr",
     "output_type": "stream",
     "text": [
      "100%|██████████| 470/470 [00:21<00:00, 21.78it/s]\n",
      "  1%|          | 3/470 [00:00<00:21, 21.25it/s]"
     ]
    },
    {
     "name": "stdout",
     "output_type": "stream",
     "text": [
      "Epoch: 519 Training Loss: 516941.3028848767\n"
     ]
    },
    {
     "name": "stderr",
     "output_type": "stream",
     "text": [
      "100%|██████████| 470/470 [00:21<00:00, 21.90it/s]\n",
      "  1%|          | 3/470 [00:00<00:20, 23.05it/s]"
     ]
    },
    {
     "name": "stdout",
     "output_type": "stream",
     "text": [
      "Epoch: 520 Training Loss: 454662.64685528725\n"
     ]
    },
    {
     "name": "stderr",
     "output_type": "stream",
     "text": [
      "100%|██████████| 470/470 [00:21<00:00, 22.10it/s]\n",
      "  0%|          | 2/470 [00:00<00:27, 17.12it/s]"
     ]
    },
    {
     "name": "stdout",
     "output_type": "stream",
     "text": [
      "Epoch: 521 Training Loss: 454003.14876031876\n"
     ]
    },
    {
     "name": "stderr",
     "output_type": "stream",
     "text": [
      "100%|██████████| 470/470 [00:21<00:00, 21.70it/s]\n",
      "  1%|          | 3/470 [00:00<00:22, 21.22it/s]"
     ]
    },
    {
     "name": "stdout",
     "output_type": "stream",
     "text": [
      "Epoch: 522 Training Loss: 408618.29034638405\n"
     ]
    },
    {
     "name": "stderr",
     "output_type": "stream",
     "text": [
      "100%|██████████| 470/470 [00:21<00:00, 22.05it/s]\n",
      "  1%|          | 3/470 [00:00<00:22, 21.00it/s]"
     ]
    },
    {
     "name": "stdout",
     "output_type": "stream",
     "text": [
      "Epoch: 523 Training Loss: 537567.4407826364\n"
     ]
    },
    {
     "name": "stderr",
     "output_type": "stream",
     "text": [
      "100%|██████████| 470/470 [00:21<00:00, 22.16it/s]\n",
      "  0%|          | 2/470 [00:00<00:24, 19.29it/s]"
     ]
    },
    {
     "name": "stdout",
     "output_type": "stream",
     "text": [
      "Epoch: 524 Training Loss: 423190.1467563361\n"
     ]
    },
    {
     "name": "stderr",
     "output_type": "stream",
     "text": [
      "100%|██████████| 470/470 [00:21<00:00, 21.42it/s]\n",
      "  1%|          | 3/470 [00:00<00:20, 22.45it/s]"
     ]
    },
    {
     "name": "stdout",
     "output_type": "stream",
     "text": [
      "Epoch: 525 Training Loss: 451942.63461940736\n"
     ]
    },
    {
     "name": "stderr",
     "output_type": "stream",
     "text": [
      "100%|██████████| 470/470 [00:21<00:00, 21.97it/s]\n",
      "  1%|          | 3/470 [00:00<00:22, 21.09it/s]"
     ]
    },
    {
     "name": "stdout",
     "output_type": "stream",
     "text": [
      "Epoch: 526 Training Loss: 553105.2660436481\n"
     ]
    },
    {
     "name": "stderr",
     "output_type": "stream",
     "text": [
      "100%|██████████| 470/470 [00:21<00:00, 21.98it/s]\n",
      "  1%|          | 3/470 [00:00<00:22, 20.70it/s]"
     ]
    },
    {
     "name": "stdout",
     "output_type": "stream",
     "text": [
      "Epoch: 527 Training Loss: 449542.4425215125\n"
     ]
    },
    {
     "name": "stderr",
     "output_type": "stream",
     "text": [
      "100%|██████████| 470/470 [00:21<00:00, 22.11it/s]\n",
      "  0%|          | 2/470 [00:00<00:27, 17.08it/s]"
     ]
    },
    {
     "name": "stdout",
     "output_type": "stream",
     "text": [
      "Epoch: 528 Training Loss: 439650.9611543119\n"
     ]
    },
    {
     "name": "stderr",
     "output_type": "stream",
     "text": [
      "100%|██████████| 470/470 [00:21<00:00, 21.63it/s]\n",
      "  1%|          | 3/470 [00:00<00:22, 20.92it/s]"
     ]
    },
    {
     "name": "stdout",
     "output_type": "stream",
     "text": [
      "Epoch: 529 Training Loss: 493962.9757956937\n"
     ]
    },
    {
     "name": "stderr",
     "output_type": "stream",
     "text": [
      "100%|██████████| 470/470 [00:21<00:00, 22.07it/s]\n",
      "  1%|          | 3/470 [00:00<00:20, 23.07it/s]"
     ]
    },
    {
     "name": "stdout",
     "output_type": "stream",
     "text": [
      "Epoch: 530 Training Loss: 474843.06096787006\n"
     ]
    },
    {
     "name": "stderr",
     "output_type": "stream",
     "text": [
      "100%|██████████| 470/470 [00:21<00:00, 21.79it/s]\n",
      "  0%|          | 2/470 [00:00<00:27, 16.75it/s]"
     ]
    },
    {
     "name": "stdout",
     "output_type": "stream",
     "text": [
      "Epoch: 531 Training Loss: 414442.79331964254\n"
     ]
    },
    {
     "name": "stderr",
     "output_type": "stream",
     "text": [
      "100%|██████████| 470/470 [00:21<00:00, 22.34it/s]\n",
      "  1%|          | 3/470 [00:00<00:22, 21.08it/s]"
     ]
    },
    {
     "name": "stdout",
     "output_type": "stream",
     "text": [
      "Epoch: 532 Training Loss: 488623.08715154976\n"
     ]
    },
    {
     "name": "stderr",
     "output_type": "stream",
     "text": [
      "100%|██████████| 470/470 [00:21<00:00, 21.80it/s]\n",
      "  1%|          | 3/470 [00:00<00:22, 21.17it/s]"
     ]
    },
    {
     "name": "stdout",
     "output_type": "stream",
     "text": [
      "Epoch: 533 Training Loss: 460732.44207046926\n"
     ]
    },
    {
     "name": "stderr",
     "output_type": "stream",
     "text": [
      "100%|██████████| 470/470 [00:21<00:00, 22.24it/s]\n",
      "  0%|          | 2/470 [00:00<00:26, 17.74it/s]"
     ]
    },
    {
     "name": "stdout",
     "output_type": "stream",
     "text": [
      "Epoch: 534 Training Loss: 438440.45475571975\n"
     ]
    },
    {
     "name": "stderr",
     "output_type": "stream",
     "text": [
      "100%|██████████| 470/470 [00:21<00:00, 21.71it/s]\n",
      "  1%|          | 3/470 [00:00<00:22, 20.67it/s]"
     ]
    },
    {
     "name": "stdout",
     "output_type": "stream",
     "text": [
      "Epoch: 535 Training Loss: 504849.97173817456\n"
     ]
    },
    {
     "name": "stderr",
     "output_type": "stream",
     "text": [
      "100%|██████████| 470/470 [00:21<00:00, 21.58it/s]\n",
      "  1%|          | 3/470 [00:00<00:22, 20.96it/s]"
     ]
    },
    {
     "name": "stdout",
     "output_type": "stream",
     "text": [
      "Epoch: 536 Training Loss: 541310.4954440445\n"
     ]
    },
    {
     "name": "stderr",
     "output_type": "stream",
     "text": [
      "100%|██████████| 470/470 [00:21<00:00, 21.74it/s]\n",
      "  1%|          | 3/470 [00:00<00:20, 23.14it/s]"
     ]
    },
    {
     "name": "stdout",
     "output_type": "stream",
     "text": [
      "Epoch: 537 Training Loss: 536171.096096158\n"
     ]
    },
    {
     "name": "stderr",
     "output_type": "stream",
     "text": [
      "100%|██████████| 470/470 [00:21<00:00, 22.22it/s]\n",
      "  1%|          | 3/470 [00:00<00:20, 23.11it/s]"
     ]
    },
    {
     "name": "stdout",
     "output_type": "stream",
     "text": [
      "Epoch: 538 Training Loss: 413148.41517591476\n"
     ]
    },
    {
     "name": "stderr",
     "output_type": "stream",
     "text": [
      "100%|██████████| 470/470 [00:21<00:00, 21.71it/s]\n",
      "  1%|          | 3/470 [00:00<00:22, 20.95it/s]"
     ]
    },
    {
     "name": "stdout",
     "output_type": "stream",
     "text": [
      "Epoch: 539 Training Loss: 521912.23176499456\n"
     ]
    },
    {
     "name": "stderr",
     "output_type": "stream",
     "text": [
      "100%|██████████| 470/470 [00:21<00:00, 22.09it/s]\n",
      "  1%|          | 3/470 [00:00<00:22, 21.05it/s]"
     ]
    },
    {
     "name": "stdout",
     "output_type": "stream",
     "text": [
      "Epoch: 540 Training Loss: 394883.322110042\n"
     ]
    },
    {
     "name": "stderr",
     "output_type": "stream",
     "text": [
      "100%|██████████| 470/470 [00:21<00:00, 21.95it/s]\n",
      "  0%|          | 2/470 [00:00<00:25, 18.27it/s]"
     ]
    },
    {
     "name": "stdout",
     "output_type": "stream",
     "text": [
      "Epoch: 541 Training Loss: 546312.1811567694\n"
     ]
    },
    {
     "name": "stderr",
     "output_type": "stream",
     "text": [
      "100%|██████████| 470/470 [00:21<00:00, 21.80it/s]\n",
      "  1%|          | 3/470 [00:00<00:20, 22.44it/s]"
     ]
    },
    {
     "name": "stdout",
     "output_type": "stream",
     "text": [
      "Epoch: 542 Training Loss: 533488.2680897936\n"
     ]
    },
    {
     "name": "stderr",
     "output_type": "stream",
     "text": [
      "100%|██████████| 470/470 [00:21<00:00, 21.92it/s]\n",
      "  1%|          | 3/470 [00:00<00:22, 21.14it/s]"
     ]
    },
    {
     "name": "stdout",
     "output_type": "stream",
     "text": [
      "Epoch: 543 Training Loss: 421261.21093581617\n"
     ]
    },
    {
     "name": "stderr",
     "output_type": "stream",
     "text": [
      "100%|██████████| 470/470 [00:21<00:00, 21.86it/s]\n",
      "  0%|          | 2/470 [00:00<00:28, 16.39it/s]"
     ]
    },
    {
     "name": "stdout",
     "output_type": "stream",
     "text": [
      "Epoch: 544 Training Loss: 401121.8166256547\n"
     ]
    },
    {
     "name": "stderr",
     "output_type": "stream",
     "text": [
      "100%|██████████| 470/470 [00:21<00:00, 21.95it/s]\n",
      "  1%|          | 3/470 [00:00<00:20, 22.72it/s]"
     ]
    },
    {
     "name": "stdout",
     "output_type": "stream",
     "text": [
      "Epoch: 545 Training Loss: 489809.0539497584\n"
     ]
    },
    {
     "name": "stderr",
     "output_type": "stream",
     "text": [
      "100%|██████████| 470/470 [00:20<00:00, 22.44it/s]\n",
      "  1%|          | 3/470 [00:00<00:22, 21.02it/s]"
     ]
    },
    {
     "name": "stdout",
     "output_type": "stream",
     "text": [
      "Epoch: 546 Training Loss: 380600.1048266068\n"
     ]
    },
    {
     "name": "stderr",
     "output_type": "stream",
     "text": [
      "100%|██████████| 470/470 [00:21<00:00, 21.81it/s]\n",
      "  1%|          | 3/470 [00:00<00:22, 20.88it/s]"
     ]
    },
    {
     "name": "stdout",
     "output_type": "stream",
     "text": [
      "Epoch: 547 Training Loss: 528943.6614502072\n"
     ]
    },
    {
     "name": "stderr",
     "output_type": "stream",
     "text": [
      "100%|██████████| 470/470 [00:21<00:00, 22.24it/s]\n",
      "  1%|          | 3/470 [00:00<00:22, 21.01it/s]"
     ]
    },
    {
     "name": "stdout",
     "output_type": "stream",
     "text": [
      "Epoch: 548 Training Loss: 491807.41116432846\n"
     ]
    },
    {
     "name": "stderr",
     "output_type": "stream",
     "text": [
      "100%|██████████| 470/470 [00:21<00:00, 21.82it/s]\n",
      "  0%|          | 2/470 [00:00<00:24, 18.78it/s]"
     ]
    },
    {
     "name": "stdout",
     "output_type": "stream",
     "text": [
      "Epoch: 549 Training Loss: 436556.08006580174\n"
     ]
    },
    {
     "name": "stderr",
     "output_type": "stream",
     "text": [
      "100%|██████████| 470/470 [00:20<00:00, 22.40it/s]\n",
      "  1%|          | 3/470 [00:00<00:20, 22.30it/s]"
     ]
    },
    {
     "name": "stdout",
     "output_type": "stream",
     "text": [
      "Epoch: 550 Training Loss: 511989.4688435383\n"
     ]
    },
    {
     "name": "stderr",
     "output_type": "stream",
     "text": [
      "100%|██████████| 470/470 [00:21<00:00, 22.00it/s]\n",
      "  1%|          | 3/470 [00:00<00:22, 21.03it/s]"
     ]
    },
    {
     "name": "stdout",
     "output_type": "stream",
     "text": [
      "Epoch: 551 Training Loss: 372656.8599885851\n"
     ]
    },
    {
     "name": "stderr",
     "output_type": "stream",
     "text": [
      "100%|██████████| 470/470 [00:21<00:00, 22.00it/s]\n",
      "  1%|          | 3/470 [00:00<00:22, 20.91it/s]"
     ]
    },
    {
     "name": "stdout",
     "output_type": "stream",
     "text": [
      "Epoch: 552 Training Loss: 436536.07288743183\n"
     ]
    },
    {
     "name": "stderr",
     "output_type": "stream",
     "text": [
      "100%|██████████| 470/470 [00:21<00:00, 22.25it/s]\n",
      "  1%|          | 3/470 [00:00<00:22, 21.10it/s]"
     ]
    },
    {
     "name": "stdout",
     "output_type": "stream",
     "text": [
      "Epoch: 553 Training Loss: 482642.05449192226\n"
     ]
    },
    {
     "name": "stderr",
     "output_type": "stream",
     "text": [
      "100%|██████████| 470/470 [00:21<00:00, 22.24it/s]\n",
      "  1%|          | 3/470 [00:00<00:20, 22.63it/s]"
     ]
    },
    {
     "name": "stdout",
     "output_type": "stream",
     "text": [
      "Epoch: 554 Training Loss: 471521.863861531\n"
     ]
    },
    {
     "name": "stderr",
     "output_type": "stream",
     "text": [
      "100%|██████████| 470/470 [00:21<00:00, 21.97it/s]\n",
      "  1%|          | 3/470 [00:00<00:21, 21.31it/s]"
     ]
    },
    {
     "name": "stdout",
     "output_type": "stream",
     "text": [
      "Epoch: 555 Training Loss: 530133.0448780358\n"
     ]
    },
    {
     "name": "stderr",
     "output_type": "stream",
     "text": [
      "100%|██████████| 470/470 [00:21<00:00, 21.73it/s]\n",
      "  1%|          | 3/470 [00:00<00:22, 21.18it/s]"
     ]
    },
    {
     "name": "stdout",
     "output_type": "stream",
     "text": [
      "Epoch: 556 Training Loss: 498248.65759765357\n"
     ]
    },
    {
     "name": "stderr",
     "output_type": "stream",
     "text": [
      "100%|██████████| 470/470 [00:21<00:00, 21.98it/s]\n",
      "  1%|          | 3/470 [00:00<00:21, 21.61it/s]"
     ]
    },
    {
     "name": "stdout",
     "output_type": "stream",
     "text": [
      "Epoch: 557 Training Loss: 596197.6698582023\n"
     ]
    },
    {
     "name": "stderr",
     "output_type": "stream",
     "text": [
      "100%|██████████| 470/470 [00:21<00:00, 21.85it/s]\n",
      "  1%|          | 3/470 [00:00<00:21, 22.21it/s]"
     ]
    },
    {
     "name": "stdout",
     "output_type": "stream",
     "text": [
      "Epoch: 558 Training Loss: 506414.910699714\n"
     ]
    },
    {
     "name": "stderr",
     "output_type": "stream",
     "text": [
      "100%|██████████| 470/470 [00:21<00:00, 22.06it/s]\n",
      "  1%|          | 3/470 [00:00<00:20, 22.82it/s]"
     ]
    },
    {
     "name": "stdout",
     "output_type": "stream",
     "text": [
      "Epoch: 559 Training Loss: 465009.919214841\n"
     ]
    },
    {
     "name": "stderr",
     "output_type": "stream",
     "text": [
      "100%|██████████| 470/470 [00:21<00:00, 21.97it/s]\n",
      "  1%|          | 3/470 [00:00<00:20, 22.81it/s]"
     ]
    },
    {
     "name": "stdout",
     "output_type": "stream",
     "text": [
      "Epoch: 560 Training Loss: 395884.64750804007\n"
     ]
    },
    {
     "name": "stderr",
     "output_type": "stream",
     "text": [
      "100%|██████████| 470/470 [00:21<00:00, 21.86it/s]\n",
      "  1%|          | 3/470 [00:00<00:21, 22.18it/s]"
     ]
    },
    {
     "name": "stdout",
     "output_type": "stream",
     "text": [
      "Epoch: 561 Training Loss: 561222.8622110039\n"
     ]
    },
    {
     "name": "stderr",
     "output_type": "stream",
     "text": [
      "100%|██████████| 470/470 [00:21<00:00, 21.89it/s]\n",
      "  1%|          | 3/470 [00:00<00:22, 21.12it/s]"
     ]
    },
    {
     "name": "stdout",
     "output_type": "stream",
     "text": [
      "Epoch: 562 Training Loss: 513430.1721965298\n"
     ]
    },
    {
     "name": "stderr",
     "output_type": "stream",
     "text": [
      "100%|██████████| 470/470 [00:21<00:00, 21.42it/s]\n",
      "  1%|          | 3/470 [00:00<00:20, 22.96it/s]"
     ]
    },
    {
     "name": "stdout",
     "output_type": "stream",
     "text": [
      "Epoch: 563 Training Loss: 402679.5983196348\n"
     ]
    },
    {
     "name": "stderr",
     "output_type": "stream",
     "text": [
      "100%|██████████| 470/470 [00:21<00:00, 21.56it/s]\n",
      "  1%|          | 3/470 [00:00<00:20, 22.73it/s]"
     ]
    },
    {
     "name": "stdout",
     "output_type": "stream",
     "text": [
      "Epoch: 564 Training Loss: 515944.8773086965\n"
     ]
    },
    {
     "name": "stderr",
     "output_type": "stream",
     "text": [
      "100%|██████████| 470/470 [00:21<00:00, 22.08it/s]\n",
      "  1%|          | 3/470 [00:00<00:22, 21.02it/s]"
     ]
    },
    {
     "name": "stdout",
     "output_type": "stream",
     "text": [
      "Epoch: 565 Training Loss: 439858.35163702816\n"
     ]
    },
    {
     "name": "stderr",
     "output_type": "stream",
     "text": [
      "100%|██████████| 470/470 [00:20<00:00, 22.54it/s]\n",
      "  0%|          | 2/470 [00:00<00:27, 16.90it/s]"
     ]
    },
    {
     "name": "stdout",
     "output_type": "stream",
     "text": [
      "Epoch: 566 Training Loss: 520380.85944868624\n"
     ]
    },
    {
     "name": "stderr",
     "output_type": "stream",
     "text": [
      "100%|██████████| 470/470 [00:21<00:00, 21.92it/s]\n",
      "  1%|          | 3/470 [00:00<00:22, 20.94it/s]"
     ]
    },
    {
     "name": "stdout",
     "output_type": "stream",
     "text": [
      "Epoch: 567 Training Loss: 560112.0858210474\n"
     ]
    },
    {
     "name": "stderr",
     "output_type": "stream",
     "text": [
      "100%|██████████| 470/470 [00:21<00:00, 21.94it/s]\n",
      "  1%|          | 3/470 [00:00<00:22, 20.73it/s]"
     ]
    },
    {
     "name": "stdout",
     "output_type": "stream",
     "text": [
      "Epoch: 568 Training Loss: 503859.48078653216\n"
     ]
    },
    {
     "name": "stderr",
     "output_type": "stream",
     "text": [
      "100%|██████████| 470/470 [00:21<00:00, 22.08it/s]\n",
      "  0%|          | 2/470 [00:00<00:25, 18.09it/s]"
     ]
    },
    {
     "name": "stdout",
     "output_type": "stream",
     "text": [
      "Epoch: 569 Training Loss: 389917.88142339885\n"
     ]
    },
    {
     "name": "stderr",
     "output_type": "stream",
     "text": [
      "100%|██████████| 470/470 [00:21<00:00, 21.92it/s]\n",
      "  1%|          | 3/470 [00:00<00:22, 20.95it/s]"
     ]
    },
    {
     "name": "stdout",
     "output_type": "stream",
     "text": [
      "Epoch: 570 Training Loss: 445291.7200400904\n"
     ]
    },
    {
     "name": "stderr",
     "output_type": "stream",
     "text": [
      "100%|██████████| 470/470 [00:21<00:00, 21.59it/s]\n",
      "  1%|          | 3/470 [00:00<00:21, 21.46it/s]"
     ]
    },
    {
     "name": "stdout",
     "output_type": "stream",
     "text": [
      "Epoch: 571 Training Loss: 522674.7766526416\n"
     ]
    },
    {
     "name": "stderr",
     "output_type": "stream",
     "text": [
      "100%|██████████| 470/470 [00:21<00:00, 21.85it/s]\n",
      "  1%|          | 3/470 [00:00<00:22, 21.16it/s]"
     ]
    },
    {
     "name": "stdout",
     "output_type": "stream",
     "text": [
      "Epoch: 572 Training Loss: 581316.4821900576\n"
     ]
    },
    {
     "name": "stderr",
     "output_type": "stream",
     "text": [
      "100%|██████████| 470/470 [00:21<00:00, 21.53it/s]\n",
      "  1%|          | 3/470 [00:00<00:21, 22.11it/s]"
     ]
    },
    {
     "name": "stdout",
     "output_type": "stream",
     "text": [
      "Epoch: 573 Training Loss: 500287.08674890175\n"
     ]
    },
    {
     "name": "stderr",
     "output_type": "stream",
     "text": [
      "100%|██████████| 470/470 [00:21<00:00, 22.19it/s]\n",
      "  0%|          | 2/470 [00:00<00:27, 16.88it/s]"
     ]
    },
    {
     "name": "stdout",
     "output_type": "stream",
     "text": [
      "Epoch: 574 Training Loss: 422734.39741874486\n"
     ]
    },
    {
     "name": "stderr",
     "output_type": "stream",
     "text": [
      "100%|██████████| 470/470 [00:21<00:00, 21.61it/s]\n",
      "  1%|          | 3/470 [00:00<00:21, 22.15it/s]"
     ]
    },
    {
     "name": "stdout",
     "output_type": "stream",
     "text": [
      "Epoch: 575 Training Loss: 442084.60890826397\n"
     ]
    },
    {
     "name": "stderr",
     "output_type": "stream",
     "text": [
      "100%|██████████| 470/470 [00:21<00:00, 22.04it/s]\n",
      "  1%|          | 3/470 [00:00<00:22, 20.70it/s]"
     ]
    },
    {
     "name": "stdout",
     "output_type": "stream",
     "text": [
      "Epoch: 576 Training Loss: 466616.7125156969\n"
     ]
    },
    {
     "name": "stderr",
     "output_type": "stream",
     "text": [
      "100%|██████████| 470/470 [00:21<00:00, 21.85it/s]\n",
      "  1%|          | 3/470 [00:00<00:21, 21.61it/s]"
     ]
    },
    {
     "name": "stdout",
     "output_type": "stream",
     "text": [
      "Epoch: 577 Training Loss: 619990.0244726017\n"
     ]
    },
    {
     "name": "stderr",
     "output_type": "stream",
     "text": [
      "100%|██████████| 470/470 [00:21<00:00, 22.05it/s]\n",
      "  1%|          | 3/470 [00:00<00:21, 21.25it/s]"
     ]
    },
    {
     "name": "stdout",
     "output_type": "stream",
     "text": [
      "Epoch: 578 Training Loss: 439329.77687977254\n"
     ]
    },
    {
     "name": "stderr",
     "output_type": "stream",
     "text": [
      "100%|██████████| 470/470 [00:21<00:00, 21.62it/s]\n",
      "  1%|          | 3/470 [00:00<00:22, 21.18it/s]"
     ]
    },
    {
     "name": "stdout",
     "output_type": "stream",
     "text": [
      "Epoch: 579 Training Loss: 450745.0308704041\n"
     ]
    },
    {
     "name": "stderr",
     "output_type": "stream",
     "text": [
      "100%|██████████| 470/470 [00:21<00:00, 21.73it/s]\n",
      "  1%|          | 3/470 [00:00<00:22, 20.86it/s]"
     ]
    },
    {
     "name": "stdout",
     "output_type": "stream",
     "text": [
      "Epoch: 580 Training Loss: 488420.65686227754\n"
     ]
    },
    {
     "name": "stderr",
     "output_type": "stream",
     "text": [
      "100%|██████████| 470/470 [00:21<00:00, 21.70it/s]\n",
      "  0%|          | 2/470 [00:00<00:23, 19.53it/s]"
     ]
    },
    {
     "name": "stdout",
     "output_type": "stream",
     "text": [
      "Epoch: 581 Training Loss: 405064.98751567304\n"
     ]
    },
    {
     "name": "stderr",
     "output_type": "stream",
     "text": [
      "100%|██████████| 470/470 [00:21<00:00, 22.03it/s]\n",
      "  0%|          | 2/470 [00:00<00:24, 18.84it/s]"
     ]
    },
    {
     "name": "stdout",
     "output_type": "stream",
     "text": [
      "Epoch: 582 Training Loss: 421731.3488759771\n"
     ]
    },
    {
     "name": "stderr",
     "output_type": "stream",
     "text": [
      "100%|██████████| 470/470 [00:21<00:00, 21.56it/s]\n",
      "  0%|          | 2/470 [00:00<00:27, 16.81it/s]"
     ]
    },
    {
     "name": "stdout",
     "output_type": "stream",
     "text": [
      "Epoch: 583 Training Loss: 488638.3374814391\n"
     ]
    },
    {
     "name": "stderr",
     "output_type": "stream",
     "text": [
      "100%|██████████| 470/470 [00:21<00:00, 21.38it/s]\n",
      "  1%|          | 3/470 [00:00<00:22, 21.01it/s]"
     ]
    },
    {
     "name": "stdout",
     "output_type": "stream",
     "text": [
      "Epoch: 584 Training Loss: 553370.3416148871\n"
     ]
    },
    {
     "name": "stderr",
     "output_type": "stream",
     "text": [
      "100%|██████████| 470/470 [00:22<00:00, 21.32it/s]\n",
      "  0%|          | 2/470 [00:00<00:24, 19.04it/s]"
     ]
    },
    {
     "name": "stdout",
     "output_type": "stream",
     "text": [
      "Epoch: 585 Training Loss: 472336.28392872214\n"
     ]
    },
    {
     "name": "stderr",
     "output_type": "stream",
     "text": [
      "100%|██████████| 470/470 [00:21<00:00, 21.66it/s]\n",
      "  1%|          | 3/470 [00:00<00:24, 19.20it/s]"
     ]
    },
    {
     "name": "stdout",
     "output_type": "stream",
     "text": [
      "Epoch: 586 Training Loss: 418010.35496126115\n"
     ]
    },
    {
     "name": "stderr",
     "output_type": "stream",
     "text": [
      "100%|██████████| 470/470 [00:21<00:00, 21.82it/s]\n",
      "  1%|          | 3/470 [00:00<00:20, 22.31it/s]"
     ]
    },
    {
     "name": "stdout",
     "output_type": "stream",
     "text": [
      "Epoch: 587 Training Loss: 442695.6834270209\n"
     ]
    },
    {
     "name": "stderr",
     "output_type": "stream",
     "text": [
      "100%|██████████| 470/470 [00:21<00:00, 21.57it/s]\n",
      "  1%|          | 3/470 [00:00<00:22, 20.95it/s]"
     ]
    },
    {
     "name": "stdout",
     "output_type": "stream",
     "text": [
      "Epoch: 588 Training Loss: 454855.79250023514\n"
     ]
    },
    {
     "name": "stderr",
     "output_type": "stream",
     "text": [
      "100%|██████████| 470/470 [00:21<00:00, 21.62it/s]\n",
      "  1%|          | 3/470 [00:00<00:21, 22.00it/s]"
     ]
    },
    {
     "name": "stdout",
     "output_type": "stream",
     "text": [
      "Epoch: 589 Training Loss: 448468.5115404576\n"
     ]
    },
    {
     "name": "stderr",
     "output_type": "stream",
     "text": [
      "100%|██████████| 470/470 [00:21<00:00, 21.74it/s]\n",
      "  1%|          | 3/470 [00:00<00:20, 22.50it/s]"
     ]
    },
    {
     "name": "stdout",
     "output_type": "stream",
     "text": [
      "Epoch: 590 Training Loss: 444299.6519277189\n"
     ]
    },
    {
     "name": "stderr",
     "output_type": "stream",
     "text": [
      "100%|██████████| 470/470 [00:21<00:00, 22.01it/s]\n",
      "  1%|          | 3/470 [00:00<00:20, 23.09it/s]"
     ]
    },
    {
     "name": "stdout",
     "output_type": "stream",
     "text": [
      "Epoch: 591 Training Loss: 522421.41383318603\n"
     ]
    },
    {
     "name": "stderr",
     "output_type": "stream",
     "text": [
      "100%|██████████| 470/470 [00:21<00:00, 21.66it/s]\n",
      "  1%|          | 3/470 [00:00<00:22, 21.20it/s]"
     ]
    },
    {
     "name": "stdout",
     "output_type": "stream",
     "text": [
      "Epoch: 592 Training Loss: 461507.8176553361\n"
     ]
    },
    {
     "name": "stderr",
     "output_type": "stream",
     "text": [
      "100%|██████████| 470/470 [00:21<00:00, 21.72it/s]\n",
      "  1%|          | 3/470 [00:00<00:22, 20.86it/s]"
     ]
    },
    {
     "name": "stdout",
     "output_type": "stream",
     "text": [
      "Epoch: 593 Training Loss: 527585.5101841986\n"
     ]
    },
    {
     "name": "stderr",
     "output_type": "stream",
     "text": [
      "100%|██████████| 470/470 [00:21<00:00, 22.13it/s]\n",
      "  1%|          | 3/470 [00:00<00:22, 21.10it/s]"
     ]
    },
    {
     "name": "stdout",
     "output_type": "stream",
     "text": [
      "Epoch: 594 Training Loss: 469335.1899611801\n"
     ]
    },
    {
     "name": "stderr",
     "output_type": "stream",
     "text": [
      "100%|██████████| 470/470 [00:21<00:00, 22.25it/s]\n",
      "  0%|          | 2/470 [00:00<00:24, 19.31it/s]"
     ]
    },
    {
     "name": "stdout",
     "output_type": "stream",
     "text": [
      "Epoch: 595 Training Loss: 460673.0014999062\n"
     ]
    },
    {
     "name": "stderr",
     "output_type": "stream",
     "text": [
      "100%|██████████| 470/470 [00:21<00:00, 21.86it/s]\n",
      "  1%|          | 3/470 [00:00<00:22, 20.59it/s]"
     ]
    },
    {
     "name": "stdout",
     "output_type": "stream",
     "text": [
      "Epoch: 596 Training Loss: 429177.3173492253\n"
     ]
    },
    {
     "name": "stderr",
     "output_type": "stream",
     "text": [
      "100%|██████████| 470/470 [00:21<00:00, 21.94it/s]\n",
      "  1%|          | 3/470 [00:00<00:22, 20.63it/s]"
     ]
    },
    {
     "name": "stdout",
     "output_type": "stream",
     "text": [
      "Epoch: 597 Training Loss: 441155.67441399395\n"
     ]
    },
    {
     "name": "stderr",
     "output_type": "stream",
     "text": [
      "100%|██████████| 470/470 [00:21<00:00, 21.62it/s]\n",
      "  1%|          | 3/470 [00:00<00:21, 21.45it/s]"
     ]
    },
    {
     "name": "stdout",
     "output_type": "stream",
     "text": [
      "Epoch: 598 Training Loss: 396632.8117121458\n"
     ]
    },
    {
     "name": "stderr",
     "output_type": "stream",
     "text": [
      "100%|██████████| 470/470 [00:21<00:00, 22.16it/s]\n",
      "  1%|          | 3/470 [00:00<00:22, 21.05it/s]"
     ]
    },
    {
     "name": "stdout",
     "output_type": "stream",
     "text": [
      "Epoch: 599 Training Loss: 504539.8201470934\n"
     ]
    },
    {
     "name": "stderr",
     "output_type": "stream",
     "text": [
      "100%|██████████| 470/470 [00:21<00:00, 21.44it/s]\n",
      "  0%|          | 2/470 [00:00<00:23, 19.96it/s]"
     ]
    },
    {
     "name": "stdout",
     "output_type": "stream",
     "text": [
      "Epoch: 600 Training Loss: 506776.27903686464\n"
     ]
    },
    {
     "name": "stderr",
     "output_type": "stream",
     "text": [
      "100%|██████████| 470/470 [00:21<00:00, 21.77it/s]\n",
      "  0%|          | 2/470 [00:00<00:28, 16.64it/s]"
     ]
    },
    {
     "name": "stdout",
     "output_type": "stream",
     "text": [
      "Epoch: 601 Training Loss: 521590.92167660594\n"
     ]
    },
    {
     "name": "stderr",
     "output_type": "stream",
     "text": [
      "100%|██████████| 470/470 [00:21<00:00, 22.01it/s]\n",
      "  0%|          | 2/470 [00:00<00:27, 16.73it/s]"
     ]
    },
    {
     "name": "stdout",
     "output_type": "stream",
     "text": [
      "Epoch: 602 Training Loss: 437117.1588565856\n"
     ]
    },
    {
     "name": "stderr",
     "output_type": "stream",
     "text": [
      "100%|██████████| 470/470 [00:21<00:00, 22.04it/s]\n",
      "  1%|          | 3/470 [00:00<00:21, 22.21it/s]"
     ]
    },
    {
     "name": "stdout",
     "output_type": "stream",
     "text": [
      "Epoch: 603 Training Loss: 441684.4060857445\n"
     ]
    },
    {
     "name": "stderr",
     "output_type": "stream",
     "text": [
      "100%|██████████| 470/470 [00:21<00:00, 21.72it/s]\n",
      "  1%|          | 3/470 [00:00<00:20, 22.26it/s]"
     ]
    },
    {
     "name": "stdout",
     "output_type": "stream",
     "text": [
      "Epoch: 604 Training Loss: 417032.8879913669\n"
     ]
    },
    {
     "name": "stderr",
     "output_type": "stream",
     "text": [
      "100%|██████████| 470/470 [00:21<00:00, 22.08it/s]\n",
      "  1%|          | 3/470 [00:00<00:20, 22.33it/s]"
     ]
    },
    {
     "name": "stdout",
     "output_type": "stream",
     "text": [
      "Epoch: 605 Training Loss: 469110.97919106483\n"
     ]
    },
    {
     "name": "stderr",
     "output_type": "stream",
     "text": [
      "100%|██████████| 470/470 [00:21<00:00, 21.58it/s]\n",
      "  1%|          | 3/470 [00:00<00:20, 22.89it/s]"
     ]
    },
    {
     "name": "stdout",
     "output_type": "stream",
     "text": [
      "Epoch: 606 Training Loss: 478936.27295811474\n"
     ]
    },
    {
     "name": "stderr",
     "output_type": "stream",
     "text": [
      "100%|██████████| 470/470 [00:21<00:00, 21.70it/s]\n",
      "  1%|          | 3/470 [00:00<00:22, 21.07it/s]"
     ]
    },
    {
     "name": "stdout",
     "output_type": "stream",
     "text": [
      "Epoch: 607 Training Loss: 511818.8777848482\n"
     ]
    },
    {
     "name": "stderr",
     "output_type": "stream",
     "text": [
      "100%|██████████| 470/470 [00:21<00:00, 21.52it/s]\n",
      "  1%|          | 3/470 [00:00<00:22, 21.00it/s]"
     ]
    },
    {
     "name": "stdout",
     "output_type": "stream",
     "text": [
      "Epoch: 608 Training Loss: 473961.8896545023\n"
     ]
    },
    {
     "name": "stderr",
     "output_type": "stream",
     "text": [
      "100%|██████████| 470/470 [00:21<00:00, 22.09it/s]\n",
      "  1%|          | 3/470 [00:00<00:22, 20.89it/s]"
     ]
    },
    {
     "name": "stdout",
     "output_type": "stream",
     "text": [
      "Epoch: 609 Training Loss: 492939.5827139169\n"
     ]
    },
    {
     "name": "stderr",
     "output_type": "stream",
     "text": [
      "100%|██████████| 470/470 [00:21<00:00, 22.11it/s]\n",
      "  0%|          | 2/470 [00:00<00:23, 19.72it/s]"
     ]
    },
    {
     "name": "stdout",
     "output_type": "stream",
     "text": [
      "Epoch: 610 Training Loss: 607723.3434007429\n"
     ]
    },
    {
     "name": "stderr",
     "output_type": "stream",
     "text": [
      "100%|██████████| 470/470 [00:21<00:00, 21.70it/s]\n",
      "  1%|          | 3/470 [00:00<00:22, 21.04it/s]"
     ]
    },
    {
     "name": "stdout",
     "output_type": "stream",
     "text": [
      "Epoch: 611 Training Loss: 458648.7386812866\n"
     ]
    },
    {
     "name": "stderr",
     "output_type": "stream",
     "text": [
      "100%|██████████| 470/470 [00:21<00:00, 21.91it/s]\n",
      "  1%|          | 3/470 [00:00<00:20, 22.96it/s]"
     ]
    },
    {
     "name": "stdout",
     "output_type": "stream",
     "text": [
      "Epoch: 612 Training Loss: 437000.8318198491\n"
     ]
    },
    {
     "name": "stderr",
     "output_type": "stream",
     "text": [
      "100%|██████████| 470/470 [00:21<00:00, 21.82it/s]\n",
      "  1%|          | 3/470 [00:00<00:21, 21.95it/s]"
     ]
    },
    {
     "name": "stdout",
     "output_type": "stream",
     "text": [
      "Epoch: 613 Training Loss: 535113.9842756987\n"
     ]
    },
    {
     "name": "stderr",
     "output_type": "stream",
     "text": [
      "100%|██████████| 470/470 [00:21<00:00, 21.72it/s]\n",
      "  1%|          | 3/470 [00:00<00:22, 20.91it/s]"
     ]
    },
    {
     "name": "stdout",
     "output_type": "stream",
     "text": [
      "Epoch: 614 Training Loss: 386036.7656497061\n"
     ]
    },
    {
     "name": "stderr",
     "output_type": "stream",
     "text": [
      "100%|██████████| 470/470 [00:21<00:00, 21.63it/s]\n",
      "  1%|          | 3/470 [00:00<00:22, 20.77it/s]"
     ]
    },
    {
     "name": "stdout",
     "output_type": "stream",
     "text": [
      "Epoch: 615 Training Loss: 492807.5277466774\n"
     ]
    },
    {
     "name": "stderr",
     "output_type": "stream",
     "text": [
      "100%|██████████| 470/470 [00:21<00:00, 21.84it/s]\n",
      "  0%|          | 2/470 [00:00<00:27, 17.01it/s]"
     ]
    },
    {
     "name": "stdout",
     "output_type": "stream",
     "text": [
      "Epoch: 616 Training Loss: 458745.23442959785\n"
     ]
    },
    {
     "name": "stderr",
     "output_type": "stream",
     "text": [
      "100%|██████████| 470/470 [00:21<00:00, 21.63it/s]\n",
      "  1%|          | 3/470 [00:00<00:21, 21.37it/s]"
     ]
    },
    {
     "name": "stdout",
     "output_type": "stream",
     "text": [
      "Epoch: 617 Training Loss: 466935.9224537164\n"
     ]
    },
    {
     "name": "stderr",
     "output_type": "stream",
     "text": [
      "100%|██████████| 470/470 [00:21<00:00, 21.85it/s]\n",
      "  1%|          | 3/470 [00:00<00:20, 22.60it/s]"
     ]
    },
    {
     "name": "stdout",
     "output_type": "stream",
     "text": [
      "Epoch: 618 Training Loss: 518079.35055784136\n"
     ]
    },
    {
     "name": "stderr",
     "output_type": "stream",
     "text": [
      "100%|██████████| 470/470 [00:21<00:00, 21.89it/s]\n",
      "  0%|          | 2/470 [00:00<00:27, 16.98it/s]"
     ]
    },
    {
     "name": "stdout",
     "output_type": "stream",
     "text": [
      "Epoch: 619 Training Loss: 521514.4671135694\n"
     ]
    },
    {
     "name": "stderr",
     "output_type": "stream",
     "text": [
      "100%|██████████| 470/470 [00:21<00:00, 21.97it/s]\n",
      "  1%|          | 3/470 [00:00<00:21, 22.23it/s]"
     ]
    },
    {
     "name": "stdout",
     "output_type": "stream",
     "text": [
      "Epoch: 620 Training Loss: 469202.18158004433\n"
     ]
    },
    {
     "name": "stderr",
     "output_type": "stream",
     "text": [
      "100%|██████████| 470/470 [00:21<00:00, 21.93it/s]\n",
      "  1%|          | 3/470 [00:00<00:22, 20.67it/s]"
     ]
    },
    {
     "name": "stdout",
     "output_type": "stream",
     "text": [
      "Epoch: 621 Training Loss: 533302.7659188807\n"
     ]
    },
    {
     "name": "stderr",
     "output_type": "stream",
     "text": [
      "100%|██████████| 470/470 [00:21<00:00, 22.00it/s]\n",
      "  1%|          | 3/470 [00:00<00:22, 20.83it/s]"
     ]
    },
    {
     "name": "stdout",
     "output_type": "stream",
     "text": [
      "Epoch: 622 Training Loss: 418252.8326199502\n"
     ]
    },
    {
     "name": "stderr",
     "output_type": "stream",
     "text": [
      "100%|██████████| 470/470 [00:21<00:00, 21.77it/s]\n",
      "  0%|          | 2/470 [00:00<00:27, 17.16it/s]"
     ]
    },
    {
     "name": "stdout",
     "output_type": "stream",
     "text": [
      "Epoch: 623 Training Loss: 424848.8078239113\n"
     ]
    },
    {
     "name": "stderr",
     "output_type": "stream",
     "text": [
      "100%|██████████| 470/470 [00:21<00:00, 22.10it/s]\n",
      "  0%|          | 2/470 [00:00<00:24, 19.33it/s]"
     ]
    },
    {
     "name": "stdout",
     "output_type": "stream",
     "text": [
      "Epoch: 624 Training Loss: 396763.87267929316\n"
     ]
    },
    {
     "name": "stderr",
     "output_type": "stream",
     "text": [
      "100%|██████████| 470/470 [00:21<00:00, 21.71it/s]\n",
      "  1%|          | 3/470 [00:00<00:22, 20.76it/s]"
     ]
    },
    {
     "name": "stdout",
     "output_type": "stream",
     "text": [
      "Epoch: 625 Training Loss: 469917.8213676885\n"
     ]
    },
    {
     "name": "stderr",
     "output_type": "stream",
     "text": [
      "100%|██████████| 470/470 [00:21<00:00, 21.90it/s]\n",
      "  0%|          | 2/470 [00:00<00:23, 19.65it/s]"
     ]
    },
    {
     "name": "stdout",
     "output_type": "stream",
     "text": [
      "Epoch: 626 Training Loss: 527468.949323237\n"
     ]
    },
    {
     "name": "stderr",
     "output_type": "stream",
     "text": [
      "100%|██████████| 470/470 [00:21<00:00, 21.81it/s]\n",
      "  1%|          | 3/470 [00:00<00:20, 22.29it/s]"
     ]
    },
    {
     "name": "stdout",
     "output_type": "stream",
     "text": [
      "Epoch: 627 Training Loss: 462306.5615865886\n"
     ]
    },
    {
     "name": "stderr",
     "output_type": "stream",
     "text": [
      "100%|██████████| 470/470 [00:21<00:00, 21.69it/s]\n",
      "  1%|          | 3/470 [00:00<00:22, 21.12it/s]"
     ]
    },
    {
     "name": "stdout",
     "output_type": "stream",
     "text": [
      "Epoch: 628 Training Loss: 515708.3257001117\n"
     ]
    },
    {
     "name": "stderr",
     "output_type": "stream",
     "text": [
      "100%|██████████| 470/470 [00:21<00:00, 21.89it/s]\n",
      "  1%|          | 3/470 [00:00<00:22, 20.77it/s]"
     ]
    },
    {
     "name": "stdout",
     "output_type": "stream",
     "text": [
      "Epoch: 629 Training Loss: 529910.1187348366\n"
     ]
    },
    {
     "name": "stderr",
     "output_type": "stream",
     "text": [
      "100%|██████████| 470/470 [00:21<00:00, 22.03it/s]\n",
      "  1%|          | 3/470 [00:00<00:20, 23.12it/s]"
     ]
    },
    {
     "name": "stdout",
     "output_type": "stream",
     "text": [
      "Epoch: 630 Training Loss: 516438.08515252173\n"
     ]
    },
    {
     "name": "stderr",
     "output_type": "stream",
     "text": [
      "100%|██████████| 470/470 [00:21<00:00, 21.82it/s]\n",
      "  1%|          | 3/470 [00:00<00:22, 21.12it/s]"
     ]
    },
    {
     "name": "stdout",
     "output_type": "stream",
     "text": [
      "Epoch: 631 Training Loss: 513670.7251810208\n"
     ]
    },
    {
     "name": "stderr",
     "output_type": "stream",
     "text": [
      "100%|██████████| 470/470 [00:21<00:00, 21.70it/s]\n",
      "  1%|          | 3/470 [00:00<00:22, 21.08it/s]"
     ]
    },
    {
     "name": "stdout",
     "output_type": "stream",
     "text": [
      "Epoch: 632 Training Loss: 448244.83655643463\n"
     ]
    },
    {
     "name": "stderr",
     "output_type": "stream",
     "text": [
      "100%|██████████| 470/470 [00:21<00:00, 21.67it/s]\n",
      "  1%|          | 3/470 [00:00<00:22, 20.81it/s]"
     ]
    },
    {
     "name": "stdout",
     "output_type": "stream",
     "text": [
      "Epoch: 633 Training Loss: 509953.3734302074\n"
     ]
    },
    {
     "name": "stderr",
     "output_type": "stream",
     "text": [
      "100%|██████████| 470/470 [00:21<00:00, 21.98it/s]\n",
      "  0%|          | 2/470 [00:00<00:24, 19.07it/s]"
     ]
    },
    {
     "name": "stdout",
     "output_type": "stream",
     "text": [
      "Epoch: 634 Training Loss: 407783.59306943417\n"
     ]
    },
    {
     "name": "stderr",
     "output_type": "stream",
     "text": [
      "100%|██████████| 470/470 [00:21<00:00, 22.05it/s]\n",
      "  1%|          | 3/470 [00:00<00:22, 20.47it/s]"
     ]
    },
    {
     "name": "stdout",
     "output_type": "stream",
     "text": [
      "Epoch: 635 Training Loss: 465670.28561921045\n"
     ]
    },
    {
     "name": "stderr",
     "output_type": "stream",
     "text": [
      "100%|██████████| 470/470 [00:21<00:00, 21.57it/s]\n",
      "  1%|          | 3/470 [00:00<00:21, 21.23it/s]"
     ]
    },
    {
     "name": "stdout",
     "output_type": "stream",
     "text": [
      "Epoch: 636 Training Loss: 431680.6249739826\n"
     ]
    },
    {
     "name": "stderr",
     "output_type": "stream",
     "text": [
      "100%|██████████| 470/470 [00:21<00:00, 22.06it/s]\n",
      "  0%|          | 2/470 [00:00<00:23, 19.85it/s]"
     ]
    },
    {
     "name": "stdout",
     "output_type": "stream",
     "text": [
      "Epoch: 637 Training Loss: 455409.47505508363\n"
     ]
    },
    {
     "name": "stderr",
     "output_type": "stream",
     "text": [
      "100%|██████████| 470/470 [00:21<00:00, 21.75it/s]\n",
      "  0%|          | 2/470 [00:00<00:26, 17.68it/s]"
     ]
    },
    {
     "name": "stdout",
     "output_type": "stream",
     "text": [
      "Epoch: 638 Training Loss: 452043.2706294507\n"
     ]
    },
    {
     "name": "stderr",
     "output_type": "stream",
     "text": [
      "100%|██████████| 470/470 [00:21<00:00, 21.95it/s]\n",
      "  0%|          | 2/470 [00:00<00:26, 17.50it/s]"
     ]
    },
    {
     "name": "stdout",
     "output_type": "stream",
     "text": [
      "Epoch: 639 Training Loss: 518182.8736140877\n"
     ]
    },
    {
     "name": "stderr",
     "output_type": "stream",
     "text": [
      "100%|██████████| 470/470 [00:21<00:00, 21.87it/s]\n",
      "  1%|          | 3/470 [00:00<00:20, 23.06it/s]"
     ]
    },
    {
     "name": "stdout",
     "output_type": "stream",
     "text": [
      "Epoch: 640 Training Loss: 401784.6024198681\n"
     ]
    },
    {
     "name": "stderr",
     "output_type": "stream",
     "text": [
      "100%|██████████| 470/470 [00:22<00:00, 21.32it/s]\n",
      "  1%|          | 3/470 [00:00<00:22, 20.69it/s]"
     ]
    },
    {
     "name": "stdout",
     "output_type": "stream",
     "text": [
      "Epoch: 641 Training Loss: 437660.99347667396\n"
     ]
    },
    {
     "name": "stderr",
     "output_type": "stream",
     "text": [
      "100%|██████████| 470/470 [00:21<00:00, 21.68it/s]\n",
      "  1%|          | 3/470 [00:00<00:21, 22.18it/s]"
     ]
    },
    {
     "name": "stdout",
     "output_type": "stream",
     "text": [
      "Epoch: 642 Training Loss: 495931.5998610258\n"
     ]
    },
    {
     "name": "stderr",
     "output_type": "stream",
     "text": [
      "100%|██████████| 470/470 [00:21<00:00, 21.96it/s]\n",
      "  0%|          | 2/470 [00:00<00:28, 16.60it/s]"
     ]
    },
    {
     "name": "stdout",
     "output_type": "stream",
     "text": [
      "Epoch: 643 Training Loss: 413515.56465534866\n"
     ]
    },
    {
     "name": "stderr",
     "output_type": "stream",
     "text": [
      "100%|██████████| 470/470 [00:21<00:00, 21.56it/s]\n",
      "  0%|          | 2/470 [00:00<00:27, 16.94it/s]"
     ]
    },
    {
     "name": "stdout",
     "output_type": "stream",
     "text": [
      "Epoch: 644 Training Loss: 446995.9387125969\n"
     ]
    },
    {
     "name": "stderr",
     "output_type": "stream",
     "text": [
      "100%|██████████| 470/470 [00:21<00:00, 22.12it/s]\n",
      "  1%|          | 3/470 [00:00<00:22, 20.52it/s]"
     ]
    },
    {
     "name": "stdout",
     "output_type": "stream",
     "text": [
      "Epoch: 645 Training Loss: 515027.6062114462\n"
     ]
    },
    {
     "name": "stderr",
     "output_type": "stream",
     "text": [
      "100%|██████████| 470/470 [00:21<00:00, 21.79it/s]\n",
      "  1%|          | 3/470 [00:00<00:21, 21.24it/s]"
     ]
    },
    {
     "name": "stdout",
     "output_type": "stream",
     "text": [
      "Epoch: 646 Training Loss: 548780.2740956098\n"
     ]
    },
    {
     "name": "stderr",
     "output_type": "stream",
     "text": [
      "100%|██████████| 470/470 [00:21<00:00, 21.89it/s]\n",
      "  0%|          | 2/470 [00:00<00:23, 19.69it/s]"
     ]
    },
    {
     "name": "stdout",
     "output_type": "stream",
     "text": [
      "Epoch: 647 Training Loss: 413993.259731099\n"
     ]
    },
    {
     "name": "stderr",
     "output_type": "stream",
     "text": [
      "100%|██████████| 470/470 [00:21<00:00, 22.26it/s]\n",
      "  0%|          | 2/470 [00:00<00:26, 17.35it/s]"
     ]
    },
    {
     "name": "stdout",
     "output_type": "stream",
     "text": [
      "Epoch: 648 Training Loss: 442697.78249391913\n"
     ]
    },
    {
     "name": "stderr",
     "output_type": "stream",
     "text": [
      "100%|██████████| 470/470 [00:21<00:00, 21.98it/s]\n",
      "  1%|          | 3/470 [00:00<00:20, 22.55it/s]"
     ]
    },
    {
     "name": "stdout",
     "output_type": "stream",
     "text": [
      "Epoch: 649 Training Loss: 403375.2652775422\n"
     ]
    },
    {
     "name": "stderr",
     "output_type": "stream",
     "text": [
      "100%|██████████| 470/470 [00:21<00:00, 22.00it/s]\n",
      "  1%|          | 3/470 [00:00<00:21, 21.29it/s]"
     ]
    },
    {
     "name": "stdout",
     "output_type": "stream",
     "text": [
      "Epoch: 650 Training Loss: 448838.9617503509\n"
     ]
    },
    {
     "name": "stderr",
     "output_type": "stream",
     "text": [
      "100%|██████████| 470/470 [00:21<00:00, 21.69it/s]\n",
      "  1%|          | 3/470 [00:00<00:22, 20.99it/s]"
     ]
    },
    {
     "name": "stdout",
     "output_type": "stream",
     "text": [
      "Epoch: 651 Training Loss: 456360.12891848385\n"
     ]
    },
    {
     "name": "stderr",
     "output_type": "stream",
     "text": [
      "100%|██████████| 470/470 [00:21<00:00, 22.16it/s]\n",
      "  1%|          | 3/470 [00:00<00:22, 21.03it/s]"
     ]
    },
    {
     "name": "stdout",
     "output_type": "stream",
     "text": [
      "Epoch: 652 Training Loss: 488582.54228664935\n"
     ]
    },
    {
     "name": "stderr",
     "output_type": "stream",
     "text": [
      "100%|██████████| 470/470 [00:21<00:00, 21.57it/s]\n",
      "  1%|          | 3/470 [00:00<00:22, 20.92it/s]"
     ]
    },
    {
     "name": "stdout",
     "output_type": "stream",
     "text": [
      "Epoch: 653 Training Loss: 466609.83686840534\n"
     ]
    },
    {
     "name": "stderr",
     "output_type": "stream",
     "text": [
      "100%|██████████| 470/470 [00:21<00:00, 21.60it/s]\n",
      "  1%|          | 3/470 [00:00<00:22, 20.87it/s]"
     ]
    },
    {
     "name": "stdout",
     "output_type": "stream",
     "text": [
      "Epoch: 654 Training Loss: 404512.89226175845\n"
     ]
    },
    {
     "name": "stderr",
     "output_type": "stream",
     "text": [
      "100%|██████████| 470/470 [00:21<00:00, 21.78it/s]\n",
      "  1%|          | 3/470 [00:00<00:21, 21.61it/s]"
     ]
    },
    {
     "name": "stdout",
     "output_type": "stream",
     "text": [
      "Epoch: 655 Training Loss: 508660.5885011405\n"
     ]
    },
    {
     "name": "stderr",
     "output_type": "stream",
     "text": [
      "100%|██████████| 470/470 [00:21<00:00, 21.85it/s]\n",
      "  0%|          | 2/470 [00:00<00:25, 18.44it/s]"
     ]
    },
    {
     "name": "stdout",
     "output_type": "stream",
     "text": [
      "Epoch: 656 Training Loss: 539574.4696004987\n"
     ]
    },
    {
     "name": "stderr",
     "output_type": "stream",
     "text": [
      "100%|██████████| 470/470 [00:21<00:00, 21.63it/s]\n",
      "  1%|          | 3/470 [00:00<00:22, 20.89it/s]"
     ]
    },
    {
     "name": "stdout",
     "output_type": "stream",
     "text": [
      "Epoch: 657 Training Loss: 432228.8463516347\n"
     ]
    },
    {
     "name": "stderr",
     "output_type": "stream",
     "text": [
      "100%|██████████| 470/470 [00:21<00:00, 21.77it/s]\n",
      "  0%|          | 2/470 [00:00<00:28, 16.52it/s]"
     ]
    },
    {
     "name": "stdout",
     "output_type": "stream",
     "text": [
      "Epoch: 658 Training Loss: 404055.46101569384\n"
     ]
    },
    {
     "name": "stderr",
     "output_type": "stream",
     "text": [
      "100%|██████████| 470/470 [00:21<00:00, 21.83it/s]\n",
      "  1%|          | 3/470 [00:00<00:23, 19.69it/s]"
     ]
    },
    {
     "name": "stdout",
     "output_type": "stream",
     "text": [
      "Epoch: 659 Training Loss: 572100.4751378745\n"
     ]
    },
    {
     "name": "stderr",
     "output_type": "stream",
     "text": [
      "100%|██████████| 470/470 [00:21<00:00, 21.91it/s]\n",
      "  0%|          | 2/470 [00:00<00:23, 19.81it/s]"
     ]
    },
    {
     "name": "stdout",
     "output_type": "stream",
     "text": [
      "Epoch: 660 Training Loss: 485693.53846545145\n"
     ]
    },
    {
     "name": "stderr",
     "output_type": "stream",
     "text": [
      "100%|██████████| 470/470 [00:21<00:00, 21.86it/s]\n",
      "  1%|          | 3/470 [00:00<00:21, 22.23it/s]"
     ]
    },
    {
     "name": "stdout",
     "output_type": "stream",
     "text": [
      "Epoch: 661 Training Loss: 447342.9859727174\n"
     ]
    },
    {
     "name": "stderr",
     "output_type": "stream",
     "text": [
      "100%|██████████| 470/470 [00:21<00:00, 21.96it/s]\n",
      "  1%|          | 3/470 [00:00<00:21, 22.23it/s]"
     ]
    },
    {
     "name": "stdout",
     "output_type": "stream",
     "text": [
      "Epoch: 662 Training Loss: 434406.02604291216\n"
     ]
    },
    {
     "name": "stderr",
     "output_type": "stream",
     "text": [
      "100%|██████████| 470/470 [00:21<00:00, 21.90it/s]\n",
      "  1%|          | 3/470 [00:00<00:21, 22.02it/s]"
     ]
    },
    {
     "name": "stdout",
     "output_type": "stream",
     "text": [
      "Epoch: 663 Training Loss: 403303.16853522137\n"
     ]
    },
    {
     "name": "stderr",
     "output_type": "stream",
     "text": [
      "100%|██████████| 470/470 [00:21<00:00, 21.91it/s]\n",
      "  0%|          | 2/470 [00:00<00:27, 16.74it/s]"
     ]
    },
    {
     "name": "stdout",
     "output_type": "stream",
     "text": [
      "Epoch: 664 Training Loss: 491902.6426869482\n"
     ]
    },
    {
     "name": "stderr",
     "output_type": "stream",
     "text": [
      "100%|██████████| 470/470 [00:21<00:00, 21.89it/s]\n",
      "  0%|          | 2/470 [00:00<00:27, 17.04it/s]"
     ]
    },
    {
     "name": "stdout",
     "output_type": "stream",
     "text": [
      "Epoch: 665 Training Loss: 491440.81176487356\n"
     ]
    },
    {
     "name": "stderr",
     "output_type": "stream",
     "text": [
      "100%|██████████| 470/470 [00:21<00:00, 22.22it/s]\n",
      "  1%|          | 3/470 [00:00<00:22, 21.00it/s]"
     ]
    },
    {
     "name": "stdout",
     "output_type": "stream",
     "text": [
      "Epoch: 666 Training Loss: 418322.9305728674\n"
     ]
    },
    {
     "name": "stderr",
     "output_type": "stream",
     "text": [
      "100%|██████████| 470/470 [00:21<00:00, 21.41it/s]\n",
      "  1%|          | 3/470 [00:00<00:21, 22.22it/s]"
     ]
    },
    {
     "name": "stdout",
     "output_type": "stream",
     "text": [
      "Epoch: 667 Training Loss: 437821.72149401903\n"
     ]
    },
    {
     "name": "stderr",
     "output_type": "stream",
     "text": [
      "100%|██████████| 470/470 [00:21<00:00, 22.06it/s]\n",
      "  1%|          | 3/470 [00:00<00:20, 22.96it/s]"
     ]
    },
    {
     "name": "stdout",
     "output_type": "stream",
     "text": [
      "Epoch: 668 Training Loss: 462937.82498788834\n"
     ]
    },
    {
     "name": "stderr",
     "output_type": "stream",
     "text": [
      "100%|██████████| 470/470 [00:21<00:00, 22.16it/s]\n",
      "  0%|          | 2/470 [00:00<00:27, 16.97it/s]"
     ]
    },
    {
     "name": "stdout",
     "output_type": "stream",
     "text": [
      "Epoch: 669 Training Loss: 507036.3732279502\n"
     ]
    },
    {
     "name": "stderr",
     "output_type": "stream",
     "text": [
      "100%|██████████| 470/470 [00:21<00:00, 21.74it/s]\n",
      "  1%|          | 3/470 [00:00<00:21, 22.12it/s]"
     ]
    },
    {
     "name": "stdout",
     "output_type": "stream",
     "text": [
      "Epoch: 670 Training Loss: 498566.9267162904\n"
     ]
    },
    {
     "name": "stderr",
     "output_type": "stream",
     "text": [
      "100%|██████████| 470/470 [00:21<00:00, 21.85it/s]\n",
      "  1%|          | 3/470 [00:00<00:22, 21.07it/s]"
     ]
    },
    {
     "name": "stdout",
     "output_type": "stream",
     "text": [
      "Epoch: 671 Training Loss: 438135.44825110584\n"
     ]
    },
    {
     "name": "stderr",
     "output_type": "stream",
     "text": [
      "100%|██████████| 470/470 [00:21<00:00, 21.92it/s]\n",
      "  0%|          | 2/470 [00:00<00:23, 19.75it/s]"
     ]
    },
    {
     "name": "stdout",
     "output_type": "stream",
     "text": [
      "Epoch: 672 Training Loss: 515111.3821875304\n"
     ]
    },
    {
     "name": "stderr",
     "output_type": "stream",
     "text": [
      "100%|██████████| 470/470 [00:21<00:00, 21.56it/s]\n",
      "  1%|          | 3/470 [00:00<00:22, 20.62it/s]"
     ]
    },
    {
     "name": "stdout",
     "output_type": "stream",
     "text": [
      "Epoch: 673 Training Loss: 433002.04126738757\n"
     ]
    },
    {
     "name": "stderr",
     "output_type": "stream",
     "text": [
      "100%|██████████| 470/470 [00:21<00:00, 22.05it/s]\n",
      "  1%|          | 3/470 [00:00<00:20, 22.28it/s]"
     ]
    },
    {
     "name": "stdout",
     "output_type": "stream",
     "text": [
      "Epoch: 674 Training Loss: 462314.0625538081\n"
     ]
    },
    {
     "name": "stderr",
     "output_type": "stream",
     "text": [
      "100%|██████████| 470/470 [00:21<00:00, 21.56it/s]\n",
      "  1%|          | 3/470 [00:00<00:21, 22.02it/s]"
     ]
    },
    {
     "name": "stdout",
     "output_type": "stream",
     "text": [
      "Epoch: 675 Training Loss: 492691.15431168675\n"
     ]
    },
    {
     "name": "stderr",
     "output_type": "stream",
     "text": [
      "100%|██████████| 470/470 [00:21<00:00, 21.82it/s]\n",
      "  1%|          | 3/470 [00:00<00:22, 20.99it/s]"
     ]
    },
    {
     "name": "stdout",
     "output_type": "stream",
     "text": [
      "Epoch: 676 Training Loss: 480943.84842637554\n"
     ]
    },
    {
     "name": "stderr",
     "output_type": "stream",
     "text": [
      "100%|██████████| 470/470 [00:21<00:00, 21.59it/s]\n",
      "  1%|          | 3/470 [00:00<00:21, 21.60it/s]"
     ]
    },
    {
     "name": "stdout",
     "output_type": "stream",
     "text": [
      "Epoch: 677 Training Loss: 538438.0825564414\n"
     ]
    },
    {
     "name": "stderr",
     "output_type": "stream",
     "text": [
      "100%|██████████| 470/470 [00:21<00:00, 22.11it/s]\n",
      "  0%|          | 2/470 [00:00<00:28, 16.62it/s]"
     ]
    },
    {
     "name": "stdout",
     "output_type": "stream",
     "text": [
      "Epoch: 678 Training Loss: 474361.3146822527\n"
     ]
    },
    {
     "name": "stderr",
     "output_type": "stream",
     "text": [
      "100%|██████████| 470/470 [00:21<00:00, 21.65it/s]\n",
      "  1%|          | 3/470 [00:00<00:22, 20.79it/s]"
     ]
    },
    {
     "name": "stdout",
     "output_type": "stream",
     "text": [
      "Epoch: 679 Training Loss: 546347.3253422529\n"
     ]
    },
    {
     "name": "stderr",
     "output_type": "stream",
     "text": [
      "100%|██████████| 470/470 [00:21<00:00, 21.82it/s]\n",
      "  1%|          | 3/470 [00:00<00:20, 22.69it/s]"
     ]
    },
    {
     "name": "stdout",
     "output_type": "stream",
     "text": [
      "Epoch: 680 Training Loss: 443290.5534553677\n"
     ]
    },
    {
     "name": "stderr",
     "output_type": "stream",
     "text": [
      "100%|██████████| 470/470 [00:20<00:00, 22.45it/s]\n",
      "  0%|          | 2/470 [00:00<00:28, 16.69it/s]"
     ]
    },
    {
     "name": "stdout",
     "output_type": "stream",
     "text": [
      "Epoch: 681 Training Loss: 458440.85152855515\n"
     ]
    },
    {
     "name": "stderr",
     "output_type": "stream",
     "text": [
      "100%|██████████| 470/470 [00:21<00:00, 21.82it/s]\n",
      "  1%|          | 3/470 [00:00<00:21, 22.17it/s]"
     ]
    },
    {
     "name": "stdout",
     "output_type": "stream",
     "text": [
      "Epoch: 682 Training Loss: 631861.549116388\n"
     ]
    },
    {
     "name": "stderr",
     "output_type": "stream",
     "text": [
      "100%|██████████| 470/470 [00:21<00:00, 22.12it/s]\n",
      "  0%|          | 2/470 [00:00<00:26, 17.37it/s]"
     ]
    },
    {
     "name": "stdout",
     "output_type": "stream",
     "text": [
      "Epoch: 683 Training Loss: 401696.1565666795\n"
     ]
    },
    {
     "name": "stderr",
     "output_type": "stream",
     "text": [
      "100%|██████████| 470/470 [00:21<00:00, 22.10it/s]\n",
      "  1%|          | 3/470 [00:00<00:22, 20.61it/s]"
     ]
    },
    {
     "name": "stdout",
     "output_type": "stream",
     "text": [
      "Epoch: 684 Training Loss: 523577.648372408\n"
     ]
    },
    {
     "name": "stderr",
     "output_type": "stream",
     "text": [
      "100%|██████████| 470/470 [00:21<00:00, 21.88it/s]\n",
      "  0%|          | 2/470 [00:00<00:26, 17.69it/s]"
     ]
    },
    {
     "name": "stdout",
     "output_type": "stream",
     "text": [
      "Epoch: 685 Training Loss: 482454.0916216299\n"
     ]
    },
    {
     "name": "stderr",
     "output_type": "stream",
     "text": [
      "100%|██████████| 470/470 [00:21<00:00, 21.70it/s]\n",
      "  0%|          | 2/470 [00:00<00:25, 18.34it/s]"
     ]
    },
    {
     "name": "stdout",
     "output_type": "stream",
     "text": [
      "Epoch: 686 Training Loss: 513474.5221865997\n"
     ]
    },
    {
     "name": "stderr",
     "output_type": "stream",
     "text": [
      "100%|██████████| 470/470 [00:21<00:00, 21.98it/s]\n",
      "  1%|          | 3/470 [00:00<00:21, 22.10it/s]"
     ]
    },
    {
     "name": "stdout",
     "output_type": "stream",
     "text": [
      "Epoch: 687 Training Loss: 480442.93705654144\n"
     ]
    },
    {
     "name": "stderr",
     "output_type": "stream",
     "text": [
      "100%|██████████| 470/470 [00:21<00:00, 21.52it/s]\n",
      "  1%|          | 3/470 [00:00<00:21, 21.27it/s]"
     ]
    },
    {
     "name": "stdout",
     "output_type": "stream",
     "text": [
      "Epoch: 688 Training Loss: 435595.31815065444\n"
     ]
    },
    {
     "name": "stderr",
     "output_type": "stream",
     "text": [
      "100%|██████████| 470/470 [00:21<00:00, 21.80it/s]\n",
      "  1%|          | 3/470 [00:00<00:22, 20.72it/s]"
     ]
    },
    {
     "name": "stdout",
     "output_type": "stream",
     "text": [
      "Epoch: 689 Training Loss: 395206.2587146051\n"
     ]
    },
    {
     "name": "stderr",
     "output_type": "stream",
     "text": [
      "100%|██████████| 470/470 [00:21<00:00, 21.67it/s]\n",
      "  1%|          | 3/470 [00:00<00:21, 21.82it/s]"
     ]
    },
    {
     "name": "stdout",
     "output_type": "stream",
     "text": [
      "Epoch: 690 Training Loss: 428572.30931880325\n"
     ]
    },
    {
     "name": "stderr",
     "output_type": "stream",
     "text": [
      "100%|██████████| 470/470 [00:21<00:00, 22.06it/s]\n",
      "  0%|          | 2/470 [00:00<00:23, 19.64it/s]"
     ]
    },
    {
     "name": "stdout",
     "output_type": "stream",
     "text": [
      "Epoch: 691 Training Loss: 464016.0784342736\n"
     ]
    },
    {
     "name": "stderr",
     "output_type": "stream",
     "text": [
      "100%|██████████| 470/470 [00:21<00:00, 21.73it/s]\n",
      "  1%|          | 3/470 [00:00<00:22, 20.68it/s]"
     ]
    },
    {
     "name": "stdout",
     "output_type": "stream",
     "text": [
      "Epoch: 692 Training Loss: 448548.97408379987\n"
     ]
    },
    {
     "name": "stderr",
     "output_type": "stream",
     "text": [
      "100%|██████████| 470/470 [00:21<00:00, 21.60it/s]\n",
      "  1%|          | 3/470 [00:00<00:21, 21.76it/s]"
     ]
    },
    {
     "name": "stdout",
     "output_type": "stream",
     "text": [
      "Epoch: 693 Training Loss: 482526.40683761984\n"
     ]
    },
    {
     "name": "stderr",
     "output_type": "stream",
     "text": [
      "100%|██████████| 470/470 [00:21<00:00, 21.80it/s]\n",
      "  1%|          | 3/470 [00:00<00:22, 20.98it/s]"
     ]
    },
    {
     "name": "stdout",
     "output_type": "stream",
     "text": [
      "Epoch: 694 Training Loss: 395264.92744420096\n"
     ]
    },
    {
     "name": "stderr",
     "output_type": "stream",
     "text": [
      "100%|██████████| 470/470 [00:21<00:00, 22.05it/s]\n",
      "  0%|          | 2/470 [00:00<00:26, 17.81it/s]"
     ]
    },
    {
     "name": "stdout",
     "output_type": "stream",
     "text": [
      "Epoch: 695 Training Loss: 443087.3815216273\n"
     ]
    },
    {
     "name": "stderr",
     "output_type": "stream",
     "text": [
      "100%|██████████| 470/470 [00:21<00:00, 21.77it/s]\n",
      "  1%|          | 3/470 [00:00<00:22, 20.85it/s]"
     ]
    },
    {
     "name": "stdout",
     "output_type": "stream",
     "text": [
      "Epoch: 696 Training Loss: 432437.26570415497\n"
     ]
    },
    {
     "name": "stderr",
     "output_type": "stream",
     "text": [
      "100%|██████████| 470/470 [00:21<00:00, 22.04it/s]\n",
      "  1%|          | 3/470 [00:00<00:22, 21.16it/s]"
     ]
    },
    {
     "name": "stdout",
     "output_type": "stream",
     "text": [
      "Epoch: 697 Training Loss: 453261.0496082343\n"
     ]
    },
    {
     "name": "stderr",
     "output_type": "stream",
     "text": [
      "100%|██████████| 470/470 [00:21<00:00, 22.09it/s]\n",
      "  1%|          | 3/470 [00:00<00:21, 21.78it/s]"
     ]
    },
    {
     "name": "stdout",
     "output_type": "stream",
     "text": [
      "Epoch: 698 Training Loss: 498261.18932174146\n"
     ]
    },
    {
     "name": "stderr",
     "output_type": "stream",
     "text": [
      "100%|██████████| 470/470 [00:21<00:00, 21.98it/s]\n",
      "  0%|          | 2/470 [00:00<00:24, 19.47it/s]"
     ]
    },
    {
     "name": "stdout",
     "output_type": "stream",
     "text": [
      "Epoch: 699 Training Loss: 370328.1665259227\n"
     ]
    },
    {
     "name": "stderr",
     "output_type": "stream",
     "text": [
      "100%|██████████| 470/470 [00:21<00:00, 22.17it/s]\n",
      "  1%|          | 3/470 [00:00<00:21, 22.08it/s]"
     ]
    },
    {
     "name": "stdout",
     "output_type": "stream",
     "text": [
      "Epoch: 700 Training Loss: 424303.160503529\n"
     ]
    },
    {
     "name": "stderr",
     "output_type": "stream",
     "text": [
      "100%|██████████| 470/470 [00:21<00:00, 21.62it/s]\n",
      "  1%|          | 3/470 [00:00<00:22, 20.65it/s]"
     ]
    },
    {
     "name": "stdout",
     "output_type": "stream",
     "text": [
      "Epoch: 701 Training Loss: 480099.23989734054\n"
     ]
    },
    {
     "name": "stderr",
     "output_type": "stream",
     "text": [
      "100%|██████████| 470/470 [00:21<00:00, 21.52it/s]\n",
      "  1%|          | 3/470 [00:00<00:20, 22.82it/s]"
     ]
    },
    {
     "name": "stdout",
     "output_type": "stream",
     "text": [
      "Epoch: 702 Training Loss: 408156.39360103756\n"
     ]
    },
    {
     "name": "stderr",
     "output_type": "stream",
     "text": [
      "100%|██████████| 470/470 [00:21<00:00, 22.04it/s]\n",
      "  0%|          | 2/470 [00:00<00:23, 19.91it/s]"
     ]
    },
    {
     "name": "stdout",
     "output_type": "stream",
     "text": [
      "Epoch: 703 Training Loss: 491199.5704643093\n"
     ]
    },
    {
     "name": "stderr",
     "output_type": "stream",
     "text": [
      "100%|██████████| 470/470 [00:21<00:00, 21.59it/s]\n",
      "  1%|          | 3/470 [00:00<00:21, 22.01it/s]"
     ]
    },
    {
     "name": "stdout",
     "output_type": "stream",
     "text": [
      "Epoch: 704 Training Loss: 560680.2514211535\n"
     ]
    },
    {
     "name": "stderr",
     "output_type": "stream",
     "text": [
      "100%|██████████| 470/470 [00:21<00:00, 21.73it/s]\n",
      "  1%|          | 3/470 [00:00<00:22, 20.94it/s]"
     ]
    },
    {
     "name": "stdout",
     "output_type": "stream",
     "text": [
      "Epoch: 705 Training Loss: 404929.35708501935\n"
     ]
    },
    {
     "name": "stderr",
     "output_type": "stream",
     "text": [
      "100%|██████████| 470/470 [00:21<00:00, 21.62it/s]\n",
      "  0%|          | 2/470 [00:00<00:26, 17.95it/s]"
     ]
    },
    {
     "name": "stdout",
     "output_type": "stream",
     "text": [
      "Epoch: 706 Training Loss: 461144.4720881358\n"
     ]
    },
    {
     "name": "stderr",
     "output_type": "stream",
     "text": [
      "100%|██████████| 470/470 [00:21<00:00, 21.41it/s]\n",
      "  1%|          | 3/470 [00:00<00:20, 22.52it/s]"
     ]
    },
    {
     "name": "stdout",
     "output_type": "stream",
     "text": [
      "Epoch: 707 Training Loss: 470530.6640493497\n"
     ]
    },
    {
     "name": "stderr",
     "output_type": "stream",
     "text": [
      "100%|██████████| 470/470 [00:21<00:00, 21.79it/s]\n",
      "  0%|          | 2/470 [00:00<00:23, 19.87it/s]"
     ]
    },
    {
     "name": "stdout",
     "output_type": "stream",
     "text": [
      "Epoch: 708 Training Loss: 460224.1854163259\n"
     ]
    },
    {
     "name": "stderr",
     "output_type": "stream",
     "text": [
      "100%|██████████| 470/470 [00:21<00:00, 21.86it/s]\n",
      "  0%|          | 2/470 [00:00<00:23, 19.73it/s]"
     ]
    },
    {
     "name": "stdout",
     "output_type": "stream",
     "text": [
      "Epoch: 709 Training Loss: 473588.6685973704\n"
     ]
    },
    {
     "name": "stderr",
     "output_type": "stream",
     "text": [
      "100%|██████████| 470/470 [00:21<00:00, 21.82it/s]\n",
      "  1%|          | 3/470 [00:00<00:20, 23.06it/s]"
     ]
    },
    {
     "name": "stdout",
     "output_type": "stream",
     "text": [
      "Epoch: 710 Training Loss: 449514.49273448065\n"
     ]
    },
    {
     "name": "stderr",
     "output_type": "stream",
     "text": [
      "100%|██████████| 470/470 [00:21<00:00, 21.88it/s]\n",
      "  0%|          | 2/470 [00:00<00:28, 16.61it/s]"
     ]
    },
    {
     "name": "stdout",
     "output_type": "stream",
     "text": [
      "Epoch: 711 Training Loss: 605450.7667911053\n"
     ]
    },
    {
     "name": "stderr",
     "output_type": "stream",
     "text": [
      "100%|██████████| 470/470 [00:21<00:00, 21.88it/s]\n",
      "  1%|          | 3/470 [00:00<00:22, 20.70it/s]"
     ]
    },
    {
     "name": "stdout",
     "output_type": "stream",
     "text": [
      "Epoch: 712 Training Loss: 445198.817592673\n"
     ]
    },
    {
     "name": "stderr",
     "output_type": "stream",
     "text": [
      "100%|██████████| 470/470 [00:21<00:00, 21.81it/s]\n",
      "  0%|          | 2/470 [00:00<00:28, 16.32it/s]"
     ]
    },
    {
     "name": "stdout",
     "output_type": "stream",
     "text": [
      "Epoch: 713 Training Loss: 474783.51160666347\n"
     ]
    },
    {
     "name": "stderr",
     "output_type": "stream",
     "text": [
      "100%|██████████| 470/470 [00:21<00:00, 21.70it/s]\n",
      "  1%|          | 3/470 [00:00<00:22, 20.51it/s]"
     ]
    },
    {
     "name": "stdout",
     "output_type": "stream",
     "text": [
      "Epoch: 714 Training Loss: 486045.0929232389\n"
     ]
    },
    {
     "name": "stderr",
     "output_type": "stream",
     "text": [
      "100%|██████████| 470/470 [00:21<00:00, 21.44it/s]\n",
      "  1%|          | 3/470 [00:00<00:21, 21.54it/s]"
     ]
    },
    {
     "name": "stdout",
     "output_type": "stream",
     "text": [
      "Epoch: 715 Training Loss: 550985.9439288378\n"
     ]
    },
    {
     "name": "stderr",
     "output_type": "stream",
     "text": [
      "100%|██████████| 470/470 [00:21<00:00, 21.81it/s]\n",
      "  1%|          | 3/470 [00:00<00:22, 20.49it/s]"
     ]
    },
    {
     "name": "stdout",
     "output_type": "stream",
     "text": [
      "Epoch: 716 Training Loss: 518629.986119166\n"
     ]
    },
    {
     "name": "stderr",
     "output_type": "stream",
     "text": [
      "100%|██████████| 470/470 [00:21<00:00, 22.16it/s]\n",
      "  0%|          | 2/470 [00:00<00:28, 16.71it/s]"
     ]
    },
    {
     "name": "stdout",
     "output_type": "stream",
     "text": [
      "Epoch: 717 Training Loss: 407382.1805750206\n"
     ]
    },
    {
     "name": "stderr",
     "output_type": "stream",
     "text": [
      "100%|██████████| 470/470 [00:21<00:00, 21.81it/s]\n",
      "  1%|          | 3/470 [00:00<00:22, 20.58it/s]"
     ]
    },
    {
     "name": "stdout",
     "output_type": "stream",
     "text": [
      "Epoch: 718 Training Loss: 503510.651811013\n"
     ]
    },
    {
     "name": "stderr",
     "output_type": "stream",
     "text": [
      "100%|██████████| 470/470 [00:21<00:00, 21.58it/s]\n",
      "  1%|          | 3/470 [00:00<00:22, 20.65it/s]"
     ]
    },
    {
     "name": "stdout",
     "output_type": "stream",
     "text": [
      "Epoch: 719 Training Loss: 509126.07618042827\n"
     ]
    },
    {
     "name": "stderr",
     "output_type": "stream",
     "text": [
      "100%|██████████| 470/470 [00:22<00:00, 21.25it/s]\n",
      "  1%|          | 3/470 [00:00<00:22, 20.48it/s]"
     ]
    },
    {
     "name": "stdout",
     "output_type": "stream",
     "text": [
      "Epoch: 720 Training Loss: 406092.51364019513\n"
     ]
    },
    {
     "name": "stderr",
     "output_type": "stream",
     "text": [
      "100%|██████████| 470/470 [00:22<00:00, 21.33it/s]\n",
      "  1%|          | 3/470 [00:00<00:22, 20.55it/s]"
     ]
    },
    {
     "name": "stdout",
     "output_type": "stream",
     "text": [
      "Epoch: 721 Training Loss: 385494.6659207195\n"
     ]
    },
    {
     "name": "stderr",
     "output_type": "stream",
     "text": [
      "100%|██████████| 470/470 [00:21<00:00, 21.93it/s]\n",
      "  1%|          | 3/470 [00:00<00:21, 21.86it/s]"
     ]
    },
    {
     "name": "stdout",
     "output_type": "stream",
     "text": [
      "Epoch: 722 Training Loss: 492408.9728240371\n"
     ]
    },
    {
     "name": "stderr",
     "output_type": "stream",
     "text": [
      "100%|██████████| 470/470 [00:21<00:00, 21.43it/s]\n",
      "  0%|          | 2/470 [00:00<00:24, 19.36it/s]"
     ]
    },
    {
     "name": "stdout",
     "output_type": "stream",
     "text": [
      "Epoch: 723 Training Loss: 557496.0161979869\n"
     ]
    },
    {
     "name": "stderr",
     "output_type": "stream",
     "text": [
      "100%|██████████| 470/470 [00:21<00:00, 21.90it/s]\n",
      "  1%|          | 3/470 [00:00<00:20, 22.28it/s]"
     ]
    },
    {
     "name": "stdout",
     "output_type": "stream",
     "text": [
      "Epoch: 724 Training Loss: 404930.61900308914\n"
     ]
    },
    {
     "name": "stderr",
     "output_type": "stream",
     "text": [
      "100%|██████████| 470/470 [00:21<00:00, 21.53it/s]\n",
      "  0%|          | 2/470 [00:00<00:25, 18.04it/s]"
     ]
    },
    {
     "name": "stdout",
     "output_type": "stream",
     "text": [
      "Epoch: 725 Training Loss: 440421.3929190561\n"
     ]
    },
    {
     "name": "stderr",
     "output_type": "stream",
     "text": [
      "100%|██████████| 470/470 [00:21<00:00, 21.57it/s]\n",
      "  1%|          | 3/470 [00:00<00:22, 21.16it/s]"
     ]
    },
    {
     "name": "stdout",
     "output_type": "stream",
     "text": [
      "Epoch: 726 Training Loss: 493129.3321375605\n"
     ]
    },
    {
     "name": "stderr",
     "output_type": "stream",
     "text": [
      "100%|██████████| 470/470 [00:21<00:00, 21.51it/s]\n",
      "  1%|          | 3/470 [00:00<00:22, 20.87it/s]"
     ]
    },
    {
     "name": "stdout",
     "output_type": "stream",
     "text": [
      "Epoch: 727 Training Loss: 389695.79202418774\n"
     ]
    },
    {
     "name": "stderr",
     "output_type": "stream",
     "text": [
      "100%|██████████| 470/470 [00:21<00:00, 21.54it/s]\n",
      "  1%|          | 3/470 [00:00<00:20, 22.79it/s]"
     ]
    },
    {
     "name": "stdout",
     "output_type": "stream",
     "text": [
      "Epoch: 728 Training Loss: 414211.27488974854\n"
     ]
    },
    {
     "name": "stderr",
     "output_type": "stream",
     "text": [
      "100%|██████████| 470/470 [00:21<00:00, 21.77it/s]\n",
      "  1%|          | 3/470 [00:00<00:21, 21.93it/s]"
     ]
    },
    {
     "name": "stdout",
     "output_type": "stream",
     "text": [
      "Epoch: 729 Training Loss: 528745.6742095947\n"
     ]
    },
    {
     "name": "stderr",
     "output_type": "stream",
     "text": [
      "100%|██████████| 470/470 [00:22<00:00, 21.35it/s]\n",
      "  0%|          | 2/470 [00:00<00:23, 19.98it/s]"
     ]
    },
    {
     "name": "stdout",
     "output_type": "stream",
     "text": [
      "Epoch: 730 Training Loss: 470135.74208052456\n"
     ]
    },
    {
     "name": "stderr",
     "output_type": "stream",
     "text": [
      "100%|██████████| 470/470 [00:21<00:00, 21.94it/s]\n",
      "  0%|          | 2/470 [00:00<00:26, 17.74it/s]"
     ]
    },
    {
     "name": "stdout",
     "output_type": "stream",
     "text": [
      "Epoch: 731 Training Loss: 390229.0512251146\n"
     ]
    },
    {
     "name": "stderr",
     "output_type": "stream",
     "text": [
      "100%|██████████| 470/470 [00:21<00:00, 21.59it/s]\n",
      "  0%|          | 2/470 [00:00<00:24, 19.47it/s]"
     ]
    },
    {
     "name": "stdout",
     "output_type": "stream",
     "text": [
      "Epoch: 732 Training Loss: 441453.31022906303\n"
     ]
    },
    {
     "name": "stderr",
     "output_type": "stream",
     "text": [
      "100%|██████████| 470/470 [00:21<00:00, 21.53it/s]\n",
      "  1%|          | 3/470 [00:00<00:22, 20.43it/s]"
     ]
    },
    {
     "name": "stdout",
     "output_type": "stream",
     "text": [
      "Epoch: 733 Training Loss: 512124.080783898\n"
     ]
    },
    {
     "name": "stderr",
     "output_type": "stream",
     "text": [
      "100%|██████████| 470/470 [00:21<00:00, 21.62it/s]\n",
      "  1%|          | 3/470 [00:00<00:20, 22.76it/s]"
     ]
    },
    {
     "name": "stdout",
     "output_type": "stream",
     "text": [
      "Epoch: 734 Training Loss: 441145.86042612046\n"
     ]
    },
    {
     "name": "stderr",
     "output_type": "stream",
     "text": [
      "100%|██████████| 470/470 [00:21<00:00, 21.77it/s]\n",
      "  0%|          | 2/470 [00:00<00:28, 16.54it/s]"
     ]
    },
    {
     "name": "stdout",
     "output_type": "stream",
     "text": [
      "Epoch: 735 Training Loss: 565047.3189623356\n"
     ]
    },
    {
     "name": "stderr",
     "output_type": "stream",
     "text": [
      "100%|██████████| 470/470 [00:21<00:00, 21.58it/s]\n",
      "  0%|          | 2/470 [00:00<00:25, 18.32it/s]"
     ]
    },
    {
     "name": "stdout",
     "output_type": "stream",
     "text": [
      "Epoch: 736 Training Loss: 421331.91291972995\n"
     ]
    },
    {
     "name": "stderr",
     "output_type": "stream",
     "text": [
      "100%|██████████| 470/470 [00:21<00:00, 21.73it/s]\n",
      "  1%|          | 3/470 [00:00<00:21, 22.20it/s]"
     ]
    },
    {
     "name": "stdout",
     "output_type": "stream",
     "text": [
      "Epoch: 737 Training Loss: 517103.4660806209\n"
     ]
    },
    {
     "name": "stderr",
     "output_type": "stream",
     "text": [
      "100%|██████████| 470/470 [00:21<00:00, 21.62it/s]\n",
      "  1%|          | 3/470 [00:00<00:22, 20.70it/s]"
     ]
    },
    {
     "name": "stdout",
     "output_type": "stream",
     "text": [
      "Epoch: 738 Training Loss: 465354.2304813117\n"
     ]
    },
    {
     "name": "stderr",
     "output_type": "stream",
     "text": [
      "100%|██████████| 470/470 [00:21<00:00, 21.57it/s]\n",
      "  1%|          | 3/470 [00:00<00:22, 20.47it/s]"
     ]
    },
    {
     "name": "stdout",
     "output_type": "stream",
     "text": [
      "Epoch: 739 Training Loss: 462283.817828618\n"
     ]
    },
    {
     "name": "stderr",
     "output_type": "stream",
     "text": [
      "100%|██████████| 470/470 [00:21<00:00, 21.75it/s]\n",
      "  0%|          | 2/470 [00:00<00:28, 16.55it/s]"
     ]
    },
    {
     "name": "stdout",
     "output_type": "stream",
     "text": [
      "Epoch: 740 Training Loss: 446026.2796153277\n"
     ]
    },
    {
     "name": "stderr",
     "output_type": "stream",
     "text": [
      "100%|██████████| 470/470 [00:21<00:00, 21.73it/s]\n",
      "  1%|          | 3/470 [00:00<00:22, 20.61it/s]"
     ]
    },
    {
     "name": "stdout",
     "output_type": "stream",
     "text": [
      "Epoch: 741 Training Loss: 429083.0401329659\n"
     ]
    },
    {
     "name": "stderr",
     "output_type": "stream",
     "text": [
      "100%|██████████| 470/470 [00:21<00:00, 22.14it/s]\n",
      "  0%|          | 2/470 [00:00<00:26, 17.36it/s]"
     ]
    },
    {
     "name": "stdout",
     "output_type": "stream",
     "text": [
      "Epoch: 742 Training Loss: 478100.7418284081\n"
     ]
    },
    {
     "name": "stderr",
     "output_type": "stream",
     "text": [
      "100%|██████████| 470/470 [00:21<00:00, 21.87it/s]\n",
      "  1%|          | 3/470 [00:00<00:22, 21.19it/s]"
     ]
    },
    {
     "name": "stdout",
     "output_type": "stream",
     "text": [
      "Epoch: 743 Training Loss: 428683.9689065814\n"
     ]
    },
    {
     "name": "stderr",
     "output_type": "stream",
     "text": [
      "100%|██████████| 470/470 [00:21<00:00, 21.80it/s]\n",
      "  1%|          | 3/470 [00:00<00:20, 22.54it/s]"
     ]
    },
    {
     "name": "stdout",
     "output_type": "stream",
     "text": [
      "Epoch: 744 Training Loss: 468789.2460837364\n"
     ]
    },
    {
     "name": "stderr",
     "output_type": "stream",
     "text": [
      "100%|██████████| 470/470 [00:21<00:00, 22.12it/s]\n",
      "  1%|          | 3/470 [00:00<00:22, 20.69it/s]"
     ]
    },
    {
     "name": "stdout",
     "output_type": "stream",
     "text": [
      "Epoch: 745 Training Loss: 435726.78058573045\n"
     ]
    },
    {
     "name": "stderr",
     "output_type": "stream",
     "text": [
      "100%|██████████| 470/470 [00:21<00:00, 21.68it/s]\n",
      "  0%|          | 2/470 [00:00<00:24, 18.88it/s]"
     ]
    },
    {
     "name": "stdout",
     "output_type": "stream",
     "text": [
      "Epoch: 746 Training Loss: 478558.7095845267\n"
     ]
    },
    {
     "name": "stderr",
     "output_type": "stream",
     "text": [
      "100%|██████████| 470/470 [00:21<00:00, 21.82it/s]\n",
      "  1%|          | 3/470 [00:00<00:20, 22.46it/s]"
     ]
    },
    {
     "name": "stdout",
     "output_type": "stream",
     "text": [
      "Epoch: 747 Training Loss: 495523.5280633569\n"
     ]
    },
    {
     "name": "stderr",
     "output_type": "stream",
     "text": [
      "100%|██████████| 470/470 [00:21<00:00, 21.84it/s]\n",
      "  1%|          | 3/470 [00:00<00:22, 20.63it/s]"
     ]
    },
    {
     "name": "stdout",
     "output_type": "stream",
     "text": [
      "Epoch: 748 Training Loss: 475374.0965179801\n"
     ]
    },
    {
     "name": "stderr",
     "output_type": "stream",
     "text": [
      "100%|██████████| 470/470 [00:21<00:00, 21.54it/s]\n",
      "  0%|          | 2/470 [00:00<00:28, 16.40it/s]"
     ]
    },
    {
     "name": "stdout",
     "output_type": "stream",
     "text": [
      "Epoch: 749 Training Loss: 461451.6995225102\n"
     ]
    },
    {
     "name": "stderr",
     "output_type": "stream",
     "text": [
      "100%|██████████| 470/470 [00:21<00:00, 21.62it/s]\n",
      "  1%|          | 3/470 [00:00<00:22, 20.46it/s]"
     ]
    },
    {
     "name": "stdout",
     "output_type": "stream",
     "text": [
      "Epoch: 750 Training Loss: 431233.6653879415\n"
     ]
    },
    {
     "name": "stderr",
     "output_type": "stream",
     "text": [
      "100%|██████████| 470/470 [00:22<00:00, 21.36it/s]\n",
      "  1%|          | 3/470 [00:00<00:21, 22.01it/s]"
     ]
    },
    {
     "name": "stdout",
     "output_type": "stream",
     "text": [
      "Epoch: 751 Training Loss: 542017.0971702188\n"
     ]
    },
    {
     "name": "stderr",
     "output_type": "stream",
     "text": [
      "100%|██████████| 470/470 [00:21<00:00, 21.66it/s]\n",
      "  1%|          | 3/470 [00:00<00:22, 20.68it/s]"
     ]
    },
    {
     "name": "stdout",
     "output_type": "stream",
     "text": [
      "Epoch: 752 Training Loss: 454357.76420618594\n"
     ]
    },
    {
     "name": "stderr",
     "output_type": "stream",
     "text": [
      "100%|██████████| 470/470 [00:21<00:00, 21.58it/s]\n",
      "  0%|          | 2/470 [00:00<00:24, 19.38it/s]"
     ]
    },
    {
     "name": "stdout",
     "output_type": "stream",
     "text": [
      "Epoch: 753 Training Loss: 453103.33308214694\n"
     ]
    },
    {
     "name": "stderr",
     "output_type": "stream",
     "text": [
      "100%|██████████| 470/470 [00:21<00:00, 21.97it/s]\n",
      "  0%|          | 2/470 [00:00<00:28, 16.65it/s]"
     ]
    },
    {
     "name": "stdout",
     "output_type": "stream",
     "text": [
      "Epoch: 754 Training Loss: 522383.6356188506\n"
     ]
    },
    {
     "name": "stderr",
     "output_type": "stream",
     "text": [
      "100%|██████████| 470/470 [00:21<00:00, 21.42it/s]\n",
      "  0%|          | 2/470 [00:00<00:24, 19.28it/s]"
     ]
    },
    {
     "name": "stdout",
     "output_type": "stream",
     "text": [
      "Epoch: 755 Training Loss: 429576.4643062055\n"
     ]
    },
    {
     "name": "stderr",
     "output_type": "stream",
     "text": [
      "100%|██████████| 470/470 [00:21<00:00, 21.77it/s]\n",
      "  1%|          | 3/470 [00:00<00:21, 22.02it/s]"
     ]
    },
    {
     "name": "stdout",
     "output_type": "stream",
     "text": [
      "Epoch: 756 Training Loss: 438656.9446145799\n"
     ]
    },
    {
     "name": "stderr",
     "output_type": "stream",
     "text": [
      "100%|██████████| 470/470 [00:21<00:00, 21.98it/s]\n",
      "  0%|          | 2/470 [00:00<00:23, 19.54it/s]"
     ]
    },
    {
     "name": "stdout",
     "output_type": "stream",
     "text": [
      "Epoch: 757 Training Loss: 382475.43009120785\n"
     ]
    },
    {
     "name": "stderr",
     "output_type": "stream",
     "text": [
      "100%|██████████| 470/470 [00:21<00:00, 21.64it/s]\n",
      "  0%|          | 2/470 [00:00<00:26, 17.73it/s]"
     ]
    },
    {
     "name": "stdout",
     "output_type": "stream",
     "text": [
      "Epoch: 758 Training Loss: 537127.7938113213\n"
     ]
    },
    {
     "name": "stderr",
     "output_type": "stream",
     "text": [
      "100%|██████████| 470/470 [00:21<00:00, 21.85it/s]\n",
      "  1%|          | 3/470 [00:00<00:22, 20.85it/s]"
     ]
    },
    {
     "name": "stdout",
     "output_type": "stream",
     "text": [
      "Epoch: 759 Training Loss: 423413.929765746\n"
     ]
    },
    {
     "name": "stderr",
     "output_type": "stream",
     "text": [
      "100%|██████████| 470/470 [00:21<00:00, 21.86it/s]\n",
      "  1%|          | 3/470 [00:00<00:20, 22.69it/s]"
     ]
    },
    {
     "name": "stdout",
     "output_type": "stream",
     "text": [
      "Epoch: 760 Training Loss: 567238.1970206648\n"
     ]
    },
    {
     "name": "stderr",
     "output_type": "stream",
     "text": [
      "100%|██████████| 470/470 [00:21<00:00, 21.75it/s]\n",
      "  0%|          | 2/470 [00:00<00:24, 19.09it/s]"
     ]
    },
    {
     "name": "stdout",
     "output_type": "stream",
     "text": [
      "Epoch: 761 Training Loss: 464998.4521149546\n"
     ]
    },
    {
     "name": "stderr",
     "output_type": "stream",
     "text": [
      "100%|██████████| 470/470 [00:21<00:00, 21.46it/s]\n",
      "  1%|          | 3/470 [00:00<00:21, 21.45it/s]"
     ]
    },
    {
     "name": "stdout",
     "output_type": "stream",
     "text": [
      "Epoch: 762 Training Loss: 522981.26645827293\n"
     ]
    },
    {
     "name": "stderr",
     "output_type": "stream",
     "text": [
      "100%|██████████| 470/470 [00:21<00:00, 22.02it/s]\n",
      "  1%|          | 3/470 [00:00<00:20, 22.82it/s]"
     ]
    },
    {
     "name": "stdout",
     "output_type": "stream",
     "text": [
      "Epoch: 763 Training Loss: 434787.79848922044\n"
     ]
    },
    {
     "name": "stderr",
     "output_type": "stream",
     "text": [
      "100%|██████████| 470/470 [00:21<00:00, 21.74it/s]\n",
      "  1%|          | 3/470 [00:00<00:22, 20.82it/s]"
     ]
    },
    {
     "name": "stdout",
     "output_type": "stream",
     "text": [
      "Epoch: 764 Training Loss: 408708.4438756518\n"
     ]
    },
    {
     "name": "stderr",
     "output_type": "stream",
     "text": [
      "100%|██████████| 470/470 [00:21<00:00, 21.90it/s]\n",
      "  1%|          | 3/470 [00:00<00:22, 20.74it/s]"
     ]
    },
    {
     "name": "stdout",
     "output_type": "stream",
     "text": [
      "Epoch: 765 Training Loss: 425149.9500991255\n"
     ]
    },
    {
     "name": "stderr",
     "output_type": "stream",
     "text": [
      "100%|██████████| 470/470 [00:21<00:00, 21.69it/s]\n",
      "  1%|          | 3/470 [00:00<00:22, 20.35it/s]"
     ]
    },
    {
     "name": "stdout",
     "output_type": "stream",
     "text": [
      "Epoch: 766 Training Loss: 450163.47456757724\n"
     ]
    },
    {
     "name": "stderr",
     "output_type": "stream",
     "text": [
      "100%|██████████| 470/470 [00:21<00:00, 21.63it/s]\n",
      "  1%|          | 3/470 [00:00<00:20, 22.72it/s]"
     ]
    },
    {
     "name": "stdout",
     "output_type": "stream",
     "text": [
      "Epoch: 767 Training Loss: 588797.2300384045\n"
     ]
    },
    {
     "name": "stderr",
     "output_type": "stream",
     "text": [
      "100%|██████████| 470/470 [00:22<00:00, 21.34it/s]\n",
      "  1%|          | 3/470 [00:00<00:22, 20.78it/s]"
     ]
    },
    {
     "name": "stdout",
     "output_type": "stream",
     "text": [
      "Epoch: 768 Training Loss: 547714.9784038551\n"
     ]
    },
    {
     "name": "stderr",
     "output_type": "stream",
     "text": [
      "100%|██████████| 470/470 [00:21<00:00, 21.46it/s]\n",
      "  1%|          | 3/470 [00:00<00:22, 20.50it/s]"
     ]
    },
    {
     "name": "stdout",
     "output_type": "stream",
     "text": [
      "Epoch: 769 Training Loss: 421478.4957213998\n"
     ]
    },
    {
     "name": "stderr",
     "output_type": "stream",
     "text": [
      "100%|██████████| 470/470 [00:21<00:00, 21.83it/s]\n",
      "  1%|          | 3/470 [00:00<00:21, 21.70it/s]"
     ]
    },
    {
     "name": "stdout",
     "output_type": "stream",
     "text": [
      "Epoch: 770 Training Loss: 599201.7584971562\n"
     ]
    },
    {
     "name": "stderr",
     "output_type": "stream",
     "text": [
      "100%|██████████| 470/470 [00:21<00:00, 22.02it/s]\n",
      "  0%|          | 2/470 [00:00<00:23, 19.66it/s]"
     ]
    },
    {
     "name": "stdout",
     "output_type": "stream",
     "text": [
      "Epoch: 771 Training Loss: 403714.9383036122\n"
     ]
    },
    {
     "name": "stderr",
     "output_type": "stream",
     "text": [
      "100%|██████████| 470/470 [00:21<00:00, 21.48it/s]\n",
      "  1%|          | 3/470 [00:00<00:20, 22.38it/s]"
     ]
    },
    {
     "name": "stdout",
     "output_type": "stream",
     "text": [
      "Epoch: 772 Training Loss: 441102.9973414391\n"
     ]
    },
    {
     "name": "stderr",
     "output_type": "stream",
     "text": [
      "100%|██████████| 470/470 [00:21<00:00, 21.55it/s]\n",
      "  1%|          | 3/470 [00:00<00:22, 20.60it/s]"
     ]
    },
    {
     "name": "stdout",
     "output_type": "stream",
     "text": [
      "Epoch: 773 Training Loss: 492117.8604261372\n"
     ]
    },
    {
     "name": "stderr",
     "output_type": "stream",
     "text": [
      "100%|██████████| 470/470 [00:21<00:00, 21.68it/s]\n",
      "  1%|          | 3/470 [00:00<00:22, 20.78it/s]"
     ]
    },
    {
     "name": "stdout",
     "output_type": "stream",
     "text": [
      "Epoch: 774 Training Loss: 449465.1130641401\n"
     ]
    },
    {
     "name": "stderr",
     "output_type": "stream",
     "text": [
      "100%|██████████| 470/470 [00:21<00:00, 21.41it/s]\n",
      "  1%|          | 3/470 [00:00<00:20, 23.03it/s]"
     ]
    },
    {
     "name": "stdout",
     "output_type": "stream",
     "text": [
      "Epoch: 775 Training Loss: 490050.8598321304\n"
     ]
    },
    {
     "name": "stderr",
     "output_type": "stream",
     "text": [
      "100%|██████████| 470/470 [00:21<00:00, 21.76it/s]\n",
      "  1%|          | 3/470 [00:00<00:22, 20.82it/s]"
     ]
    },
    {
     "name": "stdout",
     "output_type": "stream",
     "text": [
      "Epoch: 776 Training Loss: 398240.0010856837\n"
     ]
    },
    {
     "name": "stderr",
     "output_type": "stream",
     "text": [
      "100%|██████████| 470/470 [00:21<00:00, 21.63it/s]\n",
      "  0%|          | 2/470 [00:00<00:27, 16.80it/s]"
     ]
    },
    {
     "name": "stdout",
     "output_type": "stream",
     "text": [
      "Epoch: 777 Training Loss: 538777.4926041663\n"
     ]
    },
    {
     "name": "stderr",
     "output_type": "stream",
     "text": [
      "100%|██████████| 470/470 [00:21<00:00, 21.62it/s]\n",
      "  1%|          | 3/470 [00:00<00:22, 20.48it/s]"
     ]
    },
    {
     "name": "stdout",
     "output_type": "stream",
     "text": [
      "Epoch: 778 Training Loss: 451858.7529860884\n"
     ]
    },
    {
     "name": "stderr",
     "output_type": "stream",
     "text": [
      "100%|██████████| 470/470 [00:21<00:00, 21.58it/s]\n",
      "  1%|          | 3/470 [00:00<00:21, 21.90it/s]"
     ]
    },
    {
     "name": "stdout",
     "output_type": "stream",
     "text": [
      "Epoch: 779 Training Loss: 432168.2360326387\n"
     ]
    },
    {
     "name": "stderr",
     "output_type": "stream",
     "text": [
      "100%|██████████| 470/470 [00:21<00:00, 21.51it/s]\n",
      "  1%|          | 3/470 [00:00<00:20, 22.61it/s]"
     ]
    },
    {
     "name": "stdout",
     "output_type": "stream",
     "text": [
      "Epoch: 780 Training Loss: 533101.0031784922\n"
     ]
    },
    {
     "name": "stderr",
     "output_type": "stream",
     "text": [
      "100%|██████████| 470/470 [00:21<00:00, 21.91it/s]\n",
      "  1%|          | 3/470 [00:00<00:22, 20.75it/s]"
     ]
    },
    {
     "name": "stdout",
     "output_type": "stream",
     "text": [
      "Epoch: 781 Training Loss: 397624.4199093878\n"
     ]
    },
    {
     "name": "stderr",
     "output_type": "stream",
     "text": [
      "100%|██████████| 470/470 [00:21<00:00, 21.74it/s]\n",
      "  1%|          | 3/470 [00:00<00:21, 21.64it/s]"
     ]
    },
    {
     "name": "stdout",
     "output_type": "stream",
     "text": [
      "Epoch: 782 Training Loss: 456854.5405508578\n"
     ]
    },
    {
     "name": "stderr",
     "output_type": "stream",
     "text": [
      "100%|██████████| 470/470 [00:22<00:00, 21.26it/s]\n",
      "  1%|          | 3/470 [00:00<00:22, 20.75it/s]"
     ]
    },
    {
     "name": "stdout",
     "output_type": "stream",
     "text": [
      "Epoch: 783 Training Loss: 424260.4656265862\n"
     ]
    },
    {
     "name": "stderr",
     "output_type": "stream",
     "text": [
      "100%|██████████| 470/470 [00:21<00:00, 21.62it/s]\n",
      "  1%|          | 3/470 [00:00<00:22, 20.58it/s]"
     ]
    },
    {
     "name": "stdout",
     "output_type": "stream",
     "text": [
      "Epoch: 784 Training Loss: 536073.7590833195\n"
     ]
    },
    {
     "name": "stderr",
     "output_type": "stream",
     "text": [
      "100%|██████████| 470/470 [00:21<00:00, 21.53it/s]\n",
      "  1%|          | 3/470 [00:00<00:22, 20.38it/s]"
     ]
    },
    {
     "name": "stdout",
     "output_type": "stream",
     "text": [
      "Epoch: 785 Training Loss: 375661.593900552\n"
     ]
    },
    {
     "name": "stderr",
     "output_type": "stream",
     "text": [
      "100%|██████████| 470/470 [00:21<00:00, 21.61it/s]\n",
      "  1%|          | 3/470 [00:00<00:21, 21.50it/s]"
     ]
    },
    {
     "name": "stdout",
     "output_type": "stream",
     "text": [
      "Epoch: 786 Training Loss: 494751.79548585415\n"
     ]
    },
    {
     "name": "stderr",
     "output_type": "stream",
     "text": [
      "100%|██████████| 470/470 [00:21<00:00, 21.59it/s]\n",
      "  1%|          | 3/470 [00:00<00:22, 20.65it/s]"
     ]
    },
    {
     "name": "stdout",
     "output_type": "stream",
     "text": [
      "Epoch: 787 Training Loss: 494529.79251725227\n"
     ]
    },
    {
     "name": "stderr",
     "output_type": "stream",
     "text": [
      "100%|██████████| 470/470 [00:21<00:00, 21.65it/s]\n",
      "  0%|          | 2/470 [00:00<00:27, 17.08it/s]"
     ]
    },
    {
     "name": "stdout",
     "output_type": "stream",
     "text": [
      "Epoch: 788 Training Loss: 453513.53263477236\n"
     ]
    },
    {
     "name": "stderr",
     "output_type": "stream",
     "text": [
      "100%|██████████| 470/470 [00:21<00:00, 21.69it/s]\n",
      "  1%|          | 3/470 [00:00<00:21, 21.23it/s]"
     ]
    },
    {
     "name": "stdout",
     "output_type": "stream",
     "text": [
      "Epoch: 789 Training Loss: 547711.2368974183\n"
     ]
    },
    {
     "name": "stderr",
     "output_type": "stream",
     "text": [
      "100%|██████████| 470/470 [00:21<00:00, 21.89it/s]\n",
      "  1%|          | 3/470 [00:00<00:20, 22.53it/s]"
     ]
    },
    {
     "name": "stdout",
     "output_type": "stream",
     "text": [
      "Epoch: 790 Training Loss: 473679.2422767803\n"
     ]
    },
    {
     "name": "stderr",
     "output_type": "stream",
     "text": [
      "100%|██████████| 470/470 [00:21<00:00, 21.85it/s]\n",
      "  1%|          | 3/470 [00:00<00:22, 20.97it/s]"
     ]
    },
    {
     "name": "stdout",
     "output_type": "stream",
     "text": [
      "Epoch: 791 Training Loss: 530040.5900941491\n"
     ]
    },
    {
     "name": "stderr",
     "output_type": "stream",
     "text": [
      "100%|██████████| 470/470 [00:21<00:00, 21.81it/s]\n",
      "  1%|          | 3/470 [00:00<00:20, 22.27it/s]"
     ]
    },
    {
     "name": "stdout",
     "output_type": "stream",
     "text": [
      "Epoch: 792 Training Loss: 422680.53187195957\n"
     ]
    },
    {
     "name": "stderr",
     "output_type": "stream",
     "text": [
      "100%|██████████| 470/470 [00:21<00:00, 21.89it/s]\n",
      "  1%|          | 3/470 [00:00<00:22, 20.75it/s]"
     ]
    },
    {
     "name": "stdout",
     "output_type": "stream",
     "text": [
      "Epoch: 793 Training Loss: 502515.1319247857\n"
     ]
    },
    {
     "name": "stderr",
     "output_type": "stream",
     "text": [
      "100%|██████████| 470/470 [00:21<00:00, 21.73it/s]\n",
      "  1%|          | 3/470 [00:00<00:21, 22.13it/s]"
     ]
    },
    {
     "name": "stdout",
     "output_type": "stream",
     "text": [
      "Epoch: 794 Training Loss: 370024.6963079609\n"
     ]
    },
    {
     "name": "stderr",
     "output_type": "stream",
     "text": [
      "100%|██████████| 470/470 [00:21<00:00, 21.90it/s]\n",
      "  1%|          | 3/470 [00:00<00:22, 20.84it/s]"
     ]
    },
    {
     "name": "stdout",
     "output_type": "stream",
     "text": [
      "Epoch: 795 Training Loss: 482911.09575122595\n"
     ]
    },
    {
     "name": "stderr",
     "output_type": "stream",
     "text": [
      "100%|██████████| 470/470 [00:21<00:00, 21.53it/s]\n",
      "  1%|          | 3/470 [00:00<00:21, 22.14it/s]"
     ]
    },
    {
     "name": "stdout",
     "output_type": "stream",
     "text": [
      "Epoch: 796 Training Loss: 477718.60144427046\n"
     ]
    },
    {
     "name": "stderr",
     "output_type": "stream",
     "text": [
      "100%|██████████| 470/470 [00:21<00:00, 21.67it/s]\n",
      "  1%|          | 3/470 [00:00<00:20, 22.80it/s]"
     ]
    },
    {
     "name": "stdout",
     "output_type": "stream",
     "text": [
      "Epoch: 797 Training Loss: 488075.95829667896\n"
     ]
    },
    {
     "name": "stderr",
     "output_type": "stream",
     "text": [
      "100%|██████████| 470/470 [00:22<00:00, 21.33it/s]\n",
      "  1%|          | 3/470 [00:00<00:22, 21.02it/s]"
     ]
    },
    {
     "name": "stdout",
     "output_type": "stream",
     "text": [
      "Epoch: 798 Training Loss: 470437.28018420935\n"
     ]
    },
    {
     "name": "stderr",
     "output_type": "stream",
     "text": [
      "100%|██████████| 470/470 [00:21<00:00, 21.65it/s]\n",
      "  0%|          | 2/470 [00:00<00:23, 19.88it/s]"
     ]
    },
    {
     "name": "stdout",
     "output_type": "stream",
     "text": [
      "Epoch: 799 Training Loss: 412583.80507784337\n"
     ]
    },
    {
     "name": "stderr",
     "output_type": "stream",
     "text": [
      "100%|██████████| 470/470 [00:21<00:00, 21.93it/s]\n",
      "  1%|          | 3/470 [00:00<00:20, 22.53it/s]"
     ]
    },
    {
     "name": "stdout",
     "output_type": "stream",
     "text": [
      "Epoch: 800 Training Loss: 438881.6784335375\n"
     ]
    },
    {
     "name": "stderr",
     "output_type": "stream",
     "text": [
      "100%|██████████| 470/470 [00:21<00:00, 21.58it/s]\n",
      "  0%|          | 2/470 [00:00<00:28, 16.52it/s]"
     ]
    },
    {
     "name": "stdout",
     "output_type": "stream",
     "text": [
      "Epoch: 801 Training Loss: 470033.2026380785\n"
     ]
    },
    {
     "name": "stderr",
     "output_type": "stream",
     "text": [
      "100%|██████████| 470/470 [00:21<00:00, 21.52it/s]\n",
      "  0%|          | 2/470 [00:00<00:27, 16.75it/s]"
     ]
    },
    {
     "name": "stdout",
     "output_type": "stream",
     "text": [
      "Epoch: 802 Training Loss: 549115.0320674423\n"
     ]
    },
    {
     "name": "stderr",
     "output_type": "stream",
     "text": [
      "100%|██████████| 470/470 [00:21<00:00, 21.79it/s]\n",
      "  1%|          | 3/470 [00:00<00:22, 20.49it/s]"
     ]
    },
    {
     "name": "stdout",
     "output_type": "stream",
     "text": [
      "Epoch: 803 Training Loss: 419979.3822377175\n"
     ]
    },
    {
     "name": "stderr",
     "output_type": "stream",
     "text": [
      "100%|██████████| 470/470 [00:22<00:00, 21.26it/s]\n",
      "  1%|          | 3/470 [00:00<00:20, 22.90it/s]"
     ]
    },
    {
     "name": "stdout",
     "output_type": "stream",
     "text": [
      "Epoch: 804 Training Loss: 499168.0805955976\n"
     ]
    },
    {
     "name": "stderr",
     "output_type": "stream",
     "text": [
      "100%|██████████| 470/470 [00:21<00:00, 21.62it/s]\n",
      "  0%|          | 2/470 [00:00<00:23, 19.89it/s]"
     ]
    },
    {
     "name": "stdout",
     "output_type": "stream",
     "text": [
      "Epoch: 805 Training Loss: 426539.892633602\n"
     ]
    },
    {
     "name": "stderr",
     "output_type": "stream",
     "text": [
      "100%|██████████| 470/470 [00:21<00:00, 21.84it/s]\n",
      "  1%|          | 3/470 [00:00<00:21, 22.09it/s]"
     ]
    },
    {
     "name": "stdout",
     "output_type": "stream",
     "text": [
      "Epoch: 806 Training Loss: 435397.35984408855\n"
     ]
    },
    {
     "name": "stderr",
     "output_type": "stream",
     "text": [
      "100%|██████████| 470/470 [00:21<00:00, 21.46it/s]\n",
      "  1%|          | 3/470 [00:00<00:22, 20.81it/s]"
     ]
    },
    {
     "name": "stdout",
     "output_type": "stream",
     "text": [
      "Epoch: 807 Training Loss: 498402.35686872154\n"
     ]
    },
    {
     "name": "stderr",
     "output_type": "stream",
     "text": [
      "100%|██████████| 470/470 [00:22<00:00, 21.34it/s]\n",
      "  0%|          | 2/470 [00:00<00:25, 18.68it/s]"
     ]
    },
    {
     "name": "stdout",
     "output_type": "stream",
     "text": [
      "Epoch: 808 Training Loss: 471545.47705845535\n"
     ]
    },
    {
     "name": "stderr",
     "output_type": "stream",
     "text": [
      "100%|██████████| 470/470 [00:21<00:00, 21.89it/s]\n",
      "  0%|          | 2/470 [00:00<00:25, 18.32it/s]"
     ]
    },
    {
     "name": "stdout",
     "output_type": "stream",
     "text": [
      "Epoch: 809 Training Loss: 477366.1177091375\n"
     ]
    },
    {
     "name": "stderr",
     "output_type": "stream",
     "text": [
      "100%|██████████| 470/470 [00:21<00:00, 21.51it/s]\n",
      "  1%|          | 3/470 [00:00<00:20, 22.60it/s]"
     ]
    },
    {
     "name": "stdout",
     "output_type": "stream",
     "text": [
      "Epoch: 810 Training Loss: 424055.5419241786\n"
     ]
    },
    {
     "name": "stderr",
     "output_type": "stream",
     "text": [
      "100%|██████████| 470/470 [00:21<00:00, 21.80it/s]\n",
      "  1%|          | 3/470 [00:00<00:21, 21.69it/s]"
     ]
    },
    {
     "name": "stdout",
     "output_type": "stream",
     "text": [
      "Epoch: 811 Training Loss: 490597.48938875645\n"
     ]
    },
    {
     "name": "stderr",
     "output_type": "stream",
     "text": [
      "100%|██████████| 470/470 [00:21<00:00, 21.60it/s]\n",
      "  1%|          | 3/470 [00:00<00:21, 22.17it/s]"
     ]
    },
    {
     "name": "stdout",
     "output_type": "stream",
     "text": [
      "Epoch: 812 Training Loss: 540372.3638124019\n"
     ]
    },
    {
     "name": "stderr",
     "output_type": "stream",
     "text": [
      "100%|██████████| 470/470 [00:21<00:00, 22.06it/s]\n",
      "  1%|          | 3/470 [00:00<00:20, 22.91it/s]"
     ]
    },
    {
     "name": "stdout",
     "output_type": "stream",
     "text": [
      "Epoch: 813 Training Loss: 417368.5563224405\n"
     ]
    },
    {
     "name": "stderr",
     "output_type": "stream",
     "text": [
      "100%|██████████| 470/470 [00:21<00:00, 21.72it/s]\n",
      "  0%|          | 2/470 [00:00<00:26, 17.54it/s]"
     ]
    },
    {
     "name": "stdout",
     "output_type": "stream",
     "text": [
      "Epoch: 814 Training Loss: 489634.3598808199\n"
     ]
    },
    {
     "name": "stderr",
     "output_type": "stream",
     "text": [
      "100%|██████████| 470/470 [00:21<00:00, 21.49it/s]\n",
      "  1%|          | 3/470 [00:00<00:21, 22.18it/s]"
     ]
    },
    {
     "name": "stdout",
     "output_type": "stream",
     "text": [
      "Epoch: 815 Training Loss: 477405.7173848897\n"
     ]
    },
    {
     "name": "stderr",
     "output_type": "stream",
     "text": [
      "100%|██████████| 470/470 [00:21<00:00, 21.69it/s]\n",
      "  0%|          | 2/470 [00:00<00:27, 16.90it/s]"
     ]
    },
    {
     "name": "stdout",
     "output_type": "stream",
     "text": [
      "Epoch: 816 Training Loss: 504494.8869867176\n"
     ]
    },
    {
     "name": "stderr",
     "output_type": "stream",
     "text": [
      "100%|██████████| 470/470 [00:21<00:00, 21.69it/s]\n",
      "  1%|          | 3/470 [00:00<00:22, 20.93it/s]"
     ]
    },
    {
     "name": "stdout",
     "output_type": "stream",
     "text": [
      "Epoch: 817 Training Loss: 509252.75256895274\n"
     ]
    },
    {
     "name": "stderr",
     "output_type": "stream",
     "text": [
      "100%|██████████| 470/470 [00:21<00:00, 21.75it/s]\n",
      "  1%|          | 3/470 [00:00<00:21, 22.04it/s]"
     ]
    },
    {
     "name": "stdout",
     "output_type": "stream",
     "text": [
      "Epoch: 818 Training Loss: 567706.1839583982\n"
     ]
    },
    {
     "name": "stderr",
     "output_type": "stream",
     "text": [
      "100%|██████████| 470/470 [00:21<00:00, 21.47it/s]\n",
      "  1%|          | 3/470 [00:00<00:22, 20.49it/s]"
     ]
    },
    {
     "name": "stdout",
     "output_type": "stream",
     "text": [
      "Epoch: 819 Training Loss: 437182.81812107004\n"
     ]
    },
    {
     "name": "stderr",
     "output_type": "stream",
     "text": [
      "100%|██████████| 470/470 [00:21<00:00, 21.75it/s]\n",
      "  1%|          | 3/470 [00:00<00:22, 20.73it/s]"
     ]
    },
    {
     "name": "stdout",
     "output_type": "stream",
     "text": [
      "Epoch: 820 Training Loss: 492175.41849852353\n"
     ]
    },
    {
     "name": "stderr",
     "output_type": "stream",
     "text": [
      "100%|██████████| 470/470 [00:22<00:00, 21.30it/s]\n",
      "  1%|          | 3/470 [00:00<00:22, 20.53it/s]"
     ]
    },
    {
     "name": "stdout",
     "output_type": "stream",
     "text": [
      "Epoch: 821 Training Loss: 572485.0994804353\n"
     ]
    },
    {
     "name": "stderr",
     "output_type": "stream",
     "text": [
      "100%|██████████| 470/470 [00:21<00:00, 21.69it/s]\n",
      "  1%|          | 3/470 [00:00<00:21, 22.14it/s]"
     ]
    },
    {
     "name": "stdout",
     "output_type": "stream",
     "text": [
      "Epoch: 822 Training Loss: 472077.6740067005\n"
     ]
    },
    {
     "name": "stderr",
     "output_type": "stream",
     "text": [
      "100%|██████████| 470/470 [00:21<00:00, 21.53it/s]\n",
      "  1%|          | 3/470 [00:00<00:22, 20.40it/s]"
     ]
    },
    {
     "name": "stdout",
     "output_type": "stream",
     "text": [
      "Epoch: 823 Training Loss: 459332.8002522141\n"
     ]
    },
    {
     "name": "stderr",
     "output_type": "stream",
     "text": [
      "100%|██████████| 470/470 [00:21<00:00, 21.47it/s]\n",
      "  1%|          | 3/470 [00:00<00:22, 20.53it/s]"
     ]
    },
    {
     "name": "stdout",
     "output_type": "stream",
     "text": [
      "Epoch: 824 Training Loss: 560791.1085171103\n"
     ]
    },
    {
     "name": "stderr",
     "output_type": "stream",
     "text": [
      "100%|██████████| 470/470 [00:21<00:00, 21.81it/s]\n",
      "  0%|          | 2/470 [00:00<00:24, 19.48it/s]"
     ]
    },
    {
     "name": "stdout",
     "output_type": "stream",
     "text": [
      "Epoch: 825 Training Loss: 436883.6063483283\n"
     ]
    },
    {
     "name": "stderr",
     "output_type": "stream",
     "text": [
      "100%|██████████| 470/470 [00:21<00:00, 21.87it/s]\n",
      "  0%|          | 2/470 [00:00<00:24, 19.37it/s]"
     ]
    },
    {
     "name": "stdout",
     "output_type": "stream",
     "text": [
      "Epoch: 826 Training Loss: 488575.32960579265\n"
     ]
    },
    {
     "name": "stderr",
     "output_type": "stream",
     "text": [
      "100%|██████████| 470/470 [00:22<00:00, 21.33it/s]\n",
      "  0%|          | 2/470 [00:00<00:25, 18.52it/s]"
     ]
    },
    {
     "name": "stdout",
     "output_type": "stream",
     "text": [
      "Epoch: 827 Training Loss: 503462.3868627995\n"
     ]
    },
    {
     "name": "stderr",
     "output_type": "stream",
     "text": [
      "100%|██████████| 470/470 [00:21<00:00, 21.60it/s]\n",
      "  0%|          | 2/470 [00:00<00:27, 17.02it/s]"
     ]
    },
    {
     "name": "stdout",
     "output_type": "stream",
     "text": [
      "Epoch: 828 Training Loss: 481765.2807155922\n"
     ]
    },
    {
     "name": "stderr",
     "output_type": "stream",
     "text": [
      "100%|██████████| 470/470 [00:21<00:00, 21.55it/s]\n",
      "  0%|          | 2/470 [00:00<00:25, 18.68it/s]"
     ]
    },
    {
     "name": "stdout",
     "output_type": "stream",
     "text": [
      "Epoch: 829 Training Loss: 472720.8423465155\n"
     ]
    },
    {
     "name": "stderr",
     "output_type": "stream",
     "text": [
      "100%|██████████| 470/470 [00:21<00:00, 21.78it/s]\n",
      "  1%|          | 3/470 [00:00<00:22, 20.60it/s]"
     ]
    },
    {
     "name": "stdout",
     "output_type": "stream",
     "text": [
      "Epoch: 830 Training Loss: 423891.7348315343\n"
     ]
    },
    {
     "name": "stderr",
     "output_type": "stream",
     "text": [
      "100%|██████████| 470/470 [00:22<00:00, 21.18it/s]\n",
      "  0%|          | 2/470 [00:00<00:26, 17.94it/s]"
     ]
    },
    {
     "name": "stdout",
     "output_type": "stream",
     "text": [
      "Epoch: 831 Training Loss: 443743.26754482836\n"
     ]
    },
    {
     "name": "stderr",
     "output_type": "stream",
     "text": [
      "100%|██████████| 470/470 [00:21<00:00, 21.63it/s]\n",
      "  1%|          | 3/470 [00:00<00:20, 22.42it/s]"
     ]
    },
    {
     "name": "stdout",
     "output_type": "stream",
     "text": [
      "Epoch: 832 Training Loss: 544816.9569450617\n"
     ]
    },
    {
     "name": "stderr",
     "output_type": "stream",
     "text": [
      "100%|██████████| 470/470 [00:21<00:00, 21.44it/s]\n",
      "  1%|          | 3/470 [00:00<00:20, 22.60it/s]"
     ]
    },
    {
     "name": "stdout",
     "output_type": "stream",
     "text": [
      "Epoch: 833 Training Loss: 473160.75537741184\n"
     ]
    },
    {
     "name": "stderr",
     "output_type": "stream",
     "text": [
      "100%|██████████| 470/470 [00:21<00:00, 21.76it/s]\n",
      "  1%|          | 3/470 [00:00<00:20, 22.43it/s]"
     ]
    },
    {
     "name": "stdout",
     "output_type": "stream",
     "text": [
      "Epoch: 834 Training Loss: 490275.7899312228\n"
     ]
    },
    {
     "name": "stderr",
     "output_type": "stream",
     "text": [
      "100%|██████████| 470/470 [00:21<00:00, 21.63it/s]\n",
      "  0%|          | 2/470 [00:00<00:27, 16.96it/s]"
     ]
    },
    {
     "name": "stdout",
     "output_type": "stream",
     "text": [
      "Epoch: 835 Training Loss: 413503.3818618506\n"
     ]
    },
    {
     "name": "stderr",
     "output_type": "stream",
     "text": [
      "100%|██████████| 470/470 [00:21<00:00, 21.58it/s]\n",
      "  1%|          | 3/470 [00:00<00:22, 20.51it/s]"
     ]
    },
    {
     "name": "stdout",
     "output_type": "stream",
     "text": [
      "Epoch: 836 Training Loss: 415945.7650115639\n"
     ]
    },
    {
     "name": "stderr",
     "output_type": "stream",
     "text": [
      "100%|██████████| 470/470 [00:21<00:00, 21.58it/s]\n",
      "  0%|          | 2/470 [00:00<00:24, 18.72it/s]"
     ]
    },
    {
     "name": "stdout",
     "output_type": "stream",
     "text": [
      "Epoch: 837 Training Loss: 501599.2360934913\n"
     ]
    },
    {
     "name": "stderr",
     "output_type": "stream",
     "text": [
      "100%|██████████| 470/470 [00:21<00:00, 21.70it/s]\n",
      "  1%|          | 3/470 [00:00<00:21, 21.34it/s]"
     ]
    },
    {
     "name": "stdout",
     "output_type": "stream",
     "text": [
      "Epoch: 838 Training Loss: 464344.9653332345\n"
     ]
    },
    {
     "name": "stderr",
     "output_type": "stream",
     "text": [
      "100%|██████████| 470/470 [00:21<00:00, 21.82it/s]\n",
      "  1%|          | 3/470 [00:00<00:20, 22.33it/s]"
     ]
    },
    {
     "name": "stdout",
     "output_type": "stream",
     "text": [
      "Epoch: 839 Training Loss: 483935.2160473764\n"
     ]
    },
    {
     "name": "stderr",
     "output_type": "stream",
     "text": [
      "100%|██████████| 470/470 [00:21<00:00, 21.60it/s]\n",
      "  1%|          | 3/470 [00:00<00:20, 22.56it/s]"
     ]
    },
    {
     "name": "stdout",
     "output_type": "stream",
     "text": [
      "Epoch: 840 Training Loss: 499679.12254221365\n"
     ]
    },
    {
     "name": "stderr",
     "output_type": "stream",
     "text": [
      "100%|██████████| 470/470 [00:21<00:00, 21.75it/s]\n",
      "  0%|          | 2/470 [00:00<00:27, 16.84it/s]"
     ]
    },
    {
     "name": "stdout",
     "output_type": "stream",
     "text": [
      "Epoch: 841 Training Loss: 452769.74847744405\n"
     ]
    },
    {
     "name": "stderr",
     "output_type": "stream",
     "text": [
      "100%|██████████| 470/470 [00:21<00:00, 21.84it/s]\n",
      "  1%|          | 3/470 [00:00<00:20, 22.27it/s]"
     ]
    },
    {
     "name": "stdout",
     "output_type": "stream",
     "text": [
      "Epoch: 842 Training Loss: 376336.12976422906\n"
     ]
    },
    {
     "name": "stderr",
     "output_type": "stream",
     "text": [
      "100%|██████████| 470/470 [00:21<00:00, 21.63it/s]\n",
      "  0%|          | 2/470 [00:00<00:26, 17.51it/s]"
     ]
    },
    {
     "name": "stdout",
     "output_type": "stream",
     "text": [
      "Epoch: 843 Training Loss: 465238.5834889561\n"
     ]
    },
    {
     "name": "stderr",
     "output_type": "stream",
     "text": [
      "100%|██████████| 470/470 [00:21<00:00, 21.90it/s]\n",
      "  1%|          | 3/470 [00:00<00:23, 20.29it/s]"
     ]
    },
    {
     "name": "stdout",
     "output_type": "stream",
     "text": [
      "Epoch: 844 Training Loss: 470938.4409593046\n"
     ]
    },
    {
     "name": "stderr",
     "output_type": "stream",
     "text": [
      "100%|██████████| 470/470 [00:21<00:00, 21.57it/s]\n",
      "  1%|          | 3/470 [00:00<00:20, 22.59it/s]"
     ]
    },
    {
     "name": "stdout",
     "output_type": "stream",
     "text": [
      "Epoch: 845 Training Loss: 525477.4519084692\n"
     ]
    },
    {
     "name": "stderr",
     "output_type": "stream",
     "text": [
      "100%|██████████| 470/470 [00:21<00:00, 21.54it/s]\n",
      "  1%|          | 3/470 [00:00<00:22, 20.83it/s]"
     ]
    },
    {
     "name": "stdout",
     "output_type": "stream",
     "text": [
      "Epoch: 846 Training Loss: 397122.31354355067\n"
     ]
    },
    {
     "name": "stderr",
     "output_type": "stream",
     "text": [
      "100%|██████████| 470/470 [00:21<00:00, 21.99it/s]\n",
      "  1%|          | 3/470 [00:00<00:20, 22.46it/s]"
     ]
    },
    {
     "name": "stdout",
     "output_type": "stream",
     "text": [
      "Epoch: 847 Training Loss: 405767.3735655099\n"
     ]
    },
    {
     "name": "stderr",
     "output_type": "stream",
     "text": [
      "100%|██████████| 470/470 [00:22<00:00, 21.20it/s]\n",
      "  1%|          | 3/470 [00:00<00:22, 20.58it/s]"
     ]
    },
    {
     "name": "stdout",
     "output_type": "stream",
     "text": [
      "Epoch: 848 Training Loss: 457130.35500443727\n"
     ]
    },
    {
     "name": "stderr",
     "output_type": "stream",
     "text": [
      "100%|██████████| 470/470 [00:21<00:00, 21.41it/s]\n",
      "  1%|          | 3/470 [00:00<00:22, 20.65it/s]"
     ]
    },
    {
     "name": "stdout",
     "output_type": "stream",
     "text": [
      "Epoch: 849 Training Loss: 483127.3822889924\n"
     ]
    },
    {
     "name": "stderr",
     "output_type": "stream",
     "text": [
      "100%|██████████| 470/470 [00:21<00:00, 21.62it/s]\n",
      "  1%|          | 3/470 [00:00<00:22, 20.89it/s]"
     ]
    },
    {
     "name": "stdout",
     "output_type": "stream",
     "text": [
      "Epoch: 850 Training Loss: 470726.96757604554\n"
     ]
    },
    {
     "name": "stderr",
     "output_type": "stream",
     "text": [
      "100%|██████████| 470/470 [00:22<00:00, 21.25it/s]\n",
      "  1%|          | 3/470 [00:00<00:22, 20.34it/s]"
     ]
    },
    {
     "name": "stdout",
     "output_type": "stream",
     "text": [
      "Epoch: 851 Training Loss: 530203.8367945366\n"
     ]
    },
    {
     "name": "stderr",
     "output_type": "stream",
     "text": [
      "100%|██████████| 470/470 [00:21<00:00, 22.01it/s]\n",
      "  1%|          | 3/470 [00:00<00:22, 20.86it/s]"
     ]
    },
    {
     "name": "stdout",
     "output_type": "stream",
     "text": [
      "Epoch: 852 Training Loss: 499561.3649636507\n"
     ]
    },
    {
     "name": "stderr",
     "output_type": "stream",
     "text": [
      "100%|██████████| 470/470 [00:21<00:00, 21.63it/s]\n",
      "  1%|          | 3/470 [00:00<00:20, 22.37it/s]"
     ]
    },
    {
     "name": "stdout",
     "output_type": "stream",
     "text": [
      "Epoch: 853 Training Loss: 466730.3008877337\n"
     ]
    },
    {
     "name": "stderr",
     "output_type": "stream",
     "text": [
      "100%|██████████| 470/470 [00:21<00:00, 21.57it/s]\n",
      "  1%|          | 3/470 [00:00<00:22, 20.37it/s]"
     ]
    },
    {
     "name": "stdout",
     "output_type": "stream",
     "text": [
      "Epoch: 854 Training Loss: 490488.87680484354\n"
     ]
    },
    {
     "name": "stderr",
     "output_type": "stream",
     "text": [
      "100%|██████████| 470/470 [00:21<00:00, 21.52it/s]\n",
      "  1%|          | 3/470 [00:00<00:21, 21.77it/s]"
     ]
    },
    {
     "name": "stdout",
     "output_type": "stream",
     "text": [
      "Epoch: 855 Training Loss: 444203.3641734347\n"
     ]
    },
    {
     "name": "stderr",
     "output_type": "stream",
     "text": [
      "100%|██████████| 470/470 [00:21<00:00, 21.52it/s]\n",
      "  1%|          | 3/470 [00:00<00:22, 20.81it/s]"
     ]
    },
    {
     "name": "stdout",
     "output_type": "stream",
     "text": [
      "Epoch: 856 Training Loss: 476125.4777582288\n"
     ]
    },
    {
     "name": "stderr",
     "output_type": "stream",
     "text": [
      "100%|██████████| 470/470 [00:21<00:00, 21.78it/s]\n",
      "  1%|          | 3/470 [00:00<00:22, 20.83it/s]"
     ]
    },
    {
     "name": "stdout",
     "output_type": "stream",
     "text": [
      "Epoch: 857 Training Loss: 417647.07872131467\n"
     ]
    },
    {
     "name": "stderr",
     "output_type": "stream",
     "text": [
      "100%|██████████| 470/470 [00:21<00:00, 21.41it/s]\n",
      "  1%|          | 3/470 [00:00<00:20, 22.31it/s]"
     ]
    },
    {
     "name": "stdout",
     "output_type": "stream",
     "text": [
      "Epoch: 858 Training Loss: 480968.2844017148\n"
     ]
    },
    {
     "name": "stderr",
     "output_type": "stream",
     "text": [
      "100%|██████████| 470/470 [00:21<00:00, 21.42it/s]\n",
      "  1%|          | 3/470 [00:00<00:23, 20.30it/s]"
     ]
    },
    {
     "name": "stdout",
     "output_type": "stream",
     "text": [
      "Epoch: 859 Training Loss: 443126.2201372385\n"
     ]
    },
    {
     "name": "stderr",
     "output_type": "stream",
     "text": [
      "100%|██████████| 470/470 [00:22<00:00, 21.36it/s]\n",
      "  0%|          | 2/470 [00:00<00:23, 19.79it/s]"
     ]
    },
    {
     "name": "stdout",
     "output_type": "stream",
     "text": [
      "Epoch: 860 Training Loss: 479037.2965318188\n"
     ]
    },
    {
     "name": "stderr",
     "output_type": "stream",
     "text": [
      "100%|██████████| 470/470 [00:21<00:00, 21.95it/s]\n",
      "  1%|          | 3/470 [00:00<00:21, 21.97it/s]"
     ]
    },
    {
     "name": "stdout",
     "output_type": "stream",
     "text": [
      "Epoch: 861 Training Loss: 542020.4050952345\n"
     ]
    },
    {
     "name": "stderr",
     "output_type": "stream",
     "text": [
      "100%|██████████| 470/470 [00:21<00:00, 21.91it/s]\n",
      "  0%|          | 2/470 [00:00<00:24, 18.85it/s]"
     ]
    },
    {
     "name": "stdout",
     "output_type": "stream",
     "text": [
      "Epoch: 862 Training Loss: 424656.5991728045\n"
     ]
    },
    {
     "name": "stderr",
     "output_type": "stream",
     "text": [
      "100%|██████████| 470/470 [00:21<00:00, 21.76it/s]\n",
      "  1%|          | 3/470 [00:00<00:20, 22.51it/s]"
     ]
    },
    {
     "name": "stdout",
     "output_type": "stream",
     "text": [
      "Epoch: 863 Training Loss: 500551.3543855846\n"
     ]
    },
    {
     "name": "stderr",
     "output_type": "stream",
     "text": [
      "100%|██████████| 470/470 [00:21<00:00, 21.59it/s]\n",
      "  0%|          | 2/470 [00:00<00:24, 18.77it/s]"
     ]
    },
    {
     "name": "stdout",
     "output_type": "stream",
     "text": [
      "Epoch: 864 Training Loss: 458216.9276801832\n"
     ]
    },
    {
     "name": "stderr",
     "output_type": "stream",
     "text": [
      "100%|██████████| 470/470 [00:22<00:00, 21.18it/s]\n",
      "  1%|          | 3/470 [00:00<00:22, 20.95it/s]"
     ]
    },
    {
     "name": "stdout",
     "output_type": "stream",
     "text": [
      "Epoch: 865 Training Loss: 472347.0267981589\n"
     ]
    },
    {
     "name": "stderr",
     "output_type": "stream",
     "text": [
      "100%|██████████| 470/470 [00:21<00:00, 21.57it/s]\n",
      "  1%|          | 3/470 [00:00<00:22, 20.67it/s]"
     ]
    },
    {
     "name": "stdout",
     "output_type": "stream",
     "text": [
      "Epoch: 866 Training Loss: 532287.6924417913\n"
     ]
    },
    {
     "name": "stderr",
     "output_type": "stream",
     "text": [
      "100%|██████████| 470/470 [00:21<00:00, 21.87it/s]\n",
      "  1%|          | 3/470 [00:00<00:20, 22.47it/s]"
     ]
    },
    {
     "name": "stdout",
     "output_type": "stream",
     "text": [
      "Epoch: 867 Training Loss: 491032.8912692666\n"
     ]
    },
    {
     "name": "stderr",
     "output_type": "stream",
     "text": [
      "100%|██████████| 470/470 [00:21<00:00, 21.51it/s]\n",
      "  1%|          | 3/470 [00:00<00:20, 22.52it/s]"
     ]
    },
    {
     "name": "stdout",
     "output_type": "stream",
     "text": [
      "Epoch: 868 Training Loss: 545568.5557980239\n"
     ]
    },
    {
     "name": "stderr",
     "output_type": "stream",
     "text": [
      "100%|██████████| 470/470 [00:21<00:00, 21.39it/s]\n",
      "  1%|          | 3/470 [00:00<00:22, 20.60it/s]"
     ]
    },
    {
     "name": "stdout",
     "output_type": "stream",
     "text": [
      "Epoch: 869 Training Loss: 449310.28706691414\n"
     ]
    },
    {
     "name": "stderr",
     "output_type": "stream",
     "text": [
      "100%|██████████| 470/470 [00:21<00:00, 21.42it/s]\n",
      "  1%|          | 3/470 [00:00<00:20, 22.86it/s]"
     ]
    },
    {
     "name": "stdout",
     "output_type": "stream",
     "text": [
      "Epoch: 870 Training Loss: 467800.4538835846\n"
     ]
    },
    {
     "name": "stderr",
     "output_type": "stream",
     "text": [
      "100%|██████████| 470/470 [00:21<00:00, 22.16it/s]\n",
      "  1%|          | 3/470 [00:00<00:21, 22.09it/s]"
     ]
    },
    {
     "name": "stdout",
     "output_type": "stream",
     "text": [
      "Epoch: 871 Training Loss: 448233.6739448942\n"
     ]
    },
    {
     "name": "stderr",
     "output_type": "stream",
     "text": [
      "100%|██████████| 470/470 [00:22<00:00, 21.23it/s]\n",
      "  1%|          | 3/470 [00:00<00:22, 21.01it/s]"
     ]
    },
    {
     "name": "stdout",
     "output_type": "stream",
     "text": [
      "Epoch: 872 Training Loss: 482236.68084445596\n"
     ]
    },
    {
     "name": "stderr",
     "output_type": "stream",
     "text": [
      "100%|██████████| 470/470 [00:21<00:00, 21.56it/s]\n",
      "  1%|          | 3/470 [00:00<00:23, 20.25it/s]"
     ]
    },
    {
     "name": "stdout",
     "output_type": "stream",
     "text": [
      "Epoch: 873 Training Loss: 531180.7477676906\n"
     ]
    },
    {
     "name": "stderr",
     "output_type": "stream",
     "text": [
      "100%|██████████| 470/470 [00:21<00:00, 21.72it/s]\n",
      "  0%|          | 2/470 [00:00<00:27, 17.17it/s]"
     ]
    },
    {
     "name": "stdout",
     "output_type": "stream",
     "text": [
      "Epoch: 874 Training Loss: 463383.66419015825\n"
     ]
    },
    {
     "name": "stderr",
     "output_type": "stream",
     "text": [
      "100%|██████████| 470/470 [00:21<00:00, 21.56it/s]\n",
      "  1%|          | 3/470 [00:00<00:20, 22.38it/s]"
     ]
    },
    {
     "name": "stdout",
     "output_type": "stream",
     "text": [
      "Epoch: 875 Training Loss: 433399.09782090783\n"
     ]
    },
    {
     "name": "stderr",
     "output_type": "stream",
     "text": [
      "100%|██████████| 470/470 [00:22<00:00, 21.15it/s]\n",
      "  1%|          | 3/470 [00:00<00:22, 20.85it/s]"
     ]
    },
    {
     "name": "stdout",
     "output_type": "stream",
     "text": [
      "Epoch: 876 Training Loss: 425280.8851310909\n"
     ]
    },
    {
     "name": "stderr",
     "output_type": "stream",
     "text": [
      "100%|██████████| 470/470 [00:21<00:00, 21.64it/s]\n",
      "  1%|          | 3/470 [00:00<00:20, 22.61it/s]"
     ]
    },
    {
     "name": "stdout",
     "output_type": "stream",
     "text": [
      "Epoch: 877 Training Loss: 515730.350030452\n"
     ]
    },
    {
     "name": "stderr",
     "output_type": "stream",
     "text": [
      "100%|██████████| 470/470 [00:22<00:00, 21.33it/s]\n",
      "  1%|          | 3/470 [00:00<00:20, 22.56it/s]"
     ]
    },
    {
     "name": "stdout",
     "output_type": "stream",
     "text": [
      "Epoch: 878 Training Loss: 525395.9203517213\n"
     ]
    },
    {
     "name": "stderr",
     "output_type": "stream",
     "text": [
      "100%|██████████| 470/470 [00:21<00:00, 21.67it/s]\n",
      "  1%|          | 3/470 [00:00<00:20, 22.44it/s]"
     ]
    },
    {
     "name": "stdout",
     "output_type": "stream",
     "text": [
      "Epoch: 879 Training Loss: 431956.80961853266\n"
     ]
    },
    {
     "name": "stderr",
     "output_type": "stream",
     "text": [
      "100%|██████████| 470/470 [00:22<00:00, 21.26it/s]\n",
      "  1%|          | 3/470 [00:00<00:20, 22.43it/s]"
     ]
    },
    {
     "name": "stdout",
     "output_type": "stream",
     "text": [
      "Epoch: 880 Training Loss: 543014.3258994296\n"
     ]
    },
    {
     "name": "stderr",
     "output_type": "stream",
     "text": [
      "100%|██████████| 470/470 [00:21<00:00, 21.41it/s]\n",
      "  1%|          | 3/470 [00:00<00:22, 20.61it/s]"
     ]
    },
    {
     "name": "stdout",
     "output_type": "stream",
     "text": [
      "Epoch: 881 Training Loss: 460977.25778147206\n"
     ]
    },
    {
     "name": "stderr",
     "output_type": "stream",
     "text": [
      "100%|██████████| 470/470 [00:21<00:00, 21.58it/s]\n",
      "  1%|          | 3/470 [00:00<00:20, 22.74it/s]"
     ]
    },
    {
     "name": "stdout",
     "output_type": "stream",
     "text": [
      "Epoch: 882 Training Loss: 513151.26160621643\n"
     ]
    },
    {
     "name": "stderr",
     "output_type": "stream",
     "text": [
      "100%|██████████| 470/470 [00:21<00:00, 21.42it/s]\n",
      "  1%|          | 3/470 [00:00<00:23, 20.22it/s]"
     ]
    },
    {
     "name": "stdout",
     "output_type": "stream",
     "text": [
      "Epoch: 883 Training Loss: 423229.5149798319\n"
     ]
    },
    {
     "name": "stderr",
     "output_type": "stream",
     "text": [
      "100%|██████████| 470/470 [00:21<00:00, 21.38it/s]\n",
      "  1%|          | 3/470 [00:00<00:23, 20.21it/s]"
     ]
    },
    {
     "name": "stdout",
     "output_type": "stream",
     "text": [
      "Epoch: 884 Training Loss: 511195.818214722\n"
     ]
    },
    {
     "name": "stderr",
     "output_type": "stream",
     "text": [
      "100%|██████████| 470/470 [00:22<00:00, 21.30it/s]\n",
      "  0%|          | 2/470 [00:00<00:26, 17.99it/s]"
     ]
    },
    {
     "name": "stdout",
     "output_type": "stream",
     "text": [
      "Epoch: 885 Training Loss: 456198.4380281605\n"
     ]
    },
    {
     "name": "stderr",
     "output_type": "stream",
     "text": [
      "100%|██████████| 470/470 [00:21<00:00, 21.48it/s]\n",
      "  1%|          | 3/470 [00:00<00:20, 22.33it/s]"
     ]
    },
    {
     "name": "stdout",
     "output_type": "stream",
     "text": [
      "Epoch: 886 Training Loss: 487840.7659021914\n"
     ]
    },
    {
     "name": "stderr",
     "output_type": "stream",
     "text": [
      "100%|██████████| 470/470 [00:22<00:00, 21.36it/s]\n",
      "  1%|          | 3/470 [00:00<00:22, 20.53it/s]"
     ]
    },
    {
     "name": "stdout",
     "output_type": "stream",
     "text": [
      "Epoch: 887 Training Loss: 434883.5889945477\n"
     ]
    },
    {
     "name": "stderr",
     "output_type": "stream",
     "text": [
      "100%|██████████| 470/470 [00:21<00:00, 21.66it/s]\n",
      "  1%|          | 3/470 [00:00<00:20, 22.58it/s]"
     ]
    },
    {
     "name": "stdout",
     "output_type": "stream",
     "text": [
      "Epoch: 888 Training Loss: 531847.9189249873\n"
     ]
    },
    {
     "name": "stderr",
     "output_type": "stream",
     "text": [
      "100%|██████████| 470/470 [00:21<00:00, 21.69it/s]\n",
      "  1%|          | 3/470 [00:00<00:22, 20.51it/s]"
     ]
    },
    {
     "name": "stdout",
     "output_type": "stream",
     "text": [
      "Epoch: 889 Training Loss: 544235.4267643094\n"
     ]
    },
    {
     "name": "stderr",
     "output_type": "stream",
     "text": [
      "100%|██████████| 470/470 [00:21<00:00, 21.61it/s]\n",
      "  1%|          | 3/470 [00:00<00:20, 22.36it/s]"
     ]
    },
    {
     "name": "stdout",
     "output_type": "stream",
     "text": [
      "Epoch: 890 Training Loss: 417343.2690549195\n"
     ]
    },
    {
     "name": "stderr",
     "output_type": "stream",
     "text": [
      "100%|██████████| 470/470 [00:21<00:00, 21.70it/s]\n",
      "  1%|          | 3/470 [00:00<00:20, 22.62it/s]"
     ]
    },
    {
     "name": "stdout",
     "output_type": "stream",
     "text": [
      "Epoch: 891 Training Loss: 420892.3084663972\n"
     ]
    },
    {
     "name": "stderr",
     "output_type": "stream",
     "text": [
      "100%|██████████| 470/470 [00:22<00:00, 21.32it/s]\n",
      "  0%|          | 2/470 [00:00<00:28, 16.66it/s]"
     ]
    },
    {
     "name": "stdout",
     "output_type": "stream",
     "text": [
      "Epoch: 892 Training Loss: 399366.96838555485\n"
     ]
    },
    {
     "name": "stderr",
     "output_type": "stream",
     "text": [
      "100%|██████████| 470/470 [00:22<00:00, 21.30it/s]\n",
      "  1%|          | 3/470 [00:00<00:20, 22.41it/s]"
     ]
    },
    {
     "name": "stdout",
     "output_type": "stream",
     "text": [
      "Epoch: 893 Training Loss: 454434.6222086325\n"
     ]
    },
    {
     "name": "stderr",
     "output_type": "stream",
     "text": [
      "100%|██████████| 470/470 [00:22<00:00, 21.34it/s]\n",
      "  0%|          | 2/470 [00:00<00:24, 19.00it/s]"
     ]
    },
    {
     "name": "stdout",
     "output_type": "stream",
     "text": [
      "Epoch: 894 Training Loss: 459588.6290819943\n"
     ]
    },
    {
     "name": "stderr",
     "output_type": "stream",
     "text": [
      "100%|██████████| 470/470 [00:21<00:00, 21.58it/s]\n",
      "  0%|          | 2/470 [00:00<00:28, 16.49it/s]"
     ]
    },
    {
     "name": "stdout",
     "output_type": "stream",
     "text": [
      "Epoch: 895 Training Loss: 463298.70731414855\n"
     ]
    },
    {
     "name": "stderr",
     "output_type": "stream",
     "text": [
      "100%|██████████| 470/470 [00:21<00:00, 21.40it/s]\n",
      "  1%|          | 3/470 [00:00<00:22, 20.55it/s]"
     ]
    },
    {
     "name": "stdout",
     "output_type": "stream",
     "text": [
      "Epoch: 896 Training Loss: 447057.7369394172\n"
     ]
    },
    {
     "name": "stderr",
     "output_type": "stream",
     "text": [
      "100%|██████████| 470/470 [00:22<00:00, 21.32it/s]\n",
      "  0%|          | 2/470 [00:00<00:25, 18.16it/s]"
     ]
    },
    {
     "name": "stdout",
     "output_type": "stream",
     "text": [
      "Epoch: 897 Training Loss: 422115.4939297065\n"
     ]
    },
    {
     "name": "stderr",
     "output_type": "stream",
     "text": [
      "100%|██████████| 470/470 [00:22<00:00, 21.30it/s]\n",
      "  1%|          | 3/470 [00:00<00:20, 22.54it/s]"
     ]
    },
    {
     "name": "stdout",
     "output_type": "stream",
     "text": [
      "Epoch: 898 Training Loss: 503930.66719035804\n"
     ]
    },
    {
     "name": "stderr",
     "output_type": "stream",
     "text": [
      "100%|██████████| 470/470 [00:21<00:00, 21.86it/s]\n",
      "  1%|          | 3/470 [00:00<00:21, 22.22it/s]"
     ]
    },
    {
     "name": "stdout",
     "output_type": "stream",
     "text": [
      "Epoch: 899 Training Loss: 450353.3641478345\n"
     ]
    },
    {
     "name": "stderr",
     "output_type": "stream",
     "text": [
      "100%|██████████| 470/470 [00:21<00:00, 21.72it/s]\n",
      "  1%|          | 3/470 [00:00<00:22, 20.64it/s]"
     ]
    },
    {
     "name": "stdout",
     "output_type": "stream",
     "text": [
      "Epoch: 900 Training Loss: 474219.8291843161\n"
     ]
    },
    {
     "name": "stderr",
     "output_type": "stream",
     "text": [
      "100%|██████████| 470/470 [00:21<00:00, 22.06it/s]\n",
      "  1%|          | 3/470 [00:00<00:22, 20.83it/s]"
     ]
    },
    {
     "name": "stdout",
     "output_type": "stream",
     "text": [
      "Epoch: 901 Training Loss: 404162.3350852728\n"
     ]
    },
    {
     "name": "stderr",
     "output_type": "stream",
     "text": [
      "100%|██████████| 470/470 [00:21<00:00, 21.81it/s]\n",
      "  1%|          | 3/470 [00:00<00:22, 20.65it/s]"
     ]
    },
    {
     "name": "stdout",
     "output_type": "stream",
     "text": [
      "Epoch: 902 Training Loss: 462676.0144248232\n"
     ]
    },
    {
     "name": "stderr",
     "output_type": "stream",
     "text": [
      "100%|██████████| 470/470 [00:22<00:00, 21.20it/s]\n",
      "  0%|          | 2/470 [00:00<00:27, 16.90it/s]"
     ]
    },
    {
     "name": "stdout",
     "output_type": "stream",
     "text": [
      "Epoch: 903 Training Loss: 461178.1787397675\n"
     ]
    },
    {
     "name": "stderr",
     "output_type": "stream",
     "text": [
      "100%|██████████| 470/470 [00:21<00:00, 21.67it/s]\n",
      "  1%|          | 3/470 [00:00<00:20, 22.40it/s]"
     ]
    },
    {
     "name": "stdout",
     "output_type": "stream",
     "text": [
      "Epoch: 904 Training Loss: 415804.0734936148\n"
     ]
    },
    {
     "name": "stderr",
     "output_type": "stream",
     "text": [
      "100%|██████████| 470/470 [00:22<00:00, 21.31it/s]\n",
      "  1%|          | 3/470 [00:00<00:21, 22.13it/s]"
     ]
    },
    {
     "name": "stdout",
     "output_type": "stream",
     "text": [
      "Epoch: 905 Training Loss: 536063.0407791585\n"
     ]
    },
    {
     "name": "stderr",
     "output_type": "stream",
     "text": [
      "100%|██████████| 470/470 [00:21<00:00, 21.66it/s]\n",
      "  1%|          | 3/470 [00:00<00:20, 22.60it/s]"
     ]
    },
    {
     "name": "stdout",
     "output_type": "stream",
     "text": [
      "Epoch: 906 Training Loss: 431337.1671086699\n"
     ]
    },
    {
     "name": "stderr",
     "output_type": "stream",
     "text": [
      "100%|██████████| 470/470 [00:21<00:00, 21.66it/s]\n",
      "  1%|          | 3/470 [00:00<00:22, 20.77it/s]"
     ]
    },
    {
     "name": "stdout",
     "output_type": "stream",
     "text": [
      "Epoch: 907 Training Loss: 383858.09744975716\n"
     ]
    },
    {
     "name": "stderr",
     "output_type": "stream",
     "text": [
      "100%|██████████| 470/470 [00:22<00:00, 21.33it/s]\n",
      "  1%|          | 3/470 [00:00<00:22, 20.60it/s]"
     ]
    },
    {
     "name": "stdout",
     "output_type": "stream",
     "text": [
      "Epoch: 908 Training Loss: 516964.64210435003\n"
     ]
    },
    {
     "name": "stderr",
     "output_type": "stream",
     "text": [
      "100%|██████████| 470/470 [00:21<00:00, 21.56it/s]\n",
      "  1%|          | 3/470 [00:00<00:20, 22.28it/s]"
     ]
    },
    {
     "name": "stdout",
     "output_type": "stream",
     "text": [
      "Epoch: 909 Training Loss: 557579.8928354979\n"
     ]
    },
    {
     "name": "stderr",
     "output_type": "stream",
     "text": [
      "100%|██████████| 470/470 [00:21<00:00, 21.42it/s]\n",
      "  1%|          | 3/470 [00:00<00:22, 20.55it/s]"
     ]
    },
    {
     "name": "stdout",
     "output_type": "stream",
     "text": [
      "Epoch: 910 Training Loss: 506546.3419395909\n"
     ]
    },
    {
     "name": "stderr",
     "output_type": "stream",
     "text": [
      "100%|██████████| 470/470 [00:21<00:00, 21.60it/s]\n",
      "  1%|          | 3/470 [00:00<00:22, 20.58it/s]"
     ]
    },
    {
     "name": "stdout",
     "output_type": "stream",
     "text": [
      "Epoch: 911 Training Loss: 439229.1066858843\n"
     ]
    },
    {
     "name": "stderr",
     "output_type": "stream",
     "text": [
      "100%|██████████| 470/470 [00:21<00:00, 21.49it/s]\n",
      "  1%|          | 3/470 [00:00<00:22, 20.74it/s]"
     ]
    },
    {
     "name": "stdout",
     "output_type": "stream",
     "text": [
      "Epoch: 912 Training Loss: 527775.1837153845\n"
     ]
    },
    {
     "name": "stderr",
     "output_type": "stream",
     "text": [
      "100%|██████████| 470/470 [00:22<00:00, 21.36it/s]\n",
      "  0%|          | 2/470 [00:00<00:28, 16.67it/s]"
     ]
    },
    {
     "name": "stdout",
     "output_type": "stream",
     "text": [
      "Epoch: 913 Training Loss: 482129.86157532036\n"
     ]
    },
    {
     "name": "stderr",
     "output_type": "stream",
     "text": [
      "100%|██████████| 470/470 [00:21<00:00, 21.38it/s]\n",
      "  1%|          | 3/470 [00:00<00:20, 22.56it/s]"
     ]
    },
    {
     "name": "stdout",
     "output_type": "stream",
     "text": [
      "Epoch: 914 Training Loss: 436458.12147126347\n"
     ]
    },
    {
     "name": "stderr",
     "output_type": "stream",
     "text": [
      "100%|██████████| 470/470 [00:21<00:00, 21.48it/s]\n",
      "  0%|          | 2/470 [00:00<00:25, 18.30it/s]"
     ]
    },
    {
     "name": "stdout",
     "output_type": "stream",
     "text": [
      "Epoch: 915 Training Loss: 438525.4268711731\n"
     ]
    },
    {
     "name": "stderr",
     "output_type": "stream",
     "text": [
      "100%|██████████| 470/470 [00:22<00:00, 21.36it/s]\n",
      "  1%|          | 3/470 [00:00<00:22, 20.57it/s]"
     ]
    },
    {
     "name": "stdout",
     "output_type": "stream",
     "text": [
      "Epoch: 916 Training Loss: 500101.34918501973\n"
     ]
    },
    {
     "name": "stderr",
     "output_type": "stream",
     "text": [
      "100%|██████████| 470/470 [00:21<00:00, 21.68it/s]\n",
      "  0%|          | 2/470 [00:00<00:27, 16.98it/s]"
     ]
    },
    {
     "name": "stdout",
     "output_type": "stream",
     "text": [
      "Epoch: 917 Training Loss: 426334.4076586664\n"
     ]
    },
    {
     "name": "stderr",
     "output_type": "stream",
     "text": [
      "100%|██████████| 470/470 [00:21<00:00, 21.64it/s]\n",
      "  1%|          | 3/470 [00:00<00:22, 20.56it/s]"
     ]
    },
    {
     "name": "stdout",
     "output_type": "stream",
     "text": [
      "Epoch: 918 Training Loss: 403616.8916840404\n"
     ]
    },
    {
     "name": "stderr",
     "output_type": "stream",
     "text": [
      "100%|██████████| 470/470 [00:21<00:00, 21.66it/s]\n",
      "  1%|          | 3/470 [00:00<00:20, 22.65it/s]"
     ]
    },
    {
     "name": "stdout",
     "output_type": "stream",
     "text": [
      "Epoch: 919 Training Loss: 440307.4603134617\n"
     ]
    },
    {
     "name": "stderr",
     "output_type": "stream",
     "text": [
      "100%|██████████| 470/470 [00:21<00:00, 21.46it/s]\n",
      "  1%|          | 3/470 [00:00<00:22, 21.00it/s]"
     ]
    },
    {
     "name": "stdout",
     "output_type": "stream",
     "text": [
      "Epoch: 920 Training Loss: 434969.3483238965\n"
     ]
    },
    {
     "name": "stderr",
     "output_type": "stream",
     "text": [
      "100%|██████████| 470/470 [00:21<00:00, 21.54it/s]\n",
      "  1%|          | 3/470 [00:00<00:21, 22.13it/s]"
     ]
    },
    {
     "name": "stdout",
     "output_type": "stream",
     "text": [
      "Epoch: 921 Training Loss: 460894.80884854123\n"
     ]
    },
    {
     "name": "stderr",
     "output_type": "stream",
     "text": [
      "100%|██████████| 470/470 [00:21<00:00, 21.53it/s]\n",
      "  1%|          | 3/470 [00:00<00:20, 22.44it/s]"
     ]
    },
    {
     "name": "stdout",
     "output_type": "stream",
     "text": [
      "Epoch: 922 Training Loss: 511375.40703143924\n"
     ]
    },
    {
     "name": "stderr",
     "output_type": "stream",
     "text": [
      "100%|██████████| 470/470 [00:21<00:00, 21.62it/s]\n",
      "  1%|          | 3/470 [00:00<00:20, 22.71it/s]"
     ]
    },
    {
     "name": "stdout",
     "output_type": "stream",
     "text": [
      "Epoch: 923 Training Loss: 479883.929769367\n"
     ]
    },
    {
     "name": "stderr",
     "output_type": "stream",
     "text": [
      "100%|██████████| 470/470 [00:22<00:00, 21.08it/s]\n",
      "  1%|          | 3/470 [00:00<00:22, 20.57it/s]"
     ]
    },
    {
     "name": "stdout",
     "output_type": "stream",
     "text": [
      "Epoch: 924 Training Loss: 455332.9456387386\n"
     ]
    },
    {
     "name": "stderr",
     "output_type": "stream",
     "text": [
      "100%|██████████| 470/470 [00:21<00:00, 21.56it/s]\n",
      "  1%|          | 3/470 [00:00<00:21, 21.55it/s]"
     ]
    },
    {
     "name": "stdout",
     "output_type": "stream",
     "text": [
      "Epoch: 925 Training Loss: 503861.37905976176\n"
     ]
    },
    {
     "name": "stderr",
     "output_type": "stream",
     "text": [
      "100%|██████████| 470/470 [00:21<00:00, 21.53it/s]\n",
      "  1%|          | 3/470 [00:00<00:22, 20.70it/s]"
     ]
    },
    {
     "name": "stdout",
     "output_type": "stream",
     "text": [
      "Epoch: 926 Training Loss: 481112.47562366724\n"
     ]
    },
    {
     "name": "stderr",
     "output_type": "stream",
     "text": [
      "100%|██████████| 470/470 [00:21<00:00, 21.50it/s]\n",
      "  1%|          | 3/470 [00:00<00:22, 20.86it/s]"
     ]
    },
    {
     "name": "stdout",
     "output_type": "stream",
     "text": [
      "Epoch: 927 Training Loss: 500244.9947618358\n"
     ]
    },
    {
     "name": "stderr",
     "output_type": "stream",
     "text": [
      "100%|██████████| 470/470 [00:21<00:00, 21.52it/s]\n",
      "  1%|          | 3/470 [00:00<00:20, 22.67it/s]"
     ]
    },
    {
     "name": "stdout",
     "output_type": "stream",
     "text": [
      "Epoch: 928 Training Loss: 476005.4188722633\n"
     ]
    },
    {
     "name": "stderr",
     "output_type": "stream",
     "text": [
      "100%|██████████| 470/470 [00:21<00:00, 21.43it/s]\n",
      "  0%|          | 2/470 [00:00<00:24, 18.79it/s]"
     ]
    },
    {
     "name": "stdout",
     "output_type": "stream",
     "text": [
      "Epoch: 929 Training Loss: 491243.5241668001\n"
     ]
    },
    {
     "name": "stderr",
     "output_type": "stream",
     "text": [
      "100%|██████████| 470/470 [00:21<00:00, 21.88it/s]\n",
      "  1%|          | 3/470 [00:00<00:21, 21.95it/s]"
     ]
    },
    {
     "name": "stdout",
     "output_type": "stream",
     "text": [
      "Epoch: 930 Training Loss: 469050.65541538596\n"
     ]
    },
    {
     "name": "stderr",
     "output_type": "stream",
     "text": [
      "100%|██████████| 470/470 [00:21<00:00, 21.56it/s]\n",
      "  1%|          | 3/470 [00:00<00:20, 22.50it/s]"
     ]
    },
    {
     "name": "stdout",
     "output_type": "stream",
     "text": [
      "Epoch: 931 Training Loss: 456987.6675569266\n"
     ]
    },
    {
     "name": "stderr",
     "output_type": "stream",
     "text": [
      "100%|██████████| 470/470 [00:21<00:00, 21.49it/s]\n",
      "  0%|          | 2/470 [00:00<00:23, 19.74it/s]"
     ]
    },
    {
     "name": "stdout",
     "output_type": "stream",
     "text": [
      "Epoch: 932 Training Loss: 445757.1607374549\n"
     ]
    },
    {
     "name": "stderr",
     "output_type": "stream",
     "text": [
      "100%|██████████| 470/470 [00:21<00:00, 21.46it/s]\n",
      "  1%|          | 3/470 [00:00<00:22, 20.42it/s]"
     ]
    },
    {
     "name": "stdout",
     "output_type": "stream",
     "text": [
      "Epoch: 933 Training Loss: 446221.84520855546\n"
     ]
    },
    {
     "name": "stderr",
     "output_type": "stream",
     "text": [
      "100%|██████████| 470/470 [00:21<00:00, 21.37it/s]\n",
      "  0%|          | 2/470 [00:00<00:27, 16.91it/s]"
     ]
    },
    {
     "name": "stdout",
     "output_type": "stream",
     "text": [
      "Epoch: 934 Training Loss: 425451.2798738107\n"
     ]
    },
    {
     "name": "stderr",
     "output_type": "stream",
     "text": [
      "100%|██████████| 470/470 [00:22<00:00, 21.35it/s]\n",
      "  1%|          | 3/470 [00:00<00:23, 20.16it/s]"
     ]
    },
    {
     "name": "stdout",
     "output_type": "stream",
     "text": [
      "Epoch: 935 Training Loss: 461447.2195147723\n"
     ]
    },
    {
     "name": "stderr",
     "output_type": "stream",
     "text": [
      "100%|██████████| 470/470 [00:21<00:00, 21.59it/s]\n",
      "  1%|          | 3/470 [00:00<00:22, 20.32it/s]"
     ]
    },
    {
     "name": "stdout",
     "output_type": "stream",
     "text": [
      "Epoch: 936 Training Loss: 426105.70379550755\n"
     ]
    },
    {
     "name": "stderr",
     "output_type": "stream",
     "text": [
      "100%|██████████| 470/470 [00:21<00:00, 21.76it/s]\n",
      "  1%|          | 3/470 [00:00<00:22, 20.58it/s]"
     ]
    },
    {
     "name": "stdout",
     "output_type": "stream",
     "text": [
      "Epoch: 937 Training Loss: 410862.75175383687\n"
     ]
    },
    {
     "name": "stderr",
     "output_type": "stream",
     "text": [
      "100%|██████████| 470/470 [00:21<00:00, 21.77it/s]\n",
      "  1%|          | 3/470 [00:00<00:22, 20.59it/s]"
     ]
    },
    {
     "name": "stdout",
     "output_type": "stream",
     "text": [
      "Epoch: 938 Training Loss: 421686.71934650093\n"
     ]
    },
    {
     "name": "stderr",
     "output_type": "stream",
     "text": [
      "100%|██████████| 470/470 [00:21<00:00, 21.48it/s]\n",
      "  1%|          | 3/470 [00:00<00:22, 20.39it/s]"
     ]
    },
    {
     "name": "stdout",
     "output_type": "stream",
     "text": [
      "Epoch: 939 Training Loss: 469239.8848865479\n"
     ]
    },
    {
     "name": "stderr",
     "output_type": "stream",
     "text": [
      "100%|██████████| 470/470 [00:21<00:00, 21.85it/s]\n",
      "  0%|          | 2/470 [00:00<00:25, 18.13it/s]"
     ]
    },
    {
     "name": "stdout",
     "output_type": "stream",
     "text": [
      "Epoch: 940 Training Loss: 427315.41294572875\n"
     ]
    },
    {
     "name": "stderr",
     "output_type": "stream",
     "text": [
      "100%|██████████| 470/470 [00:21<00:00, 21.49it/s]\n",
      "  1%|          | 3/470 [00:00<00:23, 20.11it/s]"
     ]
    },
    {
     "name": "stdout",
     "output_type": "stream",
     "text": [
      "Epoch: 941 Training Loss: 412237.1641302332\n"
     ]
    },
    {
     "name": "stderr",
     "output_type": "stream",
     "text": [
      "100%|██████████| 470/470 [00:21<00:00, 21.62it/s]\n",
      "  1%|          | 3/470 [00:00<00:20, 22.47it/s]"
     ]
    },
    {
     "name": "stdout",
     "output_type": "stream",
     "text": [
      "Epoch: 942 Training Loss: 533619.8688950837\n"
     ]
    },
    {
     "name": "stderr",
     "output_type": "stream",
     "text": [
      "100%|██████████| 470/470 [00:21<00:00, 21.49it/s]\n",
      "  1%|          | 3/470 [00:00<00:20, 22.63it/s]"
     ]
    },
    {
     "name": "stdout",
     "output_type": "stream",
     "text": [
      "Epoch: 943 Training Loss: 510658.78620483726\n"
     ]
    },
    {
     "name": "stderr",
     "output_type": "stream",
     "text": [
      "100%|██████████| 470/470 [00:21<00:00, 21.63it/s]\n",
      "  1%|          | 3/470 [00:00<00:22, 20.55it/s]"
     ]
    },
    {
     "name": "stdout",
     "output_type": "stream",
     "text": [
      "Epoch: 944 Training Loss: 443080.85782245547\n"
     ]
    },
    {
     "name": "stderr",
     "output_type": "stream",
     "text": [
      "100%|██████████| 470/470 [00:21<00:00, 21.63it/s]\n",
      "  1%|          | 3/470 [00:00<00:21, 21.54it/s]"
     ]
    },
    {
     "name": "stdout",
     "output_type": "stream",
     "text": [
      "Epoch: 945 Training Loss: 456087.26737225056\n"
     ]
    },
    {
     "name": "stderr",
     "output_type": "stream",
     "text": [
      "100%|██████████| 470/470 [00:22<00:00, 21.33it/s]\n",
      "  1%|          | 3/470 [00:00<00:22, 20.65it/s]"
     ]
    },
    {
     "name": "stdout",
     "output_type": "stream",
     "text": [
      "Epoch: 946 Training Loss: 470795.9639547467\n"
     ]
    },
    {
     "name": "stderr",
     "output_type": "stream",
     "text": [
      "100%|██████████| 470/470 [00:21<00:00, 21.65it/s]\n",
      "  1%|          | 3/470 [00:00<00:21, 21.51it/s]"
     ]
    },
    {
     "name": "stdout",
     "output_type": "stream",
     "text": [
      "Epoch: 947 Training Loss: 462693.60484665073\n"
     ]
    },
    {
     "name": "stderr",
     "output_type": "stream",
     "text": [
      "100%|██████████| 470/470 [00:21<00:00, 21.60it/s]\n",
      "  0%|          | 2/470 [00:00<00:25, 18.06it/s]"
     ]
    },
    {
     "name": "stdout",
     "output_type": "stream",
     "text": [
      "Epoch: 948 Training Loss: 377043.16922964156\n"
     ]
    },
    {
     "name": "stderr",
     "output_type": "stream",
     "text": [
      "100%|██████████| 470/470 [00:21<00:00, 21.57it/s]\n",
      "  1%|          | 3/470 [00:00<00:20, 22.27it/s]"
     ]
    },
    {
     "name": "stdout",
     "output_type": "stream",
     "text": [
      "Epoch: 949 Training Loss: 515604.0432948917\n"
     ]
    },
    {
     "name": "stderr",
     "output_type": "stream",
     "text": [
      "100%|██████████| 470/470 [00:21<00:00, 21.66it/s]\n",
      "  1%|          | 3/470 [00:00<00:22, 20.77it/s]"
     ]
    },
    {
     "name": "stdout",
     "output_type": "stream",
     "text": [
      "Epoch: 950 Training Loss: 646043.1246511862\n"
     ]
    },
    {
     "name": "stderr",
     "output_type": "stream",
     "text": [
      "100%|██████████| 470/470 [00:21<00:00, 21.72it/s]\n",
      "  1%|          | 3/470 [00:00<00:20, 22.42it/s]"
     ]
    },
    {
     "name": "stdout",
     "output_type": "stream",
     "text": [
      "Epoch: 951 Training Loss: 477907.90082606673\n"
     ]
    },
    {
     "name": "stderr",
     "output_type": "stream",
     "text": [
      "100%|██████████| 470/470 [00:21<00:00, 21.38it/s]\n",
      "  1%|          | 3/470 [00:00<00:20, 22.51it/s]"
     ]
    },
    {
     "name": "stdout",
     "output_type": "stream",
     "text": [
      "Epoch: 952 Training Loss: 569133.757436432\n"
     ]
    },
    {
     "name": "stderr",
     "output_type": "stream",
     "text": [
      "100%|██████████| 470/470 [00:22<00:00, 21.36it/s]\n",
      "  0%|          | 2/470 [00:00<00:25, 18.44it/s]"
     ]
    },
    {
     "name": "stdout",
     "output_type": "stream",
     "text": [
      "Epoch: 953 Training Loss: 447863.5421580747\n"
     ]
    },
    {
     "name": "stderr",
     "output_type": "stream",
     "text": [
      "100%|██████████| 470/470 [00:22<00:00, 21.14it/s]\n",
      "  1%|          | 3/470 [00:00<00:21, 21.24it/s]"
     ]
    },
    {
     "name": "stdout",
     "output_type": "stream",
     "text": [
      "Epoch: 954 Training Loss: 578250.9989382625\n"
     ]
    },
    {
     "name": "stderr",
     "output_type": "stream",
     "text": [
      "100%|██████████| 470/470 [00:22<00:00, 21.34it/s]\n",
      "  0%|          | 2/470 [00:00<00:23, 19.73it/s]"
     ]
    },
    {
     "name": "stdout",
     "output_type": "stream",
     "text": [
      "Epoch: 955 Training Loss: 491986.1045842767\n"
     ]
    },
    {
     "name": "stderr",
     "output_type": "stream",
     "text": [
      "100%|██████████| 470/470 [00:21<00:00, 21.69it/s]\n",
      "  1%|          | 3/470 [00:00<00:22, 20.94it/s]"
     ]
    },
    {
     "name": "stdout",
     "output_type": "stream",
     "text": [
      "Epoch: 956 Training Loss: 605909.838394627\n"
     ]
    },
    {
     "name": "stderr",
     "output_type": "stream",
     "text": [
      "100%|██████████| 470/470 [00:22<00:00, 21.00it/s]\n",
      "  0%|          | 2/470 [00:00<00:24, 19.33it/s]"
     ]
    },
    {
     "name": "stdout",
     "output_type": "stream",
     "text": [
      "Epoch: 957 Training Loss: 432171.454093229\n"
     ]
    },
    {
     "name": "stderr",
     "output_type": "stream",
     "text": [
      "100%|██████████| 470/470 [00:21<00:00, 21.45it/s]\n",
      "  1%|          | 3/470 [00:00<00:20, 22.35it/s]"
     ]
    },
    {
     "name": "stdout",
     "output_type": "stream",
     "text": [
      "Epoch: 958 Training Loss: 453313.8709279448\n"
     ]
    },
    {
     "name": "stderr",
     "output_type": "stream",
     "text": [
      "100%|██████████| 470/470 [00:21<00:00, 21.71it/s]\n",
      "  1%|          | 3/470 [00:00<00:22, 20.48it/s]"
     ]
    },
    {
     "name": "stdout",
     "output_type": "stream",
     "text": [
      "Epoch: 959 Training Loss: 460096.3294782974\n"
     ]
    },
    {
     "name": "stderr",
     "output_type": "stream",
     "text": [
      "100%|██████████| 470/470 [00:22<00:00, 20.96it/s]\n",
      "  1%|          | 3/470 [00:00<00:22, 20.86it/s]"
     ]
    },
    {
     "name": "stdout",
     "output_type": "stream",
     "text": [
      "Epoch: 960 Training Loss: 499662.2173611522\n"
     ]
    },
    {
     "name": "stderr",
     "output_type": "stream",
     "text": [
      "100%|██████████| 470/470 [00:21<00:00, 21.86it/s]\n",
      "  0%|          | 2/470 [00:00<00:23, 20.00it/s]"
     ]
    },
    {
     "name": "stdout",
     "output_type": "stream",
     "text": [
      "Epoch: 961 Training Loss: 381386.6252935082\n"
     ]
    },
    {
     "name": "stderr",
     "output_type": "stream",
     "text": [
      "100%|██████████| 470/470 [00:21<00:00, 21.47it/s]\n",
      "  0%|          | 2/470 [00:00<00:26, 17.65it/s]"
     ]
    },
    {
     "name": "stdout",
     "output_type": "stream",
     "text": [
      "Epoch: 962 Training Loss: 534231.8295831978\n"
     ]
    },
    {
     "name": "stderr",
     "output_type": "stream",
     "text": [
      "100%|██████████| 470/470 [00:22<00:00, 21.21it/s]\n",
      "  1%|          | 3/470 [00:00<00:20, 22.76it/s]"
     ]
    },
    {
     "name": "stdout",
     "output_type": "stream",
     "text": [
      "Epoch: 963 Training Loss: 401458.40209453553\n"
     ]
    },
    {
     "name": "stderr",
     "output_type": "stream",
     "text": [
      "100%|██████████| 470/470 [00:21<00:00, 21.69it/s]\n",
      "  1%|          | 3/470 [00:00<00:20, 22.52it/s]"
     ]
    },
    {
     "name": "stdout",
     "output_type": "stream",
     "text": [
      "Epoch: 964 Training Loss: 491812.5879511833\n"
     ]
    },
    {
     "name": "stderr",
     "output_type": "stream",
     "text": [
      "100%|██████████| 470/470 [00:21<00:00, 21.50it/s]\n",
      "  1%|          | 3/470 [00:00<00:23, 20.10it/s]"
     ]
    },
    {
     "name": "stdout",
     "output_type": "stream",
     "text": [
      "Epoch: 965 Training Loss: 455771.1483589187\n"
     ]
    },
    {
     "name": "stderr",
     "output_type": "stream",
     "text": [
      "100%|██████████| 470/470 [00:22<00:00, 21.22it/s]\n",
      "  1%|          | 3/470 [00:00<00:22, 20.53it/s]"
     ]
    },
    {
     "name": "stdout",
     "output_type": "stream",
     "text": [
      "Epoch: 966 Training Loss: 457445.599966377\n"
     ]
    },
    {
     "name": "stderr",
     "output_type": "stream",
     "text": [
      "100%|██████████| 470/470 [00:21<00:00, 21.71it/s]\n",
      "  1%|          | 3/470 [00:00<00:20, 22.48it/s]"
     ]
    },
    {
     "name": "stdout",
     "output_type": "stream",
     "text": [
      "Epoch: 967 Training Loss: 547646.3053247035\n"
     ]
    },
    {
     "name": "stderr",
     "output_type": "stream",
     "text": [
      "100%|██████████| 470/470 [00:22<00:00, 21.33it/s]\n",
      "  1%|          | 3/470 [00:00<00:22, 20.39it/s]"
     ]
    },
    {
     "name": "stdout",
     "output_type": "stream",
     "text": [
      "Epoch: 968 Training Loss: 519590.7572715059\n"
     ]
    },
    {
     "name": "stderr",
     "output_type": "stream",
     "text": [
      "100%|██████████| 470/470 [00:21<00:00, 21.55it/s]\n",
      "  1%|          | 3/470 [00:00<00:22, 20.50it/s]"
     ]
    },
    {
     "name": "stdout",
     "output_type": "stream",
     "text": [
      "Epoch: 969 Training Loss: 430031.5617322624\n"
     ]
    },
    {
     "name": "stderr",
     "output_type": "stream",
     "text": [
      "100%|██████████| 470/470 [00:21<00:00, 21.50it/s]\n",
      "  1%|          | 3/470 [00:00<00:22, 20.50it/s]"
     ]
    },
    {
     "name": "stdout",
     "output_type": "stream",
     "text": [
      "Epoch: 970 Training Loss: 466650.9125186652\n"
     ]
    },
    {
     "name": "stderr",
     "output_type": "stream",
     "text": [
      "100%|██████████| 470/470 [00:21<00:00, 21.64it/s]\n",
      "  1%|          | 3/470 [00:00<00:20, 22.50it/s]"
     ]
    },
    {
     "name": "stdout",
     "output_type": "stream",
     "text": [
      "Epoch: 971 Training Loss: 453545.3122717142\n"
     ]
    },
    {
     "name": "stderr",
     "output_type": "stream",
     "text": [
      "100%|██████████| 470/470 [00:21<00:00, 21.56it/s]\n",
      "  0%|          | 2/470 [00:00<00:23, 19.61it/s]"
     ]
    },
    {
     "name": "stdout",
     "output_type": "stream",
     "text": [
      "Epoch: 972 Training Loss: 450849.01416956633\n"
     ]
    },
    {
     "name": "stderr",
     "output_type": "stream",
     "text": [
      "100%|██████████| 470/470 [00:21<00:00, 21.63it/s]\n",
      "  1%|          | 3/470 [00:00<00:20, 22.51it/s]"
     ]
    },
    {
     "name": "stdout",
     "output_type": "stream",
     "text": [
      "Epoch: 973 Training Loss: 420942.9211934507\n"
     ]
    },
    {
     "name": "stderr",
     "output_type": "stream",
     "text": [
      "100%|██████████| 470/470 [00:22<00:00, 21.33it/s]\n",
      "  1%|          | 3/470 [00:00<00:22, 20.61it/s]"
     ]
    },
    {
     "name": "stdout",
     "output_type": "stream",
     "text": [
      "Epoch: 974 Training Loss: 435554.2273924649\n"
     ]
    },
    {
     "name": "stderr",
     "output_type": "stream",
     "text": [
      "100%|██████████| 470/470 [00:22<00:00, 21.36it/s]\n",
      "  1%|          | 3/470 [00:00<00:22, 20.46it/s]"
     ]
    },
    {
     "name": "stdout",
     "output_type": "stream",
     "text": [
      "Epoch: 975 Training Loss: 473098.1859679967\n"
     ]
    },
    {
     "name": "stderr",
     "output_type": "stream",
     "text": [
      "100%|██████████| 470/470 [00:21<00:00, 21.71it/s]\n",
      "  1%|          | 3/470 [00:00<00:21, 21.38it/s]"
     ]
    },
    {
     "name": "stdout",
     "output_type": "stream",
     "text": [
      "Epoch: 976 Training Loss: 514344.2734063864\n"
     ]
    },
    {
     "name": "stderr",
     "output_type": "stream",
     "text": [
      "100%|██████████| 470/470 [00:21<00:00, 21.39it/s]\n",
      "  1%|          | 3/470 [00:00<00:22, 20.45it/s]"
     ]
    },
    {
     "name": "stdout",
     "output_type": "stream",
     "text": [
      "Epoch: 977 Training Loss: 470773.30606892705\n"
     ]
    },
    {
     "name": "stderr",
     "output_type": "stream",
     "text": [
      "100%|██████████| 470/470 [00:22<00:00, 21.17it/s]\n",
      "  1%|          | 3/470 [00:00<00:22, 20.37it/s]"
     ]
    },
    {
     "name": "stdout",
     "output_type": "stream",
     "text": [
      "Epoch: 978 Training Loss: 486744.13382748514\n"
     ]
    },
    {
     "name": "stderr",
     "output_type": "stream",
     "text": [
      "100%|██████████| 470/470 [00:21<00:00, 21.37it/s]\n",
      "  0%|          | 2/470 [00:00<00:24, 19.28it/s]"
     ]
    },
    {
     "name": "stdout",
     "output_type": "stream",
     "text": [
      "Epoch: 979 Training Loss: 549936.9579732269\n"
     ]
    },
    {
     "name": "stderr",
     "output_type": "stream",
     "text": [
      "100%|██████████| 470/470 [00:22<00:00, 21.00it/s]\n",
      "  1%|          | 3/470 [00:00<00:22, 20.51it/s]"
     ]
    },
    {
     "name": "stdout",
     "output_type": "stream",
     "text": [
      "Epoch: 980 Training Loss: 432906.3781407699\n"
     ]
    },
    {
     "name": "stderr",
     "output_type": "stream",
     "text": [
      "100%|██████████| 470/470 [00:22<00:00, 21.26it/s]\n",
      "  1%|          | 3/470 [00:00<00:22, 20.33it/s]"
     ]
    },
    {
     "name": "stdout",
     "output_type": "stream",
     "text": [
      "Epoch: 981 Training Loss: 493911.26463654265\n"
     ]
    },
    {
     "name": "stderr",
     "output_type": "stream",
     "text": [
      "100%|██████████| 470/470 [00:21<00:00, 21.55it/s]\n",
      "  1%|          | 3/470 [00:00<00:21, 22.06it/s]"
     ]
    },
    {
     "name": "stdout",
     "output_type": "stream",
     "text": [
      "Epoch: 982 Training Loss: 453064.45193437114\n"
     ]
    },
    {
     "name": "stderr",
     "output_type": "stream",
     "text": [
      "100%|██████████| 470/470 [00:22<00:00, 21.17it/s]\n",
      "  1%|          | 3/470 [00:00<00:20, 22.63it/s]"
     ]
    },
    {
     "name": "stdout",
     "output_type": "stream",
     "text": [
      "Epoch: 983 Training Loss: 433553.12692479417\n"
     ]
    },
    {
     "name": "stderr",
     "output_type": "stream",
     "text": [
      "100%|██████████| 470/470 [00:21<00:00, 21.89it/s]\n",
      "  1%|          | 3/470 [00:00<00:20, 22.30it/s]"
     ]
    },
    {
     "name": "stdout",
     "output_type": "stream",
     "text": [
      "Epoch: 984 Training Loss: 547568.3682969026\n"
     ]
    },
    {
     "name": "stderr",
     "output_type": "stream",
     "text": [
      "100%|██████████| 470/470 [00:21<00:00, 21.61it/s]\n",
      "  0%|          | 2/470 [00:00<00:26, 17.71it/s]"
     ]
    },
    {
     "name": "stdout",
     "output_type": "stream",
     "text": [
      "Epoch: 985 Training Loss: 501510.44602945074\n"
     ]
    },
    {
     "name": "stderr",
     "output_type": "stream",
     "text": [
      "100%|██████████| 470/470 [00:21<00:00, 21.47it/s]\n",
      "  0%|          | 2/470 [00:00<00:23, 19.52it/s]"
     ]
    },
    {
     "name": "stdout",
     "output_type": "stream",
     "text": [
      "Epoch: 986 Training Loss: 429580.0033660233\n"
     ]
    },
    {
     "name": "stderr",
     "output_type": "stream",
     "text": [
      "100%|██████████| 470/470 [00:21<00:00, 21.38it/s]\n",
      "  0%|          | 2/470 [00:00<00:27, 17.21it/s]"
     ]
    },
    {
     "name": "stdout",
     "output_type": "stream",
     "text": [
      "Epoch: 987 Training Loss: 478378.833140675\n"
     ]
    },
    {
     "name": "stderr",
     "output_type": "stream",
     "text": [
      "100%|██████████| 470/470 [00:22<00:00, 21.02it/s]\n",
      "  1%|          | 3/470 [00:00<00:22, 20.57it/s]"
     ]
    },
    {
     "name": "stdout",
     "output_type": "stream",
     "text": [
      "Epoch: 988 Training Loss: 590787.1993943304\n"
     ]
    },
    {
     "name": "stderr",
     "output_type": "stream",
     "text": [
      "100%|██████████| 470/470 [00:21<00:00, 21.37it/s]\n",
      "  1%|          | 3/470 [00:00<00:22, 20.83it/s]"
     ]
    },
    {
     "name": "stdout",
     "output_type": "stream",
     "text": [
      "Epoch: 989 Training Loss: 370521.0534374621\n"
     ]
    },
    {
     "name": "stderr",
     "output_type": "stream",
     "text": [
      "100%|██████████| 470/470 [00:21<00:00, 21.37it/s]\n",
      "  1%|          | 3/470 [00:00<00:21, 21.27it/s]"
     ]
    },
    {
     "name": "stdout",
     "output_type": "stream",
     "text": [
      "Epoch: 990 Training Loss: 485078.43104091287\n"
     ]
    },
    {
     "name": "stderr",
     "output_type": "stream",
     "text": [
      "100%|██████████| 470/470 [00:21<00:00, 22.01it/s]\n",
      "  1%|          | 3/470 [00:00<00:21, 21.96it/s]"
     ]
    },
    {
     "name": "stdout",
     "output_type": "stream",
     "text": [
      "Epoch: 991 Training Loss: 508379.37168418616\n"
     ]
    },
    {
     "name": "stderr",
     "output_type": "stream",
     "text": [
      "100%|██████████| 470/470 [00:22<00:00, 21.23it/s]\n",
      "  1%|          | 3/470 [00:00<00:20, 22.78it/s]"
     ]
    },
    {
     "name": "stdout",
     "output_type": "stream",
     "text": [
      "Epoch: 992 Training Loss: 496339.60166731477\n"
     ]
    },
    {
     "name": "stderr",
     "output_type": "stream",
     "text": [
      "100%|██████████| 470/470 [00:22<00:00, 21.31it/s]\n",
      "  1%|          | 3/470 [00:00<00:22, 20.73it/s]"
     ]
    },
    {
     "name": "stdout",
     "output_type": "stream",
     "text": [
      "Epoch: 993 Training Loss: 471977.11835058406\n"
     ]
    },
    {
     "name": "stderr",
     "output_type": "stream",
     "text": [
      "100%|██████████| 470/470 [00:21<00:00, 21.41it/s]\n",
      "  0%|          | 2/470 [00:00<00:25, 18.31it/s]"
     ]
    },
    {
     "name": "stdout",
     "output_type": "stream",
     "text": [
      "Epoch: 994 Training Loss: 436218.69930008054\n"
     ]
    },
    {
     "name": "stderr",
     "output_type": "stream",
     "text": [
      "100%|██████████| 470/470 [00:21<00:00, 21.75it/s]\n",
      "  1%|          | 3/470 [00:00<00:22, 20.48it/s]"
     ]
    },
    {
     "name": "stdout",
     "output_type": "stream",
     "text": [
      "Epoch: 995 Training Loss: 424860.04019391537\n"
     ]
    },
    {
     "name": "stderr",
     "output_type": "stream",
     "text": [
      "100%|██████████| 470/470 [00:21<00:00, 21.48it/s]\n",
      "  1%|          | 3/470 [00:00<00:20, 22.62it/s]"
     ]
    },
    {
     "name": "stdout",
     "output_type": "stream",
     "text": [
      "Epoch: 996 Training Loss: 480379.2989641167\n"
     ]
    },
    {
     "name": "stderr",
     "output_type": "stream",
     "text": [
      "100%|██████████| 470/470 [00:21<00:00, 21.54it/s]\n",
      "  1%|          | 3/470 [00:00<00:22, 20.53it/s]"
     ]
    },
    {
     "name": "stdout",
     "output_type": "stream",
     "text": [
      "Epoch: 997 Training Loss: 466598.3232232407\n"
     ]
    },
    {
     "name": "stderr",
     "output_type": "stream",
     "text": [
      "100%|██████████| 470/470 [00:21<00:00, 21.58it/s]\n",
      "  0%|          | 2/470 [00:00<00:27, 16.96it/s]"
     ]
    },
    {
     "name": "stdout",
     "output_type": "stream",
     "text": [
      "Epoch: 998 Training Loss: 490407.93643434346\n"
     ]
    },
    {
     "name": "stderr",
     "output_type": "stream",
     "text": [
      "100%|██████████| 470/470 [00:22<00:00, 21.11it/s]"
     ]
    },
    {
     "name": "stdout",
     "output_type": "stream",
     "text": [
      "Epoch: 999 Training Loss: 437923.78638005257\n"
     ]
    },
    {
     "name": "stderr",
     "output_type": "stream",
     "text": [
      "\n"
     ]
    }
   ],
   "source": [
    "# train model for N epochs\n",
    "max_valid_score = 0\n",
    "EPOCH = 100\n",
    "for epoch in range(EPOCH):\n",
    "\n",
    "    torch.cuda.empty_cache()\n",
    "\n",
    "    total_loss = 0\n",
    "    for i in tqdm(range(len(dataset))):\n",
    "        optimizer.zero_grad()     #optimizer gradient to zero\n",
    "\n",
    "        # Get data\n",
    "        x, y = dataset[500]\n",
    "        x = torch.tensor(x, dtype=torch.float).unsqueeze(dim=1).cuda()\n",
    "        y = torch.tensor(y, dtype=torch.float).cuda()\n",
    "\n",
    "        # Train \n",
    "\n",
    "        ## 1. forward propagationreal_labels\n",
    "        ## -----------------------\n",
    "\n",
    "        pred = model(x)\n",
    "\n",
    "        ## 2. loss calculation\n",
    "        ## -----------------------\n",
    "        _loss = loss(pred, y)\n",
    "\n",
    "        # track loss\n",
    "        total_loss += _loss.item()\n",
    "\n",
    "        ## 3. backward propagation\n",
    "        ## -----------------------\n",
    "        _loss.backward()     \n",
    "\n",
    "\n",
    "        ## 4. weight optimization\n",
    "        ## -----------------------        \n",
    "        optimizer.step()\n",
    "        \n",
    "\n",
    "#     if epoch %100 == 0:\n",
    "    print(\"Epoch:\", epoch, \"Training Loss: {}\".format(total_loss) )\n",
    "        \n",
    "    total_loss = 0\n",
    "\n"
   ]
  },
  {
   "cell_type": "markdown",
   "id": "substantial-explosion",
   "metadata": {},
   "source": [
    "# Test"
   ]
  },
  {
   "cell_type": "code",
   "execution_count": 212,
   "id": "front-venezuela",
   "metadata": {},
   "outputs": [],
   "source": [
    "x, y = dataset[400]\n",
    "x = torch.tensor(x, dtype=torch.float).unsqueeze(dim=1).cuda()\n",
    "y = torch.tensor(y, dtype=torch.float).cuda()"
   ]
  },
  {
   "cell_type": "code",
   "execution_count": 213,
   "id": "collectible-disclosure",
   "metadata": {},
   "outputs": [
    {
     "data": {
      "text/plain": [
       "tensor([3302.6318, 3701.5271, 3818.2429, 3802.4138, 4552.2139, 4278.9951,\n",
       "        4181.1538], device='cuda:0', grad_fn=<AddBackward0>)"
      ]
     },
     "execution_count": 213,
     "metadata": {},
     "output_type": "execute_result"
    }
   ],
   "source": [
    "pred = model(x)\n",
    "pred"
   ]
  },
  {
   "cell_type": "code",
   "execution_count": 214,
   "id": "invalid-zealand",
   "metadata": {},
   "outputs": [
    {
     "data": {
      "text/plain": [
       "tensor([3622., 3947., 4241., 4085., 4626., 4951., 3983.], device='cuda:0')"
      ]
     },
     "execution_count": 214,
     "metadata": {},
     "output_type": "execute_result"
    }
   ],
   "source": [
    "y"
   ]
  },
  {
   "cell_type": "code",
   "execution_count": 215,
   "id": "interim-montana",
   "metadata": {},
   "outputs": [
    {
     "data": {
      "text/plain": [
       "tensor([-319.3682, -245.4729, -422.7571, -282.5862,  -73.7861, -672.0049,\n",
       "         198.1538], device='cuda:0', grad_fn=<SubBackward0>)"
      ]
     },
     "execution_count": 215,
     "metadata": {},
     "output_type": "execute_result"
    }
   ],
   "source": [
    "pred - y"
   ]
  },
  {
   "cell_type": "code",
   "execution_count": 216,
   "id": "beautiful-spectacular",
   "metadata": {},
   "outputs": [
    {
     "data": {
      "text/plain": [
       "tensor(131018.7734, device='cuda:0', grad_fn=<MseLossBackward>)"
      ]
     },
     "execution_count": 216,
     "metadata": {},
     "output_type": "execute_result"
    }
   ],
   "source": [
    "loss(pred, y)"
   ]
  },
  {
   "cell_type": "code",
   "execution_count": null,
   "id": "removable-anxiety",
   "metadata": {},
   "outputs": [],
   "source": [
    "# fc result\n",
    "# Training Loss: 92919.921875 \n",
    "# gru fc result\n",
    "# 92851.1484375"
   ]
  },
  {
   "cell_type": "code",
   "execution_count": null,
   "id": "mechanical-celebration",
   "metadata": {},
   "outputs": [],
   "source": []
  }
 ],
 "metadata": {
  "kernelspec": {
   "display_name": "Python 3",
   "language": "python",
   "name": "python3"
  },
  "language_info": {
   "codemirror_mode": {
    "name": "ipython",
    "version": 3
   },
   "file_extension": ".py",
   "mimetype": "text/x-python",
   "name": "python",
   "nbconvert_exporter": "python",
   "pygments_lexer": "ipython3",
   "version": "3.6.12"
  },
  "toc-autonumbering": true
 },
 "nbformat": 4,
 "nbformat_minor": 5
}
