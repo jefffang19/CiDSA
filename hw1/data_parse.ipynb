{
 "cells": [
  {
   "cell_type": "code",
   "execution_count": 1,
   "id": "finished-botswana",
   "metadata": {},
   "outputs": [],
   "source": [
    "import os"
   ]
  },
  {
   "cell_type": "code",
   "execution_count": 2,
   "id": "national-keyboard",
   "metadata": {},
   "outputs": [
    {
     "data": {
      "text/plain": [
       "['b19416acd7a4a1e9391f17095a0bbc7e_export.csv']"
      ]
     },
     "execution_count": 2,
     "metadata": {},
     "output_type": "execute_result"
    }
   ],
   "source": [
    "files = os.listdir('data/')\n",
    "files"
   ]
  },
  {
   "cell_type": "code",
   "execution_count": 3,
   "id": "daily-impression",
   "metadata": {},
   "outputs": [],
   "source": [
    "import pandas\n",
    "import numpy as np"
   ]
  },
  {
   "cell_type": "markdown",
   "id": "medieval-newman",
   "metadata": {},
   "source": [
    "# Electicity Data"
   ]
  },
  {
   "cell_type": "markdown",
   "id": "attempted-champagne",
   "metadata": {},
   "source": [
    "## read csv from taipower"
   ]
  },
  {
   "cell_type": "code",
   "execution_count": 4,
   "id": "analyzed-principal",
   "metadata": {},
   "outputs": [
    {
     "data": {
      "text/html": [
       "<div>\n",
       "<style scoped>\n",
       "    .dataframe tbody tr th:only-of-type {\n",
       "        vertical-align: middle;\n",
       "    }\n",
       "\n",
       "    .dataframe tbody tr th {\n",
       "        vertical-align: top;\n",
       "    }\n",
       "\n",
       "    .dataframe thead th {\n",
       "        text-align: right;\n",
       "    }\n",
       "</style>\n",
       "<table border=\"1\" class=\"dataframe\">\n",
       "  <thead>\n",
       "    <tr style=\"text-align: right;\">\n",
       "      <th></th>\n",
       "      <th>日期</th>\n",
       "      <th>淨尖峰供電能力(MW)</th>\n",
       "      <th>尖峰負載(MW)</th>\n",
       "      <th>備轉容量(MW)</th>\n",
       "      <th>備轉容量率(%)</th>\n",
       "      <th>工業用電(百萬度)</th>\n",
       "      <th>民生用電(百萬度)</th>\n",
       "      <th>核一#1(萬瓩)</th>\n",
       "      <th>核一#2(萬瓩)</th>\n",
       "      <th>核二#1(萬瓩)</th>\n",
       "      <th>...</th>\n",
       "      <th>大觀二</th>\n",
       "      <th>明潭</th>\n",
       "      <th>碧海</th>\n",
       "      <th>立霧</th>\n",
       "      <th>龍澗</th>\n",
       "      <th>卓蘭</th>\n",
       "      <th>水里</th>\n",
       "      <th>其他小水力</th>\n",
       "      <th>風力發電</th>\n",
       "      <th>太陽能發電</th>\n",
       "    </tr>\n",
       "  </thead>\n",
       "  <tbody>\n",
       "    <tr>\n",
       "      <th>0</th>\n",
       "      <td>20190101</td>\n",
       "      <td>26429</td>\n",
       "      <td>23872</td>\n",
       "      <td>2557.0</td>\n",
       "      <td>10.71</td>\n",
       "      <td>279.870</td>\n",
       "      <td>192.192</td>\n",
       "      <td>0</td>\n",
       "      <td>0</td>\n",
       "      <td>98.4</td>\n",
       "      <td>...</td>\n",
       "      <td>16.0</td>\n",
       "      <td>54.0</td>\n",
       "      <td>0.0</td>\n",
       "      <td>1.2</td>\n",
       "      <td>3.0</td>\n",
       "      <td>2.2</td>\n",
       "      <td>0.0</td>\n",
       "      <td>24.3</td>\n",
       "      <td>50.9</td>\n",
       "      <td>0.0</td>\n",
       "    </tr>\n",
       "    <tr>\n",
       "      <th>1</th>\n",
       "      <td>20190102</td>\n",
       "      <td>30047</td>\n",
       "      <td>28148</td>\n",
       "      <td>1899.0</td>\n",
       "      <td>6.75</td>\n",
       "      <td>323.080</td>\n",
       "      <td>221.864</td>\n",
       "      <td>0</td>\n",
       "      <td>0</td>\n",
       "      <td>98.5</td>\n",
       "      <td>...</td>\n",
       "      <td>29.9</td>\n",
       "      <td>52.3</td>\n",
       "      <td>0.0</td>\n",
       "      <td>1.2</td>\n",
       "      <td>2.0</td>\n",
       "      <td>2.1</td>\n",
       "      <td>0.0</td>\n",
       "      <td>23.4</td>\n",
       "      <td>37.9</td>\n",
       "      <td>0.0</td>\n",
       "    </tr>\n",
       "    <tr>\n",
       "      <th>2</th>\n",
       "      <td>20190103</td>\n",
       "      <td>30343</td>\n",
       "      <td>28452</td>\n",
       "      <td>1891.0</td>\n",
       "      <td>6.65</td>\n",
       "      <td>336.597</td>\n",
       "      <td>231.146</td>\n",
       "      <td>0</td>\n",
       "      <td>0</td>\n",
       "      <td>98.7</td>\n",
       "      <td>...</td>\n",
       "      <td>14.3</td>\n",
       "      <td>65.5</td>\n",
       "      <td>0.0</td>\n",
       "      <td>1.4</td>\n",
       "      <td>1.2</td>\n",
       "      <td>2.0</td>\n",
       "      <td>0.1</td>\n",
       "      <td>24.1</td>\n",
       "      <td>41.6</td>\n",
       "      <td>0.0</td>\n",
       "    </tr>\n",
       "    <tr>\n",
       "      <th>3</th>\n",
       "      <td>20190104</td>\n",
       "      <td>30301</td>\n",
       "      <td>28490</td>\n",
       "      <td>1811.0</td>\n",
       "      <td>6.36</td>\n",
       "      <td>339.020</td>\n",
       "      <td>232.810</td>\n",
       "      <td>0</td>\n",
       "      <td>0</td>\n",
       "      <td>98.7</td>\n",
       "      <td>...</td>\n",
       "      <td>18.1</td>\n",
       "      <td>52.3</td>\n",
       "      <td>0.0</td>\n",
       "      <td>1.4</td>\n",
       "      <td>1.4</td>\n",
       "      <td>0.0</td>\n",
       "      <td>0.0</td>\n",
       "      <td>19.3</td>\n",
       "      <td>12.4</td>\n",
       "      <td>11.0</td>\n",
       "    </tr>\n",
       "    <tr>\n",
       "      <th>4</th>\n",
       "      <td>20190105</td>\n",
       "      <td>27957</td>\n",
       "      <td>26054</td>\n",
       "      <td>1903.0</td>\n",
       "      <td>7.30</td>\n",
       "      <td>315.825</td>\n",
       "      <td>216.882</td>\n",
       "      <td>0</td>\n",
       "      <td>0</td>\n",
       "      <td>98.7</td>\n",
       "      <td>...</td>\n",
       "      <td>30.4</td>\n",
       "      <td>57.6</td>\n",
       "      <td>0.0</td>\n",
       "      <td>1.3</td>\n",
       "      <td>3.0</td>\n",
       "      <td>2.9</td>\n",
       "      <td>0.0</td>\n",
       "      <td>23.9</td>\n",
       "      <td>18.5</td>\n",
       "      <td>0.0</td>\n",
       "    </tr>\n",
       "    <tr>\n",
       "      <th>...</th>\n",
       "      <td>...</td>\n",
       "      <td>...</td>\n",
       "      <td>...</td>\n",
       "      <td>...</td>\n",
       "      <td>...</td>\n",
       "      <td>...</td>\n",
       "      <td>...</td>\n",
       "      <td>...</td>\n",
       "      <td>...</td>\n",
       "      <td>...</td>\n",
       "      <td>...</td>\n",
       "      <td>...</td>\n",
       "      <td>...</td>\n",
       "      <td>...</td>\n",
       "      <td>...</td>\n",
       "      <td>...</td>\n",
       "      <td>...</td>\n",
       "      <td>...</td>\n",
       "      <td>...</td>\n",
       "      <td>...</td>\n",
       "      <td>...</td>\n",
       "    </tr>\n",
       "    <tr>\n",
       "      <th>665</th>\n",
       "      <td>20201027</td>\n",
       "      <td>35071</td>\n",
       "      <td>31669</td>\n",
       "      <td>3402.0</td>\n",
       "      <td>10.74</td>\n",
       "      <td>362.462</td>\n",
       "      <td>309.405</td>\n",
       "      <td>0</td>\n",
       "      <td>0</td>\n",
       "      <td>98.1</td>\n",
       "      <td>...</td>\n",
       "      <td>43.5</td>\n",
       "      <td>63.8</td>\n",
       "      <td>4.8</td>\n",
       "      <td>1.4</td>\n",
       "      <td>1.9</td>\n",
       "      <td>1.7</td>\n",
       "      <td>0.8</td>\n",
       "      <td>13.9</td>\n",
       "      <td>34.6</td>\n",
       "      <td>41.5</td>\n",
       "    </tr>\n",
       "    <tr>\n",
       "      <th>666</th>\n",
       "      <td>20201028</td>\n",
       "      <td>35429</td>\n",
       "      <td>31959</td>\n",
       "      <td>3470.0</td>\n",
       "      <td>10.86</td>\n",
       "      <td>365.469</td>\n",
       "      <td>311.972</td>\n",
       "      <td>0</td>\n",
       "      <td>0</td>\n",
       "      <td>98.0</td>\n",
       "      <td>...</td>\n",
       "      <td>14.4</td>\n",
       "      <td>48.0</td>\n",
       "      <td>4.0</td>\n",
       "      <td>1.2</td>\n",
       "      <td>1.4</td>\n",
       "      <td>0.0</td>\n",
       "      <td>0.5</td>\n",
       "      <td>13.7</td>\n",
       "      <td>58.8</td>\n",
       "      <td>161.6</td>\n",
       "    </tr>\n",
       "    <tr>\n",
       "      <th>667</th>\n",
       "      <td>20201029</td>\n",
       "      <td>34978</td>\n",
       "      <td>31271</td>\n",
       "      <td>3707.0</td>\n",
       "      <td>11.86</td>\n",
       "      <td>362.440</td>\n",
       "      <td>309.387</td>\n",
       "      <td>0</td>\n",
       "      <td>0</td>\n",
       "      <td>97.8</td>\n",
       "      <td>...</td>\n",
       "      <td>20.5</td>\n",
       "      <td>50.0</td>\n",
       "      <td>1.0</td>\n",
       "      <td>1.2</td>\n",
       "      <td>1.3</td>\n",
       "      <td>0.0</td>\n",
       "      <td>0.5</td>\n",
       "      <td>16.2</td>\n",
       "      <td>60.8</td>\n",
       "      <td>143.3</td>\n",
       "    </tr>\n",
       "    <tr>\n",
       "      <th>668</th>\n",
       "      <td>20201030</td>\n",
       "      <td>34479</td>\n",
       "      <td>30264</td>\n",
       "      <td>4215.0</td>\n",
       "      <td>13.93</td>\n",
       "      <td>351.492</td>\n",
       "      <td>300.041</td>\n",
       "      <td>0</td>\n",
       "      <td>0</td>\n",
       "      <td>97.8</td>\n",
       "      <td>...</td>\n",
       "      <td>12.1</td>\n",
       "      <td>32.3</td>\n",
       "      <td>2.0</td>\n",
       "      <td>1.2</td>\n",
       "      <td>1.5</td>\n",
       "      <td>0.0</td>\n",
       "      <td>0.5</td>\n",
       "      <td>16.5</td>\n",
       "      <td>60.1</td>\n",
       "      <td>207.5</td>\n",
       "    </tr>\n",
       "    <tr>\n",
       "      <th>669</th>\n",
       "      <td>20201031</td>\n",
       "      <td>30482</td>\n",
       "      <td>26763</td>\n",
       "      <td>3719.0</td>\n",
       "      <td>13.90</td>\n",
       "      <td>319.096</td>\n",
       "      <td>272.388</td>\n",
       "      <td>0</td>\n",
       "      <td>0</td>\n",
       "      <td>98.1</td>\n",
       "      <td>...</td>\n",
       "      <td>29.2</td>\n",
       "      <td>81.5</td>\n",
       "      <td>3.2</td>\n",
       "      <td>1.2</td>\n",
       "      <td>3.0</td>\n",
       "      <td>1.7</td>\n",
       "      <td>0.4</td>\n",
       "      <td>24.1</td>\n",
       "      <td>55.2</td>\n",
       "      <td>0.0</td>\n",
       "    </tr>\n",
       "  </tbody>\n",
       "</table>\n",
       "<p>670 rows × 71 columns</p>\n",
       "</div>"
      ],
      "text/plain": [
       "           日期  淨尖峰供電能力(MW)  尖峰負載(MW)  備轉容量(MW)  備轉容量率(%)  工業用電(百萬度)  \\\n",
       "0    20190101        26429     23872    2557.0     10.71    279.870   \n",
       "1    20190102        30047     28148    1899.0      6.75    323.080   \n",
       "2    20190103        30343     28452    1891.0      6.65    336.597   \n",
       "3    20190104        30301     28490    1811.0      6.36    339.020   \n",
       "4    20190105        27957     26054    1903.0      7.30    315.825   \n",
       "..        ...          ...       ...       ...       ...        ...   \n",
       "665  20201027        35071     31669    3402.0     10.74    362.462   \n",
       "666  20201028        35429     31959    3470.0     10.86    365.469   \n",
       "667  20201029        34978     31271    3707.0     11.86    362.440   \n",
       "668  20201030        34479     30264    4215.0     13.93    351.492   \n",
       "669  20201031        30482     26763    3719.0     13.90    319.096   \n",
       "\n",
       "     民生用電(百萬度)  核一#1(萬瓩)  核一#2(萬瓩)  核二#1(萬瓩)  ...   大觀二    明潭   碧海   立霧   龍澗  \\\n",
       "0      192.192         0         0      98.4  ...  16.0  54.0  0.0  1.2  3.0   \n",
       "1      221.864         0         0      98.5  ...  29.9  52.3  0.0  1.2  2.0   \n",
       "2      231.146         0         0      98.7  ...  14.3  65.5  0.0  1.4  1.2   \n",
       "3      232.810         0         0      98.7  ...  18.1  52.3  0.0  1.4  1.4   \n",
       "4      216.882         0         0      98.7  ...  30.4  57.6  0.0  1.3  3.0   \n",
       "..         ...       ...       ...       ...  ...   ...   ...  ...  ...  ...   \n",
       "665    309.405         0         0      98.1  ...  43.5  63.8  4.8  1.4  1.9   \n",
       "666    311.972         0         0      98.0  ...  14.4  48.0  4.0  1.2  1.4   \n",
       "667    309.387         0         0      97.8  ...  20.5  50.0  1.0  1.2  1.3   \n",
       "668    300.041         0         0      97.8  ...  12.1  32.3  2.0  1.2  1.5   \n",
       "669    272.388         0         0      98.1  ...  29.2  81.5  3.2  1.2  3.0   \n",
       "\n",
       "      卓蘭   水里  其他小水力  風力發電  太陽能發電  \n",
       "0    2.2  0.0   24.3  50.9    0.0  \n",
       "1    2.1  0.0   23.4  37.9    0.0  \n",
       "2    2.0  0.1   24.1  41.6    0.0  \n",
       "3    0.0  0.0   19.3  12.4   11.0  \n",
       "4    2.9  0.0   23.9  18.5    0.0  \n",
       "..   ...  ...    ...   ...    ...  \n",
       "665  1.7  0.8   13.9  34.6   41.5  \n",
       "666  0.0  0.5   13.7  58.8  161.6  \n",
       "667  0.0  0.5   16.2  60.8  143.3  \n",
       "668  0.0  0.5   16.5  60.1  207.5  \n",
       "669  1.7  0.4   24.1  55.2    0.0  \n",
       "\n",
       "[670 rows x 71 columns]"
      ]
     },
     "execution_count": 4,
     "metadata": {},
     "output_type": "execute_result"
    }
   ],
   "source": [
    "df = pandas.read_csv(os.path.join('data', files[0]))\n",
    "\n",
    "df"
   ]
  },
  {
   "cell_type": "markdown",
   "id": "veterinary-chaos",
   "metadata": {},
   "source": [
    "##  check what columns we have"
   ]
  },
  {
   "cell_type": "code",
   "execution_count": 5,
   "id": "expired-dining",
   "metadata": {},
   "outputs": [
    {
     "data": {
      "text/plain": [
       "Index(['日期', '淨尖峰供電能力(MW)', '尖峰負載(MW)', '備轉容量(MW)', '備轉容量率(%)', '工業用電(百萬度)',\n",
       "       '民生用電(百萬度)', '核一#1(萬瓩)', '核一#2(萬瓩)', '核二#1(萬瓩)', '核二#2(萬瓩)', '核三#1',\n",
       "       '核三#2', '林口#1', '林口#2', '林口#3', '台中#1', '台中#2', '台中#3', '台中#4', '台中#5',\n",
       "       '台中#6', '台中#7', '台中#8', '台中#9', '台中#10', '興達#1', '興達#2', '興達#3', '興達#4',\n",
       "       '大林#1', '大林#2', '和平#1', '和平#2', '麥寮#1', '麥寮#2', '麥寮#3', '汽電共生',\n",
       "       '大潭 (#1-#6)', '通霄 (#1-#6)', '興達 (#1-#5)', '南部 (#1-#4)', '大林(#5-#6)',\n",
       "       '海湖 (#1-#2)', '國光 #1', '新桃#1', '星彰#1', '星元#1', '嘉惠#1', '豐德(#1-#2)',\n",
       "       '協和 (#1-#4)', '氣渦輪', '離島', '德基', '青山', '谷關', '天輪', '馬鞍', '萬大', '大觀',\n",
       "       '鉅工', '大觀二', '明潭', '碧海', '立霧', '龍澗', '卓蘭', '水里', '其他小水力', '風力發電',\n",
       "       '太陽能發電'],\n",
       "      dtype='object')"
      ]
     },
     "execution_count": 5,
     "metadata": {},
     "output_type": "execute_result"
    }
   ],
   "source": [
    "df.columns"
   ]
  },
  {
   "cell_type": "code",
   "execution_count": 6,
   "id": "beautiful-airplane",
   "metadata": {},
   "outputs": [
    {
     "data": {
      "text/plain": [
       "71"
      ]
     },
     "execution_count": 6,
     "metadata": {},
     "output_type": "execute_result"
    }
   ],
   "source": [
    "len(df.columns)"
   ]
  },
  {
   "cell_type": "markdown",
   "id": "chicken-professional",
   "metadata": {},
   "source": [
    "## check if containing NaN"
   ]
  },
  {
   "cell_type": "code",
   "execution_count": 7,
   "id": "uniform-saying",
   "metadata": {
    "collapsed": true,
    "jupyter": {
     "outputs_hidden": true
    }
   },
   "outputs": [
    {
     "name": "stdout",
     "output_type": "stream",
     "text": [
      "日期\n",
      "(array([], dtype=int64),)\n",
      "淨尖峰供電能力(MW)\n",
      "(array([], dtype=int64),)\n",
      "尖峰負載(MW)\n",
      "(array([], dtype=int64),)\n",
      "備轉容量(MW)\n",
      "(array([], dtype=int64),)\n",
      "備轉容量率(%)\n",
      "(array([], dtype=int64),)\n",
      "工業用電(百萬度)\n",
      "(array([], dtype=int64),)\n",
      "民生用電(百萬度)\n",
      "(array([], dtype=int64),)\n",
      "核一#1(萬瓩)\n",
      "(array([], dtype=int64),)\n",
      "核一#2(萬瓩)\n",
      "(array([], dtype=int64),)\n",
      "核二#1(萬瓩)\n",
      "(array([], dtype=int64),)\n",
      "核二#2(萬瓩)\n",
      "(array([], dtype=int64),)\n",
      "核三#1\n",
      "(array([], dtype=int64),)\n",
      "核三#2\n",
      "(array([], dtype=int64),)\n",
      "林口#1\n",
      "(array([], dtype=int64),)\n",
      "林口#2\n",
      "(array([], dtype=int64),)\n",
      "林口#3\n",
      "(array([ 0,  1,  2,  3,  4,  5,  6,  7,  8,  9, 10, 11, 12, 13, 14, 15, 16,\n",
      "       17, 18, 19, 20, 21, 22, 23, 24, 25, 26, 27, 28, 29, 30]),)\n",
      "台中#1\n",
      "(array([], dtype=int64),)\n",
      "台中#2\n",
      "(array([], dtype=int64),)\n",
      "台中#3\n",
      "(array([], dtype=int64),)\n",
      "台中#4\n",
      "(array([], dtype=int64),)\n",
      "台中#5\n",
      "(array([], dtype=int64),)\n",
      "台中#6\n",
      "(array([], dtype=int64),)\n",
      "台中#7\n",
      "(array([], dtype=int64),)\n",
      "台中#8\n",
      "(array([], dtype=int64),)\n",
      "台中#9\n",
      "(array([], dtype=int64),)\n",
      "台中#10\n",
      "(array([], dtype=int64),)\n",
      "興達#1\n",
      "(array([], dtype=int64),)\n",
      "興達#2\n",
      "(array([], dtype=int64),)\n",
      "興達#3\n",
      "(array([], dtype=int64),)\n",
      "興達#4\n",
      "(array([], dtype=int64),)\n",
      "大林#1\n",
      "(array([], dtype=int64),)\n",
      "大林#2\n",
      "(array([], dtype=int64),)\n",
      "和平#1\n",
      "(array([], dtype=int64),)\n",
      "和平#2\n",
      "(array([], dtype=int64),)\n",
      "麥寮#1\n",
      "(array([], dtype=int64),)\n",
      "麥寮#2\n",
      "(array([], dtype=int64),)\n",
      "麥寮#3\n",
      "(array([], dtype=int64),)\n",
      "汽電共生\n",
      "(array([], dtype=int64),)\n",
      "大潭 (#1-#6)\n",
      "(array([], dtype=int64),)\n",
      "通霄 (#1-#6)\n",
      "(array([], dtype=int64),)\n",
      "興達 (#1-#5)\n",
      "(array([], dtype=int64),)\n",
      "南部 (#1-#4)\n",
      "(array([], dtype=int64),)\n",
      "大林(#5-#6)\n",
      "(array([], dtype=int64),)\n",
      "海湖 (#1-#2)\n",
      "(array([], dtype=int64),)\n",
      "國光 #1\n",
      "(array([], dtype=int64),)\n",
      "新桃#1\n",
      "(array([], dtype=int64),)\n",
      "星彰#1\n",
      "(array([], dtype=int64),)\n",
      "星元#1\n",
      "(array([], dtype=int64),)\n",
      "嘉惠#1\n",
      "(array([], dtype=int64),)\n",
      "豐德(#1-#2)\n",
      "(array([], dtype=int64),)\n",
      "協和 (#1-#4)\n",
      "(array([], dtype=int64),)\n",
      "氣渦輪\n",
      "(array([], dtype=int64),)\n",
      "離島\n",
      "(array([], dtype=int64),)\n",
      "德基\n",
      "(array([], dtype=int64),)\n",
      "青山\n",
      "(array([], dtype=int64),)\n",
      "谷關\n",
      "(array([], dtype=int64),)\n",
      "天輪\n",
      "(array([], dtype=int64),)\n",
      "馬鞍\n",
      "(array([], dtype=int64),)\n",
      "萬大\n",
      "(array([], dtype=int64),)\n",
      "大觀\n",
      "(array([], dtype=int64),)\n",
      "鉅工\n",
      "(array([], dtype=int64),)\n",
      "大觀二\n",
      "(array([], dtype=int64),)\n",
      "明潭\n",
      "(array([], dtype=int64),)\n",
      "碧海\n",
      "(array([], dtype=int64),)\n",
      "立霧\n",
      "(array([], dtype=int64),)\n",
      "龍澗\n",
      "(array([], dtype=int64),)\n",
      "卓蘭\n",
      "(array([], dtype=int64),)\n",
      "水里\n",
      "(array([], dtype=int64),)\n",
      "其他小水力\n",
      "(array([], dtype=int64),)\n",
      "風力發電\n",
      "(array([], dtype=int64),)\n",
      "太陽能發電\n",
      "(array([], dtype=int64),)\n"
     ]
    }
   ],
   "source": [
    "for col in df.columns:\n",
    "    print(col)\n",
    "    print(np.where(np.isnan(df[col])))"
   ]
  },
  {
   "cell_type": "code",
   "execution_count": 8,
   "id": "comparative-tooth",
   "metadata": {},
   "outputs": [],
   "source": [
    "#fill the NaN value with mean\n",
    "from sklearn.impute import SimpleImputer\n",
    "import numpy as np\n",
    "\n",
    "ipt = SimpleImputer(missing_values=np.NaN, strategy='mean')\n",
    "df = pandas.DataFrame(ipt.fit_transform(df),columns=df.columns)"
   ]
  },
  {
   "cell_type": "markdown",
   "id": "verbal-juvenile",
   "metadata": {},
   "source": [
    "#  Make Training data"
   ]
  },
  {
   "cell_type": "code",
   "execution_count": 9,
   "id": "delayed-understanding",
   "metadata": {},
   "outputs": [],
   "source": [
    "#prepare the training data\n",
    "train_data = df[:-7]\n",
    "train_label = pandas.DataFrame(df['備轉容量(MW)'])[-7:]"
   ]
  },
  {
   "cell_type": "code",
   "execution_count": 10,
   "id": "revised-collar",
   "metadata": {},
   "outputs": [
    {
     "data": {
      "text/plain": [
       "array([[4025.],\n",
       "       [3503.],\n",
       "       [3402.],\n",
       "       [3470.],\n",
       "       [3707.],\n",
       "       [4215.],\n",
       "       [3719.]])"
      ]
     },
     "execution_count": 10,
     "metadata": {},
     "output_type": "execute_result"
    }
   ],
   "source": [
    "np.array(train_label)"
   ]
  },
  {
   "cell_type": "code",
   "execution_count": 11,
   "id": "artistic-bumper",
   "metadata": {},
   "outputs": [
    {
     "data": {
      "text/html": [
       "<div>\n",
       "<style scoped>\n",
       "    .dataframe tbody tr th:only-of-type {\n",
       "        vertical-align: middle;\n",
       "    }\n",
       "\n",
       "    .dataframe tbody tr th {\n",
       "        vertical-align: top;\n",
       "    }\n",
       "\n",
       "    .dataframe thead th {\n",
       "        text-align: right;\n",
       "    }\n",
       "</style>\n",
       "<table border=\"1\" class=\"dataframe\">\n",
       "  <thead>\n",
       "    <tr style=\"text-align: right;\">\n",
       "      <th></th>\n",
       "      <th>日期</th>\n",
       "      <th>淨尖峰供電能力(MW)</th>\n",
       "      <th>尖峰負載(MW)</th>\n",
       "      <th>備轉容量(MW)</th>\n",
       "      <th>備轉容量率(%)</th>\n",
       "      <th>工業用電(百萬度)</th>\n",
       "      <th>民生用電(百萬度)</th>\n",
       "      <th>核一#1(萬瓩)</th>\n",
       "      <th>核一#2(萬瓩)</th>\n",
       "      <th>核二#1(萬瓩)</th>\n",
       "      <th>...</th>\n",
       "      <th>大觀二</th>\n",
       "      <th>明潭</th>\n",
       "      <th>碧海</th>\n",
       "      <th>立霧</th>\n",
       "      <th>龍澗</th>\n",
       "      <th>卓蘭</th>\n",
       "      <th>水里</th>\n",
       "      <th>其他小水力</th>\n",
       "      <th>風力發電</th>\n",
       "      <th>太陽能發電</th>\n",
       "    </tr>\n",
       "  </thead>\n",
       "  <tbody>\n",
       "    <tr>\n",
       "      <th>0</th>\n",
       "      <td>20190101.0</td>\n",
       "      <td>26429.0</td>\n",
       "      <td>23872.0</td>\n",
       "      <td>2557.0</td>\n",
       "      <td>10.71</td>\n",
       "      <td>279.870</td>\n",
       "      <td>192.192</td>\n",
       "      <td>0.0</td>\n",
       "      <td>0.0</td>\n",
       "      <td>98.4</td>\n",
       "      <td>...</td>\n",
       "      <td>16.0</td>\n",
       "      <td>54.0</td>\n",
       "      <td>0.0</td>\n",
       "      <td>1.2</td>\n",
       "      <td>3.0</td>\n",
       "      <td>2.2</td>\n",
       "      <td>0.0</td>\n",
       "      <td>24.3</td>\n",
       "      <td>50.9</td>\n",
       "      <td>0.0</td>\n",
       "    </tr>\n",
       "    <tr>\n",
       "      <th>1</th>\n",
       "      <td>20190102.0</td>\n",
       "      <td>30047.0</td>\n",
       "      <td>28148.0</td>\n",
       "      <td>1899.0</td>\n",
       "      <td>6.75</td>\n",
       "      <td>323.080</td>\n",
       "      <td>221.864</td>\n",
       "      <td>0.0</td>\n",
       "      <td>0.0</td>\n",
       "      <td>98.5</td>\n",
       "      <td>...</td>\n",
       "      <td>29.9</td>\n",
       "      <td>52.3</td>\n",
       "      <td>0.0</td>\n",
       "      <td>1.2</td>\n",
       "      <td>2.0</td>\n",
       "      <td>2.1</td>\n",
       "      <td>0.0</td>\n",
       "      <td>23.4</td>\n",
       "      <td>37.9</td>\n",
       "      <td>0.0</td>\n",
       "    </tr>\n",
       "    <tr>\n",
       "      <th>2</th>\n",
       "      <td>20190103.0</td>\n",
       "      <td>30343.0</td>\n",
       "      <td>28452.0</td>\n",
       "      <td>1891.0</td>\n",
       "      <td>6.65</td>\n",
       "      <td>336.597</td>\n",
       "      <td>231.146</td>\n",
       "      <td>0.0</td>\n",
       "      <td>0.0</td>\n",
       "      <td>98.7</td>\n",
       "      <td>...</td>\n",
       "      <td>14.3</td>\n",
       "      <td>65.5</td>\n",
       "      <td>0.0</td>\n",
       "      <td>1.4</td>\n",
       "      <td>1.2</td>\n",
       "      <td>2.0</td>\n",
       "      <td>0.1</td>\n",
       "      <td>24.1</td>\n",
       "      <td>41.6</td>\n",
       "      <td>0.0</td>\n",
       "    </tr>\n",
       "    <tr>\n",
       "      <th>3</th>\n",
       "      <td>20190104.0</td>\n",
       "      <td>30301.0</td>\n",
       "      <td>28490.0</td>\n",
       "      <td>1811.0</td>\n",
       "      <td>6.36</td>\n",
       "      <td>339.020</td>\n",
       "      <td>232.810</td>\n",
       "      <td>0.0</td>\n",
       "      <td>0.0</td>\n",
       "      <td>98.7</td>\n",
       "      <td>...</td>\n",
       "      <td>18.1</td>\n",
       "      <td>52.3</td>\n",
       "      <td>0.0</td>\n",
       "      <td>1.4</td>\n",
       "      <td>1.4</td>\n",
       "      <td>0.0</td>\n",
       "      <td>0.0</td>\n",
       "      <td>19.3</td>\n",
       "      <td>12.4</td>\n",
       "      <td>11.0</td>\n",
       "    </tr>\n",
       "    <tr>\n",
       "      <th>4</th>\n",
       "      <td>20190105.0</td>\n",
       "      <td>27957.0</td>\n",
       "      <td>26054.0</td>\n",
       "      <td>1903.0</td>\n",
       "      <td>7.30</td>\n",
       "      <td>315.825</td>\n",
       "      <td>216.882</td>\n",
       "      <td>0.0</td>\n",
       "      <td>0.0</td>\n",
       "      <td>98.7</td>\n",
       "      <td>...</td>\n",
       "      <td>30.4</td>\n",
       "      <td>57.6</td>\n",
       "      <td>0.0</td>\n",
       "      <td>1.3</td>\n",
       "      <td>3.0</td>\n",
       "      <td>2.9</td>\n",
       "      <td>0.0</td>\n",
       "      <td>23.9</td>\n",
       "      <td>18.5</td>\n",
       "      <td>0.0</td>\n",
       "    </tr>\n",
       "    <tr>\n",
       "      <th>...</th>\n",
       "      <td>...</td>\n",
       "      <td>...</td>\n",
       "      <td>...</td>\n",
       "      <td>...</td>\n",
       "      <td>...</td>\n",
       "      <td>...</td>\n",
       "      <td>...</td>\n",
       "      <td>...</td>\n",
       "      <td>...</td>\n",
       "      <td>...</td>\n",
       "      <td>...</td>\n",
       "      <td>...</td>\n",
       "      <td>...</td>\n",
       "      <td>...</td>\n",
       "      <td>...</td>\n",
       "      <td>...</td>\n",
       "      <td>...</td>\n",
       "      <td>...</td>\n",
       "      <td>...</td>\n",
       "      <td>...</td>\n",
       "      <td>...</td>\n",
       "    </tr>\n",
       "    <tr>\n",
       "      <th>658</th>\n",
       "      <td>20201020.0</td>\n",
       "      <td>35876.0</td>\n",
       "      <td>31632.0</td>\n",
       "      <td>4244.0</td>\n",
       "      <td>13.42</td>\n",
       "      <td>362.755</td>\n",
       "      <td>309.655</td>\n",
       "      <td>0.0</td>\n",
       "      <td>0.0</td>\n",
       "      <td>98.0</td>\n",
       "      <td>...</td>\n",
       "      <td>15.2</td>\n",
       "      <td>51.1</td>\n",
       "      <td>5.2</td>\n",
       "      <td>1.2</td>\n",
       "      <td>1.1</td>\n",
       "      <td>1.8</td>\n",
       "      <td>0.5</td>\n",
       "      <td>20.9</td>\n",
       "      <td>67.7</td>\n",
       "      <td>98.8</td>\n",
       "    </tr>\n",
       "    <tr>\n",
       "      <th>659</th>\n",
       "      <td>20201021.0</td>\n",
       "      <td>35676.0</td>\n",
       "      <td>32367.0</td>\n",
       "      <td>3309.0</td>\n",
       "      <td>10.22</td>\n",
       "      <td>371.917</td>\n",
       "      <td>317.477</td>\n",
       "      <td>0.0</td>\n",
       "      <td>0.0</td>\n",
       "      <td>97.9</td>\n",
       "      <td>...</td>\n",
       "      <td>20.5</td>\n",
       "      <td>64.6</td>\n",
       "      <td>5.9</td>\n",
       "      <td>1.0</td>\n",
       "      <td>2.0</td>\n",
       "      <td>1.8</td>\n",
       "      <td>0.8</td>\n",
       "      <td>20.6</td>\n",
       "      <td>55.8</td>\n",
       "      <td>21.0</td>\n",
       "    </tr>\n",
       "    <tr>\n",
       "      <th>660</th>\n",
       "      <td>20201022.0</td>\n",
       "      <td>35543.0</td>\n",
       "      <td>31202.0</td>\n",
       "      <td>4341.0</td>\n",
       "      <td>13.91</td>\n",
       "      <td>361.320</td>\n",
       "      <td>308.430</td>\n",
       "      <td>0.0</td>\n",
       "      <td>0.0</td>\n",
       "      <td>97.9</td>\n",
       "      <td>...</td>\n",
       "      <td>13.2</td>\n",
       "      <td>33.9</td>\n",
       "      <td>6.0</td>\n",
       "      <td>1.6</td>\n",
       "      <td>1.7</td>\n",
       "      <td>0.0</td>\n",
       "      <td>0.5</td>\n",
       "      <td>20.9</td>\n",
       "      <td>64.9</td>\n",
       "      <td>159.7</td>\n",
       "    </tr>\n",
       "    <tr>\n",
       "      <th>661</th>\n",
       "      <td>20201023.0</td>\n",
       "      <td>33701.0</td>\n",
       "      <td>29698.0</td>\n",
       "      <td>4003.0</td>\n",
       "      <td>13.48</td>\n",
       "      <td>346.754</td>\n",
       "      <td>295.997</td>\n",
       "      <td>0.0</td>\n",
       "      <td>0.0</td>\n",
       "      <td>97.8</td>\n",
       "      <td>...</td>\n",
       "      <td>15.8</td>\n",
       "      <td>48.9</td>\n",
       "      <td>6.0</td>\n",
       "      <td>1.6</td>\n",
       "      <td>1.8</td>\n",
       "      <td>1.7</td>\n",
       "      <td>0.7</td>\n",
       "      <td>23.3</td>\n",
       "      <td>65.7</td>\n",
       "      <td>14.9</td>\n",
       "    </tr>\n",
       "    <tr>\n",
       "      <th>662</th>\n",
       "      <td>20201024.0</td>\n",
       "      <td>30683.0</td>\n",
       "      <td>26791.0</td>\n",
       "      <td>3892.0</td>\n",
       "      <td>14.53</td>\n",
       "      <td>319.174</td>\n",
       "      <td>272.453</td>\n",
       "      <td>0.0</td>\n",
       "      <td>0.0</td>\n",
       "      <td>97.8</td>\n",
       "      <td>...</td>\n",
       "      <td>28.8</td>\n",
       "      <td>80.8</td>\n",
       "      <td>5.0</td>\n",
       "      <td>1.6</td>\n",
       "      <td>1.5</td>\n",
       "      <td>4.0</td>\n",
       "      <td>0.7</td>\n",
       "      <td>27.0</td>\n",
       "      <td>50.1</td>\n",
       "      <td>0.0</td>\n",
       "    </tr>\n",
       "  </tbody>\n",
       "</table>\n",
       "<p>663 rows × 71 columns</p>\n",
       "</div>"
      ],
      "text/plain": [
       "             日期  淨尖峰供電能力(MW)  尖峰負載(MW)  備轉容量(MW)  備轉容量率(%)  工業用電(百萬度)  \\\n",
       "0    20190101.0      26429.0   23872.0    2557.0     10.71    279.870   \n",
       "1    20190102.0      30047.0   28148.0    1899.0      6.75    323.080   \n",
       "2    20190103.0      30343.0   28452.0    1891.0      6.65    336.597   \n",
       "3    20190104.0      30301.0   28490.0    1811.0      6.36    339.020   \n",
       "4    20190105.0      27957.0   26054.0    1903.0      7.30    315.825   \n",
       "..          ...          ...       ...       ...       ...        ...   \n",
       "658  20201020.0      35876.0   31632.0    4244.0     13.42    362.755   \n",
       "659  20201021.0      35676.0   32367.0    3309.0     10.22    371.917   \n",
       "660  20201022.0      35543.0   31202.0    4341.0     13.91    361.320   \n",
       "661  20201023.0      33701.0   29698.0    4003.0     13.48    346.754   \n",
       "662  20201024.0      30683.0   26791.0    3892.0     14.53    319.174   \n",
       "\n",
       "     民生用電(百萬度)  核一#1(萬瓩)  核一#2(萬瓩)  核二#1(萬瓩)  ...   大觀二    明潭   碧海   立霧   龍澗  \\\n",
       "0      192.192       0.0       0.0      98.4  ...  16.0  54.0  0.0  1.2  3.0   \n",
       "1      221.864       0.0       0.0      98.5  ...  29.9  52.3  0.0  1.2  2.0   \n",
       "2      231.146       0.0       0.0      98.7  ...  14.3  65.5  0.0  1.4  1.2   \n",
       "3      232.810       0.0       0.0      98.7  ...  18.1  52.3  0.0  1.4  1.4   \n",
       "4      216.882       0.0       0.0      98.7  ...  30.4  57.6  0.0  1.3  3.0   \n",
       "..         ...       ...       ...       ...  ...   ...   ...  ...  ...  ...   \n",
       "658    309.655       0.0       0.0      98.0  ...  15.2  51.1  5.2  1.2  1.1   \n",
       "659    317.477       0.0       0.0      97.9  ...  20.5  64.6  5.9  1.0  2.0   \n",
       "660    308.430       0.0       0.0      97.9  ...  13.2  33.9  6.0  1.6  1.7   \n",
       "661    295.997       0.0       0.0      97.8  ...  15.8  48.9  6.0  1.6  1.8   \n",
       "662    272.453       0.0       0.0      97.8  ...  28.8  80.8  5.0  1.6  1.5   \n",
       "\n",
       "      卓蘭   水里  其他小水力  風力發電  太陽能發電  \n",
       "0    2.2  0.0   24.3  50.9    0.0  \n",
       "1    2.1  0.0   23.4  37.9    0.0  \n",
       "2    2.0  0.1   24.1  41.6    0.0  \n",
       "3    0.0  0.0   19.3  12.4   11.0  \n",
       "4    2.9  0.0   23.9  18.5    0.0  \n",
       "..   ...  ...    ...   ...    ...  \n",
       "658  1.8  0.5   20.9  67.7   98.8  \n",
       "659  1.8  0.8   20.6  55.8   21.0  \n",
       "660  0.0  0.5   20.9  64.9  159.7  \n",
       "661  1.7  0.7   23.3  65.7   14.9  \n",
       "662  4.0  0.7   27.0  50.1    0.0  \n",
       "\n",
       "[663 rows x 71 columns]"
      ]
     },
     "execution_count": 11,
     "metadata": {},
     "output_type": "execute_result"
    }
   ],
   "source": [
    "train_data"
   ]
  },
  {
   "cell_type": "code",
   "execution_count": 12,
   "id": "labeled-senegal",
   "metadata": {},
   "outputs": [
    {
     "data": {
      "text/html": [
       "<div>\n",
       "<style scoped>\n",
       "    .dataframe tbody tr th:only-of-type {\n",
       "        vertical-align: middle;\n",
       "    }\n",
       "\n",
       "    .dataframe tbody tr th {\n",
       "        vertical-align: top;\n",
       "    }\n",
       "\n",
       "    .dataframe thead th {\n",
       "        text-align: right;\n",
       "    }\n",
       "</style>\n",
       "<table border=\"1\" class=\"dataframe\">\n",
       "  <thead>\n",
       "    <tr style=\"text-align: right;\">\n",
       "      <th></th>\n",
       "      <th>備轉容量(MW)</th>\n",
       "    </tr>\n",
       "  </thead>\n",
       "  <tbody>\n",
       "    <tr>\n",
       "      <th>663</th>\n",
       "      <td>4025.0</td>\n",
       "    </tr>\n",
       "    <tr>\n",
       "      <th>664</th>\n",
       "      <td>3503.0</td>\n",
       "    </tr>\n",
       "    <tr>\n",
       "      <th>665</th>\n",
       "      <td>3402.0</td>\n",
       "    </tr>\n",
       "    <tr>\n",
       "      <th>666</th>\n",
       "      <td>3470.0</td>\n",
       "    </tr>\n",
       "    <tr>\n",
       "      <th>667</th>\n",
       "      <td>3707.0</td>\n",
       "    </tr>\n",
       "    <tr>\n",
       "      <th>668</th>\n",
       "      <td>4215.0</td>\n",
       "    </tr>\n",
       "    <tr>\n",
       "      <th>669</th>\n",
       "      <td>3719.0</td>\n",
       "    </tr>\n",
       "  </tbody>\n",
       "</table>\n",
       "</div>"
      ],
      "text/plain": [
       "     備轉容量(MW)\n",
       "663    4025.0\n",
       "664    3503.0\n",
       "665    3402.0\n",
       "666    3470.0\n",
       "667    3707.0\n",
       "668    4215.0\n",
       "669    3719.0"
      ]
     },
     "execution_count": 12,
     "metadata": {},
     "output_type": "execute_result"
    }
   ],
   "source": [
    "train_label"
   ]
  },
  {
   "cell_type": "markdown",
   "id": "injured-purse",
   "metadata": {},
   "source": [
    "## normalize data"
   ]
  },
  {
   "cell_type": "code",
   "execution_count": 13,
   "id": "commercial-bunch",
   "metadata": {},
   "outputs": [],
   "source": [
    "from sklearn.preprocessing import normalize\n",
    "\n",
    "train_data_norm = normalize(train_data, axis=0)"
   ]
  },
  {
   "cell_type": "code",
   "execution_count": 14,
   "id": "laden-universal",
   "metadata": {},
   "outputs": [
    {
     "data": {
      "text/plain": [
       "array([[0.03882714, 0.03012038, 0.03050314, ..., 0.04483954, 0.06116553,\n",
       "        0.        ],\n",
       "       [0.03882714, 0.03424372, 0.03596692, ..., 0.04317882, 0.04554368,\n",
       "        0.        ],\n",
       "       [0.03882715, 0.03458106, 0.03635537, ..., 0.04447049, 0.0499899 ,\n",
       "        0.        ],\n",
       "       ...,\n",
       "       [0.03884814, 0.04050735, 0.03986926, ..., 0.0385657 , 0.07798905,\n",
       "        0.05968551],\n",
       "       [0.03884815, 0.03840808, 0.03794748, ..., 0.04299429, 0.0789504 ,\n",
       "        0.00556865],\n",
       "       [0.03884815, 0.03496855, 0.03423298, ..., 0.04982172, 0.06020418,\n",
       "        0.        ]])"
      ]
     },
     "execution_count": 14,
     "metadata": {},
     "output_type": "execute_result"
    }
   ],
   "source": [
    "train_data_norm"
   ]
  },
  {
   "cell_type": "code",
   "execution_count": 15,
   "id": "interesting-popularity",
   "metadata": {},
   "outputs": [
    {
     "data": {
      "text/html": [
       "<div>\n",
       "<style scoped>\n",
       "    .dataframe tbody tr th:only-of-type {\n",
       "        vertical-align: middle;\n",
       "    }\n",
       "\n",
       "    .dataframe tbody tr th {\n",
       "        vertical-align: top;\n",
       "    }\n",
       "\n",
       "    .dataframe thead th {\n",
       "        text-align: right;\n",
       "    }\n",
       "</style>\n",
       "<table border=\"1\" class=\"dataframe\">\n",
       "  <thead>\n",
       "    <tr style=\"text-align: right;\">\n",
       "      <th></th>\n",
       "      <th>備轉容量(MW)</th>\n",
       "    </tr>\n",
       "  </thead>\n",
       "  <tbody>\n",
       "    <tr>\n",
       "      <th>663</th>\n",
       "      <td>4025.0</td>\n",
       "    </tr>\n",
       "    <tr>\n",
       "      <th>664</th>\n",
       "      <td>3503.0</td>\n",
       "    </tr>\n",
       "    <tr>\n",
       "      <th>665</th>\n",
       "      <td>3402.0</td>\n",
       "    </tr>\n",
       "    <tr>\n",
       "      <th>666</th>\n",
       "      <td>3470.0</td>\n",
       "    </tr>\n",
       "    <tr>\n",
       "      <th>667</th>\n",
       "      <td>3707.0</td>\n",
       "    </tr>\n",
       "    <tr>\n",
       "      <th>668</th>\n",
       "      <td>4215.0</td>\n",
       "    </tr>\n",
       "    <tr>\n",
       "      <th>669</th>\n",
       "      <td>3719.0</td>\n",
       "    </tr>\n",
       "  </tbody>\n",
       "</table>\n",
       "</div>"
      ],
      "text/plain": [
       "     備轉容量(MW)\n",
       "663    4025.0\n",
       "664    3503.0\n",
       "665    3402.0\n",
       "666    3470.0\n",
       "667    3707.0\n",
       "668    4215.0\n",
       "669    3719.0"
      ]
     },
     "execution_count": 15,
     "metadata": {},
     "output_type": "execute_result"
    }
   ],
   "source": [
    "train_label"
   ]
  },
  {
   "cell_type": "markdown",
   "id": "exceptional-northeast",
   "metadata": {},
   "source": [
    "## dataset"
   ]
  },
  {
   "cell_type": "code",
   "execution_count": 16,
   "id": "persistent-management",
   "metadata": {},
   "outputs": [],
   "source": [
    "from sklearn.preprocessing import normalize\n",
    "from torch.utils.data import DataLoader\n",
    "from torch.utils.data import Dataset as BaseDataset\n"
   ]
  },
  {
   "cell_type": "code",
   "execution_count": 192,
   "id": "comic-dealing",
   "metadata": {},
   "outputs": [],
   "source": [
    "\n",
    "class Dataset(BaseDataset):\n",
    "    def __init__(\n",
    "        self,\n",
    "        train_data,\n",
    "        apply_normalize = False,\n",
    "    ):\n",
    "        #prepare the training data and label\n",
    "        self.train_label = np.array(train_data['備轉容量(MW)'])\n",
    "        if not normalize:\n",
    "            self.train_data = np.array(train_data)\n",
    "        else:\n",
    "           self.train_data = np.array(normalize(train_data, axis=0))\n",
    "    \n",
    "    def __getitem__(self, i):\n",
    "        x = self.train_data[i:100+i]\n",
    "        y = self.train_label[100+i:100+i+7]\n",
    "        \n",
    "        return x, y\n",
    "    \n",
    "    def __len__(self):\n",
    "        return len(self.train_data) - 200"
   ]
  },
  {
   "cell_type": "code",
   "execution_count": 193,
   "id": "modular-cinema",
   "metadata": {},
   "outputs": [],
   "source": [
    "dataset = Dataset(df)"
   ]
  },
  {
   "cell_type": "code",
   "execution_count": 196,
   "id": "aerial-priority",
   "metadata": {},
   "outputs": [],
   "source": [
    "x,y = dataset[1]"
   ]
  },
  {
   "cell_type": "code",
   "execution_count": 197,
   "id": "worth-optimum",
   "metadata": {},
   "outputs": [
    {
     "data": {
      "text/plain": [
       "(100, 71)"
      ]
     },
     "execution_count": 197,
     "metadata": {},
     "output_type": "execute_result"
    }
   ],
   "source": [
    "x.shape"
   ]
  },
  {
   "cell_type": "code",
   "execution_count": 21,
   "id": "arabic-ability",
   "metadata": {},
   "outputs": [
    {
     "data": {
      "text/plain": [
       "(7,)"
      ]
     },
     "execution_count": 21,
     "metadata": {},
     "output_type": "execute_result"
    }
   ],
   "source": [
    "y.shape"
   ]
  },
  {
   "cell_type": "code",
   "execution_count": 22,
   "id": "verified-reservation",
   "metadata": {},
   "outputs": [
    {
     "data": {
      "text/plain": [
       "470"
      ]
     },
     "execution_count": 22,
     "metadata": {},
     "output_type": "execute_result"
    }
   ],
   "source": [
    "len(dataset)"
   ]
  },
  {
   "cell_type": "markdown",
   "id": "precise-right",
   "metadata": {},
   "source": [
    "# Model"
   ]
  },
  {
   "cell_type": "code",
   "execution_count": 224,
   "id": "proved-giving",
   "metadata": {},
   "outputs": [],
   "source": [
    "import torch\n",
    "import torch.nn as nn"
   ]
  },
  {
   "cell_type": "code",
   "execution_count": 225,
   "id": "owned-mambo",
   "metadata": {},
   "outputs": [],
   "source": [
    "class Model(nn.Module):\n",
    "    def __init__(self, hidden_size=100, num_layers=5):\n",
    "        super(Model,self).__init__()\n",
    "        \n",
    "        self.rnn = nn.GRU(71, hidden_size, num_layers)\n",
    "        self.h0 = torch.randn(num_layers, 1, hidden_size, requires_grad=True)\n",
    "        if torch.cuda.is_available():\n",
    "            self.h0 = self.h0.cuda()\n",
    "        \n",
    "        self.fc1 = nn.Linear(hidden_size, 128)\n",
    "        self.fc2 = nn.Linear(128, 512)\n",
    "        self.fc3 = nn.Linear(512, 128)\n",
    "        self.fc4 = nn.Linear(128, 7)\n",
    "        self.fc = nn.Linear(hidden_size, 7)\n",
    "        self.relu = nn.ReLU()\n",
    "        self.dropout = nn.Dropout(p=0.01)\n",
    "        self.avgpool = nn.AdaptiveAvgPool2d((9,9))\n",
    "        \n",
    "    def forward(self, x):\n",
    "        output, hn = self.rnn(x, self.h0)\n",
    "#         print(output[-1].shape)\n",
    "#         output = torch.transpose(output, 0,1)\n",
    "#         output = self.avgpool(output)\n",
    "        x = torch.flatten(output[-1])\n",
    "        x = self.relu(x)\n",
    "#         x = self.fc(x)\n",
    "        x = self.fc1(x)\n",
    "        x = self.relu(x)\n",
    "        x = self.fc2(x)\n",
    "        x = self.relu(x)\n",
    "        x = self.dropout(x)\n",
    "        x = self.fc3(x)\n",
    "        x = self.relu(x)\n",
    "        x = self.fc4(x)\n",
    "#         x = torch.sigmoid(x)\n",
    "        \n",
    "#         return x* self.norm_factor\n",
    "        return x"
   ]
  },
  {
   "cell_type": "code",
   "execution_count": 226,
   "id": "positive-concord",
   "metadata": {},
   "outputs": [],
   "source": [
    "model = Model(num_layers=100)"
   ]
  },
  {
   "cell_type": "code",
   "execution_count": 227,
   "id": "celtic-colombia",
   "metadata": {},
   "outputs": [
    {
     "data": {
      "text/plain": [
       "4215.0"
      ]
     },
     "execution_count": 227,
     "metadata": {},
     "output_type": "execute_result"
    }
   ],
   "source": [
    "np.max(np.array(train_label))"
   ]
  },
  {
   "cell_type": "code",
   "execution_count": 228,
   "id": "cooperative-hurricane",
   "metadata": {},
   "outputs": [],
   "source": [
    "x,y = dataset[0]\n",
    "x = torch.tensor(x, dtype=torch.float).unsqueeze(dim=1)\n",
    "y = torch.tensor(y, dtype=torch.float)"
   ]
  },
  {
   "cell_type": "code",
   "execution_count": 229,
   "id": "infinite-hearts",
   "metadata": {},
   "outputs": [
    {
     "data": {
      "text/plain": [
       "torch.Size([100, 1, 71])"
      ]
     },
     "execution_count": 229,
     "metadata": {},
     "output_type": "execute_result"
    }
   ],
   "source": [
    "x.shape"
   ]
  },
  {
   "cell_type": "code",
   "execution_count": 230,
   "id": "alternate-merchandise",
   "metadata": {},
   "outputs": [
    {
     "data": {
      "text/plain": [
       "torch.Size([7])"
      ]
     },
     "execution_count": 230,
     "metadata": {},
     "output_type": "execute_result"
    }
   ],
   "source": [
    "y.shape"
   ]
  },
  {
   "cell_type": "code",
   "execution_count": 231,
   "id": "irish-possible",
   "metadata": {},
   "outputs": [
    {
     "data": {
      "text/plain": [
       "Model(\n",
       "  (rnn): GRU(71, 100, num_layers=100)\n",
       "  (fc1): Linear(in_features=100, out_features=128, bias=True)\n",
       "  (fc2): Linear(in_features=128, out_features=512, bias=True)\n",
       "  (fc3): Linear(in_features=512, out_features=128, bias=True)\n",
       "  (fc4): Linear(in_features=128, out_features=7, bias=True)\n",
       "  (fc): Linear(in_features=100, out_features=7, bias=True)\n",
       "  (relu): ReLU()\n",
       "  (dropout): Dropout(p=0.01, inplace=False)\n",
       "  (avgpool): AdaptiveAvgPool2d(output_size=(9, 9))\n",
       ")"
      ]
     },
     "execution_count": 231,
     "metadata": {},
     "output_type": "execute_result"
    }
   ],
   "source": [
    "model.cuda()"
   ]
  },
  {
   "cell_type": "code",
   "execution_count": 232,
   "id": "double-regular",
   "metadata": {},
   "outputs": [
    {
     "data": {
      "text/plain": [
       "tensor([-0.0053, -0.0333,  0.0643,  0.0125, -0.0340, -0.0816, -0.0098],\n",
       "       device='cuda:0', grad_fn=<AddBackward0>)"
      ]
     },
     "execution_count": 232,
     "metadata": {},
     "output_type": "execute_result"
    }
   ],
   "source": [
    "model(x.cuda())"
   ]
  },
  {
   "cell_type": "markdown",
   "id": "variable-flight",
   "metadata": {},
   "source": [
    "# training"
   ]
  },
  {
   "cell_type": "code",
   "execution_count": 239,
   "id": "organic-venue",
   "metadata": {},
   "outputs": [],
   "source": [
    "loss = torch.nn.MSELoss()"
   ]
  },
  {
   "cell_type": "code",
   "execution_count": 240,
   "id": "spanish-adult",
   "metadata": {},
   "outputs": [
    {
     "data": {
      "text/plain": [
       "Model(\n",
       "  (rnn): GRU(71, 100, num_layers=10)\n",
       "  (fc1): Linear(in_features=100, out_features=128, bias=True)\n",
       "  (fc2): Linear(in_features=128, out_features=512, bias=True)\n",
       "  (fc3): Linear(in_features=512, out_features=128, bias=True)\n",
       "  (fc4): Linear(in_features=128, out_features=7, bias=True)\n",
       "  (fc): Linear(in_features=100, out_features=7, bias=True)\n",
       "  (relu): ReLU()\n",
       "  (dropout): Dropout(p=0.01, inplace=False)\n",
       "  (avgpool): AdaptiveAvgPool2d(output_size=(9, 9))\n",
       ")"
      ]
     },
     "execution_count": 240,
     "metadata": {},
     "output_type": "execute_result"
    }
   ],
   "source": [
    "model = Model(num_layers=10)\n",
    "model.cuda()"
   ]
  },
  {
   "cell_type": "code",
   "execution_count": 241,
   "id": "mighty-immigration",
   "metadata": {},
   "outputs": [],
   "source": [
    "dataset = Dataset(df, apply_normalize=True)"
   ]
  },
  {
   "cell_type": "code",
   "execution_count": 242,
   "id": "white-eleven",
   "metadata": {},
   "outputs": [],
   "source": [
    "optimizer = torch.optim.Adam([\n",
    "    dict(params=model.parameters(), lr=4e-4),\n",
    "])"
   ]
  },
  {
   "cell_type": "code",
   "execution_count": 243,
   "id": "ceramic-overall",
   "metadata": {},
   "outputs": [],
   "source": [
    "from tqdm import tqdm "
   ]
  },
  {
   "cell_type": "code",
   "execution_count": 244,
   "id": "generous-capitol",
   "metadata": {},
   "outputs": [
    {
     "name": "stderr",
     "output_type": "stream",
     "text": [
      "100%|██████████| 470/470 [00:11<00:00, 39.77it/s]\n",
      "  1%|          | 4/470 [00:00<00:12, 38.44it/s]"
     ]
    },
    {
     "name": "stdout",
     "output_type": "stream",
     "text": [
      "Epoch: 0 Training Loss: 1679075667.03125\n"
     ]
    },
    {
     "name": "stderr",
     "output_type": "stream",
     "text": [
      "100%|██████████| 470/470 [00:11<00:00, 39.94it/s]\n",
      "  1%|          | 4/470 [00:00<00:12, 37.90it/s]"
     ]
    },
    {
     "name": "stdout",
     "output_type": "stream",
     "text": [
      "Epoch: 1 Training Loss: 477268461.33496094\n"
     ]
    },
    {
     "name": "stderr",
     "output_type": "stream",
     "text": [
      "100%|██████████| 470/470 [00:11<00:00, 39.34it/s]\n",
      "  1%|          | 3/470 [00:00<00:16, 27.60it/s]"
     ]
    },
    {
     "name": "stdout",
     "output_type": "stream",
     "text": [
      "Epoch: 2 Training Loss: 478658264.33984375\n"
     ]
    },
    {
     "name": "stderr",
     "output_type": "stream",
     "text": [
      "100%|██████████| 470/470 [00:11<00:00, 39.55it/s]\n",
      "  1%|          | 4/470 [00:00<00:12, 37.47it/s]"
     ]
    },
    {
     "name": "stdout",
     "output_type": "stream",
     "text": [
      "Epoch: 3 Training Loss: 479382410.3144531\n"
     ]
    },
    {
     "name": "stderr",
     "output_type": "stream",
     "text": [
      "100%|██████████| 470/470 [00:11<00:00, 39.41it/s]\n",
      "  1%|          | 5/470 [00:00<00:11, 41.93it/s]"
     ]
    },
    {
     "name": "stdout",
     "output_type": "stream",
     "text": [
      "Epoch: 4 Training Loss: 477052979.91796875\n"
     ]
    },
    {
     "name": "stderr",
     "output_type": "stream",
     "text": [
      "100%|██████████| 470/470 [00:11<00:00, 39.63it/s]\n",
      "  1%|          | 4/470 [00:00<00:11, 39.53it/s]"
     ]
    },
    {
     "name": "stdout",
     "output_type": "stream",
     "text": [
      "Epoch: 5 Training Loss: 478907168.88964844\n"
     ]
    },
    {
     "name": "stderr",
     "output_type": "stream",
     "text": [
      "100%|██████████| 470/470 [00:11<00:00, 39.57it/s]\n",
      "  1%|          | 5/470 [00:00<00:11, 41.71it/s]"
     ]
    },
    {
     "name": "stdout",
     "output_type": "stream",
     "text": [
      "Epoch: 6 Training Loss: 476522051.6044922\n"
     ]
    },
    {
     "name": "stderr",
     "output_type": "stream",
     "text": [
      "100%|██████████| 470/470 [00:11<00:00, 39.47it/s]\n",
      "  1%|          | 4/470 [00:00<00:13, 35.70it/s]"
     ]
    },
    {
     "name": "stdout",
     "output_type": "stream",
     "text": [
      "Epoch: 7 Training Loss: 480283853.0107422\n"
     ]
    },
    {
     "name": "stderr",
     "output_type": "stream",
     "text": [
      "100%|██████████| 470/470 [00:11<00:00, 39.52it/s]\n",
      "  1%|          | 4/470 [00:00<00:11, 39.37it/s]"
     ]
    },
    {
     "name": "stdout",
     "output_type": "stream",
     "text": [
      "Epoch: 8 Training Loss: 479737719.09277344\n"
     ]
    },
    {
     "name": "stderr",
     "output_type": "stream",
     "text": [
      " 13%|█▎        | 59/470 [00:01<00:10, 40.15it/s]\n"
     ]
    },
    {
     "ename": "KeyboardInterrupt",
     "evalue": "",
     "output_type": "error",
     "traceback": [
      "\u001b[0;31m---------------------------------------------------------------------------\u001b[0m",
      "\u001b[0;31mKeyboardInterrupt\u001b[0m                         Traceback (most recent call last)",
      "\u001b[0;32m<ipython-input-244-168054cd892d>\u001b[0m in \u001b[0;36m<module>\u001b[0;34m()\u001b[0m\n\u001b[1;32m     20\u001b[0m         \u001b[0;31m## -----------------------\u001b[0m\u001b[0;34m\u001b[0m\u001b[0;34m\u001b[0m\u001b[0;34m\u001b[0m\u001b[0m\n\u001b[1;32m     21\u001b[0m \u001b[0;34m\u001b[0m\u001b[0m\n\u001b[0;32m---> 22\u001b[0;31m         \u001b[0mpred\u001b[0m \u001b[0;34m=\u001b[0m \u001b[0mmodel\u001b[0m\u001b[0;34m(\u001b[0m\u001b[0mx\u001b[0m\u001b[0;34m)\u001b[0m\u001b[0;34m\u001b[0m\u001b[0;34m\u001b[0m\u001b[0m\n\u001b[0m\u001b[1;32m     23\u001b[0m \u001b[0;34m\u001b[0m\u001b[0m\n\u001b[1;32m     24\u001b[0m         \u001b[0;31m## 2. loss calculation\u001b[0m\u001b[0;34m\u001b[0m\u001b[0;34m\u001b[0m\u001b[0;34m\u001b[0m\u001b[0m\n",
      "\u001b[0;32m/home/jeff/anaconda3/envs/work/lib/python3.6/site-packages/torch/nn/modules/module.py\u001b[0m in \u001b[0;36m_call_impl\u001b[0;34m(self, *input, **kwargs)\u001b[0m\n\u001b[1;32m    725\u001b[0m             \u001b[0mresult\u001b[0m \u001b[0;34m=\u001b[0m \u001b[0mself\u001b[0m\u001b[0;34m.\u001b[0m\u001b[0m_slow_forward\u001b[0m\u001b[0;34m(\u001b[0m\u001b[0;34m*\u001b[0m\u001b[0minput\u001b[0m\u001b[0;34m,\u001b[0m \u001b[0;34m**\u001b[0m\u001b[0mkwargs\u001b[0m\u001b[0;34m)\u001b[0m\u001b[0;34m\u001b[0m\u001b[0;34m\u001b[0m\u001b[0m\n\u001b[1;32m    726\u001b[0m         \u001b[0;32melse\u001b[0m\u001b[0;34m:\u001b[0m\u001b[0;34m\u001b[0m\u001b[0;34m\u001b[0m\u001b[0m\n\u001b[0;32m--> 727\u001b[0;31m             \u001b[0mresult\u001b[0m \u001b[0;34m=\u001b[0m \u001b[0mself\u001b[0m\u001b[0;34m.\u001b[0m\u001b[0mforward\u001b[0m\u001b[0;34m(\u001b[0m\u001b[0;34m*\u001b[0m\u001b[0minput\u001b[0m\u001b[0;34m,\u001b[0m \u001b[0;34m**\u001b[0m\u001b[0mkwargs\u001b[0m\u001b[0;34m)\u001b[0m\u001b[0;34m\u001b[0m\u001b[0;34m\u001b[0m\u001b[0m\n\u001b[0m\u001b[1;32m    728\u001b[0m         for hook in itertools.chain(\n\u001b[1;32m    729\u001b[0m                 \u001b[0m_global_forward_hooks\u001b[0m\u001b[0;34m.\u001b[0m\u001b[0mvalues\u001b[0m\u001b[0;34m(\u001b[0m\u001b[0;34m)\u001b[0m\u001b[0;34m,\u001b[0m\u001b[0;34m\u001b[0m\u001b[0;34m\u001b[0m\u001b[0m\n",
      "\u001b[0;32m<ipython-input-225-5de55554ac6e>\u001b[0m in \u001b[0;36mforward\u001b[0;34m(self, x)\u001b[0m\n\u001b[1;32m     32\u001b[0m         \u001b[0mx\u001b[0m \u001b[0;34m=\u001b[0m \u001b[0mself\u001b[0m\u001b[0;34m.\u001b[0m\u001b[0mfc3\u001b[0m\u001b[0;34m(\u001b[0m\u001b[0mx\u001b[0m\u001b[0;34m)\u001b[0m\u001b[0;34m\u001b[0m\u001b[0;34m\u001b[0m\u001b[0m\n\u001b[1;32m     33\u001b[0m         \u001b[0mx\u001b[0m \u001b[0;34m=\u001b[0m \u001b[0mself\u001b[0m\u001b[0;34m.\u001b[0m\u001b[0mrelu\u001b[0m\u001b[0;34m(\u001b[0m\u001b[0mx\u001b[0m\u001b[0;34m)\u001b[0m\u001b[0;34m\u001b[0m\u001b[0;34m\u001b[0m\u001b[0m\n\u001b[0;32m---> 34\u001b[0;31m         \u001b[0mx\u001b[0m \u001b[0;34m=\u001b[0m \u001b[0mself\u001b[0m\u001b[0;34m.\u001b[0m\u001b[0mfc4\u001b[0m\u001b[0;34m(\u001b[0m\u001b[0mx\u001b[0m\u001b[0;34m)\u001b[0m\u001b[0;34m\u001b[0m\u001b[0;34m\u001b[0m\u001b[0m\n\u001b[0m\u001b[1;32m     35\u001b[0m \u001b[0;31m#         x = torch.sigmoid(x)\u001b[0m\u001b[0;34m\u001b[0m\u001b[0;34m\u001b[0m\u001b[0;34m\u001b[0m\u001b[0m\n\u001b[1;32m     36\u001b[0m \u001b[0;34m\u001b[0m\u001b[0m\n",
      "\u001b[0;32m/home/jeff/anaconda3/envs/work/lib/python3.6/site-packages/torch/nn/modules/module.py\u001b[0m in \u001b[0;36m_call_impl\u001b[0;34m(self, *input, **kwargs)\u001b[0m\n\u001b[1;32m    725\u001b[0m             \u001b[0mresult\u001b[0m \u001b[0;34m=\u001b[0m \u001b[0mself\u001b[0m\u001b[0;34m.\u001b[0m\u001b[0m_slow_forward\u001b[0m\u001b[0;34m(\u001b[0m\u001b[0;34m*\u001b[0m\u001b[0minput\u001b[0m\u001b[0;34m,\u001b[0m \u001b[0;34m**\u001b[0m\u001b[0mkwargs\u001b[0m\u001b[0;34m)\u001b[0m\u001b[0;34m\u001b[0m\u001b[0;34m\u001b[0m\u001b[0m\n\u001b[1;32m    726\u001b[0m         \u001b[0;32melse\u001b[0m\u001b[0;34m:\u001b[0m\u001b[0;34m\u001b[0m\u001b[0;34m\u001b[0m\u001b[0m\n\u001b[0;32m--> 727\u001b[0;31m             \u001b[0mresult\u001b[0m \u001b[0;34m=\u001b[0m \u001b[0mself\u001b[0m\u001b[0;34m.\u001b[0m\u001b[0mforward\u001b[0m\u001b[0;34m(\u001b[0m\u001b[0;34m*\u001b[0m\u001b[0minput\u001b[0m\u001b[0;34m,\u001b[0m \u001b[0;34m**\u001b[0m\u001b[0mkwargs\u001b[0m\u001b[0;34m)\u001b[0m\u001b[0;34m\u001b[0m\u001b[0;34m\u001b[0m\u001b[0m\n\u001b[0m\u001b[1;32m    728\u001b[0m         for hook in itertools.chain(\n\u001b[1;32m    729\u001b[0m                 \u001b[0m_global_forward_hooks\u001b[0m\u001b[0;34m.\u001b[0m\u001b[0mvalues\u001b[0m\u001b[0;34m(\u001b[0m\u001b[0;34m)\u001b[0m\u001b[0;34m,\u001b[0m\u001b[0;34m\u001b[0m\u001b[0;34m\u001b[0m\u001b[0m\n",
      "\u001b[0;32m/home/jeff/anaconda3/envs/work/lib/python3.6/site-packages/torch/nn/modules/linear.py\u001b[0m in \u001b[0;36mforward\u001b[0;34m(self, input)\u001b[0m\n\u001b[1;32m     91\u001b[0m \u001b[0;34m\u001b[0m\u001b[0m\n\u001b[1;32m     92\u001b[0m     \u001b[0;32mdef\u001b[0m \u001b[0mforward\u001b[0m\u001b[0;34m(\u001b[0m\u001b[0mself\u001b[0m\u001b[0;34m,\u001b[0m \u001b[0minput\u001b[0m\u001b[0;34m:\u001b[0m \u001b[0mTensor\u001b[0m\u001b[0;34m)\u001b[0m \u001b[0;34m->\u001b[0m \u001b[0mTensor\u001b[0m\u001b[0;34m:\u001b[0m\u001b[0;34m\u001b[0m\u001b[0;34m\u001b[0m\u001b[0m\n\u001b[0;32m---> 93\u001b[0;31m         \u001b[0;32mreturn\u001b[0m \u001b[0mF\u001b[0m\u001b[0;34m.\u001b[0m\u001b[0mlinear\u001b[0m\u001b[0;34m(\u001b[0m\u001b[0minput\u001b[0m\u001b[0;34m,\u001b[0m \u001b[0mself\u001b[0m\u001b[0;34m.\u001b[0m\u001b[0mweight\u001b[0m\u001b[0;34m,\u001b[0m \u001b[0mself\u001b[0m\u001b[0;34m.\u001b[0m\u001b[0mbias\u001b[0m\u001b[0;34m)\u001b[0m\u001b[0;34m\u001b[0m\u001b[0;34m\u001b[0m\u001b[0m\n\u001b[0m\u001b[1;32m     94\u001b[0m \u001b[0;34m\u001b[0m\u001b[0m\n\u001b[1;32m     95\u001b[0m     \u001b[0;32mdef\u001b[0m \u001b[0mextra_repr\u001b[0m\u001b[0;34m(\u001b[0m\u001b[0mself\u001b[0m\u001b[0;34m)\u001b[0m \u001b[0;34m->\u001b[0m \u001b[0mstr\u001b[0m\u001b[0;34m:\u001b[0m\u001b[0;34m\u001b[0m\u001b[0;34m\u001b[0m\u001b[0m\n",
      "\u001b[0;32m/home/jeff/anaconda3/envs/work/lib/python3.6/site-packages/torch/nn/functional.py\u001b[0m in \u001b[0;36mlinear\u001b[0;34m(input, weight, bias)\u001b[0m\n\u001b[1;32m   1690\u001b[0m         \u001b[0mret\u001b[0m \u001b[0;34m=\u001b[0m \u001b[0mtorch\u001b[0m\u001b[0;34m.\u001b[0m\u001b[0maddmm\u001b[0m\u001b[0;34m(\u001b[0m\u001b[0mbias\u001b[0m\u001b[0;34m,\u001b[0m \u001b[0minput\u001b[0m\u001b[0;34m,\u001b[0m \u001b[0mweight\u001b[0m\u001b[0;34m.\u001b[0m\u001b[0mt\u001b[0m\u001b[0;34m(\u001b[0m\u001b[0;34m)\u001b[0m\u001b[0;34m)\u001b[0m\u001b[0;34m\u001b[0m\u001b[0;34m\u001b[0m\u001b[0m\n\u001b[1;32m   1691\u001b[0m     \u001b[0;32melse\u001b[0m\u001b[0;34m:\u001b[0m\u001b[0;34m\u001b[0m\u001b[0;34m\u001b[0m\u001b[0m\n\u001b[0;32m-> 1692\u001b[0;31m         \u001b[0moutput\u001b[0m \u001b[0;34m=\u001b[0m \u001b[0minput\u001b[0m\u001b[0;34m.\u001b[0m\u001b[0mmatmul\u001b[0m\u001b[0;34m(\u001b[0m\u001b[0mweight\u001b[0m\u001b[0;34m.\u001b[0m\u001b[0mt\u001b[0m\u001b[0;34m(\u001b[0m\u001b[0;34m)\u001b[0m\u001b[0;34m)\u001b[0m\u001b[0;34m\u001b[0m\u001b[0;34m\u001b[0m\u001b[0m\n\u001b[0m\u001b[1;32m   1693\u001b[0m         \u001b[0;32mif\u001b[0m \u001b[0mbias\u001b[0m \u001b[0;32mis\u001b[0m \u001b[0;32mnot\u001b[0m \u001b[0;32mNone\u001b[0m\u001b[0;34m:\u001b[0m\u001b[0;34m\u001b[0m\u001b[0;34m\u001b[0m\u001b[0m\n\u001b[1;32m   1694\u001b[0m             \u001b[0moutput\u001b[0m \u001b[0;34m+=\u001b[0m \u001b[0mbias\u001b[0m\u001b[0;34m\u001b[0m\u001b[0;34m\u001b[0m\u001b[0m\n",
      "\u001b[0;31mKeyboardInterrupt\u001b[0m: "
     ]
    }
   ],
   "source": [
    "# train model for N epochs\n",
    "max_valid_score = 0\n",
    "EPOCH = 10000\n",
    "for epoch in range(EPOCH):\n",
    "\n",
    "    torch.cuda.empty_cache()\n",
    "\n",
    "    total_loss = 0\n",
    "    for i in tqdm(range(len(dataset))):\n",
    "        optimizer.zero_grad()     #optimizer gradient to zero\n",
    "\n",
    "        # Get data\n",
    "        x, y = dataset[i]\n",
    "        x = torch.tensor(x, dtype=torch.float).unsqueeze(dim=1).cuda()\n",
    "        y = torch.tensor(y, dtype=torch.float).cuda()\n",
    "\n",
    "        # Train \n",
    "\n",
    "        ## 1. forward propagationreal_labels\n",
    "        ## -----------------------\n",
    "\n",
    "        pred = model(x)\n",
    "\n",
    "        ## 2. loss calculation\n",
    "        ## -----------------------\n",
    "        _loss = loss(pred, y)\n",
    "\n",
    "        # track loss\n",
    "        total_loss += _loss.item()\n",
    "\n",
    "        ## 3. backward propagation\n",
    "        ## -----------------------\n",
    "        _loss.backward()     \n",
    "\n",
    "\n",
    "        ## 4. weight optimization\n",
    "        ## -----------------------        \n",
    "        optimizer.step()\n",
    "\n",
    "\n",
    "#     if epoch %100 == 0:\n",
    "    print(\"Epoch:\", epoch, \"Training Loss: {}\".format(total_loss) )\n",
    "        \n",
    "    total_loss = 0\n",
    "\n"
   ]
  },
  {
   "cell_type": "markdown",
   "id": "hourly-walnut",
   "metadata": {},
   "source": [
    "# Test"
   ]
  },
  {
   "cell_type": "code",
   "execution_count": 219,
   "id": "sized-brush",
   "metadata": {},
   "outputs": [],
   "source": [
    "x, y = dataset[400]\n",
    "x = torch.tensor(x, dtype=torch.float).unsqueeze(dim=1).cuda()\n",
    "y = torch.tensor(y, dtype=torch.float).cuda()"
   ]
  },
  {
   "cell_type": "code",
   "execution_count": 220,
   "id": "taken-firewall",
   "metadata": {},
   "outputs": [
    {
     "data": {
      "text/plain": [
       "tensor([3178.1455, 3169.1013, 3157.6384, 3152.3457, 3137.4207, 3123.5010,\n",
       "        3116.9719], device='cuda:0', grad_fn=<AddBackward0>)"
      ]
     },
     "execution_count": 220,
     "metadata": {},
     "output_type": "execute_result"
    }
   ],
   "source": [
    "pred = model(x)\n",
    "pred"
   ]
  },
  {
   "cell_type": "code",
   "execution_count": 221,
   "id": "clear-appendix",
   "metadata": {},
   "outputs": [
    {
     "data": {
      "text/plain": [
       "tensor([3622., 3947., 4241., 4085., 4626., 4951., 3983.], device='cuda:0')"
      ]
     },
     "execution_count": 221,
     "metadata": {},
     "output_type": "execute_result"
    }
   ],
   "source": [
    "y"
   ]
  },
  {
   "cell_type": "code",
   "execution_count": 222,
   "id": "functioning-sector",
   "metadata": {},
   "outputs": [
    {
     "data": {
      "text/plain": [
       "tensor([ -443.8545,  -777.8987, -1083.3616,  -932.6543, -1488.5793, -1827.4990,\n",
       "         -866.0281], device='cuda:0', grad_fn=<SubBackward0>)"
      ]
     },
     "execution_count": 222,
     "metadata": {},
     "output_type": "execute_result"
    }
   ],
   "source": [
    "pred - y"
   ]
  },
  {
   "cell_type": "code",
   "execution_count": 223,
   "id": "later-medicare",
   "metadata": {},
   "outputs": [
    {
     "data": {
      "text/plain": [
       "tensor(1307325., device='cuda:0', grad_fn=<MseLossBackward>)"
      ]
     },
     "execution_count": 223,
     "metadata": {},
     "output_type": "execute_result"
    }
   ],
   "source": [
    "loss(pred, y)"
   ]
  },
  {
   "cell_type": "code",
   "execution_count": null,
   "id": "average-mineral",
   "metadata": {},
   "outputs": [],
   "source": [
    "# fc result\n",
    "# Training Loss: 92919.921875 \n",
    "# gru fc result\n",
    "# 92851.1484375"
   ]
  },
  {
   "cell_type": "code",
   "execution_count": null,
   "id": "processed-shareware",
   "metadata": {},
   "outputs": [],
   "source": []
  }
 ],
 "metadata": {
  "kernelspec": {
   "display_name": "Python 3",
   "language": "python",
   "name": "python3"
  },
  "language_info": {
   "codemirror_mode": {
    "name": "ipython",
    "version": 3
   },
   "file_extension": ".py",
   "mimetype": "text/x-python",
   "name": "python",
   "nbconvert_exporter": "python",
   "pygments_lexer": "ipython3",
   "version": "3.6.12"
  },
  "toc-autonumbering": true
 },
 "nbformat": 4,
 "nbformat_minor": 5
}
