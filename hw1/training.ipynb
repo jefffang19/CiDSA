{
 "metadata": {
  "language_info": {
   "codemirror_mode": {
    "name": "ipython",
    "version": 3
   },
   "file_extension": ".py",
   "mimetype": "text/x-python",
   "name": "python",
   "nbconvert_exporter": "python",
   "pygments_lexer": "ipython3",
   "version": "3.6.12-final"
  },
  "orig_nbformat": 2,
  "kernelspec": {
   "name": "python3",
   "display_name": "Python 3",
   "language": "python"
  }
 },
 "nbformat": 4,
 "nbformat_minor": 2,
 "cells": [
  {
   "cell_type": "code",
   "execution_count": 1,
   "metadata": {},
   "outputs": [],
   "source": [
    "import os"
   ]
  },
  {
   "cell_type": "code",
   "execution_count": 4,
   "metadata": {},
   "outputs": [
    {
     "output_type": "execute_result",
     "data": {
      "text/plain": [
       "['2020年度每日尖峰備轉容量率.csv', '2021年度每日尖峰備轉容量率.csv']"
      ]
     },
     "metadata": {},
     "execution_count": 4
    }
   ],
   "source": [
    "eletricity_files = os.listdir('dataset/eletricity/')\n",
    "eletricity_files"
   ]
  },
  {
   "cell_type": "code",
   "execution_count": 5,
   "metadata": {},
   "outputs": [
    {
     "output_type": "execute_result",
     "data": {
      "text/plain": [
       "['weather_day.csv', 'weather_forcast.csv']"
      ]
     },
     "metadata": {},
     "execution_count": 5
    }
   ],
   "source": [
    "weather_files = os.listdir('dataset/weather/')\n",
    "weather_files"
   ]
  },
  {
   "cell_type": "code",
   "execution_count": 6,
   "metadata": {},
   "outputs": [],
   "source": [
    "import pandas\n",
    "import numpy as np"
   ]
  },
  {
   "source": [
    "# Electicity Data"
   ],
   "cell_type": "markdown",
   "metadata": {}
  },
  {
   "cell_type": "code",
   "execution_count": 8,
   "metadata": {},
   "outputs": [
    {
     "output_type": "execute_result",
     "data": {
      "text/plain": [
       "             日期  備轉容量(萬瓩)  備轉容量率(%)\n",
       "0    2020/01/01     279.0     11.01\n",
       "1    2020/01/02     308.0     10.91\n",
       "2    2020/01/03     338.3     11.96\n",
       "3    2020/01/04     363.6     14.21\n",
       "4    2020/01/05     269.5     10.88\n",
       "..          ...       ...       ...\n",
       "345  2020/12/11     312.9     10.46\n",
       "346  2020/12/12     328.2     12.31\n",
       "347  2020/12/13     283.0     11.12\n",
       "348  2020/12/14     302.1     10.20\n",
       "349  2020/12/15     301.2     10.14\n",
       "\n",
       "[350 rows x 3 columns]"
      ],
      "text/html": "<div>\n<style scoped>\n    .dataframe tbody tr th:only-of-type {\n        vertical-align: middle;\n    }\n\n    .dataframe tbody tr th {\n        vertical-align: top;\n    }\n\n    .dataframe thead th {\n        text-align: right;\n    }\n</style>\n<table border=\"1\" class=\"dataframe\">\n  <thead>\n    <tr style=\"text-align: right;\">\n      <th></th>\n      <th>日期</th>\n      <th>備轉容量(萬瓩)</th>\n      <th>備轉容量率(%)</th>\n    </tr>\n  </thead>\n  <tbody>\n    <tr>\n      <th>0</th>\n      <td>2020/01/01</td>\n      <td>279.0</td>\n      <td>11.01</td>\n    </tr>\n    <tr>\n      <th>1</th>\n      <td>2020/01/02</td>\n      <td>308.0</td>\n      <td>10.91</td>\n    </tr>\n    <tr>\n      <th>2</th>\n      <td>2020/01/03</td>\n      <td>338.3</td>\n      <td>11.96</td>\n    </tr>\n    <tr>\n      <th>3</th>\n      <td>2020/01/04</td>\n      <td>363.6</td>\n      <td>14.21</td>\n    </tr>\n    <tr>\n      <th>4</th>\n      <td>2020/01/05</td>\n      <td>269.5</td>\n      <td>10.88</td>\n    </tr>\n    <tr>\n      <th>...</th>\n      <td>...</td>\n      <td>...</td>\n      <td>...</td>\n    </tr>\n    <tr>\n      <th>345</th>\n      <td>2020/12/11</td>\n      <td>312.9</td>\n      <td>10.46</td>\n    </tr>\n    <tr>\n      <th>346</th>\n      <td>2020/12/12</td>\n      <td>328.2</td>\n      <td>12.31</td>\n    </tr>\n    <tr>\n      <th>347</th>\n      <td>2020/12/13</td>\n      <td>283.0</td>\n      <td>11.12</td>\n    </tr>\n    <tr>\n      <th>348</th>\n      <td>2020/12/14</td>\n      <td>302.1</td>\n      <td>10.20</td>\n    </tr>\n    <tr>\n      <th>349</th>\n      <td>2020/12/15</td>\n      <td>301.2</td>\n      <td>10.14</td>\n    </tr>\n  </tbody>\n</table>\n<p>350 rows × 3 columns</p>\n</div>"
     },
     "metadata": {},
     "execution_count": 8
    }
   ],
   "source": [
    "edf1 = pandas.read_csv(os.path.join('dataset/eletricity', eletricity_files[0]))\n",
    "\n",
    "edf1"
   ]
  },
  {
   "cell_type": "code",
   "execution_count": 9,
   "metadata": {},
   "outputs": [
    {
     "output_type": "execute_result",
     "data": {
      "text/plain": [
       "            日期  備轉容量(萬瓩)  備轉容量率(%)\n",
       "0   2021/01/01     276.7     10.76\n",
       "1   2021/01/02     293.6     11.52\n",
       "2   2021/01/03     303.7     11.92\n",
       "3   2021/01/04     303.2     10.20\n",
       "4   2021/01/05     306.7     10.21\n",
       "..         ...       ...       ...\n",
       "75  2021/03/17     318.3     10.36\n",
       "76  2021/03/18     321.4     10.46\n",
       "77  2021/03/19     313.7     10.16\n",
       "78  2021/03/20     283.9     10.23\n",
       "79  2021/03/21     318.6     12.40\n",
       "\n",
       "[80 rows x 3 columns]"
      ],
      "text/html": "<div>\n<style scoped>\n    .dataframe tbody tr th:only-of-type {\n        vertical-align: middle;\n    }\n\n    .dataframe tbody tr th {\n        vertical-align: top;\n    }\n\n    .dataframe thead th {\n        text-align: right;\n    }\n</style>\n<table border=\"1\" class=\"dataframe\">\n  <thead>\n    <tr style=\"text-align: right;\">\n      <th></th>\n      <th>日期</th>\n      <th>備轉容量(萬瓩)</th>\n      <th>備轉容量率(%)</th>\n    </tr>\n  </thead>\n  <tbody>\n    <tr>\n      <th>0</th>\n      <td>2021/01/01</td>\n      <td>276.7</td>\n      <td>10.76</td>\n    </tr>\n    <tr>\n      <th>1</th>\n      <td>2021/01/02</td>\n      <td>293.6</td>\n      <td>11.52</td>\n    </tr>\n    <tr>\n      <th>2</th>\n      <td>2021/01/03</td>\n      <td>303.7</td>\n      <td>11.92</td>\n    </tr>\n    <tr>\n      <th>3</th>\n      <td>2021/01/04</td>\n      <td>303.2</td>\n      <td>10.20</td>\n    </tr>\n    <tr>\n      <th>4</th>\n      <td>2021/01/05</td>\n      <td>306.7</td>\n      <td>10.21</td>\n    </tr>\n    <tr>\n      <th>...</th>\n      <td>...</td>\n      <td>...</td>\n      <td>...</td>\n    </tr>\n    <tr>\n      <th>75</th>\n      <td>2021/03/17</td>\n      <td>318.3</td>\n      <td>10.36</td>\n    </tr>\n    <tr>\n      <th>76</th>\n      <td>2021/03/18</td>\n      <td>321.4</td>\n      <td>10.46</td>\n    </tr>\n    <tr>\n      <th>77</th>\n      <td>2021/03/19</td>\n      <td>313.7</td>\n      <td>10.16</td>\n    </tr>\n    <tr>\n      <th>78</th>\n      <td>2021/03/20</td>\n      <td>283.9</td>\n      <td>10.23</td>\n    </tr>\n    <tr>\n      <th>79</th>\n      <td>2021/03/21</td>\n      <td>318.6</td>\n      <td>12.40</td>\n    </tr>\n  </tbody>\n</table>\n<p>80 rows × 3 columns</p>\n</div>"
     },
     "metadata": {},
     "execution_count": 9
    }
   ],
   "source": [
    "edf2 = pandas.read_csv(os.path.join('dataset/eletricity', eletricity_files[1]))\n",
    "\n",
    "edf2"
   ]
  },
  {
   "cell_type": "code",
   "execution_count": 63,
   "metadata": {},
   "outputs": [
    {
     "output_type": "execute_result",
     "data": {
      "text/plain": [
       "357"
      ]
     },
     "metadata": {},
     "execution_count": 63
    }
   ],
   "source": [
    "eletricities = np.concatenate([edf1['備轉容量(萬瓩)']*10, edf2['備轉容量(萬瓩)']*10])\n",
    "len(eletricities[-357:])"
   ]
  },
  {
   "source": [
    "# Weather Data"
   ],
   "cell_type": "markdown",
   "metadata": {}
  },
  {
   "cell_type": "code",
   "execution_count": 10,
   "metadata": {},
   "outputs": [
    {
     "output_type": "execute_result",
     "data": {
      "text/plain": [
       "       Unnamed: 0          日期  locationName  當日最高溫度(°C)  當日最低溫度(°C)  \\\n",
       "0               0  2020-03-18    BANQIAO,板橋        24.1        17.0   \n",
       "1               1  2020-03-19    BANQIAO,板橋        21.9        18.3   \n",
       "2               2  2020-03-20    BANQIAO,板橋        25.2        18.7   \n",
       "3               3  2020-03-21    BANQIAO,板橋        30.1        19.4   \n",
       "4               4  2020-03-22    BANQIAO,板橋        32.0        20.8   \n",
       "...           ...         ...           ...         ...         ...   \n",
       "10947       10947  2021-03-14  TianZhong,田中        25.9        16.3   \n",
       "10948       10948  2021-03-15  TianZhong,田中        26.4        16.7   \n",
       "10949       10949  2021-03-16  TianZhong,田中        29.5        18.3   \n",
       "10950       10950  2021-03-17  TianZhong,田中        28.4        19.4   \n",
       "10951       10951  2021-03-18  TianZhong,田中        28.6        18.5   \n",
       "\n",
       "       當日平均溫度(°C)  \n",
       "0            20.3  \n",
       "1            19.7  \n",
       "2            21.7  \n",
       "3            23.9  \n",
       "4            25.2  \n",
       "...           ...  \n",
       "10947        20.3  \n",
       "10948        21.1  \n",
       "10949        23.8  \n",
       "10950        23.1  \n",
       "10951        22.1  \n",
       "\n",
       "[10952 rows x 6 columns]"
      ],
      "text/html": "<div>\n<style scoped>\n    .dataframe tbody tr th:only-of-type {\n        vertical-align: middle;\n    }\n\n    .dataframe tbody tr th {\n        vertical-align: top;\n    }\n\n    .dataframe thead th {\n        text-align: right;\n    }\n</style>\n<table border=\"1\" class=\"dataframe\">\n  <thead>\n    <tr style=\"text-align: right;\">\n      <th></th>\n      <th>Unnamed: 0</th>\n      <th>日期</th>\n      <th>locationName</th>\n      <th>當日最高溫度(°C)</th>\n      <th>當日最低溫度(°C)</th>\n      <th>當日平均溫度(°C)</th>\n    </tr>\n  </thead>\n  <tbody>\n    <tr>\n      <th>0</th>\n      <td>0</td>\n      <td>2020-03-18</td>\n      <td>BANQIAO,板橋</td>\n      <td>24.1</td>\n      <td>17.0</td>\n      <td>20.3</td>\n    </tr>\n    <tr>\n      <th>1</th>\n      <td>1</td>\n      <td>2020-03-19</td>\n      <td>BANQIAO,板橋</td>\n      <td>21.9</td>\n      <td>18.3</td>\n      <td>19.7</td>\n    </tr>\n    <tr>\n      <th>2</th>\n      <td>2</td>\n      <td>2020-03-20</td>\n      <td>BANQIAO,板橋</td>\n      <td>25.2</td>\n      <td>18.7</td>\n      <td>21.7</td>\n    </tr>\n    <tr>\n      <th>3</th>\n      <td>3</td>\n      <td>2020-03-21</td>\n      <td>BANQIAO,板橋</td>\n      <td>30.1</td>\n      <td>19.4</td>\n      <td>23.9</td>\n    </tr>\n    <tr>\n      <th>4</th>\n      <td>4</td>\n      <td>2020-03-22</td>\n      <td>BANQIAO,板橋</td>\n      <td>32.0</td>\n      <td>20.8</td>\n      <td>25.2</td>\n    </tr>\n    <tr>\n      <th>...</th>\n      <td>...</td>\n      <td>...</td>\n      <td>...</td>\n      <td>...</td>\n      <td>...</td>\n      <td>...</td>\n    </tr>\n    <tr>\n      <th>10947</th>\n      <td>10947</td>\n      <td>2021-03-14</td>\n      <td>TianZhong,田中</td>\n      <td>25.9</td>\n      <td>16.3</td>\n      <td>20.3</td>\n    </tr>\n    <tr>\n      <th>10948</th>\n      <td>10948</td>\n      <td>2021-03-15</td>\n      <td>TianZhong,田中</td>\n      <td>26.4</td>\n      <td>16.7</td>\n      <td>21.1</td>\n    </tr>\n    <tr>\n      <th>10949</th>\n      <td>10949</td>\n      <td>2021-03-16</td>\n      <td>TianZhong,田中</td>\n      <td>29.5</td>\n      <td>18.3</td>\n      <td>23.8</td>\n    </tr>\n    <tr>\n      <th>10950</th>\n      <td>10950</td>\n      <td>2021-03-17</td>\n      <td>TianZhong,田中</td>\n      <td>28.4</td>\n      <td>19.4</td>\n      <td>23.1</td>\n    </tr>\n    <tr>\n      <th>10951</th>\n      <td>10951</td>\n      <td>2021-03-18</td>\n      <td>TianZhong,田中</td>\n      <td>28.6</td>\n      <td>18.5</td>\n      <td>22.1</td>\n    </tr>\n  </tbody>\n</table>\n<p>10952 rows × 6 columns</p>\n</div>"
     },
     "metadata": {},
     "execution_count": 10
    }
   ],
   "source": [
    "wdf1 = pandas.read_csv(os.path.join('dataset/weather', weather_files[0]))\n",
    "\n",
    "wdf1"
   ]
  },
  {
   "cell_type": "code",
   "execution_count": 35,
   "metadata": {},
   "outputs": [
    {
     "output_type": "stream",
     "name": "stdout",
     "text": [
      "2020-03-18 2020-12-15\n"
     ]
    }
   ],
   "source": [
    "# eletricity data only to 2020-12-15\n",
    "dates2020 = sorted(list(set(wdf1['日期'])))[:273]\n",
    "print(dates2020[0], dates2020[-1])"
   ]
  },
  {
   "cell_type": "code",
   "execution_count": 36,
   "metadata": {},
   "outputs": [
    {
     "output_type": "stream",
     "name": "stdout",
     "text": [
      "2021-01-01 2021-03-18\n"
     ]
    }
   ],
   "source": [
    "dates2021 = sorted(list(set(wdf1['日期'])))[289:]\n",
    "print(dates2021[0], dates2021[-1])"
   ]
  },
  {
   "cell_type": "code",
   "execution_count": 40,
   "metadata": {},
   "outputs": [],
   "source": [
    "avgs_temperature = []\n",
    "for i in dates2020:\n",
    "    avgs_temperature.append(np.average(wdf1[wdf1['日期'] == i]['當日平均溫度(°C)']))\n",
    "\n",
    "for i in dates2021:\n",
    "    avgs_temperature.append(np.average(wdf1[wdf1['日期'] == i]['當日平均溫度(°C)']))\n"
   ]
  },
  {
   "cell_type": "code",
   "execution_count": 42,
   "metadata": {},
   "outputs": [
    {
     "output_type": "execute_result",
     "data": {
      "text/plain": [
       "350"
      ]
     },
     "metadata": {},
     "execution_count": 42
    }
   ],
   "source": [
    "len(avgs_temperature)"
   ]
  },
  {
   "cell_type": "code",
   "execution_count": 43,
   "metadata": {},
   "outputs": [
    {
     "output_type": "execute_result",
     "data": {
      "text/plain": [
       "   Unnamed: 0  北部地區  中部地區  南部地區\n",
       "0  2021-03-20  12.5  14.0  16.0\n",
       "1  2021-03-21   8.0  12.0  15.0\n",
       "2  2021-03-22   4.5   9.0  11.0\n",
       "3  2021-03-23   8.0  10.5  12.0\n",
       "4  2021-03-24   9.5  11.5  13.0\n",
       "5  2021-03-25  10.0  12.5  14.0\n",
       "6  2021-03-26  11.0  12.5  14.5"
      ],
      "text/html": "<div>\n<style scoped>\n    .dataframe tbody tr th:only-of-type {\n        vertical-align: middle;\n    }\n\n    .dataframe tbody tr th {\n        vertical-align: top;\n    }\n\n    .dataframe thead th {\n        text-align: right;\n    }\n</style>\n<table border=\"1\" class=\"dataframe\">\n  <thead>\n    <tr style=\"text-align: right;\">\n      <th></th>\n      <th>Unnamed: 0</th>\n      <th>北部地區</th>\n      <th>中部地區</th>\n      <th>南部地區</th>\n    </tr>\n  </thead>\n  <tbody>\n    <tr>\n      <th>0</th>\n      <td>2021-03-20</td>\n      <td>12.5</td>\n      <td>14.0</td>\n      <td>16.0</td>\n    </tr>\n    <tr>\n      <th>1</th>\n      <td>2021-03-21</td>\n      <td>8.0</td>\n      <td>12.0</td>\n      <td>15.0</td>\n    </tr>\n    <tr>\n      <th>2</th>\n      <td>2021-03-22</td>\n      <td>4.5</td>\n      <td>9.0</td>\n      <td>11.0</td>\n    </tr>\n    <tr>\n      <th>3</th>\n      <td>2021-03-23</td>\n      <td>8.0</td>\n      <td>10.5</td>\n      <td>12.0</td>\n    </tr>\n    <tr>\n      <th>4</th>\n      <td>2021-03-24</td>\n      <td>9.5</td>\n      <td>11.5</td>\n      <td>13.0</td>\n    </tr>\n    <tr>\n      <th>5</th>\n      <td>2021-03-25</td>\n      <td>10.0</td>\n      <td>12.5</td>\n      <td>14.0</td>\n    </tr>\n    <tr>\n      <th>6</th>\n      <td>2021-03-26</td>\n      <td>11.0</td>\n      <td>12.5</td>\n      <td>14.5</td>\n    </tr>\n  </tbody>\n</table>\n</div>"
     },
     "metadata": {},
     "execution_count": 43
    }
   ],
   "source": [
    "# read forcast weather data\n",
    "wdf2 = pandas.read_csv(os.path.join('dataset/weather', weather_files[1]))\n",
    "\n",
    "wdf2"
   ]
  },
  {
   "cell_type": "code",
   "execution_count": 49,
   "metadata": {},
   "outputs": [],
   "source": [
    "for i in range(len(wdf2)):\n",
    "    avgs_temperature.append(np.average(wdf2.iloc[i][1:4]))"
   ]
  },
  {
   "cell_type": "code",
   "execution_count": 50,
   "metadata": {},
   "outputs": [
    {
     "output_type": "execute_result",
     "data": {
      "text/plain": [
       "357"
      ]
     },
     "metadata": {},
     "execution_count": 50
    }
   ],
   "source": [
    "len(avgs_temperature)"
   ]
  },
  {
   "source": [
    "# dataset"
   ],
   "cell_type": "markdown",
   "metadata": {}
  },
  {
   "cell_type": "code",
   "execution_count": 59,
   "metadata": {},
   "outputs": [],
   "source": [
    "from sklearn.preprocessing import normalize\n",
    "from torch.utils.data import DataLoader\n",
    "from torch.utils.data import Dataset as BaseDataset\n"
   ]
  },
  {
   "cell_type": "code",
   "execution_count": 145,
   "metadata": {},
   "outputs": [],
   "source": [
    "\n",
    "class Dataset(BaseDataset):\n",
    "    def __init__(\n",
    "        self,\n",
    "        train_data_electricity,\n",
    "        train_data_weather,\n",
    "    ):\n",
    "        #prepare the training data and label\n",
    "        self.train_label = np.array(train_data_electricity, dtype=np.float32)\n",
    "        self.train_data_electricity = np.array(train_data_electricity,  dtype=np.float32)\n",
    "        self.train_data_weather = np.array(train_data_weather,  dtype=np.float32)\n",
    "    \n",
    "    def __getitem__(self, i):\n",
    "        x = np.concatenate([self.train_data_electricity[i:10+i],  self.train_data_weather[i:10+i]])\n",
    "        y = self.train_label[10+i:17+i]\n",
    "        \n",
    "        return x, y\n",
    "    \n",
    "    def __len__(self):\n",
    "        return len(self.train_data_electricity) - 16"
   ]
  },
  {
   "cell_type": "code",
   "execution_count": 146,
   "metadata": {},
   "outputs": [],
   "source": [
    "dataset = Dataset(train_data_electricity=eletricities[-len(avgs_temperature):-30], train_data_weather=avgs_temperature[:-30])"
   ]
  },
  {
   "cell_type": "code",
   "execution_count": 147,
   "metadata": {},
   "outputs": [
    {
     "output_type": "execute_result",
     "data": {
      "text/plain": [
       "311"
      ]
     },
     "metadata": {},
     "execution_count": 147
    }
   ],
   "source": [
    "len(dataset)"
   ]
  },
  {
   "cell_type": "code",
   "execution_count": 148,
   "metadata": {},
   "outputs": [],
   "source": [
    "x,y = dataset[1]"
   ]
  },
  {
   "cell_type": "code",
   "execution_count": 149,
   "metadata": {},
   "outputs": [
    {
     "output_type": "stream",
     "name": "stdout",
     "text": [
      "20 7\n"
     ]
    }
   ],
   "source": [
    "print(len(x), len(y))"
   ]
  },
  {
   "cell_type": "code",
   "execution_count": 150,
   "metadata": {},
   "outputs": [],
   "source": [
    "x,y = dataset[len(dataset)-1]"
   ]
  },
  {
   "cell_type": "code",
   "execution_count": 151,
   "metadata": {},
   "outputs": [
    {
     "output_type": "execute_result",
     "data": {
      "text/plain": [
       "array([3024., 2911., 2645., 3002., 2824., 2907., 2885.], dtype=float32)"
      ]
     },
     "metadata": {},
     "execution_count": 151
    }
   ],
   "source": [
    "y"
   ]
  },
  {
   "source": [
    "# Model"
   ],
   "cell_type": "markdown",
   "metadata": {}
  },
  {
   "cell_type": "code",
   "execution_count": 152,
   "metadata": {},
   "outputs": [],
   "source": [
    "import torch\n",
    "import torch.nn as nn"
   ]
  },
  {
   "cell_type": "code",
   "execution_count": 158,
   "metadata": {},
   "outputs": [],
   "source": [
    "class LinearModel(nn.Module):\n",
    "    def __init__(self):\n",
    "        super(LinearModel,self).__init__()\n",
    "        \n",
    "        self.fc0 = nn.Linear(20, 128)\n",
    "        self.fc1 = nn.Linear(128, 512)\n",
    "        self.fc2 = nn.Linear(512, 128)\n",
    "        self.fc = nn.Linear(128, 7)\n",
    "        self.flatten = nn.Flatten()\n",
    "        \n",
    "        self.relu = nn.ReLU()\n",
    "        \n",
    "    def forward(self, x):\n",
    "        x = self.fc0(x)\n",
    "        x = self.relu(x)\n",
    "        x = self.fc1(x)\n",
    "        x = self.relu(x)\n",
    "        x = self.fc2(x)\n",
    "        x = self.relu(x)\n",
    "        x = self.fc(x)\n",
    "        \n",
    "        return x"
   ]
  },
  {
   "cell_type": "code",
   "execution_count": 159,
   "metadata": {},
   "outputs": [],
   "source": [
    "linear = LinearModel()"
   ]
  },
  {
   "cell_type": "code",
   "execution_count": 160,
   "metadata": {},
   "outputs": [],
   "source": [
    "x,y = dataset[0]\n",
    "x = torch.tensor(x, dtype=torch.float).unsqueeze(dim=0)\n",
    "y = torch.tensor(y, dtype=torch.float).unsqueeze(dim=0)"
   ]
  },
  {
   "cell_type": "code",
   "execution_count": 161,
   "metadata": {},
   "outputs": [
    {
     "output_type": "execute_result",
     "data": {
      "text/plain": [
       "LinearModel(\n",
       "  (fc0): Linear(in_features=20, out_features=128, bias=True)\n",
       "  (fc1): Linear(in_features=128, out_features=512, bias=True)\n",
       "  (fc2): Linear(in_features=512, out_features=128, bias=True)\n",
       "  (fc): Linear(in_features=128, out_features=7, bias=True)\n",
       "  (flatten): Flatten(start_dim=1, end_dim=-1)\n",
       "  (relu): ReLU()\n",
       ")"
      ]
     },
     "metadata": {},
     "execution_count": 161
    }
   ],
   "source": [
    "linear.cuda()"
   ]
  },
  {
   "cell_type": "code",
   "execution_count": 162,
   "metadata": {},
   "outputs": [
    {
     "output_type": "execute_result",
     "data": {
      "text/plain": [
       "tensor([[-73.3358, 101.7850, -20.8268,   9.3922,  17.2271, -37.2161, -41.4122]],\n",
       "       device='cuda:0', grad_fn=<AddmmBackward>)"
      ]
     },
     "metadata": {},
     "execution_count": 162
    }
   ],
   "source": [
    "linear(x.cuda())"
   ]
  },
  {
   "source": [
    "# Training"
   ],
   "cell_type": "markdown",
   "metadata": {}
  },
  {
   "cell_type": "code",
   "execution_count": 163,
   "metadata": {},
   "outputs": [],
   "source": [
    "loss = torch.nn.MSELoss(reduction='mean')"
   ]
  },
  {
   "cell_type": "code",
   "execution_count": 164,
   "metadata": {},
   "outputs": [
    {
     "output_type": "execute_result",
     "data": {
      "text/plain": [
       "LinearModel(\n",
       "  (fc0): Linear(in_features=20, out_features=128, bias=True)\n",
       "  (fc1): Linear(in_features=128, out_features=512, bias=True)\n",
       "  (fc2): Linear(in_features=512, out_features=128, bias=True)\n",
       "  (fc): Linear(in_features=128, out_features=7, bias=True)\n",
       "  (flatten): Flatten(start_dim=1, end_dim=-1)\n",
       "  (relu): ReLU()\n",
       ")"
      ]
     },
     "metadata": {},
     "execution_count": 164
    }
   ],
   "source": [
    "linear = LinearModel()\n",
    "linear.cuda()"
   ]
  },
  {
   "cell_type": "code",
   "execution_count": 165,
   "metadata": {},
   "outputs": [],
   "source": [
    "optimizer = torch.optim.Adam([\n",
    "    dict(params=linear.parameters(), lr=4e-4),\n",
    "])"
   ]
  },
  {
   "cell_type": "code",
   "execution_count": 166,
   "metadata": {},
   "outputs": [],
   "source": [
    "dataset = Dataset(train_data_electricity=eletricities[-len(avgs_temperature):-30], train_data_weather=avgs_temperature[:-30])"
   ]
  },
  {
   "cell_type": "code",
   "execution_count": 167,
   "metadata": {},
   "outputs": [],
   "source": [
    "from tqdm import tqdm "
   ]
  },
  {
   "cell_type": "code",
   "execution_count": 168,
   "metadata": {},
   "outputs": [],
   "source": [
    "from torch.utils.data import DataLoader\n",
    "\n",
    "\n",
    "train_loaders = torch.utils.data.DataLoader(dataset, batch_size=64, shuffle=False, num_workers=8)"
   ]
  },
  {
   "cell_type": "code",
   "execution_count": 171,
   "metadata": {},
   "outputs": [
    {
     "output_type": "stream",
     "name": "stdout",
     "text": [
      "Epoch: 0 Training Loss: 1169604.82421875\n",
      "Epoch: 1 Training Loss: 1168513.509765625\n",
      "Epoch: 2 Training Loss: 1167562.662109375\n",
      "Epoch: 3 Training Loss: 1166563.779296875\n",
      "Epoch: 4 Training Loss: 1165458.1484375\n",
      "Epoch: 5 Training Loss: 1164454.646484375\n",
      "Epoch: 6 Training Loss: 1163617.271484375\n",
      "Epoch: 7 Training Loss: 1162810.853515625\n",
      "Epoch: 8 Training Loss: 1162061.439453125\n",
      "Epoch: 9 Training Loss: 1161267.658203125\n",
      "Epoch: 10 Training Loss: 1160455.908203125\n",
      "Epoch: 11 Training Loss: 1159824.572265625\n",
      "Epoch: 12 Training Loss: 1159187.06640625\n",
      "Epoch: 13 Training Loss: 1158603.19921875\n",
      "Epoch: 14 Training Loss: 1157744.583984375\n",
      "Epoch: 15 Training Loss: 1157230.626953125\n",
      "Epoch: 16 Training Loss: 1156709.26171875\n",
      "Epoch: 17 Training Loss: 1156079.591796875\n",
      "Epoch: 18 Training Loss: 1155536.05859375\n",
      "Epoch: 19 Training Loss: 1154992.169921875\n",
      "Epoch: 20 Training Loss: 1154465.349609375\n",
      "Epoch: 21 Training Loss: 1153903.15234375\n",
      "Epoch: 22 Training Loss: 1153349.498046875\n",
      "Epoch: 23 Training Loss: 1152781.125\n",
      "Epoch: 24 Training Loss: 1152255.6875\n",
      "Epoch: 25 Training Loss: 1151714.3984375\n",
      "Epoch: 26 Training Loss: 1151147.4140625\n",
      "Epoch: 27 Training Loss: 1150543.873046875\n",
      "Epoch: 28 Training Loss: 1150322.65234375\n",
      "Epoch: 29 Training Loss: 1149572.193359375\n",
      "Epoch: 30 Training Loss: 1149179.17578125\n",
      "Epoch: 31 Training Loss: 1148624.30859375\n",
      "Epoch: 32 Training Loss: 1148318.232421875\n",
      "Epoch: 33 Training Loss: 1147909.798828125\n",
      "Epoch: 34 Training Loss: 1147391.94921875\n",
      "Epoch: 35 Training Loss: 1147006.32421875\n",
      "Epoch: 36 Training Loss: 1146657.6328125\n",
      "Epoch: 37 Training Loss: 1146218.724609375\n",
      "Epoch: 38 Training Loss: 1145837.814453125\n",
      "Epoch: 39 Training Loss: 1145432.98828125\n",
      "Epoch: 40 Training Loss: 1145043.939453125\n",
      "Epoch: 41 Training Loss: 1144666.5859375\n",
      "Epoch: 42 Training Loss: 1144355.609375\n",
      "Epoch: 43 Training Loss: 1143925.662109375\n",
      "Epoch: 44 Training Loss: 1143549.533203125\n",
      "Epoch: 45 Training Loss: 1143235.849609375\n",
      "Epoch: 46 Training Loss: 1142846.9140625\n",
      "Epoch: 47 Training Loss: 1142470.501953125\n",
      "Epoch: 48 Training Loss: 1142276.916015625\n",
      "Epoch: 49 Training Loss: 1141785.06640625\n",
      "Epoch: 50 Training Loss: 1141451.8515625\n",
      "Epoch: 51 Training Loss: 1141257.078125\n",
      "Epoch: 52 Training Loss: 1140775.921875\n",
      "Epoch: 53 Training Loss: 1140391.732421875\n",
      "Epoch: 54 Training Loss: 1140216.3359375\n",
      "Epoch: 55 Training Loss: 1139889.6171875\n",
      "Epoch: 56 Training Loss: 1139435.513671875\n",
      "Epoch: 57 Training Loss: 1139185.423828125\n",
      "Epoch: 58 Training Loss: 1138943.91796875\n",
      "Epoch: 59 Training Loss: 1138565.080078125\n",
      "Epoch: 60 Training Loss: 1138201.17578125\n",
      "Epoch: 61 Training Loss: 1138037.845703125\n",
      "Epoch: 62 Training Loss: 1137709.662109375\n",
      "Epoch: 63 Training Loss: 1137377.978515625\n",
      "Epoch: 64 Training Loss: 1137088.40234375\n",
      "Epoch: 65 Training Loss: 1136758.55859375\n",
      "Epoch: 66 Training Loss: 1136621.1328125\n",
      "Epoch: 67 Training Loss: 1136198.357421875\n",
      "Epoch: 68 Training Loss: 1135906.43359375\n",
      "Epoch: 69 Training Loss: 1135825.80859375\n",
      "Epoch: 70 Training Loss: 1135336.30078125\n",
      "Epoch: 71 Training Loss: 1135182.044921875\n",
      "Epoch: 72 Training Loss: 1134892.220703125\n",
      "Epoch: 73 Training Loss: 1134692.072265625\n",
      "Epoch: 74 Training Loss: 1134404.72265625\n",
      "Epoch: 75 Training Loss: 1134066.66796875\n",
      "Epoch: 76 Training Loss: 1133961.20703125\n",
      "Epoch: 77 Training Loss: 1133607.6484375\n",
      "Epoch: 78 Training Loss: 1133401.5546875\n",
      "Epoch: 79 Training Loss: 1133209.966796875\n",
      "Epoch: 80 Training Loss: 1133049.15625\n",
      "Epoch: 81 Training Loss: 1132595.97265625\n",
      "Epoch: 82 Training Loss: 1132548.58203125\n",
      "Epoch: 83 Training Loss: 1132217.908203125\n",
      "Epoch: 84 Training Loss: 1132036.685546875\n",
      "Epoch: 85 Training Loss: 1131815.89453125\n",
      "Epoch: 86 Training Loss: 1131553.130859375\n",
      "Epoch: 87 Training Loss: 1131402.73828125\n",
      "Epoch: 88 Training Loss: 1131141.0390625\n",
      "Epoch: 89 Training Loss: 1130922.400390625\n",
      "Epoch: 90 Training Loss: 1130791.818359375\n",
      "Epoch: 91 Training Loss: 1130428.93359375\n",
      "Epoch: 92 Training Loss: 1130458.017578125\n",
      "Epoch: 93 Training Loss: 1130002.58984375\n",
      "Epoch: 94 Training Loss: 1129918.1953125\n",
      "Epoch: 95 Training Loss: 1129648.830078125\n",
      "Epoch: 96 Training Loss: 1129400.64453125\n",
      "Epoch: 97 Training Loss: 1129296.970703125\n",
      "Epoch: 98 Training Loss: 1129039.169921875\n",
      "Epoch: 99 Training Loss: 1128905.650390625\n"
     ]
    }
   ],
   "source": [
    "# train model for N epochs\n",
    "max_valid_score = 0\n",
    "EPOCH = 100\n",
    "for epoch in range(EPOCH):\n",
    "\n",
    "    torch.cuda.empty_cache()\n",
    "\n",
    "    total_loss = 0\n",
    "    for x, y in train_loaders:\n",
    "        optimizer.zero_grad()     #optimizer gradient to zero\n",
    "\n",
    "        # Get data\n",
    "#         x, y = dataset[i]\n",
    "        x = x.float().cuda()\n",
    "        y = y.float().cuda()\n",
    "        \n",
    "        # Train \n",
    "\n",
    "        ## 1. forward propagationreal_labels\n",
    "        ## -----------------------\n",
    "\n",
    "        pred = linear(x)\n",
    "\n",
    "        ## 2. loss calculation\n",
    "        ## -----------------------\n",
    "        _loss = loss(pred, y)\n",
    "        \n",
    "        # track loss\n",
    "        total_loss += _loss.item()\n",
    "\n",
    "        ## 3. backward propagation\n",
    "        ## -----------------------\n",
    "        _loss.backward()     \n",
    "\n",
    "\n",
    "        ## 4. weight optimization\n",
    "        ## -----------------------        \n",
    "        optimizer.step()\n",
    "\n",
    "\n",
    "#     if epoch %100 == 0:\n",
    "    print(\"Epoch:\", epoch, \"Training Loss: {}\".format(total_loss) )\n",
    "        \n",
    "    total_loss = 0\n",
    "\n"
   ]
  },
  {
   "source": [
    "# test"
   ],
   "cell_type": "markdown",
   "metadata": {}
  },
  {
   "cell_type": "code",
   "execution_count": 172,
   "metadata": {},
   "outputs": [],
   "source": [
    "x, y = dataset[10]\n",
    "x = torch.tensor(x, dtype=torch.float).unsqueeze(dim=0).cuda()\n",
    "y = torch.tensor(y, dtype=torch.float).cuda()"
   ]
  },
  {
   "cell_type": "code",
   "execution_count": 173,
   "metadata": {},
   "outputs": [
    {
     "output_type": "execute_result",
     "data": {
      "text/plain": [
       "tensor([[3842.8369, 3797.4343, 3799.5398, 3777.7070, 3741.4758, 3742.0996,\n",
       "         3736.3337]], device='cuda:0', grad_fn=<AddmmBackward>)"
      ]
     },
     "metadata": {},
     "execution_count": 173
    }
   ],
   "source": [
    "pred = linear(x)\n",
    "pred"
   ]
  },
  {
   "cell_type": "code",
   "execution_count": 174,
   "metadata": {},
   "outputs": [
    {
     "output_type": "execute_result",
     "data": {
      "text/plain": [
       "tensor([3749., 4414., 4249., 4054., 4037., 3364., 3678.], device='cuda:0')"
      ]
     },
     "metadata": {},
     "execution_count": 174
    }
   ],
   "source": [
    "y"
   ]
  },
  {
   "cell_type": "code",
   "execution_count": 175,
   "metadata": {},
   "outputs": [
    {
     "output_type": "stream",
     "name": "stderr",
     "text": [
      "/home/jeff/anaconda3/envs/work/lib/python3.6/site-packages/torch/nn/modules/loss.py:446: UserWarning: Using a target size (torch.Size([7])) that is different to the input size (torch.Size([1, 7])). This will likely lead to incorrect results due to broadcasting. Please ensure they have the same size.\n  return F.mse_loss(input, target, reduction=self.reduction)\n"
     ]
    },
    {
     "output_type": "execute_result",
     "data": {
      "text/plain": [
       "tensor(128715.3594, device='cuda:0', grad_fn=<MseLossBackward>)"
      ]
     },
     "metadata": {},
     "execution_count": 175
    }
   ],
   "source": [
    "loss(pred, y)"
   ]
  },
  {
   "cell_type": "code",
   "execution_count": 202,
   "metadata": {},
   "outputs": [],
   "source": [
    "testset = Dataset(train_data_electricity=eletricities[-60:], train_data_weather=avgs_temperature[-60:])"
   ]
  },
  {
   "cell_type": "code",
   "execution_count": 203,
   "metadata": {},
   "outputs": [],
   "source": [
    "test_loaders = torch.utils.data.DataLoader(testset, batch_size=1, shuffle=False, num_workers=1)"
   ]
  },
  {
   "cell_type": "code",
   "execution_count": 204,
   "metadata": {},
   "outputs": [],
   "source": [
    "x_collect = []\n",
    "pred_collect = []"
   ]
  },
  {
   "cell_type": "code",
   "execution_count": 205,
   "metadata": {},
   "outputs": [
    {
     "output_type": "stream",
     "name": "stderr",
     "text": [
      "100%|██████████| 44/44 [00:00<00:00, 296.70it/s]Epoch: 99 Training Loss: 1249794.3388671875\n",
      "\n"
     ]
    }
   ],
   "source": [
    "# train model for N epochs\n",
    "max_valid_score = 0\n",
    "\n",
    "total_loss = 0\n",
    "for x, y in tqdm(test_loaders):\n",
    "    # Get data\n",
    "#         x, y = dataset[i]\n",
    "#     x = torch.tensor(x, dtype=torch.float).unsqueeze(dim=1).cuda()\n",
    "#     y = torch.tensor(y, dtype=torch.float).cuda()\n",
    "    x = x.float().cuda()\n",
    "    y = y.float().cuda()\n",
    "\n",
    "    # Train \n",
    "\n",
    "    ## 1. forward propagationreal_labels\n",
    "    ## -----------------------\n",
    "\n",
    "    pred = linear(x)\n",
    "\n",
    "    ## 2. loss calculation\n",
    "    ## -----------------------\n",
    "    _loss = loss(pred, y)\n",
    "    \n",
    "    for j in pred.detach().cpu().numpy():\n",
    "        pred_collect.append(j[0])\n",
    "        # pred_collect.append(j)\n",
    "\n",
    "    for j in x.detach().cpu().numpy():\n",
    "        x_collect.append(j[6])\n",
    "\n",
    "\n",
    "    # track loss\n",
    "    total_loss += _loss.item()\n",
    "\n",
    "\n",
    "#     if epoch %100 == 0:\n",
    "print(\"Epoch:\", epoch, \"Training Loss: {}\".format(total_loss) )\n",
    "        \n",
    "\n"
   ]
  },
  {
   "cell_type": "code",
   "execution_count": 206,
   "metadata": {},
   "outputs": [],
   "source": [
    "import matplotlib.pyplot as plt"
   ]
  },
  {
   "cell_type": "code",
   "execution_count": 207,
   "metadata": {},
   "outputs": [
    {
     "output_type": "display_data",
     "data": {
      "text/plain": "<Figure size 432x288 with 1 Axes>",
      "image/svg+xml": "<?xml version=\"1.0\" encoding=\"utf-8\" standalone=\"no\"?>\n<!DOCTYPE svg PUBLIC \"-//W3C//DTD SVG 1.1//EN\"\n  \"http://www.w3.org/Graphics/SVG/1.1/DTD/svg11.dtd\">\n<!-- Created with matplotlib (https://matplotlib.org/) -->\n<svg height=\"263.63625pt\" version=\"1.1\" viewBox=\"0 0 381.65 263.63625\" width=\"381.65pt\" xmlns=\"http://www.w3.org/2000/svg\" xmlns:xlink=\"http://www.w3.org/1999/xlink\">\n <metadata>\n  <rdf:RDF xmlns:cc=\"http://creativecommons.org/ns#\" xmlns:dc=\"http://purl.org/dc/elements/1.1/\" xmlns:rdf=\"http://www.w3.org/1999/02/22-rdf-syntax-ns#\">\n   <cc:Work>\n    <dc:type rdf:resource=\"http://purl.org/dc/dcmitype/StillImage\"/>\n    <dc:date>2021-03-22T11:36:09.128390</dc:date>\n    <dc:format>image/svg+xml</dc:format>\n    <dc:creator>\n     <cc:Agent>\n      <dc:title>Matplotlib v3.3.3, https://matplotlib.org/</dc:title>\n     </cc:Agent>\n    </dc:creator>\n   </cc:Work>\n  </rdf:RDF>\n </metadata>\n <defs>\n  <style type=\"text/css\">*{stroke-linecap:butt;stroke-linejoin:round;}</style>\n </defs>\n <g id=\"figure_1\">\n  <g id=\"patch_1\">\n   <path d=\"M -0 263.63625 \nL 381.65 263.63625 \nL 381.65 0 \nL -0 0 \nz\n\" style=\"fill:none;\"/>\n  </g>\n  <g id=\"axes_1\">\n   <g id=\"patch_2\">\n    <path d=\"M 39.65 239.758125 \nL 374.45 239.758125 \nL 374.45 22.318125 \nL 39.65 22.318125 \nz\n\" style=\"fill:#ffffff;\"/>\n   </g>\n   <g id=\"matplotlib.axis_1\">\n    <g id=\"xtick_1\">\n     <g id=\"line2d_1\">\n      <defs>\n       <path d=\"M 0 0 \nL 0 3.5 \n\" id=\"m6d30fe8c4c\" style=\"stroke:#000000;stroke-width:0.8;\"/>\n      </defs>\n      <g>\n       <use style=\"stroke:#000000;stroke-width:0.8;\" x=\"54.868182\" xlink:href=\"#m6d30fe8c4c\" y=\"239.758125\"/>\n      </g>\n     </g>\n     <g id=\"text_1\">\n      <!-- 0 -->\n      <g transform=\"translate(51.686932 254.356563)scale(0.1 -0.1)\">\n       <defs>\n        <path d=\"M 31.78125 66.40625 \nQ 24.171875 66.40625 20.328125 58.90625 \nQ 16.5 51.421875 16.5 36.375 \nQ 16.5 21.390625 20.328125 13.890625 \nQ 24.171875 6.390625 31.78125 6.390625 \nQ 39.453125 6.390625 43.28125 13.890625 \nQ 47.125 21.390625 47.125 36.375 \nQ 47.125 51.421875 43.28125 58.90625 \nQ 39.453125 66.40625 31.78125 66.40625 \nz\nM 31.78125 74.21875 \nQ 44.046875 74.21875 50.515625 64.515625 \nQ 56.984375 54.828125 56.984375 36.375 \nQ 56.984375 17.96875 50.515625 8.265625 \nQ 44.046875 -1.421875 31.78125 -1.421875 \nQ 19.53125 -1.421875 13.0625 8.265625 \nQ 6.59375 17.96875 6.59375 36.375 \nQ 6.59375 54.828125 13.0625 64.515625 \nQ 19.53125 74.21875 31.78125 74.21875 \nz\n\" id=\"DejaVuSans-48\"/>\n       </defs>\n       <use xlink:href=\"#DejaVuSans-48\"/>\n      </g>\n     </g>\n    </g>\n    <g id=\"xtick_2\">\n     <g id=\"line2d_2\">\n      <g>\n       <use style=\"stroke:#000000;stroke-width:0.8;\" x=\"125.650423\" xlink:href=\"#m6d30fe8c4c\" y=\"239.758125\"/>\n      </g>\n     </g>\n     <g id=\"text_2\">\n      <!-- 10 -->\n      <g transform=\"translate(119.287923 254.356563)scale(0.1 -0.1)\">\n       <defs>\n        <path d=\"M 12.40625 8.296875 \nL 28.515625 8.296875 \nL 28.515625 63.921875 \nL 10.984375 60.40625 \nL 10.984375 69.390625 \nL 28.421875 72.90625 \nL 38.28125 72.90625 \nL 38.28125 8.296875 \nL 54.390625 8.296875 \nL 54.390625 0 \nL 12.40625 0 \nz\n\" id=\"DejaVuSans-49\"/>\n       </defs>\n       <use xlink:href=\"#DejaVuSans-49\"/>\n       <use x=\"63.623047\" xlink:href=\"#DejaVuSans-48\"/>\n      </g>\n     </g>\n    </g>\n    <g id=\"xtick_3\">\n     <g id=\"line2d_3\">\n      <g>\n       <use style=\"stroke:#000000;stroke-width:0.8;\" x=\"196.432664\" xlink:href=\"#m6d30fe8c4c\" y=\"239.758125\"/>\n      </g>\n     </g>\n     <g id=\"text_3\">\n      <!-- 20 -->\n      <g transform=\"translate(190.070164 254.356563)scale(0.1 -0.1)\">\n       <defs>\n        <path d=\"M 19.1875 8.296875 \nL 53.609375 8.296875 \nL 53.609375 0 \nL 7.328125 0 \nL 7.328125 8.296875 \nQ 12.9375 14.109375 22.625 23.890625 \nQ 32.328125 33.6875 34.8125 36.53125 \nQ 39.546875 41.84375 41.421875 45.53125 \nQ 43.3125 49.21875 43.3125 52.78125 \nQ 43.3125 58.59375 39.234375 62.25 \nQ 35.15625 65.921875 28.609375 65.921875 \nQ 23.96875 65.921875 18.8125 64.3125 \nQ 13.671875 62.703125 7.8125 59.421875 \nL 7.8125 69.390625 \nQ 13.765625 71.78125 18.9375 73 \nQ 24.125 74.21875 28.421875 74.21875 \nQ 39.75 74.21875 46.484375 68.546875 \nQ 53.21875 62.890625 53.21875 53.421875 \nQ 53.21875 48.921875 51.53125 44.890625 \nQ 49.859375 40.875 45.40625 35.40625 \nQ 44.1875 33.984375 37.640625 27.21875 \nQ 31.109375 20.453125 19.1875 8.296875 \nz\n\" id=\"DejaVuSans-50\"/>\n       </defs>\n       <use xlink:href=\"#DejaVuSans-50\"/>\n       <use x=\"63.623047\" xlink:href=\"#DejaVuSans-48\"/>\n      </g>\n     </g>\n    </g>\n    <g id=\"xtick_4\">\n     <g id=\"line2d_4\">\n      <g>\n       <use style=\"stroke:#000000;stroke-width:0.8;\" x=\"267.214905\" xlink:href=\"#m6d30fe8c4c\" y=\"239.758125\"/>\n      </g>\n     </g>\n     <g id=\"text_4\">\n      <!-- 30 -->\n      <g transform=\"translate(260.852405 254.356563)scale(0.1 -0.1)\">\n       <defs>\n        <path d=\"M 40.578125 39.3125 \nQ 47.65625 37.796875 51.625 33 \nQ 55.609375 28.21875 55.609375 21.1875 \nQ 55.609375 10.40625 48.1875 4.484375 \nQ 40.765625 -1.421875 27.09375 -1.421875 \nQ 22.515625 -1.421875 17.65625 -0.515625 \nQ 12.796875 0.390625 7.625 2.203125 \nL 7.625 11.71875 \nQ 11.71875 9.328125 16.59375 8.109375 \nQ 21.484375 6.890625 26.8125 6.890625 \nQ 36.078125 6.890625 40.9375 10.546875 \nQ 45.796875 14.203125 45.796875 21.1875 \nQ 45.796875 27.640625 41.28125 31.265625 \nQ 36.765625 34.90625 28.71875 34.90625 \nL 20.21875 34.90625 \nL 20.21875 43.015625 \nL 29.109375 43.015625 \nQ 36.375 43.015625 40.234375 45.921875 \nQ 44.09375 48.828125 44.09375 54.296875 \nQ 44.09375 59.90625 40.109375 62.90625 \nQ 36.140625 65.921875 28.71875 65.921875 \nQ 24.65625 65.921875 20.015625 65.03125 \nQ 15.375 64.15625 9.8125 62.3125 \nL 9.8125 71.09375 \nQ 15.4375 72.65625 20.34375 73.4375 \nQ 25.25 74.21875 29.59375 74.21875 \nQ 40.828125 74.21875 47.359375 69.109375 \nQ 53.90625 64.015625 53.90625 55.328125 \nQ 53.90625 49.265625 50.4375 45.09375 \nQ 46.96875 40.921875 40.578125 39.3125 \nz\n\" id=\"DejaVuSans-51\"/>\n       </defs>\n       <use xlink:href=\"#DejaVuSans-51\"/>\n       <use x=\"63.623047\" xlink:href=\"#DejaVuSans-48\"/>\n      </g>\n     </g>\n    </g>\n    <g id=\"xtick_5\">\n     <g id=\"line2d_5\">\n      <g>\n       <use style=\"stroke:#000000;stroke-width:0.8;\" x=\"337.997146\" xlink:href=\"#m6d30fe8c4c\" y=\"239.758125\"/>\n      </g>\n     </g>\n     <g id=\"text_5\">\n      <!-- 40 -->\n      <g transform=\"translate(331.634646 254.356563)scale(0.1 -0.1)\">\n       <defs>\n        <path d=\"M 37.796875 64.3125 \nL 12.890625 25.390625 \nL 37.796875 25.390625 \nz\nM 35.203125 72.90625 \nL 47.609375 72.90625 \nL 47.609375 25.390625 \nL 58.015625 25.390625 \nL 58.015625 17.1875 \nL 47.609375 17.1875 \nL 47.609375 0 \nL 37.796875 0 \nL 37.796875 17.1875 \nL 4.890625 17.1875 \nL 4.890625 26.703125 \nz\n\" id=\"DejaVuSans-52\"/>\n       </defs>\n       <use xlink:href=\"#DejaVuSans-52\"/>\n       <use x=\"63.623047\" xlink:href=\"#DejaVuSans-48\"/>\n      </g>\n     </g>\n    </g>\n   </g>\n   <g id=\"matplotlib.axis_2\">\n    <g id=\"ytick_1\">\n     <g id=\"line2d_6\">\n      <defs>\n       <path d=\"M 0 0 \nL -3.5 0 \n\" id=\"m5aa8938c9f\" style=\"stroke:#000000;stroke-width:0.8;\"/>\n      </defs>\n      <g>\n       <use style=\"stroke:#000000;stroke-width:0.8;\" x=\"39.65\" xlink:href=\"#m5aa8938c9f\" y=\"216.318379\"/>\n      </g>\n     </g>\n     <g id=\"text_6\">\n      <!-- 2700 -->\n      <g transform=\"translate(7.2 220.117598)scale(0.1 -0.1)\">\n       <defs>\n        <path d=\"M 8.203125 72.90625 \nL 55.078125 72.90625 \nL 55.078125 68.703125 \nL 28.609375 0 \nL 18.3125 0 \nL 43.21875 64.59375 \nL 8.203125 64.59375 \nz\n\" id=\"DejaVuSans-55\"/>\n       </defs>\n       <use xlink:href=\"#DejaVuSans-50\"/>\n       <use x=\"63.623047\" xlink:href=\"#DejaVuSans-55\"/>\n       <use x=\"127.246094\" xlink:href=\"#DejaVuSans-48\"/>\n       <use x=\"190.869141\" xlink:href=\"#DejaVuSans-48\"/>\n      </g>\n     </g>\n    </g>\n    <g id=\"ytick_2\">\n     <g id=\"line2d_7\">\n      <g>\n       <use style=\"stroke:#000000;stroke-width:0.8;\" x=\"39.65\" xlink:href=\"#m5aa8938c9f\" y=\"191.670907\"/>\n      </g>\n     </g>\n     <g id=\"text_7\">\n      <!-- 2800 -->\n      <g transform=\"translate(7.2 195.470125)scale(0.1 -0.1)\">\n       <defs>\n        <path d=\"M 31.78125 34.625 \nQ 24.75 34.625 20.71875 30.859375 \nQ 16.703125 27.09375 16.703125 20.515625 \nQ 16.703125 13.921875 20.71875 10.15625 \nQ 24.75 6.390625 31.78125 6.390625 \nQ 38.8125 6.390625 42.859375 10.171875 \nQ 46.921875 13.96875 46.921875 20.515625 \nQ 46.921875 27.09375 42.890625 30.859375 \nQ 38.875 34.625 31.78125 34.625 \nz\nM 21.921875 38.8125 \nQ 15.578125 40.375 12.03125 44.71875 \nQ 8.5 49.078125 8.5 55.328125 \nQ 8.5 64.0625 14.71875 69.140625 \nQ 20.953125 74.21875 31.78125 74.21875 \nQ 42.671875 74.21875 48.875 69.140625 \nQ 55.078125 64.0625 55.078125 55.328125 \nQ 55.078125 49.078125 51.53125 44.71875 \nQ 48 40.375 41.703125 38.8125 \nQ 48.828125 37.15625 52.796875 32.3125 \nQ 56.78125 27.484375 56.78125 20.515625 \nQ 56.78125 9.90625 50.3125 4.234375 \nQ 43.84375 -1.421875 31.78125 -1.421875 \nQ 19.734375 -1.421875 13.25 4.234375 \nQ 6.78125 9.90625 6.78125 20.515625 \nQ 6.78125 27.484375 10.78125 32.3125 \nQ 14.796875 37.15625 21.921875 38.8125 \nz\nM 18.3125 54.390625 \nQ 18.3125 48.734375 21.84375 45.5625 \nQ 25.390625 42.390625 31.78125 42.390625 \nQ 38.140625 42.390625 41.71875 45.5625 \nQ 45.3125 48.734375 45.3125 54.390625 \nQ 45.3125 60.0625 41.71875 63.234375 \nQ 38.140625 66.40625 31.78125 66.40625 \nQ 25.390625 66.40625 21.84375 63.234375 \nQ 18.3125 60.0625 18.3125 54.390625 \nz\n\" id=\"DejaVuSans-56\"/>\n       </defs>\n       <use xlink:href=\"#DejaVuSans-50\"/>\n       <use x=\"63.623047\" xlink:href=\"#DejaVuSans-56\"/>\n       <use x=\"127.246094\" xlink:href=\"#DejaVuSans-48\"/>\n       <use x=\"190.869141\" xlink:href=\"#DejaVuSans-48\"/>\n      </g>\n     </g>\n    </g>\n    <g id=\"ytick_3\">\n     <g id=\"line2d_8\">\n      <g>\n       <use style=\"stroke:#000000;stroke-width:0.8;\" x=\"39.65\" xlink:href=\"#m5aa8938c9f\" y=\"167.023434\"/>\n      </g>\n     </g>\n     <g id=\"text_8\">\n      <!-- 2900 -->\n      <g transform=\"translate(7.2 170.822653)scale(0.1 -0.1)\">\n       <defs>\n        <path d=\"M 10.984375 1.515625 \nL 10.984375 10.5 \nQ 14.703125 8.734375 18.5 7.8125 \nQ 22.3125 6.890625 25.984375 6.890625 \nQ 35.75 6.890625 40.890625 13.453125 \nQ 46.046875 20.015625 46.78125 33.40625 \nQ 43.953125 29.203125 39.59375 26.953125 \nQ 35.25 24.703125 29.984375 24.703125 \nQ 19.046875 24.703125 12.671875 31.3125 \nQ 6.296875 37.9375 6.296875 49.421875 \nQ 6.296875 60.640625 12.9375 67.421875 \nQ 19.578125 74.21875 30.609375 74.21875 \nQ 43.265625 74.21875 49.921875 64.515625 \nQ 56.59375 54.828125 56.59375 36.375 \nQ 56.59375 19.140625 48.40625 8.859375 \nQ 40.234375 -1.421875 26.421875 -1.421875 \nQ 22.703125 -1.421875 18.890625 -0.6875 \nQ 15.09375 0.046875 10.984375 1.515625 \nz\nM 30.609375 32.421875 \nQ 37.25 32.421875 41.125 36.953125 \nQ 45.015625 41.5 45.015625 49.421875 \nQ 45.015625 57.28125 41.125 61.84375 \nQ 37.25 66.40625 30.609375 66.40625 \nQ 23.96875 66.40625 20.09375 61.84375 \nQ 16.21875 57.28125 16.21875 49.421875 \nQ 16.21875 41.5 20.09375 36.953125 \nQ 23.96875 32.421875 30.609375 32.421875 \nz\n\" id=\"DejaVuSans-57\"/>\n       </defs>\n       <use xlink:href=\"#DejaVuSans-50\"/>\n       <use x=\"63.623047\" xlink:href=\"#DejaVuSans-57\"/>\n       <use x=\"127.246094\" xlink:href=\"#DejaVuSans-48\"/>\n       <use x=\"190.869141\" xlink:href=\"#DejaVuSans-48\"/>\n      </g>\n     </g>\n    </g>\n    <g id=\"ytick_4\">\n     <g id=\"line2d_9\">\n      <g>\n       <use style=\"stroke:#000000;stroke-width:0.8;\" x=\"39.65\" xlink:href=\"#m5aa8938c9f\" y=\"142.375962\"/>\n      </g>\n     </g>\n     <g id=\"text_9\">\n      <!-- 3000 -->\n      <g transform=\"translate(7.2 146.175181)scale(0.1 -0.1)\">\n       <use xlink:href=\"#DejaVuSans-51\"/>\n       <use x=\"63.623047\" xlink:href=\"#DejaVuSans-48\"/>\n       <use x=\"127.246094\" xlink:href=\"#DejaVuSans-48\"/>\n       <use x=\"190.869141\" xlink:href=\"#DejaVuSans-48\"/>\n      </g>\n     </g>\n    </g>\n    <g id=\"ytick_5\">\n     <g id=\"line2d_10\">\n      <g>\n       <use style=\"stroke:#000000;stroke-width:0.8;\" x=\"39.65\" xlink:href=\"#m5aa8938c9f\" y=\"117.72849\"/>\n      </g>\n     </g>\n     <g id=\"text_10\">\n      <!-- 3100 -->\n      <g transform=\"translate(7.2 121.527709)scale(0.1 -0.1)\">\n       <use xlink:href=\"#DejaVuSans-51\"/>\n       <use x=\"63.623047\" xlink:href=\"#DejaVuSans-49\"/>\n       <use x=\"127.246094\" xlink:href=\"#DejaVuSans-48\"/>\n       <use x=\"190.869141\" xlink:href=\"#DejaVuSans-48\"/>\n      </g>\n     </g>\n    </g>\n    <g id=\"ytick_6\">\n     <g id=\"line2d_11\">\n      <g>\n       <use style=\"stroke:#000000;stroke-width:0.8;\" x=\"39.65\" xlink:href=\"#m5aa8938c9f\" y=\"93.081018\"/>\n      </g>\n     </g>\n     <g id=\"text_11\">\n      <!-- 3200 -->\n      <g transform=\"translate(7.2 96.880237)scale(0.1 -0.1)\">\n       <use xlink:href=\"#DejaVuSans-51\"/>\n       <use x=\"63.623047\" xlink:href=\"#DejaVuSans-50\"/>\n       <use x=\"127.246094\" xlink:href=\"#DejaVuSans-48\"/>\n       <use x=\"190.869141\" xlink:href=\"#DejaVuSans-48\"/>\n      </g>\n     </g>\n    </g>\n    <g id=\"ytick_7\">\n     <g id=\"line2d_12\">\n      <g>\n       <use style=\"stroke:#000000;stroke-width:0.8;\" x=\"39.65\" xlink:href=\"#m5aa8938c9f\" y=\"68.433546\"/>\n      </g>\n     </g>\n     <g id=\"text_12\">\n      <!-- 3300 -->\n      <g transform=\"translate(7.2 72.232764)scale(0.1 -0.1)\">\n       <use xlink:href=\"#DejaVuSans-51\"/>\n       <use x=\"63.623047\" xlink:href=\"#DejaVuSans-51\"/>\n       <use x=\"127.246094\" xlink:href=\"#DejaVuSans-48\"/>\n       <use x=\"190.869141\" xlink:href=\"#DejaVuSans-48\"/>\n      </g>\n     </g>\n    </g>\n    <g id=\"ytick_8\">\n     <g id=\"line2d_13\">\n      <g>\n       <use style=\"stroke:#000000;stroke-width:0.8;\" x=\"39.65\" xlink:href=\"#m5aa8938c9f\" y=\"43.786073\"/>\n      </g>\n     </g>\n     <g id=\"text_13\">\n      <!-- 3400 -->\n      <g transform=\"translate(7.2 47.585292)scale(0.1 -0.1)\">\n       <use xlink:href=\"#DejaVuSans-51\"/>\n       <use x=\"63.623047\" xlink:href=\"#DejaVuSans-52\"/>\n       <use x=\"127.246094\" xlink:href=\"#DejaVuSans-48\"/>\n       <use x=\"190.869141\" xlink:href=\"#DejaVuSans-48\"/>\n      </g>\n     </g>\n    </g>\n   </g>\n   <g id=\"line2d_14\">\n    <path clip-path=\"url(#pc2ed5c7178)\" d=\"M 54.868182 126.60158 \nL 61.946406 71.884192 \nL 69.02463 92.341594 \nL 76.102854 32.201761 \nL 83.181078 165.544586 \nL 90.259302 157.657395 \nL 97.337526 131.2846 \nL 104.415751 140.897114 \nL 111.493975 109.841299 \nL 118.572199 127.587479 \nL 125.650423 126.108631 \nL 132.728647 200.790471 \nL 139.806871 130.79165 \nL 146.885095 171.952929 \nL 153.963319 169.981131 \nL 161.041543 183.537241 \nL 168.119767 144.34776 \nL 175.197992 136.460569 \nL 182.276216 164.312213 \nL 189.35444 229.874489 \nL 196.432664 141.883013 \nL 203.510888 185.755513 \nL 210.589112 165.298111 \nL 217.667336 170.720555 \nL 224.74556 148.53783 \nL 231.823784 108.115976 \nL 238.902008 145.087184 \nL 245.980233 115.510217 \nL 253.058457 130.298701 \nL 260.136681 135.228195 \nL 267.214905 132.270499 \nL 274.293129 202.022845 \nL 281.371353 223.219671 \nL 288.449577 183.783716 \nL 295.527801 87.905049 \nL 302.606025 123.890358 \nL 309.684249 120.686187 \nL 316.762474 76.320737 \nL 323.840698 190.438533 \nL 330.918922 203.501693 \nL 337.997146 115.263743 \nL 345.07537 130.545176 \nL 352.153594 128.819852 \nL 359.231818 123.397409 \n\" style=\"fill:none;stroke:#0000ff;stroke-linecap:square;stroke-width:1.5;\"/>\n   </g>\n   <g id=\"line2d_15\">\n    <path clip-path=\"url(#pc2ed5c7178)\" d=\"M 54.868182 82.197077 \nL 61.946406 116.295675 \nL 69.02463 131.07092 \nL 76.102854 127.807657 \nL 83.181078 132.430984 \nL 90.259302 119.360603 \nL 97.337526 126.38429 \nL 104.415751 131.578853 \nL 111.493975 160.170041 \nL 118.572199 139.074007 \nL 125.650423 159.04556 \nL 132.728647 165.421349 \nL 139.806871 165.987531 \nL 146.885095 162.427668 \nL 153.963319 154.014732 \nL 161.041543 161.075427 \nL 168.119767 187.027361 \nL 175.197992 173.685172 \nL 182.276216 176.39832 \nL 189.35444 176.041605 \nL 196.432664 170.454524 \nL 203.510888 172.127315 \nL 210.589112 149.672781 \nL 217.667336 151.126838 \nL 224.74556 142.826067 \nL 231.823784 147.786792 \nL 238.902008 143.178991 \nL 245.980233 141.22007 \nL 253.058457 165.016615 \nL 260.136681 185.852695 \nL 267.214905 177.538506 \nL 274.293129 141.270918 \nL 281.371353 143.891156 \nL 288.449577 138.977608 \nL 295.527801 121.892745 \nL 302.606025 160.633385 \nL 309.684249 170.574271 \nL 316.762474 143.040951 \nL 323.840698 149.958249 \nL 330.918922 143.207514 \nL 337.997146 128.072425 \nL 345.07537 121.659088 \nL 352.153594 129.588943 \nL 359.231818 134.941584 \n\" style=\"fill:none;stroke:#bfbf00;stroke-linecap:square;stroke-width:1.5;\"/>\n   </g>\n   <g id=\"patch_3\">\n    <path d=\"M 39.65 239.758125 \nL 39.65 22.318125 \n\" style=\"fill:none;stroke:#000000;stroke-linecap:square;stroke-linejoin:miter;stroke-width:0.8;\"/>\n   </g>\n   <g id=\"patch_4\">\n    <path d=\"M 374.45 239.758125 \nL 374.45 22.318125 \n\" style=\"fill:none;stroke:#000000;stroke-linecap:square;stroke-linejoin:miter;stroke-width:0.8;\"/>\n   </g>\n   <g id=\"patch_5\">\n    <path d=\"M 39.65 239.758125 \nL 374.45 239.758125 \n\" style=\"fill:none;stroke:#000000;stroke-linecap:square;stroke-linejoin:miter;stroke-width:0.8;\"/>\n   </g>\n   <g id=\"patch_6\">\n    <path d=\"M 39.65 22.318125 \nL 374.45 22.318125 \n\" style=\"fill:none;stroke:#000000;stroke-linecap:square;stroke-linejoin:miter;stroke-width:0.8;\"/>\n   </g>\n   <g id=\"text_14\">\n    <!-- linear -->\n    <g transform=\"translate(190.078438 16.318125)scale(0.12 -0.12)\">\n     <defs>\n      <path d=\"M 9.421875 75.984375 \nL 18.40625 75.984375 \nL 18.40625 0 \nL 9.421875 0 \nz\n\" id=\"DejaVuSans-108\"/>\n      <path d=\"M 9.421875 54.6875 \nL 18.40625 54.6875 \nL 18.40625 0 \nL 9.421875 0 \nz\nM 9.421875 75.984375 \nL 18.40625 75.984375 \nL 18.40625 64.59375 \nL 9.421875 64.59375 \nz\n\" id=\"DejaVuSans-105\"/>\n      <path d=\"M 54.890625 33.015625 \nL 54.890625 0 \nL 45.90625 0 \nL 45.90625 32.71875 \nQ 45.90625 40.484375 42.875 44.328125 \nQ 39.84375 48.1875 33.796875 48.1875 \nQ 26.515625 48.1875 22.3125 43.546875 \nQ 18.109375 38.921875 18.109375 30.90625 \nL 18.109375 0 \nL 9.078125 0 \nL 9.078125 54.6875 \nL 18.109375 54.6875 \nL 18.109375 46.1875 \nQ 21.34375 51.125 25.703125 53.5625 \nQ 30.078125 56 35.796875 56 \nQ 45.21875 56 50.046875 50.171875 \nQ 54.890625 44.34375 54.890625 33.015625 \nz\n\" id=\"DejaVuSans-110\"/>\n      <path d=\"M 56.203125 29.59375 \nL 56.203125 25.203125 \nL 14.890625 25.203125 \nQ 15.484375 15.921875 20.484375 11.0625 \nQ 25.484375 6.203125 34.421875 6.203125 \nQ 39.59375 6.203125 44.453125 7.46875 \nQ 49.3125 8.734375 54.109375 11.28125 \nL 54.109375 2.78125 \nQ 49.265625 0.734375 44.1875 -0.34375 \nQ 39.109375 -1.421875 33.890625 -1.421875 \nQ 20.796875 -1.421875 13.15625 6.1875 \nQ 5.515625 13.8125 5.515625 26.8125 \nQ 5.515625 40.234375 12.765625 48.109375 \nQ 20.015625 56 32.328125 56 \nQ 43.359375 56 49.78125 48.890625 \nQ 56.203125 41.796875 56.203125 29.59375 \nz\nM 47.21875 32.234375 \nQ 47.125 39.59375 43.09375 43.984375 \nQ 39.0625 48.390625 32.421875 48.390625 \nQ 24.90625 48.390625 20.390625 44.140625 \nQ 15.875 39.890625 15.1875 32.171875 \nz\n\" id=\"DejaVuSans-101\"/>\n      <path d=\"M 34.28125 27.484375 \nQ 23.390625 27.484375 19.1875 25 \nQ 14.984375 22.515625 14.984375 16.5 \nQ 14.984375 11.71875 18.140625 8.90625 \nQ 21.296875 6.109375 26.703125 6.109375 \nQ 34.1875 6.109375 38.703125 11.40625 \nQ 43.21875 16.703125 43.21875 25.484375 \nL 43.21875 27.484375 \nz\nM 52.203125 31.203125 \nL 52.203125 0 \nL 43.21875 0 \nL 43.21875 8.296875 \nQ 40.140625 3.328125 35.546875 0.953125 \nQ 30.953125 -1.421875 24.3125 -1.421875 \nQ 15.921875 -1.421875 10.953125 3.296875 \nQ 6 8.015625 6 15.921875 \nQ 6 25.140625 12.171875 29.828125 \nQ 18.359375 34.515625 30.609375 34.515625 \nL 43.21875 34.515625 \nL 43.21875 35.40625 \nQ 43.21875 41.609375 39.140625 45 \nQ 35.0625 48.390625 27.6875 48.390625 \nQ 23 48.390625 18.546875 47.265625 \nQ 14.109375 46.140625 10.015625 43.890625 \nL 10.015625 52.203125 \nQ 14.9375 54.109375 19.578125 55.046875 \nQ 24.21875 56 28.609375 56 \nQ 40.484375 56 46.34375 49.84375 \nQ 52.203125 43.703125 52.203125 31.203125 \nz\n\" id=\"DejaVuSans-97\"/>\n      <path d=\"M 41.109375 46.296875 \nQ 39.59375 47.171875 37.8125 47.578125 \nQ 36.03125 48 33.890625 48 \nQ 26.265625 48 22.1875 43.046875 \nQ 18.109375 38.09375 18.109375 28.8125 \nL 18.109375 0 \nL 9.078125 0 \nL 9.078125 54.6875 \nL 18.109375 54.6875 \nL 18.109375 46.1875 \nQ 20.953125 51.171875 25.484375 53.578125 \nQ 30.03125 56 36.53125 56 \nQ 37.453125 56 38.578125 55.875 \nQ 39.703125 55.765625 41.0625 55.515625 \nz\n\" id=\"DejaVuSans-114\"/>\n     </defs>\n     <use xlink:href=\"#DejaVuSans-108\"/>\n     <use x=\"27.783203\" xlink:href=\"#DejaVuSans-105\"/>\n     <use x=\"55.566406\" xlink:href=\"#DejaVuSans-110\"/>\n     <use x=\"118.945312\" xlink:href=\"#DejaVuSans-101\"/>\n     <use x=\"180.46875\" xlink:href=\"#DejaVuSans-97\"/>\n     <use x=\"241.748047\" xlink:href=\"#DejaVuSans-114\"/>\n    </g>\n   </g>\n  </g>\n </g>\n <defs>\n  <clipPath id=\"pc2ed5c7178\">\n   <rect height=\"217.44\" width=\"334.8\" x=\"39.65\" y=\"22.318125\"/>\n  </clipPath>\n </defs>\n</svg>\n",
      "image/png": "[encoded data removed]"
     },
     "metadata": {
      "needs_background": "light"
     }
    }
   ],
   "source": [
    "x = np.arange( len(pred_collect))\n",
    "plt.plot(x, x_collect, 'b')\n",
    "plt.plot(x, pred_collect, 'y')\n",
    "plt.title('linear')\n",
    "plt.show()"
   ]
  },
  {
   "cell_type": "code",
   "execution_count": null,
   "metadata": {},
   "outputs": [],
   "source": []
  },
  {
   "cell_type": "code",
   "execution_count": null,
   "metadata": {},
   "outputs": [],
   "source": []
  }
 ]
}