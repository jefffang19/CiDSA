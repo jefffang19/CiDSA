{
 "metadata": {
  "language_info": {
   "codemirror_mode": {
    "name": "ipython",
    "version": 3
   },
   "file_extension": ".py",
   "mimetype": "text/x-python",
   "name": "python",
   "nbconvert_exporter": "python",
   "pygments_lexer": "ipython3",
   "version": "3.6.12-final"
  },
  "orig_nbformat": 2,
  "kernelspec": {
   "name": "python3",
   "display_name": "Python 3",
   "language": "python"
  }
 },
 "nbformat": 4,
 "nbformat_minor": 2,
 "cells": [
  {
   "cell_type": "code",
   "execution_count": 1,
   "metadata": {},
   "outputs": [],
   "source": [
    "import os"
   ]
  },
  {
   "cell_type": "code",
   "execution_count": 4,
   "metadata": {},
   "outputs": [
    {
     "output_type": "execute_result",
     "data": {
      "text/plain": [
       "['2020年度每日尖峰備轉容量率.csv', '2021年度每日尖峰備轉容量率.csv']"
      ]
     },
     "metadata": {},
     "execution_count": 4
    }
   ],
   "source": [
    "eletricity_files = os.listdir('dataset/eletricity/')\n",
    "eletricity_files"
   ]
  },
  {
   "cell_type": "code",
   "execution_count": 5,
   "metadata": {},
   "outputs": [
    {
     "output_type": "execute_result",
     "data": {
      "text/plain": [
       "['weather_day.csv', 'weather_forcast.csv']"
      ]
     },
     "metadata": {},
     "execution_count": 5
    }
   ],
   "source": [
    "weather_files = os.listdir('dataset/weather/')\n",
    "weather_files"
   ]
  },
  {
   "cell_type": "code",
   "execution_count": 6,
   "metadata": {},
   "outputs": [],
   "source": [
    "import pandas\n",
    "import numpy as np"
   ]
  },
  {
   "source": [
    "# Electicity Data"
   ],
   "cell_type": "markdown",
   "metadata": {}
  },
  {
   "cell_type": "code",
   "execution_count": 8,
   "metadata": {},
   "outputs": [
    {
     "output_type": "execute_result",
     "data": {
      "text/plain": [
       "             日期  備轉容量(萬瓩)  備轉容量率(%)\n",
       "0    2020/01/01     279.0     11.01\n",
       "1    2020/01/02     308.0     10.91\n",
       "2    2020/01/03     338.3     11.96\n",
       "3    2020/01/04     363.6     14.21\n",
       "4    2020/01/05     269.5     10.88\n",
       "..          ...       ...       ...\n",
       "345  2020/12/11     312.9     10.46\n",
       "346  2020/12/12     328.2     12.31\n",
       "347  2020/12/13     283.0     11.12\n",
       "348  2020/12/14     302.1     10.20\n",
       "349  2020/12/15     301.2     10.14\n",
       "\n",
       "[350 rows x 3 columns]"
      ],
      "text/html": "<div>\n<style scoped>\n    .dataframe tbody tr th:only-of-type {\n        vertical-align: middle;\n    }\n\n    .dataframe tbody tr th {\n        vertical-align: top;\n    }\n\n    .dataframe thead th {\n        text-align: right;\n    }\n</style>\n<table border=\"1\" class=\"dataframe\">\n  <thead>\n    <tr style=\"text-align: right;\">\n      <th></th>\n      <th>日期</th>\n      <th>備轉容量(萬瓩)</th>\n      <th>備轉容量率(%)</th>\n    </tr>\n  </thead>\n  <tbody>\n    <tr>\n      <th>0</th>\n      <td>2020/01/01</td>\n      <td>279.0</td>\n      <td>11.01</td>\n    </tr>\n    <tr>\n      <th>1</th>\n      <td>2020/01/02</td>\n      <td>308.0</td>\n      <td>10.91</td>\n    </tr>\n    <tr>\n      <th>2</th>\n      <td>2020/01/03</td>\n      <td>338.3</td>\n      <td>11.96</td>\n    </tr>\n    <tr>\n      <th>3</th>\n      <td>2020/01/04</td>\n      <td>363.6</td>\n      <td>14.21</td>\n    </tr>\n    <tr>\n      <th>4</th>\n      <td>2020/01/05</td>\n      <td>269.5</td>\n      <td>10.88</td>\n    </tr>\n    <tr>\n      <th>...</th>\n      <td>...</td>\n      <td>...</td>\n      <td>...</td>\n    </tr>\n    <tr>\n      <th>345</th>\n      <td>2020/12/11</td>\n      <td>312.9</td>\n      <td>10.46</td>\n    </tr>\n    <tr>\n      <th>346</th>\n      <td>2020/12/12</td>\n      <td>328.2</td>\n      <td>12.31</td>\n    </tr>\n    <tr>\n      <th>347</th>\n      <td>2020/12/13</td>\n      <td>283.0</td>\n      <td>11.12</td>\n    </tr>\n    <tr>\n      <th>348</th>\n      <td>2020/12/14</td>\n      <td>302.1</td>\n      <td>10.20</td>\n    </tr>\n    <tr>\n      <th>349</th>\n      <td>2020/12/15</td>\n      <td>301.2</td>\n      <td>10.14</td>\n    </tr>\n  </tbody>\n</table>\n<p>350 rows × 3 columns</p>\n</div>"
     },
     "metadata": {},
     "execution_count": 8
    }
   ],
   "source": [
    "edf1 = pandas.read_csv(os.path.join('dataset/eletricity', eletricity_files[0]))\n",
    "\n",
    "edf1"
   ]
  },
  {
   "cell_type": "code",
   "execution_count": 9,
   "metadata": {},
   "outputs": [
    {
     "output_type": "execute_result",
     "data": {
      "text/plain": [
       "            日期  備轉容量(萬瓩)  備轉容量率(%)\n",
       "0   2021/01/01     276.7     10.76\n",
       "1   2021/01/02     293.6     11.52\n",
       "2   2021/01/03     303.7     11.92\n",
       "3   2021/01/04     303.2     10.20\n",
       "4   2021/01/05     306.7     10.21\n",
       "..         ...       ...       ...\n",
       "75  2021/03/17     318.3     10.36\n",
       "76  2021/03/18     321.4     10.46\n",
       "77  2021/03/19     313.7     10.16\n",
       "78  2021/03/20     283.9     10.23\n",
       "79  2021/03/21     318.6     12.40\n",
       "\n",
       "[80 rows x 3 columns]"
      ],
      "text/html": "<div>\n<style scoped>\n    .dataframe tbody tr th:only-of-type {\n        vertical-align: middle;\n    }\n\n    .dataframe tbody tr th {\n        vertical-align: top;\n    }\n\n    .dataframe thead th {\n        text-align: right;\n    }\n</style>\n<table border=\"1\" class=\"dataframe\">\n  <thead>\n    <tr style=\"text-align: right;\">\n      <th></th>\n      <th>日期</th>\n      <th>備轉容量(萬瓩)</th>\n      <th>備轉容量率(%)</th>\n    </tr>\n  </thead>\n  <tbody>\n    <tr>\n      <th>0</th>\n      <td>2021/01/01</td>\n      <td>276.7</td>\n      <td>10.76</td>\n    </tr>\n    <tr>\n      <th>1</th>\n      <td>2021/01/02</td>\n      <td>293.6</td>\n      <td>11.52</td>\n    </tr>\n    <tr>\n      <th>2</th>\n      <td>2021/01/03</td>\n      <td>303.7</td>\n      <td>11.92</td>\n    </tr>\n    <tr>\n      <th>3</th>\n      <td>2021/01/04</td>\n      <td>303.2</td>\n      <td>10.20</td>\n    </tr>\n    <tr>\n      <th>4</th>\n      <td>2021/01/05</td>\n      <td>306.7</td>\n      <td>10.21</td>\n    </tr>\n    <tr>\n      <th>...</th>\n      <td>...</td>\n      <td>...</td>\n      <td>...</td>\n    </tr>\n    <tr>\n      <th>75</th>\n      <td>2021/03/17</td>\n      <td>318.3</td>\n      <td>10.36</td>\n    </tr>\n    <tr>\n      <th>76</th>\n      <td>2021/03/18</td>\n      <td>321.4</td>\n      <td>10.46</td>\n    </tr>\n    <tr>\n      <th>77</th>\n      <td>2021/03/19</td>\n      <td>313.7</td>\n      <td>10.16</td>\n    </tr>\n    <tr>\n      <th>78</th>\n      <td>2021/03/20</td>\n      <td>283.9</td>\n      <td>10.23</td>\n    </tr>\n    <tr>\n      <th>79</th>\n      <td>2021/03/21</td>\n      <td>318.6</td>\n      <td>12.40</td>\n    </tr>\n  </tbody>\n</table>\n<p>80 rows × 3 columns</p>\n</div>"
     },
     "metadata": {},
     "execution_count": 9
    }
   ],
   "source": [
    "edf2 = pandas.read_csv(os.path.join('dataset/eletricity', eletricity_files[1]))\n",
    "\n",
    "edf2"
   ]
  },
  {
   "cell_type": "code",
   "execution_count": 63,
   "metadata": {},
   "outputs": [
    {
     "output_type": "execute_result",
     "data": {
      "text/plain": [
       "357"
      ]
     },
     "metadata": {},
     "execution_count": 63
    }
   ],
   "source": [
    "eletricities = np.concatenate([edf1['備轉容量(萬瓩)']*10, edf2['備轉容量(萬瓩)']*10])\n",
    "len(eletricities[-357:])"
   ]
  },
  {
   "source": [
    "# Weather Data"
   ],
   "cell_type": "markdown",
   "metadata": {}
  },
  {
   "cell_type": "code",
   "execution_count": 10,
   "metadata": {},
   "outputs": [
    {
     "output_type": "execute_result",
     "data": {
      "text/plain": [
       "       Unnamed: 0          日期  locationName  當日最高溫度(°C)  當日最低溫度(°C)  \\\n",
       "0               0  2020-03-18    BANQIAO,板橋        24.1        17.0   \n",
       "1               1  2020-03-19    BANQIAO,板橋        21.9        18.3   \n",
       "2               2  2020-03-20    BANQIAO,板橋        25.2        18.7   \n",
       "3               3  2020-03-21    BANQIAO,板橋        30.1        19.4   \n",
       "4               4  2020-03-22    BANQIAO,板橋        32.0        20.8   \n",
       "...           ...         ...           ...         ...         ...   \n",
       "10947       10947  2021-03-14  TianZhong,田中        25.9        16.3   \n",
       "10948       10948  2021-03-15  TianZhong,田中        26.4        16.7   \n",
       "10949       10949  2021-03-16  TianZhong,田中        29.5        18.3   \n",
       "10950       10950  2021-03-17  TianZhong,田中        28.4        19.4   \n",
       "10951       10951  2021-03-18  TianZhong,田中        28.6        18.5   \n",
       "\n",
       "       當日平均溫度(°C)  \n",
       "0            20.3  \n",
       "1            19.7  \n",
       "2            21.7  \n",
       "3            23.9  \n",
       "4            25.2  \n",
       "...           ...  \n",
       "10947        20.3  \n",
       "10948        21.1  \n",
       "10949        23.8  \n",
       "10950        23.1  \n",
       "10951        22.1  \n",
       "\n",
       "[10952 rows x 6 columns]"
      ],
      "text/html": "<div>\n<style scoped>\n    .dataframe tbody tr th:only-of-type {\n        vertical-align: middle;\n    }\n\n    .dataframe tbody tr th {\n        vertical-align: top;\n    }\n\n    .dataframe thead th {\n        text-align: right;\n    }\n</style>\n<table border=\"1\" class=\"dataframe\">\n  <thead>\n    <tr style=\"text-align: right;\">\n      <th></th>\n      <th>Unnamed: 0</th>\n      <th>日期</th>\n      <th>locationName</th>\n      <th>當日最高溫度(°C)</th>\n      <th>當日最低溫度(°C)</th>\n      <th>當日平均溫度(°C)</th>\n    </tr>\n  </thead>\n  <tbody>\n    <tr>\n      <th>0</th>\n      <td>0</td>\n      <td>2020-03-18</td>\n      <td>BANQIAO,板橋</td>\n      <td>24.1</td>\n      <td>17.0</td>\n      <td>20.3</td>\n    </tr>\n    <tr>\n      <th>1</th>\n      <td>1</td>\n      <td>2020-03-19</td>\n      <td>BANQIAO,板橋</td>\n      <td>21.9</td>\n      <td>18.3</td>\n      <td>19.7</td>\n    </tr>\n    <tr>\n      <th>2</th>\n      <td>2</td>\n      <td>2020-03-20</td>\n      <td>BANQIAO,板橋</td>\n      <td>25.2</td>\n      <td>18.7</td>\n      <td>21.7</td>\n    </tr>\n    <tr>\n      <th>3</th>\n      <td>3</td>\n      <td>2020-03-21</td>\n      <td>BANQIAO,板橋</td>\n      <td>30.1</td>\n      <td>19.4</td>\n      <td>23.9</td>\n    </tr>\n    <tr>\n      <th>4</th>\n      <td>4</td>\n      <td>2020-03-22</td>\n      <td>BANQIAO,板橋</td>\n      <td>32.0</td>\n      <td>20.8</td>\n      <td>25.2</td>\n    </tr>\n    <tr>\n      <th>...</th>\n      <td>...</td>\n      <td>...</td>\n      <td>...</td>\n      <td>...</td>\n      <td>...</td>\n      <td>...</td>\n    </tr>\n    <tr>\n      <th>10947</th>\n      <td>10947</td>\n      <td>2021-03-14</td>\n      <td>TianZhong,田中</td>\n      <td>25.9</td>\n      <td>16.3</td>\n      <td>20.3</td>\n    </tr>\n    <tr>\n      <th>10948</th>\n      <td>10948</td>\n      <td>2021-03-15</td>\n      <td>TianZhong,田中</td>\n      <td>26.4</td>\n      <td>16.7</td>\n      <td>21.1</td>\n    </tr>\n    <tr>\n      <th>10949</th>\n      <td>10949</td>\n      <td>2021-03-16</td>\n      <td>TianZhong,田中</td>\n      <td>29.5</td>\n      <td>18.3</td>\n      <td>23.8</td>\n    </tr>\n    <tr>\n      <th>10950</th>\n      <td>10950</td>\n      <td>2021-03-17</td>\n      <td>TianZhong,田中</td>\n      <td>28.4</td>\n      <td>19.4</td>\n      <td>23.1</td>\n    </tr>\n    <tr>\n      <th>10951</th>\n      <td>10951</td>\n      <td>2021-03-18</td>\n      <td>TianZhong,田中</td>\n      <td>28.6</td>\n      <td>18.5</td>\n      <td>22.1</td>\n    </tr>\n  </tbody>\n</table>\n<p>10952 rows × 6 columns</p>\n</div>"
     },
     "metadata": {},
     "execution_count": 10
    }
   ],
   "source": [
    "wdf1 = pandas.read_csv(os.path.join('dataset/weather', weather_files[0]))\n",
    "\n",
    "wdf1"
   ]
  },
  {
   "cell_type": "code",
   "execution_count": 35,
   "metadata": {},
   "outputs": [
    {
     "output_type": "stream",
     "name": "stdout",
     "text": [
      "2020-03-18 2020-12-15\n"
     ]
    }
   ],
   "source": [
    "# eletricity data only to 2020-12-15\n",
    "dates2020 = sorted(list(set(wdf1['日期'])))[:273]\n",
    "print(dates2020[0], dates2020[-1])"
   ]
  },
  {
   "cell_type": "code",
   "execution_count": 36,
   "metadata": {},
   "outputs": [
    {
     "output_type": "stream",
     "name": "stdout",
     "text": [
      "2021-01-01 2021-03-18\n"
     ]
    }
   ],
   "source": [
    "dates2021 = sorted(list(set(wdf1['日期'])))[289:]\n",
    "print(dates2021[0], dates2021[-1])"
   ]
  },
  {
   "cell_type": "code",
   "execution_count": 40,
   "metadata": {},
   "outputs": [],
   "source": [
    "avgs_temperature = []\n",
    "for i in dates2020:\n",
    "    avgs_temperature.append(np.average(wdf1[wdf1['日期'] == i]['當日平均溫度(°C)']))\n",
    "\n",
    "for i in dates2021:\n",
    "    avgs_temperature.append(np.average(wdf1[wdf1['日期'] == i]['當日平均溫度(°C)']))\n"
   ]
  },
  {
   "cell_type": "code",
   "execution_count": 42,
   "metadata": {},
   "outputs": [
    {
     "output_type": "execute_result",
     "data": {
      "text/plain": [
       "350"
      ]
     },
     "metadata": {},
     "execution_count": 42
    }
   ],
   "source": [
    "len(avgs_temperature)"
   ]
  },
  {
   "cell_type": "code",
   "execution_count": 43,
   "metadata": {},
   "outputs": [
    {
     "output_type": "execute_result",
     "data": {
      "text/plain": [
       "   Unnamed: 0  北部地區  中部地區  南部地區\n",
       "0  2021-03-20  12.5  14.0  16.0\n",
       "1  2021-03-21   8.0  12.0  15.0\n",
       "2  2021-03-22   4.5   9.0  11.0\n",
       "3  2021-03-23   8.0  10.5  12.0\n",
       "4  2021-03-24   9.5  11.5  13.0\n",
       "5  2021-03-25  10.0  12.5  14.0\n",
       "6  2021-03-26  11.0  12.5  14.5"
      ],
      "text/html": "<div>\n<style scoped>\n    .dataframe tbody tr th:only-of-type {\n        vertical-align: middle;\n    }\n\n    .dataframe tbody tr th {\n        vertical-align: top;\n    }\n\n    .dataframe thead th {\n        text-align: right;\n    }\n</style>\n<table border=\"1\" class=\"dataframe\">\n  <thead>\n    <tr style=\"text-align: right;\">\n      <th></th>\n      <th>Unnamed: 0</th>\n      <th>北部地區</th>\n      <th>中部地區</th>\n      <th>南部地區</th>\n    </tr>\n  </thead>\n  <tbody>\n    <tr>\n      <th>0</th>\n      <td>2021-03-20</td>\n      <td>12.5</td>\n      <td>14.0</td>\n      <td>16.0</td>\n    </tr>\n    <tr>\n      <th>1</th>\n      <td>2021-03-21</td>\n      <td>8.0</td>\n      <td>12.0</td>\n      <td>15.0</td>\n    </tr>\n    <tr>\n      <th>2</th>\n      <td>2021-03-22</td>\n      <td>4.5</td>\n      <td>9.0</td>\n      <td>11.0</td>\n    </tr>\n    <tr>\n      <th>3</th>\n      <td>2021-03-23</td>\n      <td>8.0</td>\n      <td>10.5</td>\n      <td>12.0</td>\n    </tr>\n    <tr>\n      <th>4</th>\n      <td>2021-03-24</td>\n      <td>9.5</td>\n      <td>11.5</td>\n      <td>13.0</td>\n    </tr>\n    <tr>\n      <th>5</th>\n      <td>2021-03-25</td>\n      <td>10.0</td>\n      <td>12.5</td>\n      <td>14.0</td>\n    </tr>\n    <tr>\n      <th>6</th>\n      <td>2021-03-26</td>\n      <td>11.0</td>\n      <td>12.5</td>\n      <td>14.5</td>\n    </tr>\n  </tbody>\n</table>\n</div>"
     },
     "metadata": {},
     "execution_count": 43
    }
   ],
   "source": [
    "# read forcast weather data\n",
    "wdf2 = pandas.read_csv(os.path.join('dataset/weather', weather_files[1]))\n",
    "\n",
    "wdf2"
   ]
  },
  {
   "cell_type": "code",
   "execution_count": 49,
   "metadata": {},
   "outputs": [],
   "source": [
    "for i in range(len(wdf2)):\n",
    "    avgs_temperature.append(np.average(wdf2.iloc[i][1:4]))"
   ]
  },
  {
   "cell_type": "code",
   "execution_count": 50,
   "metadata": {},
   "outputs": [
    {
     "output_type": "execute_result",
     "data": {
      "text/plain": [
       "357"
      ]
     },
     "metadata": {},
     "execution_count": 50
    }
   ],
   "source": [
    "len(avgs_temperature)"
   ]
  },
  {
   "source": [
    "# dataset"
   ],
   "cell_type": "markdown",
   "metadata": {}
  },
  {
   "cell_type": "code",
   "execution_count": 59,
   "metadata": {},
   "outputs": [],
   "source": [
    "from sklearn.preprocessing import normalize\n",
    "from torch.utils.data import DataLoader\n",
    "from torch.utils.data import Dataset as BaseDataset\n"
   ]
  },
  {
   "cell_type": "code",
   "execution_count": 99,
   "metadata": {},
   "outputs": [],
   "source": [
    "\n",
    "class Dataset(BaseDataset):\n",
    "    def __init__(\n",
    "        self,\n",
    "        train_data_electricity,\n",
    "        train_data_weather,\n",
    "    ):\n",
    "        #prepare the training data and label\n",
    "        self.train_label = np.array(train_data_electricity, dtype=np.float32)\n",
    "        self.train_data_electricity = np.array(train_data_electricity,  dtype=np.float32)\n",
    "        self.train_data_weather = np.array(train_data_weather,  dtype=np.float32)\n",
    "    \n",
    "    def __getitem__(self, i):\n",
    "        x = np.concatenate([self.train_data_electricity[i:30+i],  self.train_data_weather[i:30+i]])\n",
    "        y = self.train_label[30+i:37+i]\n",
    "        \n",
    "        return x, y\n",
    "    \n",
    "    def __len__(self):\n",
    "        return len(self.train_data_electricity) - 36"
   ]
  },
  {
   "cell_type": "code",
   "execution_count": 107,
   "metadata": {},
   "outputs": [],
   "source": [
    "dataset = Dataset(train_data_electricity=eletricities[-len(avgs_temperature):-30], train_data_weather=avgs_temperature[:-30])"
   ]
  },
  {
   "cell_type": "code",
   "execution_count": 108,
   "metadata": {},
   "outputs": [
    {
     "output_type": "execute_result",
     "data": {
      "text/plain": [
       "291"
      ]
     },
     "metadata": {},
     "execution_count": 108
    }
   ],
   "source": [
    "len(dataset)"
   ]
  },
  {
   "cell_type": "code",
   "execution_count": 109,
   "metadata": {},
   "outputs": [],
   "source": [
    "x,y = dataset[1]"
   ]
  },
  {
   "cell_type": "code",
   "execution_count": 110,
   "metadata": {},
   "outputs": [
    {
     "output_type": "stream",
     "name": "stdout",
     "text": [
      "60 7\n"
     ]
    }
   ],
   "source": [
    "print(len(x), len(y))"
   ]
  },
  {
   "cell_type": "code",
   "execution_count": 111,
   "metadata": {},
   "outputs": [],
   "source": [
    "x,y = dataset[len(dataset)-1]"
   ]
  },
  {
   "cell_type": "code",
   "execution_count": 112,
   "metadata": {},
   "outputs": [
    {
     "output_type": "execute_result",
     "data": {
      "text/plain": [
       "array([3024., 2911., 2645., 3002., 2824., 2907., 2885.], dtype=float32)"
      ]
     },
     "metadata": {},
     "execution_count": 112
    }
   ],
   "source": [
    "y"
   ]
  },
  {
   "source": [
    "# Model"
   ],
   "cell_type": "markdown",
   "metadata": {}
  },
  {
   "cell_type": "code",
   "execution_count": 113,
   "metadata": {},
   "outputs": [],
   "source": [
    "import torch\n",
    "import torch.nn as nn"
   ]
  },
  {
   "cell_type": "code",
   "execution_count": 114,
   "metadata": {},
   "outputs": [],
   "source": [
    "class LinearModel(nn.Module):\n",
    "    def __init__(self):\n",
    "        super(LinearModel,self).__init__()\n",
    "        \n",
    "        self.fc0 = nn.Linear(60, 128)\n",
    "        self.fc1 = nn.Linear(128, 512)\n",
    "        self.fc2 = nn.Linear(512, 128)\n",
    "        self.fc = nn.Linear(128, 7)\n",
    "        self.flatten = nn.Flatten()\n",
    "        \n",
    "        self.relu = nn.ReLU()\n",
    "        \n",
    "    def forward(self, x):\n",
    "        x = self.fc0(x)\n",
    "        x = self.relu(x)\n",
    "        x = self.fc1(x)\n",
    "        x = self.relu(x)\n",
    "        x = self.fc2(x)\n",
    "        x = self.relu(x)\n",
    "        x = self.fc(x)\n",
    "        \n",
    "        return x"
   ]
  },
  {
   "cell_type": "code",
   "execution_count": 115,
   "metadata": {},
   "outputs": [],
   "source": [
    "linear = LinearModel()"
   ]
  },
  {
   "cell_type": "code",
   "execution_count": 116,
   "metadata": {},
   "outputs": [],
   "source": [
    "x,y = dataset[0]\n",
    "x = torch.tensor(x, dtype=torch.float).unsqueeze(dim=0)\n",
    "y = torch.tensor(y, dtype=torch.float).unsqueeze(dim=0)"
   ]
  },
  {
   "cell_type": "code",
   "execution_count": 118,
   "metadata": {},
   "outputs": [
    {
     "output_type": "execute_result",
     "data": {
      "text/plain": [
       "LinearModel(\n",
       "  (fc0): Linear(in_features=60, out_features=128, bias=True)\n",
       "  (fc1): Linear(in_features=128, out_features=512, bias=True)\n",
       "  (fc2): Linear(in_features=512, out_features=128, bias=True)\n",
       "  (fc): Linear(in_features=128, out_features=7, bias=True)\n",
       "  (flatten): Flatten(start_dim=1, end_dim=-1)\n",
       "  (relu): ReLU()\n",
       ")"
      ]
     },
     "metadata": {},
     "execution_count": 118
    }
   ],
   "source": [
    "linear.cuda()"
   ]
  },
  {
   "cell_type": "code",
   "execution_count": 119,
   "metadata": {},
   "outputs": [
    {
     "output_type": "execute_result",
     "data": {
      "text/plain": [
       "tensor([[-53.8312, -64.6541, -56.0945,  23.4642, -99.5560, -24.3962,  45.2307]],\n",
       "       device='cuda:0', grad_fn=<AddmmBackward>)"
      ]
     },
     "metadata": {},
     "execution_count": 119
    }
   ],
   "source": [
    "linear(x.cuda())"
   ]
  },
  {
   "cell_type": "code",
   "execution_count": 120,
   "metadata": {},
   "outputs": [],
   "source": [
    "# Training"
   ]
  },
  {
   "cell_type": "code",
   "execution_count": null,
   "metadata": {},
   "outputs": [],
   "source": []
  }
 ]
}